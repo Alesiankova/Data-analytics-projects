{
 "cells": [
  {
   "cell_type": "markdown",
   "id": "f02ad953",
   "metadata": {},
   "source": [
    "# Анализ базы данных сервиса для чтения книг по подписке"
   ]
  },
  {
   "cell_type": "markdown",
   "id": "cdffd766",
   "metadata": {},
   "source": [
    "**Описание проекта**\n",
    "\n",
    "Компанией был куплен крупный сервис для чтения книг по подписке. Необходимо проанализировать базу данных. В ней — информация о книгах, издательствах, авторах, а также пользовательские обзоры книг. Эти данные помогут сформулировать ценностное предложение для нового продукта.\n",
    "\n",
    "**Цель проекта :** Проанализировать информацию о книгах, издательствах, авторах, а также пользовательские обзоры книг для формулирования ценностного предложения для нового продукта."
   ]
  },
  {
   "cell_type": "markdown",
   "id": "3f29b934",
   "metadata": {},
   "source": [
    "## Подключение к базе и обзоры таблиц"
   ]
  },
  {
   "cell_type": "markdown",
   "id": "402dac24",
   "metadata": {},
   "source": [
    "<div class=\"alert alert-info\">Импорт библиотек</div>"
   ]
  },
  {
   "cell_type": "code",
   "execution_count": 1,
   "id": "49df0252",
   "metadata": {},
   "outputs": [],
   "source": [
    "# импортируем библиотеки\n",
    "import pandas as pd\n",
    "from sqlalchemy import create_engine"
   ]
  },
  {
   "cell_type": "markdown",
   "id": "7596d443",
   "metadata": {},
   "source": [
    "<div class=\"alert alert-info\">Параметры для подключения к БД</div>"
   ]
  },
  {
   "cell_type": "code",
   "execution_count": 2,
   "id": "34748b8f",
   "metadata": {},
   "outputs": [],
   "source": [
    "# устанавливаем параметры\n",
    "db_config = {'user': 'praktikum_student', # имя пользователя\n",
    "'pwd': 'Sdf4$2;d-d30pp', # пароль\n",
    "'host': 'rc1b-wcoijxj3yxfsf3fs.mdb.yandexcloud.net',\n",
    "'port': 6432, # порт подключения\n",
    "'db': 'data-analyst-final-project-db'} # название базы данных"
   ]
  },
  {
   "cell_type": "markdown",
   "id": "5cd9fdca",
   "metadata": {},
   "source": [
    "<div class=\"alert alert-info\">Подключение к базе данных</div>"
   ]
  },
  {
   "cell_type": "code",
   "execution_count": 3,
   "id": "fd363a88",
   "metadata": {},
   "outputs": [],
   "source": [
    "connection_string = 'postgresql://{}:{}@{}:{}/{}'.format(db_config['user'],\n",
    " db_config['pwd'],\n",
    " db_config['host'],\n",
    " db_config['port'],\n",
    " db_config['db'])\n",
    "\n",
    "# сохраняем коннектор\n",
    "engine = create_engine(connection_string, connect_args={'sslmode':'require'}) "
   ]
  },
  {
   "cell_type": "markdown",
   "id": "bfb4a41b",
   "metadata": {},
   "source": [
    "<div class=\"alert alert-info\">Обзор таблицы books</div>"
   ]
  },
  {
   "cell_type": "code",
   "execution_count": 4,
   "id": "4e0ec7c1",
   "metadata": {},
   "outputs": [
    {
     "data": {
      "text/html": [
       "<div>\n",
       "<style scoped>\n",
       "    .dataframe tbody tr th:only-of-type {\n",
       "        vertical-align: middle;\n",
       "    }\n",
       "\n",
       "    .dataframe tbody tr th {\n",
       "        vertical-align: top;\n",
       "    }\n",
       "\n",
       "    .dataframe thead th {\n",
       "        text-align: right;\n",
       "    }\n",
       "</style>\n",
       "<table border=\"1\" class=\"dataframe\">\n",
       "  <thead>\n",
       "    <tr style=\"text-align: right;\">\n",
       "      <th></th>\n",
       "      <th>book_id</th>\n",
       "      <th>author_id</th>\n",
       "      <th>title</th>\n",
       "      <th>num_pages</th>\n",
       "      <th>publication_date</th>\n",
       "      <th>publisher_id</th>\n",
       "    </tr>\n",
       "  </thead>\n",
       "  <tbody>\n",
       "    <tr>\n",
       "      <th>0</th>\n",
       "      <td>1</td>\n",
       "      <td>546</td>\n",
       "      <td>'Salem's Lot</td>\n",
       "      <td>594</td>\n",
       "      <td>2005-11-01</td>\n",
       "      <td>93</td>\n",
       "    </tr>\n",
       "    <tr>\n",
       "      <th>1</th>\n",
       "      <td>2</td>\n",
       "      <td>465</td>\n",
       "      <td>1 000 Places to See Before You Die</td>\n",
       "      <td>992</td>\n",
       "      <td>2003-05-22</td>\n",
       "      <td>336</td>\n",
       "    </tr>\n",
       "    <tr>\n",
       "      <th>2</th>\n",
       "      <td>3</td>\n",
       "      <td>407</td>\n",
       "      <td>13 Little Blue Envelopes (Little Blue Envelope...</td>\n",
       "      <td>322</td>\n",
       "      <td>2010-12-21</td>\n",
       "      <td>135</td>\n",
       "    </tr>\n",
       "    <tr>\n",
       "      <th>3</th>\n",
       "      <td>4</td>\n",
       "      <td>82</td>\n",
       "      <td>1491: New Revelations of the Americas Before C...</td>\n",
       "      <td>541</td>\n",
       "      <td>2006-10-10</td>\n",
       "      <td>309</td>\n",
       "    </tr>\n",
       "    <tr>\n",
       "      <th>4</th>\n",
       "      <td>5</td>\n",
       "      <td>125</td>\n",
       "      <td>1776</td>\n",
       "      <td>386</td>\n",
       "      <td>2006-07-04</td>\n",
       "      <td>268</td>\n",
       "    </tr>\n",
       "  </tbody>\n",
       "</table>\n",
       "</div>"
      ],
      "text/plain": [
       "   book_id  author_id                                              title  \\\n",
       "0        1        546                                       'Salem's Lot   \n",
       "1        2        465                 1 000 Places to See Before You Die   \n",
       "2        3        407  13 Little Blue Envelopes (Little Blue Envelope...   \n",
       "3        4         82  1491: New Revelations of the Americas Before C...   \n",
       "4        5        125                                               1776   \n",
       "\n",
       "   num_pages publication_date  publisher_id  \n",
       "0        594       2005-11-01            93  \n",
       "1        992       2003-05-22           336  \n",
       "2        322       2010-12-21           135  \n",
       "3        541       2006-10-10           309  \n",
       "4        386       2006-07-04           268  "
      ]
     },
     "metadata": {},
     "output_type": "display_data"
    }
   ],
   "source": [
    "# Формируем sql-запрос. \n",
    "query = ''' SELECT *\n",
    "            FROM books\n",
    "            LIMIT 5\n",
    "        '''\n",
    "display(pd.io.sql.read_sql(query, con=engine))"
   ]
  },
  {
   "cell_type": "markdown",
   "id": "9711c6bb",
   "metadata": {},
   "source": [
    "<div class=\"alert alert-info\">Обзор таблицы authors</div>"
   ]
  },
  {
   "cell_type": "code",
   "execution_count": 5,
   "id": "220dd175",
   "metadata": {},
   "outputs": [
    {
     "data": {
      "text/html": [
       "<div>\n",
       "<style scoped>\n",
       "    .dataframe tbody tr th:only-of-type {\n",
       "        vertical-align: middle;\n",
       "    }\n",
       "\n",
       "    .dataframe tbody tr th {\n",
       "        vertical-align: top;\n",
       "    }\n",
       "\n",
       "    .dataframe thead th {\n",
       "        text-align: right;\n",
       "    }\n",
       "</style>\n",
       "<table border=\"1\" class=\"dataframe\">\n",
       "  <thead>\n",
       "    <tr style=\"text-align: right;\">\n",
       "      <th></th>\n",
       "      <th>author_id</th>\n",
       "      <th>author</th>\n",
       "    </tr>\n",
       "  </thead>\n",
       "  <tbody>\n",
       "    <tr>\n",
       "      <th>0</th>\n",
       "      <td>1</td>\n",
       "      <td>A.S. Byatt</td>\n",
       "    </tr>\n",
       "    <tr>\n",
       "      <th>1</th>\n",
       "      <td>2</td>\n",
       "      <td>Aesop/Laura Harris/Laura Gibbs</td>\n",
       "    </tr>\n",
       "    <tr>\n",
       "      <th>2</th>\n",
       "      <td>3</td>\n",
       "      <td>Agatha Christie</td>\n",
       "    </tr>\n",
       "    <tr>\n",
       "      <th>3</th>\n",
       "      <td>4</td>\n",
       "      <td>Alan Brennert</td>\n",
       "    </tr>\n",
       "    <tr>\n",
       "      <th>4</th>\n",
       "      <td>5</td>\n",
       "      <td>Alan Moore/David   Lloyd</td>\n",
       "    </tr>\n",
       "  </tbody>\n",
       "</table>\n",
       "</div>"
      ],
      "text/plain": [
       "   author_id                          author\n",
       "0          1                      A.S. Byatt\n",
       "1          2  Aesop/Laura Harris/Laura Gibbs\n",
       "2          3                 Agatha Christie\n",
       "3          4                   Alan Brennert\n",
       "4          5        Alan Moore/David   Lloyd"
      ]
     },
     "metadata": {},
     "output_type": "display_data"
    }
   ],
   "source": [
    "query = ''' SELECT *\n",
    "            FROM authors\n",
    "            LIMIT 5\n",
    "        '''\n",
    "display(pd.io.sql.read_sql(query, con=engine))"
   ]
  },
  {
   "cell_type": "markdown",
   "id": "86381dab",
   "metadata": {},
   "source": [
    "<div class=\"alert alert-info\">Обзор таблицы publishers</div>"
   ]
  },
  {
   "cell_type": "code",
   "execution_count": 6,
   "id": "0f9732a4",
   "metadata": {},
   "outputs": [
    {
     "data": {
      "text/html": [
       "<div>\n",
       "<style scoped>\n",
       "    .dataframe tbody tr th:only-of-type {\n",
       "        vertical-align: middle;\n",
       "    }\n",
       "\n",
       "    .dataframe tbody tr th {\n",
       "        vertical-align: top;\n",
       "    }\n",
       "\n",
       "    .dataframe thead th {\n",
       "        text-align: right;\n",
       "    }\n",
       "</style>\n",
       "<table border=\"1\" class=\"dataframe\">\n",
       "  <thead>\n",
       "    <tr style=\"text-align: right;\">\n",
       "      <th></th>\n",
       "      <th>publisher_id</th>\n",
       "      <th>publisher</th>\n",
       "    </tr>\n",
       "  </thead>\n",
       "  <tbody>\n",
       "    <tr>\n",
       "      <th>0</th>\n",
       "      <td>1</td>\n",
       "      <td>Ace</td>\n",
       "    </tr>\n",
       "    <tr>\n",
       "      <th>1</th>\n",
       "      <td>2</td>\n",
       "      <td>Ace Book</td>\n",
       "    </tr>\n",
       "    <tr>\n",
       "      <th>2</th>\n",
       "      <td>3</td>\n",
       "      <td>Ace Books</td>\n",
       "    </tr>\n",
       "    <tr>\n",
       "      <th>3</th>\n",
       "      <td>4</td>\n",
       "      <td>Ace Hardcover</td>\n",
       "    </tr>\n",
       "    <tr>\n",
       "      <th>4</th>\n",
       "      <td>5</td>\n",
       "      <td>Addison Wesley Publishing Company</td>\n",
       "    </tr>\n",
       "  </tbody>\n",
       "</table>\n",
       "</div>"
      ],
      "text/plain": [
       "   publisher_id                          publisher\n",
       "0             1                                Ace\n",
       "1             2                           Ace Book\n",
       "2             3                          Ace Books\n",
       "3             4                      Ace Hardcover\n",
       "4             5  Addison Wesley Publishing Company"
      ]
     },
     "metadata": {},
     "output_type": "display_data"
    }
   ],
   "source": [
    "query = ''' SELECT *\n",
    "            FROM publishers\n",
    "            LIMIT 5\n",
    "        '''\n",
    "display(pd.io.sql.read_sql(query, con=engine))"
   ]
  },
  {
   "cell_type": "markdown",
   "id": "e73dd9fc",
   "metadata": {},
   "source": [
    "<div class=\"alert alert-info\">Обзор таблицы ratings</div>"
   ]
  },
  {
   "cell_type": "code",
   "execution_count": 7,
   "id": "e40934ab",
   "metadata": {},
   "outputs": [
    {
     "data": {
      "text/html": [
       "<div>\n",
       "<style scoped>\n",
       "    .dataframe tbody tr th:only-of-type {\n",
       "        vertical-align: middle;\n",
       "    }\n",
       "\n",
       "    .dataframe tbody tr th {\n",
       "        vertical-align: top;\n",
       "    }\n",
       "\n",
       "    .dataframe thead th {\n",
       "        text-align: right;\n",
       "    }\n",
       "</style>\n",
       "<table border=\"1\" class=\"dataframe\">\n",
       "  <thead>\n",
       "    <tr style=\"text-align: right;\">\n",
       "      <th></th>\n",
       "      <th>rating_id</th>\n",
       "      <th>book_id</th>\n",
       "      <th>username</th>\n",
       "      <th>rating</th>\n",
       "    </tr>\n",
       "  </thead>\n",
       "  <tbody>\n",
       "    <tr>\n",
       "      <th>0</th>\n",
       "      <td>1</td>\n",
       "      <td>1</td>\n",
       "      <td>ryanfranco</td>\n",
       "      <td>4</td>\n",
       "    </tr>\n",
       "    <tr>\n",
       "      <th>1</th>\n",
       "      <td>2</td>\n",
       "      <td>1</td>\n",
       "      <td>grantpatricia</td>\n",
       "      <td>2</td>\n",
       "    </tr>\n",
       "    <tr>\n",
       "      <th>2</th>\n",
       "      <td>3</td>\n",
       "      <td>1</td>\n",
       "      <td>brandtandrea</td>\n",
       "      <td>5</td>\n",
       "    </tr>\n",
       "    <tr>\n",
       "      <th>3</th>\n",
       "      <td>4</td>\n",
       "      <td>2</td>\n",
       "      <td>lorichen</td>\n",
       "      <td>3</td>\n",
       "    </tr>\n",
       "    <tr>\n",
       "      <th>4</th>\n",
       "      <td>5</td>\n",
       "      <td>2</td>\n",
       "      <td>mariokeller</td>\n",
       "      <td>2</td>\n",
       "    </tr>\n",
       "  </tbody>\n",
       "</table>\n",
       "</div>"
      ],
      "text/plain": [
       "   rating_id  book_id       username  rating\n",
       "0          1        1     ryanfranco       4\n",
       "1          2        1  grantpatricia       2\n",
       "2          3        1   brandtandrea       5\n",
       "3          4        2       lorichen       3\n",
       "4          5        2    mariokeller       2"
      ]
     },
     "metadata": {},
     "output_type": "display_data"
    }
   ],
   "source": [
    "query = ''' SELECT *\n",
    "            FROM ratings\n",
    "            LIMIT 5\n",
    "        '''\n",
    "display(pd.io.sql.read_sql(query, con=engine))"
   ]
  },
  {
   "cell_type": "markdown",
   "id": "1f5e20f7",
   "metadata": {},
   "source": [
    "<div class=\"alert alert-info\">Обзор таблицы reviews</div>"
   ]
  },
  {
   "cell_type": "code",
   "execution_count": 8,
   "id": "1056cdd1",
   "metadata": {},
   "outputs": [
    {
     "data": {
      "text/html": [
       "<div>\n",
       "<style scoped>\n",
       "    .dataframe tbody tr th:only-of-type {\n",
       "        vertical-align: middle;\n",
       "    }\n",
       "\n",
       "    .dataframe tbody tr th {\n",
       "        vertical-align: top;\n",
       "    }\n",
       "\n",
       "    .dataframe thead th {\n",
       "        text-align: right;\n",
       "    }\n",
       "</style>\n",
       "<table border=\"1\" class=\"dataframe\">\n",
       "  <thead>\n",
       "    <tr style=\"text-align: right;\">\n",
       "      <th></th>\n",
       "      <th>review_id</th>\n",
       "      <th>book_id</th>\n",
       "      <th>username</th>\n",
       "      <th>text</th>\n",
       "    </tr>\n",
       "  </thead>\n",
       "  <tbody>\n",
       "    <tr>\n",
       "      <th>0</th>\n",
       "      <td>1</td>\n",
       "      <td>1</td>\n",
       "      <td>brandtandrea</td>\n",
       "      <td>Mention society tell send professor analysis. ...</td>\n",
       "    </tr>\n",
       "    <tr>\n",
       "      <th>1</th>\n",
       "      <td>2</td>\n",
       "      <td>1</td>\n",
       "      <td>ryanfranco</td>\n",
       "      <td>Foot glass pretty audience hit themselves. Amo...</td>\n",
       "    </tr>\n",
       "    <tr>\n",
       "      <th>2</th>\n",
       "      <td>3</td>\n",
       "      <td>2</td>\n",
       "      <td>lorichen</td>\n",
       "      <td>Listen treat keep worry. Miss husband tax but ...</td>\n",
       "    </tr>\n",
       "    <tr>\n",
       "      <th>3</th>\n",
       "      <td>4</td>\n",
       "      <td>3</td>\n",
       "      <td>johnsonamanda</td>\n",
       "      <td>Finally month interesting blue could nature cu...</td>\n",
       "    </tr>\n",
       "    <tr>\n",
       "      <th>4</th>\n",
       "      <td>5</td>\n",
       "      <td>3</td>\n",
       "      <td>scotttamara</td>\n",
       "      <td>Nation purpose heavy give wait song will. List...</td>\n",
       "    </tr>\n",
       "  </tbody>\n",
       "</table>\n",
       "</div>"
      ],
      "text/plain": [
       "   review_id  book_id       username  \\\n",
       "0          1        1   brandtandrea   \n",
       "1          2        1     ryanfranco   \n",
       "2          3        2       lorichen   \n",
       "3          4        3  johnsonamanda   \n",
       "4          5        3    scotttamara   \n",
       "\n",
       "                                                text  \n",
       "0  Mention society tell send professor analysis. ...  \n",
       "1  Foot glass pretty audience hit themselves. Amo...  \n",
       "2  Listen treat keep worry. Miss husband tax but ...  \n",
       "3  Finally month interesting blue could nature cu...  \n",
       "4  Nation purpose heavy give wait song will. List...  "
      ]
     },
     "metadata": {},
     "output_type": "display_data"
    }
   ],
   "source": [
    "query = ''' SELECT *\n",
    "            FROM reviews\n",
    "            LIMIT 5\n",
    "        '''\n",
    "display(pd.io.sql.read_sql(query, con=engine))"
   ]
  },
  {
   "cell_type": "markdown",
   "id": "cdb5b43a",
   "metadata": {},
   "source": [
    "## Анализ базы данных"
   ]
  },
  {
   "cell_type": "markdown",
   "id": "123b2d01",
   "metadata": {},
   "source": [
    "<div class=\"alert alert-info\">Количество книг вышедших после 1 января 2000 года</div>"
   ]
  },
  {
   "cell_type": "code",
   "execution_count": 9,
   "id": "16b4076f",
   "metadata": {},
   "outputs": [
    {
     "data": {
      "text/html": [
       "<div>\n",
       "<style scoped>\n",
       "    .dataframe tbody tr th:only-of-type {\n",
       "        vertical-align: middle;\n",
       "    }\n",
       "\n",
       "    .dataframe tbody tr th {\n",
       "        vertical-align: top;\n",
       "    }\n",
       "\n",
       "    .dataframe thead th {\n",
       "        text-align: right;\n",
       "    }\n",
       "</style>\n",
       "<table border=\"1\" class=\"dataframe\">\n",
       "  <thead>\n",
       "    <tr style=\"text-align: right;\">\n",
       "      <th></th>\n",
       "      <th>count</th>\n",
       "    </tr>\n",
       "  </thead>\n",
       "  <tbody>\n",
       "    <tr>\n",
       "      <th>0</th>\n",
       "      <td>821</td>\n",
       "    </tr>\n",
       "  </tbody>\n",
       "</table>\n",
       "</div>"
      ],
      "text/plain": [
       "   count\n",
       "0    821"
      ]
     },
     "metadata": {},
     "output_type": "display_data"
    }
   ],
   "source": [
    "query = ''' SELECT COUNT(book_id)\n",
    "            FROM books \n",
    "            WHERE publication_date >= '2000-01-01'\n",
    "        '''\n",
    "display(pd.io.sql.read_sql(query, con=engine))"
   ]
  },
  {
   "cell_type": "markdown",
   "id": "1289c893",
   "metadata": {},
   "source": [
    "**Промужеточный вывод:**\n",
    "- начиная со 1 января 2000 года вышло 821 книг."
   ]
  },
  {
   "cell_type": "markdown",
   "id": "b091ebe2",
   "metadata": {},
   "source": [
    "<div class=\"alert alert-info\">Количество обзоров и средняя оценка для каждой из этих книг</div>"
   ]
  },
  {
   "cell_type": "code",
   "execution_count": 10,
   "id": "9e291ca6",
   "metadata": {},
   "outputs": [
    {
     "data": {
      "text/html": [
       "<div>\n",
       "<style scoped>\n",
       "    .dataframe tbody tr th:only-of-type {\n",
       "        vertical-align: middle;\n",
       "    }\n",
       "\n",
       "    .dataframe tbody tr th {\n",
       "        vertical-align: top;\n",
       "    }\n",
       "\n",
       "    .dataframe thead th {\n",
       "        text-align: right;\n",
       "    }\n",
       "</style>\n",
       "<table border=\"1\" class=\"dataframe\">\n",
       "  <thead>\n",
       "    <tr style=\"text-align: right;\">\n",
       "      <th></th>\n",
       "      <th>book_id</th>\n",
       "      <th>title</th>\n",
       "      <th>count_reviews</th>\n",
       "      <th>avg_rating</th>\n",
       "    </tr>\n",
       "  </thead>\n",
       "  <tbody>\n",
       "    <tr>\n",
       "      <th>0</th>\n",
       "      <td>625</td>\n",
       "      <td>The Adventures of Tom Sawyer and Adventures of...</td>\n",
       "      <td>1</td>\n",
       "      <td>5.00</td>\n",
       "    </tr>\n",
       "    <tr>\n",
       "      <th>1</th>\n",
       "      <td>86</td>\n",
       "      <td>Arrows of the Queen (Heralds of Valdemar  #1)</td>\n",
       "      <td>2</td>\n",
       "      <td>5.00</td>\n",
       "    </tr>\n",
       "    <tr>\n",
       "      <th>2</th>\n",
       "      <td>444</td>\n",
       "      <td>Moneyball: The Art of Winning an Unfair Game</td>\n",
       "      <td>3</td>\n",
       "      <td>5.00</td>\n",
       "    </tr>\n",
       "    <tr>\n",
       "      <th>3</th>\n",
       "      <td>672</td>\n",
       "      <td>The Cat in the Hat and Other Dr. Seuss Favorites</td>\n",
       "      <td>0</td>\n",
       "      <td>5.00</td>\n",
       "    </tr>\n",
       "    <tr>\n",
       "      <th>4</th>\n",
       "      <td>62</td>\n",
       "      <td>Alas  Babylon</td>\n",
       "      <td>2</td>\n",
       "      <td>5.00</td>\n",
       "    </tr>\n",
       "    <tr>\n",
       "      <th>...</th>\n",
       "      <td>...</td>\n",
       "      <td>...</td>\n",
       "      <td>...</td>\n",
       "      <td>...</td>\n",
       "    </tr>\n",
       "    <tr>\n",
       "      <th>995</th>\n",
       "      <td>915</td>\n",
       "      <td>The World Is Flat: A Brief History of the Twen...</td>\n",
       "      <td>3</td>\n",
       "      <td>2.25</td>\n",
       "    </tr>\n",
       "    <tr>\n",
       "      <th>996</th>\n",
       "      <td>202</td>\n",
       "      <td>Drowning Ruth</td>\n",
       "      <td>3</td>\n",
       "      <td>2.00</td>\n",
       "    </tr>\n",
       "    <tr>\n",
       "      <th>997</th>\n",
       "      <td>316</td>\n",
       "      <td>His Excellency: George Washington</td>\n",
       "      <td>2</td>\n",
       "      <td>2.00</td>\n",
       "    </tr>\n",
       "    <tr>\n",
       "      <th>998</th>\n",
       "      <td>371</td>\n",
       "      <td>Junky</td>\n",
       "      <td>2</td>\n",
       "      <td>2.00</td>\n",
       "    </tr>\n",
       "    <tr>\n",
       "      <th>999</th>\n",
       "      <td>303</td>\n",
       "      <td>Harvesting the Heart</td>\n",
       "      <td>2</td>\n",
       "      <td>1.50</td>\n",
       "    </tr>\n",
       "  </tbody>\n",
       "</table>\n",
       "<p>1000 rows × 4 columns</p>\n",
       "</div>"
      ],
      "text/plain": [
       "     book_id                                              title  \\\n",
       "0        625  The Adventures of Tom Sawyer and Adventures of...   \n",
       "1         86      Arrows of the Queen (Heralds of Valdemar  #1)   \n",
       "2        444       Moneyball: The Art of Winning an Unfair Game   \n",
       "3        672   The Cat in the Hat and Other Dr. Seuss Favorites   \n",
       "4         62                                      Alas  Babylon   \n",
       "..       ...                                                ...   \n",
       "995      915  The World Is Flat: A Brief History of the Twen...   \n",
       "996      202                                      Drowning Ruth   \n",
       "997      316                  His Excellency: George Washington   \n",
       "998      371                                              Junky   \n",
       "999      303                               Harvesting the Heart   \n",
       "\n",
       "     count_reviews  avg_rating  \n",
       "0                1        5.00  \n",
       "1                2        5.00  \n",
       "2                3        5.00  \n",
       "3                0        5.00  \n",
       "4                2        5.00  \n",
       "..             ...         ...  \n",
       "995              3        2.25  \n",
       "996              3        2.00  \n",
       "997              2        2.00  \n",
       "998              2        2.00  \n",
       "999              2        1.50  \n",
       "\n",
       "[1000 rows x 4 columns]"
      ]
     },
     "metadata": {},
     "output_type": "display_data"
    }
   ],
   "source": [
    "query = ''' SELECT b.book_id,\n",
    "                   b.title,\n",
    "                   b.count_reviews,\n",
    "                   AVG(ra.rating) as avg_rating\n",
    "            FROM \n",
    "            (SELECT a.book_id,\n",
    "                    a.title,\n",
    "                    COUNT(r.review_id) as count_reviews\n",
    "            FROM books as a \n",
    "            LEFT JOIN reviews as r ON r.book_id = a.book_id\n",
    "            GROUP BY a.book_id, a.title) as b\n",
    "            LEFT JOIN ratings ra ON ra.book_id=b.book_id\n",
    "            GROUP BY b.book_id, b.title, b.count_reviews\n",
    "            ORDER BY avg_rating DESC\n",
    "        '''\n",
    "\n",
    "display(pd.io.sql.read_sql(query, con=engine))"
   ]
  },
  {
   "cell_type": "markdown",
   "id": "7b972bee",
   "metadata": {},
   "source": [
    "**Промужеточный вывод:**\n",
    "- с 2000го года вышло около 22 тысяч обзоров на книги\n",
    "- средняя оценка этих книг - 3,93"
   ]
  },
  {
   "cell_type": "markdown",
   "id": "96fe84a0",
   "metadata": {},
   "source": [
    "<div class=\"alert alert-info\">Издательство, которое выпустило наибольшее число книг толще 50 страниц </div>"
   ]
  },
  {
   "cell_type": "code",
   "execution_count": 11,
   "id": "bb75a1c7",
   "metadata": {},
   "outputs": [
    {
     "data": {
      "text/html": [
       "<div>\n",
       "<style scoped>\n",
       "    .dataframe tbody tr th:only-of-type {\n",
       "        vertical-align: middle;\n",
       "    }\n",
       "\n",
       "    .dataframe tbody tr th {\n",
       "        vertical-align: top;\n",
       "    }\n",
       "\n",
       "    .dataframe thead th {\n",
       "        text-align: right;\n",
       "    }\n",
       "</style>\n",
       "<table border=\"1\" class=\"dataframe\">\n",
       "  <thead>\n",
       "    <tr style=\"text-align: right;\">\n",
       "      <th></th>\n",
       "      <th>count_book</th>\n",
       "      <th>publisher</th>\n",
       "    </tr>\n",
       "  </thead>\n",
       "  <tbody>\n",
       "    <tr>\n",
       "      <th>0</th>\n",
       "      <td>42</td>\n",
       "      <td>Penguin Books</td>\n",
       "    </tr>\n",
       "  </tbody>\n",
       "</table>\n",
       "</div>"
      ],
      "text/plain": [
       "   count_book      publisher\n",
       "0          42  Penguin Books"
      ]
     },
     "metadata": {},
     "output_type": "display_data"
    }
   ],
   "source": [
    "query = ''' \n",
    "            SELECT a.count_book,\n",
    "                   p.publisher  \n",
    "            FROM\n",
    "            (SELECT publisher_id,\n",
    "                    COUNT(book_id) as count_book\n",
    "            FROM books\n",
    "            WHERE num_pages > 50\n",
    "            GROUP BY (publisher_id)\n",
    "            ORDER BY (count_book) DESC) as a \n",
    "            LEFT JOIN publishers p ON p.publisher_id = a.publisher_id\n",
    "            LIMIT 1\n",
    "        '''\n",
    "display(pd.io.sql.read_sql(query, con=engine))"
   ]
  },
  {
   "cell_type": "markdown",
   "id": "0f001d24",
   "metadata": {},
   "source": [
    "**Промужеточный вывод:**\n",
    "- Издательство Penguin Books выпустило наибольшее число книг толще 50 страниц"
   ]
  },
  {
   "cell_type": "markdown",
   "id": "1dcdbe03",
   "metadata": {},
   "source": [
    "<div class=\"alert alert-info\">Автор с самой высокой средней оценкой книг. (Учитываютя только книги с 50 и более оценками) </div>"
   ]
  },
  {
   "cell_type": "code",
   "execution_count": 12,
   "id": "be6b51db",
   "metadata": {
    "scrolled": true
   },
   "outputs": [
    {
     "data": {
      "text/html": [
       "<div>\n",
       "<style scoped>\n",
       "    .dataframe tbody tr th:only-of-type {\n",
       "        vertical-align: middle;\n",
       "    }\n",
       "\n",
       "    .dataframe tbody tr th {\n",
       "        vertical-align: top;\n",
       "    }\n",
       "\n",
       "    .dataframe thead th {\n",
       "        text-align: right;\n",
       "    }\n",
       "</style>\n",
       "<table border=\"1\" class=\"dataframe\">\n",
       "  <thead>\n",
       "    <tr style=\"text-align: right;\">\n",
       "      <th></th>\n",
       "      <th>author</th>\n",
       "      <th>avg</th>\n",
       "    </tr>\n",
       "  </thead>\n",
       "  <tbody>\n",
       "    <tr>\n",
       "      <th>0</th>\n",
       "      <td>J.K. Rowling/Mary GrandPré</td>\n",
       "      <td>4.283844</td>\n",
       "    </tr>\n",
       "  </tbody>\n",
       "</table>\n",
       "</div>"
      ],
      "text/plain": [
       "                       author       avg\n",
       "0  J.K. Rowling/Mary GrandPré  4.283844"
      ]
     },
     "metadata": {},
     "output_type": "display_data"
    }
   ],
   "source": [
    "query = ''' SELECT a.author,\n",
    "                   AVG(r.avg_rating)\n",
    "            FROM\n",
    "            (SELECT book_id,\n",
    "                   AVG(rating) as avg_rating\n",
    "            FROM ratings\n",
    "            GROUP BY book_id\n",
    "            HAVING COUNT(rating) >= 50\n",
    "            ) as r\n",
    "            LEFT JOIN books as b ON b.book_id=r.book_id\n",
    "            LEFT JOIN authors as a ON b.author_id=a.author_id\n",
    "            GROUP BY author\n",
    "            ORDER BY (AVG(r.avg_rating)) DESC\n",
    "            LIMIT 1\n",
    "        '''\n",
    "display(pd.io.sql.read_sql(query, con=engine))"
   ]
  },
  {
   "cell_type": "markdown",
   "id": "77cdc5ca",
   "metadata": {},
   "source": [
    "**Промужеточный вывод:**\n",
    "- Автор с самой высокой средней оценкой книг - J.K. Rowling/Mary GrandPré\n",
    "- Средний рейтинг его книг  - 4.28"
   ]
  },
  {
   "cell_type": "markdown",
   "id": "ede132e2",
   "metadata": {},
   "source": [
    "<div class=\"alert alert-info\"> Среднее количество обзоров от пользователей, которые поставили больше 50 оценок</div>"
   ]
  },
  {
   "cell_type": "code",
   "execution_count": 13,
   "id": "86e4c0d7",
   "metadata": {},
   "outputs": [
    {
     "data": {
      "text/html": [
       "<div>\n",
       "<style scoped>\n",
       "    .dataframe tbody tr th:only-of-type {\n",
       "        vertical-align: middle;\n",
       "    }\n",
       "\n",
       "    .dataframe tbody tr th {\n",
       "        vertical-align: top;\n",
       "    }\n",
       "\n",
       "    .dataframe thead th {\n",
       "        text-align: right;\n",
       "    }\n",
       "</style>\n",
       "<table border=\"1\" class=\"dataframe\">\n",
       "  <thead>\n",
       "    <tr style=\"text-align: right;\">\n",
       "      <th></th>\n",
       "      <th>avg</th>\n",
       "    </tr>\n",
       "  </thead>\n",
       "  <tbody>\n",
       "    <tr>\n",
       "      <th>0</th>\n",
       "      <td>24.333333</td>\n",
       "    </tr>\n",
       "  </tbody>\n",
       "</table>\n",
       "</div>"
      ],
      "text/plain": [
       "         avg\n",
       "0  24.333333"
      ]
     },
     "metadata": {},
     "output_type": "display_data"
    }
   ],
   "source": [
    "query = ''' \n",
    "            SELECT AVG(b.count_reiwiew)\n",
    "            FROM\n",
    "            (SELECT COUNT(r.review_id) as count_reiwiew\n",
    "            FROM\n",
    "            (SELECT COUNT(rating_id),\n",
    "                   username\n",
    "            FROM ratings\n",
    "            GROUP BY username\n",
    "            HAVING COUNT(rating_id) > 50) as a\n",
    "            INNER JOIN reviews as r ON a.username = r.username\n",
    "            GROUP BY r.username) as b\n",
    "            \n",
    "        '''\n",
    "display(pd.io.sql.read_sql(query, con=engine))"
   ]
  },
  {
   "cell_type": "markdown",
   "id": "5a167b63",
   "metadata": {},
   "source": [
    "**Промужеточный вывод:**\n",
    "\n",
    "- Среднее количество обзоров от пользователей, которые поставили больше 50 оценок  -  24,3 обзора"
   ]
  }
 ],
 "metadata": {
  "ExecuteTimeLog": [
   {
    "duration": 9415,
    "start_time": "2022-11-23T07:24:45.135Z"
   },
   {
    "duration": 276,
    "start_time": "2022-11-23T07:24:54.553Z"
   },
   {
    "duration": 77,
    "start_time": "2022-11-23T07:24:54.830Z"
   },
   {
    "duration": 77,
    "start_time": "2022-11-23T07:24:54.909Z"
   },
   {
    "duration": 77,
    "start_time": "2022-11-23T07:24:54.988Z"
   },
   {
    "duration": 80,
    "start_time": "2022-11-23T07:24:55.067Z"
   },
   {
    "duration": 77,
    "start_time": "2022-11-23T07:24:55.148Z"
   },
   {
    "duration": 85,
    "start_time": "2022-11-23T07:24:55.226Z"
   },
   {
    "duration": 78,
    "start_time": "2022-11-23T07:24:55.312Z"
   },
   {
    "duration": 81,
    "start_time": "2022-11-23T07:24:55.392Z"
   },
   {
    "duration": 83,
    "start_time": "2022-11-23T07:24:55.475Z"
   },
   {
    "duration": 78,
    "start_time": "2022-11-23T07:28:15.105Z"
   },
   {
    "duration": 80,
    "start_time": "2022-11-23T07:28:51.285Z"
   },
   {
    "duration": 8186,
    "start_time": "2022-11-23T10:16:09.030Z"
   },
   {
    "duration": 73,
    "start_time": "2022-11-23T10:16:17.218Z"
   },
   {
    "duration": 11,
    "start_time": "2022-11-23T10:16:17.292Z"
   },
   {
    "duration": 12,
    "start_time": "2022-11-23T10:16:17.304Z"
   },
   {
    "duration": 16,
    "start_time": "2022-11-23T10:16:17.318Z"
   },
   {
    "duration": 15,
    "start_time": "2022-11-23T10:16:17.335Z"
   },
   {
    "duration": 11,
    "start_time": "2022-11-23T10:16:17.352Z"
   },
   {
    "duration": 29,
    "start_time": "2022-11-23T10:16:17.365Z"
   },
   {
    "duration": 11,
    "start_time": "2022-11-23T10:16:17.396Z"
   },
   {
    "duration": 17,
    "start_time": "2022-11-23T10:16:17.409Z"
   },
   {
    "duration": 14,
    "start_time": "2022-11-23T10:16:17.428Z"
   },
   {
    "duration": 11,
    "start_time": "2022-11-23T10:20:22.630Z"
   },
   {
    "duration": 14,
    "start_time": "2022-11-23T10:21:49.172Z"
   },
   {
    "duration": 208,
    "start_time": "2022-11-23T10:24:02.268Z"
   },
   {
    "duration": 344,
    "start_time": "2022-11-23T10:35:17.107Z"
   },
   {
    "duration": 115,
    "start_time": "2022-11-23T10:35:24.796Z"
   },
   {
    "duration": 19,
    "start_time": "2022-11-23T10:35:40.629Z"
   },
   {
    "duration": 18,
    "start_time": "2022-11-23T10:37:30.811Z"
   },
   {
    "duration": 30,
    "start_time": "2022-11-23T10:40:53.535Z"
   },
   {
    "duration": 23,
    "start_time": "2022-11-23T10:41:38.715Z"
   },
   {
    "duration": 25,
    "start_time": "2022-11-23T10:42:02.165Z"
   },
   {
    "duration": 77,
    "start_time": "2022-11-23T10:42:25.319Z"
   },
   {
    "duration": 31,
    "start_time": "2022-11-23T10:42:31.052Z"
   },
   {
    "duration": 20,
    "start_time": "2022-11-23T10:43:28.039Z"
   },
   {
    "duration": 16,
    "start_time": "2022-11-23T10:44:37.638Z"
   },
   {
    "duration": 17,
    "start_time": "2022-11-23T10:45:06.129Z"
   },
   {
    "duration": 94,
    "start_time": "2022-11-23T10:45:20.076Z"
   },
   {
    "duration": 14,
    "start_time": "2022-11-23T10:45:22.228Z"
   },
   {
    "duration": 542,
    "start_time": "2022-11-23T16:23:51.161Z"
   },
   {
    "duration": 4,
    "start_time": "2022-11-23T16:23:51.705Z"
   },
   {
    "duration": 13603,
    "start_time": "2022-11-23T16:23:51.711Z"
   },
   {
    "duration": 57,
    "start_time": "2022-11-23T16:24:05.315Z"
   },
   {
    "duration": 17,
    "start_time": "2022-11-23T16:24:05.373Z"
   },
   {
    "duration": 31,
    "start_time": "2022-11-23T16:24:05.392Z"
   },
   {
    "duration": 11,
    "start_time": "2022-11-23T16:24:05.424Z"
   },
   {
    "duration": 12,
    "start_time": "2022-11-23T16:24:05.437Z"
   },
   {
    "duration": 9,
    "start_time": "2022-11-23T16:24:05.451Z"
   },
   {
    "duration": 63,
    "start_time": "2022-11-23T16:24:05.462Z"
   },
   {
    "duration": 13,
    "start_time": "2022-11-23T16:24:05.527Z"
   },
   {
    "duration": 16,
    "start_time": "2022-11-23T16:24:05.542Z"
   },
   {
    "duration": 15,
    "start_time": "2022-11-23T16:24:05.561Z"
   },
   {
    "duration": 42,
    "start_time": "2022-11-23T16:24:55.862Z"
   },
   {
    "duration": 24,
    "start_time": "2022-11-23T16:25:05.323Z"
   },
   {
    "duration": 46,
    "start_time": "2022-11-23T21:36:46.981Z"
   },
   {
    "duration": 533,
    "start_time": "2022-11-23T21:36:54.262Z"
   },
   {
    "duration": 2,
    "start_time": "2022-11-23T21:36:54.797Z"
   },
   {
    "duration": 8215,
    "start_time": "2022-11-23T21:36:54.801Z"
   },
   {
    "duration": 56,
    "start_time": "2022-11-23T21:37:03.018Z"
   },
   {
    "duration": 11,
    "start_time": "2022-11-23T21:37:03.075Z"
   },
   {
    "duration": 13,
    "start_time": "2022-11-23T21:37:03.087Z"
   },
   {
    "duration": 22,
    "start_time": "2022-11-23T21:37:03.101Z"
   },
   {
    "duration": 24,
    "start_time": "2022-11-23T21:37:03.125Z"
   },
   {
    "duration": 24,
    "start_time": "2022-11-23T21:37:03.151Z"
   },
   {
    "duration": 38,
    "start_time": "2022-11-23T21:37:03.178Z"
   },
   {
    "duration": 11,
    "start_time": "2022-11-23T21:37:03.217Z"
   },
   {
    "duration": 17,
    "start_time": "2022-11-23T21:37:03.229Z"
   },
   {
    "duration": 11,
    "start_time": "2022-11-23T21:37:03.247Z"
   },
   {
    "duration": 27,
    "start_time": "2022-11-23T21:38:05.984Z"
   },
   {
    "duration": 567,
    "start_time": "2022-11-23T21:38:26.985Z"
   },
   {
    "duration": 3,
    "start_time": "2022-11-23T21:38:27.553Z"
   },
   {
    "duration": 7733,
    "start_time": "2022-11-23T21:38:27.558Z"
   },
   {
    "duration": 43,
    "start_time": "2022-11-23T21:38:35.292Z"
   },
   {
    "duration": 10,
    "start_time": "2022-11-23T21:38:35.336Z"
   },
   {
    "duration": 14,
    "start_time": "2022-11-23T21:38:35.347Z"
   },
   {
    "duration": 10,
    "start_time": "2022-11-23T21:38:35.362Z"
   },
   {
    "duration": 11,
    "start_time": "2022-11-23T21:38:35.374Z"
   },
   {
    "duration": 9,
    "start_time": "2022-11-23T21:38:35.387Z"
   },
   {
    "duration": 23,
    "start_time": "2022-11-23T21:38:35.398Z"
   },
   {
    "duration": 11,
    "start_time": "2022-11-23T21:38:35.422Z"
   },
   {
    "duration": 12,
    "start_time": "2022-11-23T21:38:35.434Z"
   },
   {
    "duration": 33,
    "start_time": "2022-11-23T21:38:35.448Z"
   }
  ],
  "kernelspec": {
   "display_name": "Python 3 (ipykernel)",
   "language": "python",
   "name": "python3"
  },
  "language_info": {
   "codemirror_mode": {
    "name": "ipython",
    "version": 3
   },
   "file_extension": ".py",
   "mimetype": "text/x-python",
   "name": "python",
   "nbconvert_exporter": "python",
   "pygments_lexer": "ipython3",
   "version": "3.9.13"
  },
  "toc": {
   "base_numbering": 1,
   "nav_menu": {},
   "number_sections": true,
   "sideBar": true,
   "skip_h1_title": true,
   "title_cell": "Table of Contents",
   "title_sidebar": "Contents",
   "toc_cell": false,
   "toc_position": {},
   "toc_section_display": true,
   "toc_window_display": false
  }
 },
 "nbformat": 4,
 "nbformat_minor": 5
}
