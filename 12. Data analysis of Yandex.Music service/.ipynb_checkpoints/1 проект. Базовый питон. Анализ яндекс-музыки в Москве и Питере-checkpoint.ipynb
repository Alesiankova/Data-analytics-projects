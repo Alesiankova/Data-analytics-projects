{
 "cells": [
  {
   "cell_type": "markdown",
   "metadata": {
    "id": "E0vqbgi9ay0H"
   },
   "source": [
    "# Яндекс.Музыка"
   ]
  },
  {
   "cell_type": "markdown",
   "metadata": {
    "id": "VUC88oWjTJw2"
   },
   "source": [
    "Сравнение Москвы и Петербурга окружено мифами. Например:\n",
    " * Москва — мегаполис, подчинённый жёсткому ритму рабочей недели;\n",
    " * Петербург — культурная столица, со своими вкусами.\n",
    "\n",
    "На данных Яндекс.Музыки вы сравните поведение пользователей двух столиц.\n",
    "\n",
    "**Цель исследования** — проверьте три гипотезы:\n",
    "1. Активность пользователей зависит от дня недели. Причём в Москве и Петербурге это проявляется по-разному.\n",
    "2. В понедельник утром в Москве преобладают одни жанры, а в Петербурге — другие. Так же и вечером пятницы преобладают разные жанры — в зависимости от города. \n",
    "3. Москва и Петербург предпочитают разные жанры музыки. В Москве чаще слушают поп-музыку, в Петербурге — русский рэп.\n",
    "\n",
    "**Ход исследования**\n",
    "\n",
    "Данные о поведении пользователей вы получите из файла `yandex_music_project.csv`. О качестве данных ничего не известно. Поэтому перед проверкой гипотез понадобится обзор данных. \n",
    "\n",
    "Вы проверите данные на ошибки и оцените их влияние на исследование. Затем, на этапе предобработки вы поищете возможность исправить самые критичные ошибки данных.\n",
    " \n",
    "Таким образом, исследование пройдёт в три этапа:\n",
    " 1. Обзор данных.\n",
    " 2. Предобработка данных.\n",
    " 3. Проверка гипотез.\n",
    "\n"
   ]
  },
  {
   "cell_type": "markdown",
   "metadata": {
    "id": "Ml1hmfXC_Zcs"
   },
   "source": [
    "## Обзор данных\n",
    "\n",
    "Составьте первое представление о данных Яндекс.Музыки.\n",
    "\n",
    "\n"
   ]
  },
  {
   "cell_type": "markdown",
   "metadata": {
    "id": "57eAOGIz_Zcs"
   },
   "source": [
    "<div class=\"alert alert-info\">Основной инструмент аналитика — `pandas`. Импортируйте эту библиотеку. </div>"
   ]
  },
  {
   "cell_type": "code",
   "execution_count": 43,
   "metadata": {
    "id": "AXN7PHPN_Zcs"
   },
   "outputs": [],
   "source": [
    "import pandas as pd"
   ]
  },
  {
   "cell_type": "markdown",
   "metadata": {
    "id": "SG23P8tt_Zcs"
   },
   "source": [
    "<div class=\"alert alert-info\">Прочитайте файл `yandex_music_project.csv` из папки `/datasets` и сохраните его в переменной `df`: </div>"
   ]
  },
  {
   "cell_type": "code",
   "execution_count": 44,
   "metadata": {
    "id": "fFVu7vqh_Zct"
   },
   "outputs": [],
   "source": [
    "df = pd.read_csv('yandex_music_project.csv')"
   ]
  },
  {
   "cell_type": "markdown",
   "metadata": {
    "id": "SG23P8tt_Zcs"
   },
   "source": [
    "<div class=\"alert alert-info\">Выведите на экран первые десять строк таблицы: </div>"
   ]
  },
  {
   "cell_type": "code",
   "execution_count": 45,
   "metadata": {
    "id": "oWTVX3gW_Zct",
    "scrolled": false
   },
   "outputs": [
    {
     "data": {
      "text/html": [
       "<div>\n",
       "<style scoped>\n",
       "    .dataframe tbody tr th:only-of-type {\n",
       "        vertical-align: middle;\n",
       "    }\n",
       "\n",
       "    .dataframe tbody tr th {\n",
       "        vertical-align: top;\n",
       "    }\n",
       "\n",
       "    .dataframe thead th {\n",
       "        text-align: right;\n",
       "    }\n",
       "</style>\n",
       "<table border=\"1\" class=\"dataframe\">\n",
       "  <thead>\n",
       "    <tr style=\"text-align: right;\">\n",
       "      <th></th>\n",
       "      <th>userID</th>\n",
       "      <th>Track</th>\n",
       "      <th>artist</th>\n",
       "      <th>genre</th>\n",
       "      <th>City</th>\n",
       "      <th>time</th>\n",
       "      <th>Day</th>\n",
       "    </tr>\n",
       "  </thead>\n",
       "  <tbody>\n",
       "    <tr>\n",
       "      <th>0</th>\n",
       "      <td>FFB692EC</td>\n",
       "      <td>Kamigata To Boots</td>\n",
       "      <td>The Mass Missile</td>\n",
       "      <td>rock</td>\n",
       "      <td>Saint-Petersburg</td>\n",
       "      <td>20:28:33</td>\n",
       "      <td>Wednesday</td>\n",
       "    </tr>\n",
       "    <tr>\n",
       "      <th>1</th>\n",
       "      <td>55204538</td>\n",
       "      <td>Delayed Because of Accident</td>\n",
       "      <td>Andreas Rönnberg</td>\n",
       "      <td>rock</td>\n",
       "      <td>Moscow</td>\n",
       "      <td>14:07:09</td>\n",
       "      <td>Friday</td>\n",
       "    </tr>\n",
       "    <tr>\n",
       "      <th>2</th>\n",
       "      <td>20EC38</td>\n",
       "      <td>Funiculì funiculà</td>\n",
       "      <td>Mario Lanza</td>\n",
       "      <td>pop</td>\n",
       "      <td>Saint-Petersburg</td>\n",
       "      <td>20:58:07</td>\n",
       "      <td>Wednesday</td>\n",
       "    </tr>\n",
       "    <tr>\n",
       "      <th>3</th>\n",
       "      <td>A3DD03C9</td>\n",
       "      <td>Dragons in the Sunset</td>\n",
       "      <td>Fire + Ice</td>\n",
       "      <td>folk</td>\n",
       "      <td>Saint-Petersburg</td>\n",
       "      <td>08:37:09</td>\n",
       "      <td>Monday</td>\n",
       "    </tr>\n",
       "    <tr>\n",
       "      <th>4</th>\n",
       "      <td>E2DC1FAE</td>\n",
       "      <td>Soul People</td>\n",
       "      <td>Space Echo</td>\n",
       "      <td>dance</td>\n",
       "      <td>Moscow</td>\n",
       "      <td>08:34:34</td>\n",
       "      <td>Monday</td>\n",
       "    </tr>\n",
       "    <tr>\n",
       "      <th>5</th>\n",
       "      <td>842029A1</td>\n",
       "      <td>Преданная</td>\n",
       "      <td>IMPERVTOR</td>\n",
       "      <td>rusrap</td>\n",
       "      <td>Saint-Petersburg</td>\n",
       "      <td>13:09:41</td>\n",
       "      <td>Friday</td>\n",
       "    </tr>\n",
       "    <tr>\n",
       "      <th>6</th>\n",
       "      <td>4CB90AA5</td>\n",
       "      <td>True</td>\n",
       "      <td>Roman Messer</td>\n",
       "      <td>dance</td>\n",
       "      <td>Moscow</td>\n",
       "      <td>13:00:07</td>\n",
       "      <td>Wednesday</td>\n",
       "    </tr>\n",
       "    <tr>\n",
       "      <th>7</th>\n",
       "      <td>F03E1C1F</td>\n",
       "      <td>Feeling This Way</td>\n",
       "      <td>Polina Griffith</td>\n",
       "      <td>dance</td>\n",
       "      <td>Moscow</td>\n",
       "      <td>20:47:49</td>\n",
       "      <td>Wednesday</td>\n",
       "    </tr>\n",
       "    <tr>\n",
       "      <th>8</th>\n",
       "      <td>8FA1D3BE</td>\n",
       "      <td>И вновь продолжается бой</td>\n",
       "      <td>NaN</td>\n",
       "      <td>ruspop</td>\n",
       "      <td>Moscow</td>\n",
       "      <td>09:17:40</td>\n",
       "      <td>Friday</td>\n",
       "    </tr>\n",
       "    <tr>\n",
       "      <th>9</th>\n",
       "      <td>E772D5C0</td>\n",
       "      <td>Pessimist</td>\n",
       "      <td>NaN</td>\n",
       "      <td>dance</td>\n",
       "      <td>Saint-Petersburg</td>\n",
       "      <td>21:20:49</td>\n",
       "      <td>Wednesday</td>\n",
       "    </tr>\n",
       "  </tbody>\n",
       "</table>\n",
       "</div>"
      ],
      "text/plain": [
       "     userID                        Track            artist   genre  \\\n",
       "0  FFB692EC            Kamigata To Boots  The Mass Missile    rock   \n",
       "1  55204538  Delayed Because of Accident  Andreas Rönnberg    rock   \n",
       "2    20EC38            Funiculì funiculà       Mario Lanza     pop   \n",
       "3  A3DD03C9        Dragons in the Sunset        Fire + Ice    folk   \n",
       "4  E2DC1FAE                  Soul People        Space Echo   dance   \n",
       "5  842029A1                    Преданная         IMPERVTOR  rusrap   \n",
       "6  4CB90AA5                         True      Roman Messer   dance   \n",
       "7  F03E1C1F             Feeling This Way   Polina Griffith   dance   \n",
       "8  8FA1D3BE     И вновь продолжается бой               NaN  ruspop   \n",
       "9  E772D5C0                    Pessimist               NaN   dance   \n",
       "\n",
       "             City        time        Day  \n",
       "0  Saint-Petersburg  20:28:33  Wednesday  \n",
       "1            Moscow  14:07:09     Friday  \n",
       "2  Saint-Petersburg  20:58:07  Wednesday  \n",
       "3  Saint-Petersburg  08:37:09     Monday  \n",
       "4            Moscow  08:34:34     Monday  \n",
       "5  Saint-Petersburg  13:09:41     Friday  \n",
       "6            Moscow  13:00:07  Wednesday  \n",
       "7            Moscow  20:47:49  Wednesday  \n",
       "8            Moscow  09:17:40     Friday  \n",
       "9  Saint-Petersburg  21:20:49  Wednesday  "
      ]
     },
     "metadata": {},
     "output_type": "display_data"
    }
   ],
   "source": [
    "display(df.head(10))"
   ]
  },
  {
   "cell_type": "markdown",
   "metadata": {
    "id": "SG23P8tt_Zcs"
   },
   "source": [
    "<div class=\"alert alert-info\">Одной командой получить общую информацию о таблице: </div>"
   ]
  },
  {
   "cell_type": "code",
   "execution_count": 46,
   "metadata": {
    "id": "DSf2kIb-_Zct",
    "scrolled": false
   },
   "outputs": [
    {
     "name": "stdout",
     "output_type": "stream",
     "text": [
      "<class 'pandas.core.frame.DataFrame'>\n",
      "RangeIndex: 65079 entries, 0 to 65078\n",
      "Data columns (total 7 columns):\n",
      " #   Column    Non-Null Count  Dtype \n",
      "---  ------    --------------  ----- \n",
      " 0     userID  65079 non-null  object\n",
      " 1   Track     63848 non-null  object\n",
      " 2   artist    57876 non-null  object\n",
      " 3   genre     63881 non-null  object\n",
      " 4     City    65079 non-null  object\n",
      " 5   time      65079 non-null  object\n",
      " 6   Day       65079 non-null  object\n",
      "dtypes: object(7)\n",
      "memory usage: 3.5+ MB\n"
     ]
    }
   ],
   "source": [
    "# получение общей информации о данных в таблице df\n",
    "\n",
    "df.info()"
   ]
  },
  {
   "cell_type": "markdown",
   "metadata": {
    "id": "SG23P8tt_Zcs"
   },
   "source": [
    "<div class=\"alert alert-info\">Вывод </div>"
   ]
  },
  {
   "cell_type": "markdown",
   "metadata": {
    "id": "TaQ2Iwbr_Zct"
   },
   "source": [
    "Итак, в таблице семь столбцов. Тип данных во всех столбцах — `object`.\n",
    "\n",
    "Согласно документации к данным:\n",
    "* `userID` — идентификатор пользователя;\n",
    "* `Track` — название трека;  \n",
    "* `artist` — имя исполнителя;\n",
    "* `genre` — название жанра;\n",
    "* `City` — город пользователя;\n",
    "* `time` — время начала прослушивания;\n",
    "* `Day` — день недели.\n",
    "\n",
    "В названиях колонок видны три нарушения стиля:\n",
    "1. Строчные буквы сочетаются с прописными.\n",
    "2. Встречаются пробелы.\n",
    "3. Колонка \"userID\" - написана верблюжим регистром. **(Найдите ещё одну проблему в названии колонок и опишите её в этом пункте.)** \n",
    "\n",
    "\n",
    "\n",
    "Количество значений в столбцах различается. Значит, в данных есть пропущенные значения.\n"
   ]
  },
  {
   "cell_type": "markdown",
   "metadata": {
    "id": "MCB6-dXG_Zct"
   },
   "source": [
    "**Выводы**\n",
    "\n",
    "В каждой строке таблицы — данные о прослушанном треке. Часть колонок описывает саму композицию: название, исполнителя и жанр. Остальные данные рассказывают о пользователе: из какого он города, когда он слушал музыку. \n",
    "\n",
    "Предварительно можно утверждать, что, данных достаточно для проверки гипотез. Но встречаются пропуски в данных, а в названиях колонок — расхождения с хорошим стилем.\n",
    "\n",
    "Чтобы двигаться дальше, нужно устранить проблемы в данных."
   ]
  },
  {
   "cell_type": "markdown",
   "metadata": {
    "id": "SjYF6Ub9_Zct"
   },
   "source": [
    "## Предобработка данных\n",
    "Исправьте стиль в заголовках столбцов, исключите пропуски. Затем проверьте данные на дубликаты."
   ]
  },
  {
   "cell_type": "markdown",
   "metadata": {
    "id": "SG23P8tt_Zcs"
   },
   "source": [
    "<div class=\"alert alert-info\">Выведите на экран названия столбцов:</div>"
   ]
  },
  {
   "cell_type": "code",
   "execution_count": 47,
   "metadata": {
    "id": "oKOTdF_Q_Zct"
   },
   "outputs": [
    {
     "data": {
      "text/plain": [
       "Index(['  userID', 'Track', 'artist', 'genre', '  City  ', 'time', 'Day'], dtype='object')"
      ]
     },
     "execution_count": 47,
     "metadata": {},
     "output_type": "execute_result"
    }
   ],
   "source": [
    "# перечень названий столбцов таблицы df\n",
    "\n",
    "df.columns"
   ]
  },
  {
   "cell_type": "markdown",
   "metadata": {
    "id": "FPZA3ki8xe7T"
   },
   "source": []
  },
  {
   "cell_type": "markdown",
   "metadata": {
    "id": "SG23P8tt_Zcs"
   },
   "source": [
    "<div class=\"alert alert-info\">Приведите названия в соответствие с хорошим стилем:</div>"
   ]
  },
  {
   "cell_type": "markdown",
   "metadata": {
    "id": "zj5534cv_Zct"
   },
   "source": [
    "Приведите названия в соответствие с хорошим стилем:\n",
    "* несколько слов в названии запишите в «змеином_регистре»,\n",
    "* все символы сделайте строчными,\n",
    "* устраните пробелы.\n",
    "\n",
    "Для этого переименуйте колонки так:\n",
    "* `'  userID'` → `'user_id'`;\n",
    "* `'Track'` → `'track'`;\n",
    "* `'  City  '` → `'city'`;\n",
    "* `'Day'` → `'day'`."
   ]
  },
  {
   "cell_type": "code",
   "execution_count": 48,
   "metadata": {
    "id": "ISlFqs5y_Zct"
   },
   "outputs": [],
   "source": [
    "# переименование столбцов\n",
    "\n",
    "df = df.rename(columns={'  userID' : 'user_id', 'Track' : 'track', '  City  ' : 'city', 'Day' : 'day'})"
   ]
  },
  {
   "cell_type": "markdown",
   "metadata": {
    "id": "SG23P8tt_Zcs"
   },
   "source": [
    "<div class=\"alert alert-info\">Проверьте результат. Для этого ещё раз выведите на экран названия столбцов:</div>"
   ]
  },
  {
   "cell_type": "code",
   "execution_count": 49,
   "metadata": {
    "id": "d4NOAmTW_Zct"
   },
   "outputs": [
    {
     "data": {
      "text/plain": [
       "Index(['user_id', 'track', 'artist', 'genre', 'city', 'time', 'day'], dtype='object')"
      ]
     },
     "execution_count": 49,
     "metadata": {},
     "output_type": "execute_result"
    }
   ],
   "source": [
    "# проверка результатов - перечень названий столбцов\n",
    "\n",
    "df.columns"
   ]
  },
  {
   "cell_type": "markdown",
   "metadata": {
    "id": "5ISfbcfY_Zct"
   },
   "source": [
    "### Пропуски значений\n"
   ]
  },
  {
   "cell_type": "markdown",
   "metadata": {
    "id": "SG23P8tt_Zcs"
   },
   "source": [
    "<div class=\"alert alert-info\">Сначала посчитайте, сколько в таблице пропущенных значений. Для этого достаточно двух методов `pandas`:</div>"
   ]
  },
  {
   "cell_type": "code",
   "execution_count": 50,
   "metadata": {
    "id": "RskX29qr_Zct"
   },
   "outputs": [
    {
     "data": {
      "text/plain": [
       "user_id       0\n",
       "track      1231\n",
       "artist     7203\n",
       "genre      1198\n",
       "city          0\n",
       "time          0\n",
       "day           0\n",
       "dtype: int64"
      ]
     },
     "execution_count": 50,
     "metadata": {},
     "output_type": "execute_result"
    }
   ],
   "source": [
    "# подсчёт пропусков\n",
    "\n",
    "df.isna().sum()"
   ]
  },
  {
   "cell_type": "markdown",
   "metadata": {
    "id": "qubhgnlO_Zct"
   },
   "source": [
    "Не все пропущенные значения влияют на исследование. Так в `track` и `artist` пропуски не важны для вашей работы. Достаточно заменить их явными обозначениями.\n",
    "\n",
    "Но пропуски в `genre` могут помешать сравнению музыкальных вкусов в Москве и Санкт-Петербурге. На практике было бы правильно установить причину пропусков и восстановить данные. Такой возможности нет в учебном проекте. Придётся:\n",
    "* заполнить и эти пропуски явными обозначениями,\n",
    "* оценить, насколько они повредят расчётам. "
   ]
  },
  {
   "cell_type": "markdown",
   "metadata": {
    "id": "SG23P8tt_Zcs"
   },
   "source": [
    "<div class=\"alert alert-info\">Замените пропущенные значения в столбцах track, artist и genre на строку 'unknown'. Для этого создайте список columns_to_replace, переберите его элементы циклом for и для каждого столбца выполните замену пропущенных значений:</div>"
   ]
  },
  {
   "cell_type": "code",
   "execution_count": 51,
   "metadata": {
    "id": "KplB5qWs_Zct"
   },
   "outputs": [],
   "source": [
    "# перебор названий столбцов в цикле и замена пропущенных значений на 'unknown'\n",
    "\n",
    "columns_to_replace = ['track', 'artist', 'genre']\n",
    "for column in columns_to_replace:\n",
    "    df[column]=df[column].fillna('unknown')"
   ]
  },
  {
   "cell_type": "markdown",
   "metadata": {
    "id": "SG23P8tt_Zcs"
   },
   "source": [
    "<div class=\"alert alert-info\">Убедитесь, что в таблице не осталось пропусков. Для этого ещё раз посчитайте пропущенные значения.</div>"
   ]
  },
  {
   "cell_type": "code",
   "execution_count": 52,
   "metadata": {
    "id": "Tq4nYRX4_Zct"
   },
   "outputs": [
    {
     "data": {
      "text/plain": [
       "user_id    0\n",
       "track      0\n",
       "artist     0\n",
       "genre      0\n",
       "city       0\n",
       "time       0\n",
       "day        0\n",
       "dtype: int64"
      ]
     },
     "execution_count": 52,
     "metadata": {},
     "output_type": "execute_result"
    }
   ],
   "source": [
    "# подсчёт пропусков\n",
    "\n",
    "df.isna().sum()"
   ]
  },
  {
   "cell_type": "markdown",
   "metadata": {
    "id": "BWKRtBJ3_Zct"
   },
   "source": [
    "### Дубликаты"
   ]
  },
  {
   "cell_type": "markdown",
   "metadata": {
    "id": "SG23P8tt_Zcs"
   },
   "source": [
    "<div class=\"alert alert-info\">Посчитайте явные дубликаты в таблице одной командой:</div>"
   ]
  },
  {
   "cell_type": "code",
   "execution_count": 53,
   "metadata": {
    "id": "36eES_S0_Zct"
   },
   "outputs": [
    {
     "data": {
      "text/plain": [
       "3826"
      ]
     },
     "execution_count": 53,
     "metadata": {},
     "output_type": "execute_result"
    }
   ],
   "source": [
    "# подсчёт явных дубликатов\n",
    "\n",
    "df.duplicated().sum()"
   ]
  },
  {
   "cell_type": "markdown",
   "metadata": {
    "id": "SG23P8tt_Zcs"
   },
   "source": [
    "<div class=\"alert alert-info\">Вызовите специальный метод pandas, чтобы удалить явные дубликаты:</div>"
   ]
  },
  {
   "cell_type": "code",
   "execution_count": 54,
   "metadata": {
    "id": "exFHq6tt_Zct"
   },
   "outputs": [],
   "source": [
    "# удаление явных дубликатов (с удалением старых индексов и формированием новых)\n",
    "\n",
    "df = df.drop_duplicates().reset_index(drop=True)       "
   ]
  },
  {
   "cell_type": "markdown",
   "metadata": {
    "id": "SG23P8tt_Zcs"
   },
   "source": [
    "<div class=\"alert alert-info\">Ещё раз посчитайте явные дубликаты в таблице — убедитесь, что полностью от них избавились:</div>"
   ]
  },
  {
   "cell_type": "code",
   "execution_count": 55,
   "metadata": {
    "id": "-8PuNWQ0_Zct"
   },
   "outputs": [
    {
     "data": {
      "text/plain": [
       "0"
      ]
     },
     "execution_count": 55,
     "metadata": {},
     "output_type": "execute_result"
    }
   ],
   "source": [
    "# проверка на отсутствие дубликатов\n",
    "\n",
    "df.duplicated().sum()"
   ]
  },
  {
   "cell_type": "markdown",
   "metadata": {
    "id": "SG23P8tt_Zcs"
   },
   "source": [
    "<div class=\"alert alert-info\">Выведите на экран список уникальных названий жанров, отсортированный в алфавитном порядке</div>"
   ]
  },
  {
   "cell_type": "markdown",
   "metadata": {
    "id": "QlFBsxAr_Zct"
   },
   "source": [
    "Теперь избавьтесь от неявных дубликатов в колонке `genre`. Например, название одного и того же жанра может быть записано немного по-разному. Такие ошибки тоже повлияют на результат исследования."
   ]
  },
  {
   "cell_type": "markdown",
   "metadata": {
    "id": "eSjWwsOh_Zct"
   },
   "source": [
    "Выведите на экран список уникальных названий жанров, отсортированный в алфавитном порядке. Для этого:\n",
    "* извлеките нужный столбец датафрейма, \n",
    "* примените к нему метод сортировки,\n",
    "* для отсортированного столбца вызовите метод, который вернёт уникальные значения из столбца."
   ]
  },
  {
   "cell_type": "code",
   "execution_count": 56,
   "metadata": {
    "id": "JIUcqzZN_Zct"
   },
   "outputs": [
    {
     "data": {
      "text/plain": [
       "array(['acid', 'acoustic', 'action', 'adult', 'africa', 'afrikaans',\n",
       "       'alternative', 'alternativepunk', 'ambient', 'americana',\n",
       "       'animated', 'anime', 'arabesk', 'arabic', 'arena',\n",
       "       'argentinetango', 'art', 'audiobook', 'author', 'avantgarde',\n",
       "       'axé', 'baile', 'balkan', 'beats', 'bigroom', 'black', 'bluegrass',\n",
       "       'blues', 'bollywood', 'bossa', 'brazilian', 'breakbeat', 'breaks',\n",
       "       'broadway', 'cantautori', 'cantopop', 'canzone', 'caribbean',\n",
       "       'caucasian', 'celtic', 'chamber', 'chanson', 'children', 'chill',\n",
       "       'chinese', 'choral', 'christian', 'christmas', 'classical',\n",
       "       'classicmetal', 'club', 'colombian', 'comedy', 'conjazz',\n",
       "       'contemporary', 'country', 'cuban', 'dance', 'dancehall',\n",
       "       'dancepop', 'dark', 'death', 'deep', 'deutschrock', 'deutschspr',\n",
       "       'dirty', 'disco', 'dnb', 'documentary', 'downbeat', 'downtempo',\n",
       "       'drum', 'dub', 'dubstep', 'eastern', 'easy', 'electronic',\n",
       "       'electropop', 'emo', 'entehno', 'epicmetal', 'estrada', 'ethnic',\n",
       "       'eurofolk', 'european', 'experimental', 'extrememetal', 'fado',\n",
       "       'fairytail', 'film', 'fitness', 'flamenco', 'folk', 'folklore',\n",
       "       'folkmetal', 'folkrock', 'folktronica', 'forró', 'frankreich',\n",
       "       'französisch', 'french', 'funk', 'future', 'gangsta', 'garage',\n",
       "       'german', 'ghazal', 'gitarre', 'glitch', 'gospel', 'gothic',\n",
       "       'grime', 'grunge', 'gypsy', 'handsup', \"hard'n'heavy\", 'hardcore',\n",
       "       'hardstyle', 'hardtechno', 'hip', 'hip-hop', 'hiphop',\n",
       "       'historisch', 'holiday', 'hop', 'horror', 'house', 'hymn', 'idm',\n",
       "       'independent', 'indian', 'indie', 'indipop', 'industrial',\n",
       "       'inspirational', 'instrumental', 'international', 'irish', 'jam',\n",
       "       'japanese', 'jazz', 'jewish', 'jpop', 'jungle', 'k-pop',\n",
       "       'karadeniz', 'karaoke', 'kayokyoku', 'korean', 'laiko', 'latin',\n",
       "       'latino', 'leftfield', 'local', 'lounge', 'loungeelectronic',\n",
       "       'lovers', 'malaysian', 'mandopop', 'marschmusik', 'meditative',\n",
       "       'mediterranean', 'melodic', 'metal', 'metalcore', 'mexican',\n",
       "       'middle', 'minimal', 'miscellaneous', 'modern', 'mood', 'mpb',\n",
       "       'muslim', 'native', 'neoklassik', 'neue', 'new', 'newage',\n",
       "       'newwave', 'nu', 'nujazz', 'numetal', 'oceania', 'old', 'opera',\n",
       "       'orchestral', 'other', 'piano', 'podcasts', 'pop', 'popdance',\n",
       "       'popelectronic', 'popeurodance', 'poprussian', 'post',\n",
       "       'posthardcore', 'postrock', 'power', 'progmetal', 'progressive',\n",
       "       'psychedelic', 'punjabi', 'punk', 'quebecois', 'ragga', 'ram',\n",
       "       'rancheras', 'rap', 'rave', 'reggae', 'reggaeton', 'regional',\n",
       "       'relax', 'religious', 'retro', 'rhythm', 'rnb', 'rnr', 'rock',\n",
       "       'rockabilly', 'rockalternative', 'rockindie', 'rockother',\n",
       "       'romance', 'roots', 'ruspop', 'rusrap', 'rusrock', 'russian',\n",
       "       'salsa', 'samba', 'scenic', 'schlager', 'self', 'sertanejo',\n",
       "       'shanson', 'shoegazing', 'showtunes', 'singer', 'ska', 'skarock',\n",
       "       'slow', 'smooth', 'soft', 'soul', 'soulful', 'sound', 'soundtrack',\n",
       "       'southern', 'specialty', 'speech', 'spiritual', 'sport',\n",
       "       'stonerrock', 'surf', 'swing', 'synthpop', 'synthrock',\n",
       "       'sängerportrait', 'tango', 'tanzorchester', 'taraftar', 'tatar',\n",
       "       'tech', 'techno', 'teen', 'thrash', 'top', 'traditional',\n",
       "       'tradjazz', 'trance', 'tribal', 'trip', 'triphop', 'tropical',\n",
       "       'türk', 'türkçe', 'ukrrock', 'unknown', 'urban', 'uzbek',\n",
       "       'variété', 'vi', 'videogame', 'vocal', 'western', 'world',\n",
       "       'worldbeat', 'ïîï', 'электроника'], dtype=object)"
      ]
     },
     "metadata": {},
     "output_type": "display_data"
    }
   ],
   "source": [
    "# Просмотр уникальных названий жанров\n",
    "\n",
    "display(df['genre'].sort_values().unique())"
   ]
  },
  {
   "cell_type": "markdown",
   "metadata": {
    "id": "SG23P8tt_Zcs"
   },
   "source": [
    "<div class=\"alert alert-info\">Просмотрите список и найдите неявные дубликаты названия hiphop</div>"
   ]
  },
  {
   "cell_type": "markdown",
   "metadata": {
    "id": "qej-Qmuo_Zct"
   },
   "source": [
    "Просмотрите список и найдите неявные дубликаты названия `hiphop`. Это могут быть названия с ошибками или альтернативные названия того же жанра.\n",
    "\n",
    "Вы увидите следующие неявные дубликаты:\n",
    "* *hip*,\n",
    "* *hop*,\n",
    "* *hip-hop*.\n",
    "\n",
    "Чтобы очистить от них таблицу, напишите функцию `replace_wrong_genres()` с двумя параметрами: \n",
    "* `wrong_genres` — список дубликатов,\n",
    "* `correct_genre` — строка с правильным значением.\n",
    "\n",
    "Функция должна исправить колонку `genre` в таблице `df`: заменить каждое значение из списка `wrong_genres` на значение из `correct_genre`."
   ]
  },
  {
   "cell_type": "code",
   "execution_count": 57,
   "metadata": {
    "id": "ErNDkmns_Zct"
   },
   "outputs": [],
   "source": [
    "# Функция для замены неявных дубликатов\n",
    "\n",
    "def replace_wrong_genres(wrong_genres, correct_genre):\n",
    "    for wrong_genre in wrong_genres:\n",
    "        df['genre'] =  df['genre'].replace(wrong_genre, correct_genre)"
   ]
  },
  {
   "cell_type": "markdown",
   "metadata": {
    "id": "SG23P8tt_Zcs"
   },
   "source": [
    "<div class=\"alert alert-info\">Вызовите replace_wrong_genres() и передайте ей такие аргументы, чтобы она устранила неявные дубликаты: вместо hip, hop и hip-hop в таблице должно быть значение hiphop:</div>"
   ]
  },
  {
   "cell_type": "code",
   "execution_count": 58,
   "metadata": {
    "id": "YN5i2hpmSo09"
   },
   "outputs": [],
   "source": [
    "# Устранение неявных дубликатов\n",
    "\n",
    "replace_wrong_genres(['hip', 'hop', 'hip-hop'], 'hiphop')"
   ]
  },
  {
   "cell_type": "markdown",
   "metadata": {
    "id": "SG23P8tt_Zcs"
   },
   "source": [
    "<div class=\"alert alert-info\">Выведите отсортированный список уникальных значений столбца genre:</div>"
   ]
  },
  {
   "cell_type": "markdown",
   "metadata": {
    "id": "zQKF16_RG15m"
   },
   "source": [
    "Проверьте, что заменили неправильные названия:\n",
    "\n",
    "*   hip\n",
    "*   hop\n",
    "*   hip-hop\n",
    "\n",
    "Выведите отсортированный список уникальных значений столбца `genre`:"
   ]
  },
  {
   "cell_type": "code",
   "execution_count": 59,
   "metadata": {
    "id": "wvixALnFG15m"
   },
   "outputs": [
    {
     "data": {
      "text/plain": [
       "array(['acid', 'acoustic', 'action', 'adult', 'africa', 'afrikaans',\n",
       "       'alternative', 'alternativepunk', 'ambient', 'americana',\n",
       "       'animated', 'anime', 'arabesk', 'arabic', 'arena',\n",
       "       'argentinetango', 'art', 'audiobook', 'author', 'avantgarde',\n",
       "       'axé', 'baile', 'balkan', 'beats', 'bigroom', 'black', 'bluegrass',\n",
       "       'blues', 'bollywood', 'bossa', 'brazilian', 'breakbeat', 'breaks',\n",
       "       'broadway', 'cantautori', 'cantopop', 'canzone', 'caribbean',\n",
       "       'caucasian', 'celtic', 'chamber', 'chanson', 'children', 'chill',\n",
       "       'chinese', 'choral', 'christian', 'christmas', 'classical',\n",
       "       'classicmetal', 'club', 'colombian', 'comedy', 'conjazz',\n",
       "       'contemporary', 'country', 'cuban', 'dance', 'dancehall',\n",
       "       'dancepop', 'dark', 'death', 'deep', 'deutschrock', 'deutschspr',\n",
       "       'dirty', 'disco', 'dnb', 'documentary', 'downbeat', 'downtempo',\n",
       "       'drum', 'dub', 'dubstep', 'eastern', 'easy', 'electronic',\n",
       "       'electropop', 'emo', 'entehno', 'epicmetal', 'estrada', 'ethnic',\n",
       "       'eurofolk', 'european', 'experimental', 'extrememetal', 'fado',\n",
       "       'fairytail', 'film', 'fitness', 'flamenco', 'folk', 'folklore',\n",
       "       'folkmetal', 'folkrock', 'folktronica', 'forró', 'frankreich',\n",
       "       'französisch', 'french', 'funk', 'future', 'gangsta', 'garage',\n",
       "       'german', 'ghazal', 'gitarre', 'glitch', 'gospel', 'gothic',\n",
       "       'grime', 'grunge', 'gypsy', 'handsup', \"hard'n'heavy\", 'hardcore',\n",
       "       'hardstyle', 'hardtechno', 'hiphop', 'historisch', 'holiday',\n",
       "       'horror', 'house', 'hymn', 'idm', 'independent', 'indian', 'indie',\n",
       "       'indipop', 'industrial', 'inspirational', 'instrumental',\n",
       "       'international', 'irish', 'jam', 'japanese', 'jazz', 'jewish',\n",
       "       'jpop', 'jungle', 'k-pop', 'karadeniz', 'karaoke', 'kayokyoku',\n",
       "       'korean', 'laiko', 'latin', 'latino', 'leftfield', 'local',\n",
       "       'lounge', 'loungeelectronic', 'lovers', 'malaysian', 'mandopop',\n",
       "       'marschmusik', 'meditative', 'mediterranean', 'melodic', 'metal',\n",
       "       'metalcore', 'mexican', 'middle', 'minimal', 'miscellaneous',\n",
       "       'modern', 'mood', 'mpb', 'muslim', 'native', 'neoklassik', 'neue',\n",
       "       'new', 'newage', 'newwave', 'nu', 'nujazz', 'numetal', 'oceania',\n",
       "       'old', 'opera', 'orchestral', 'other', 'piano', 'podcasts', 'pop',\n",
       "       'popdance', 'popelectronic', 'popeurodance', 'poprussian', 'post',\n",
       "       'posthardcore', 'postrock', 'power', 'progmetal', 'progressive',\n",
       "       'psychedelic', 'punjabi', 'punk', 'quebecois', 'ragga', 'ram',\n",
       "       'rancheras', 'rap', 'rave', 'reggae', 'reggaeton', 'regional',\n",
       "       'relax', 'religious', 'retro', 'rhythm', 'rnb', 'rnr', 'rock',\n",
       "       'rockabilly', 'rockalternative', 'rockindie', 'rockother',\n",
       "       'romance', 'roots', 'ruspop', 'rusrap', 'rusrock', 'russian',\n",
       "       'salsa', 'samba', 'scenic', 'schlager', 'self', 'sertanejo',\n",
       "       'shanson', 'shoegazing', 'showtunes', 'singer', 'ska', 'skarock',\n",
       "       'slow', 'smooth', 'soft', 'soul', 'soulful', 'sound', 'soundtrack',\n",
       "       'southern', 'specialty', 'speech', 'spiritual', 'sport',\n",
       "       'stonerrock', 'surf', 'swing', 'synthpop', 'synthrock',\n",
       "       'sängerportrait', 'tango', 'tanzorchester', 'taraftar', 'tatar',\n",
       "       'tech', 'techno', 'teen', 'thrash', 'top', 'traditional',\n",
       "       'tradjazz', 'trance', 'tribal', 'trip', 'triphop', 'tropical',\n",
       "       'türk', 'türkçe', 'ukrrock', 'unknown', 'urban', 'uzbek',\n",
       "       'variété', 'vi', 'videogame', 'vocal', 'western', 'world',\n",
       "       'worldbeat', 'ïîï', 'электроника'], dtype=object)"
      ]
     },
     "metadata": {},
     "output_type": "display_data"
    }
   ],
   "source": [
    "# Проверка на неявные дубликаты\n",
    "\n",
    "display(df['genre'].sort_values().unique())  # - стало"
   ]
  },
  {
   "cell_type": "markdown",
   "metadata": {
    "id": "jz6a9-7HQUDd"
   },
   "source": [
    "**Выводы**\n",
    "\n",
    "Предобработка обнаружила три проблемы в данных:\n",
    "\n",
    "- нарушения в стиле заголовков,\n",
    "- пропущенные значения,\n",
    "- дубликаты — явные и неявные.\n",
    "\n",
    "Вы исправили заголовки, чтобы упростить работу с таблицей. Без дубликатов исследование станет более точным.\n",
    "\n",
    "Пропущенные значения вы заменили на `'unknown'`. Ещё предстоит увидеть, не повредят ли исследованию пропуски в колонке `genre`.\n",
    "\n",
    "Теперь можно перейти к проверке гипотез. "
   ]
  },
  {
   "cell_type": "markdown",
   "metadata": {
    "id": "WttZHXH0SqKk"
   },
   "source": [
    "## Проверка гипотез"
   ]
  },
  {
   "cell_type": "markdown",
   "metadata": {
    "id": "Im936VVi_Zcu"
   },
   "source": [
    "### Сравнение поведения пользователей двух столиц"
   ]
  },
  {
   "cell_type": "markdown",
   "metadata": {
    "id": "nwt_MuaL_Zcu"
   },
   "source": [
    "Первая гипотеза утверждает, что пользователи по-разному слушают музыку в Москве и Санкт-Петербурге. Проверьте это предположение по данным о трёх днях недели — понедельнике, среде и пятнице. Для этого:\n",
    "\n",
    "* Разделите пользователей Москвы и Санкт-Петербурга\n",
    "* Сравните, сколько треков послушала каждая группа пользователей в понедельник, среду и пятницу.\n"
   ]
  },
  {
   "cell_type": "markdown",
   "metadata": {
    "id": "SG23P8tt_Zcs"
   },
   "source": [
    "<div class=\"alert alert-info\">Оцените активность пользователей в каждом городе. Сгруппируйте данные по городу и посчитайте прослушивания в каждой группе.</div>"
   ]
  },
  {
   "cell_type": "markdown",
   "metadata": {
    "id": "8Dw_YMmT_Zcu"
   },
   "source": [
    "Для тренировки сначала выполните каждый из расчётов по отдельности. "
   ]
  },
  {
   "cell_type": "code",
   "execution_count": 60,
   "metadata": {
    "id": "0_Qs96oh_Zcu"
   },
   "outputs": [
    {
     "data": {
      "text/plain": [
       "city\n",
       "Moscow              42741\n",
       "Saint-Petersburg    18512\n",
       "Name: day, dtype: int64"
      ]
     },
     "metadata": {},
     "output_type": "display_data"
    }
   ],
   "source": [
    "# Подсчёт прослушиваний в каждом городе\n",
    "\n",
    "display(df.groupby('city')['day'].count())"
   ]
  },
  {
   "cell_type": "markdown",
   "metadata": {
    "id": "SG23P8tt_Zcs"
   },
   "source": [
    "<div class=\"alert alert-info\">Теперь сгруппируйте данные по дню недели и подсчитайте прослушивания в понедельник, среду и пятницу. Учтите, что в данных есть информация о прослушиваниях только за эти дни.</div>"
   ]
  },
  {
   "cell_type": "markdown",
   "metadata": {
    "id": "dzli3w8o_Zcu"
   },
   "source": [
    "В Москве прослушиваний больше, чем в Петербурге. Из этого не следует, что московские пользователи чаще слушают музыку. Просто самих пользователей в Москве больше.\n",
    "\n",
    "Теперь сгруппируйте данные по дню недели и подсчитайте прослушивания в понедельник, среду и пятницу. Учтите, что в данных есть информация о прослушиваниях только за эти дни.\n"
   ]
  },
  {
   "cell_type": "code",
   "execution_count": 61,
   "metadata": {
    "id": "uZMKjiJz_Zcu"
   },
   "outputs": [
    {
     "data": {
      "text/plain": [
       "day\n",
       "Friday       21840\n",
       "Monday       21354\n",
       "Wednesday    18059\n",
       "Name: city, dtype: int64"
      ]
     },
     "metadata": {},
     "output_type": "display_data"
    }
   ],
   "source": [
    "# Подсчёт прослушиваний в каждый из трёх дней\n",
    "\n",
    "display(df.groupby('day')['city'].count())"
   ]
  },
  {
   "cell_type": "markdown",
   "metadata": {
    "id": "cC2tNrlL_Zcu"
   },
   "source": [
    "В среднем пользователи из двух городов менее активны по средам. Но картина может измениться, если рассмотреть каждый город в отдельности."
   ]
  },
  {
   "cell_type": "markdown",
   "metadata": {
    "id": "POzs8bGa_Zcu"
   },
   "source": [
    "Вы видели, как работает группировка по городу и по дням недели. Теперь напишите функцию, которая объединит два эти расчёта.\n",
    "\n",
    "Создайте функцию `number_tracks()`, которая посчитает прослушивания для заданного дня и города. Ей понадобятся два параметра:\n",
    "* день недели,\n",
    "* название города.\n",
    "\n",
    "В функции сохраните в переменную строки исходной таблицы, у которых значение:\n",
    "  * в колонке `day` равно параметру `day`,\n",
    "  * в колонке `city` равно параметру `city`.\n",
    "\n",
    "Для этого примените последовательную фильтрацию с логической индексацией.\n",
    "\n",
    "Затем посчитайте значения в столбце `user_id` получившейся таблицы. Результат сохраните в новую переменную. Верните эту переменную из функции."
   ]
  },
  {
   "cell_type": "markdown",
   "metadata": {
    "id": "SG23P8tt_Zcs"
   },
   "source": [
    "<div class=\"alert alert-info\">Создайте функцию number_tracks()</div>"
   ]
  },
  {
   "cell_type": "code",
   "execution_count": 62,
   "metadata": {
    "id": "Nz3GdQB1_Zcu"
   },
   "outputs": [],
   "source": [
    "# <создание функции number_tracks()>\n",
    "# Объявляется функция с двумя параметрами: day, city. \n",
    "\n",
    "def number_tracks(day, city):\n",
    "    \n",
    "    \n",
    "# В переменной track_list сохраняются те строки таблицы df, для которых \n",
    "# значение в столбце 'day' равно параметру day и одновременно значение\n",
    "# в столбце 'city' равно параметру city (используйте последовательную фильтрацию\n",
    "# с помощью логической индексации).\n",
    "\n",
    "    track_list = df[df['day'] == day]\n",
    "    track_list = track_list[track_list['city'] == city]\n",
    "    track_list_count = track_list['user_id'].count()\n",
    "# В переменной track_list_count сохраняется число значений столбца 'user_id',\n",
    "# рассчитанное методом count() для таблицы track_list.\n",
    "\n",
    "# Функция возвращает число - значение track_list_count.\n",
    "\n",
    "    return track_list_count\n",
    "\n",
    "# Функция для подсчёта прослушиваний для конкретного города и дня.\n",
    "# С помощью последовательной фильтрации с логической индексацией она \n",
    "# сначала получит из исходной таблицы строки с нужным днём,\n",
    "# затем из результата отфильтрует строки с нужным городом,\n",
    "# методом count() посчитает количество значений в колонке user_id. \n",
    "# Это количество функция вернёт в качестве результата"
   ]
  },
  {
   "cell_type": "markdown",
   "metadata": {
    "id": "SG23P8tt_Zcs"
   },
   "source": [
    "<div class=\"alert alert-info\">Вызовите number_tracks() шесть раз, меняя значение параметров — так, чтобы получить данные для каждого города в каждый из трёх дней.</div>"
   ]
  },
  {
   "cell_type": "code",
   "execution_count": 63,
   "metadata": {
    "id": "rJcRATNQ_Zcu"
   },
   "outputs": [
    {
     "data": {
      "text/plain": [
       "15740"
      ]
     },
     "execution_count": 63,
     "metadata": {},
     "output_type": "execute_result"
    }
   ],
   "source": [
    "# количество прослушиваний в Москве по понедельникам\n",
    "number_tracks('Monday', 'Moscow')"
   ]
  },
  {
   "cell_type": "code",
   "execution_count": 64,
   "metadata": {
    "id": "hq_ncZ5T_Zcu"
   },
   "outputs": [
    {
     "data": {
      "text/plain": [
       "5614"
      ]
     },
     "execution_count": 64,
     "metadata": {},
     "output_type": "execute_result"
    }
   ],
   "source": [
    "# количество прослушиваний в Санкт-Петербурге по понедельникам\n",
    "number_tracks('Monday', 'Saint-Petersburg')"
   ]
  },
  {
   "cell_type": "code",
   "execution_count": 65,
   "metadata": {
    "id": "_NTy2VPU_Zcu"
   },
   "outputs": [
    {
     "data": {
      "text/plain": [
       "11056"
      ]
     },
     "execution_count": 65,
     "metadata": {},
     "output_type": "execute_result"
    }
   ],
   "source": [
    "# количество прослушиваний в Москве по средам\n",
    "number_tracks('Wednesday', 'Moscow')"
   ]
  },
  {
   "cell_type": "code",
   "execution_count": 66,
   "metadata": {
    "id": "j2y3TAwo_Zcu"
   },
   "outputs": [
    {
     "data": {
      "text/plain": [
       "7003"
      ]
     },
     "execution_count": 66,
     "metadata": {},
     "output_type": "execute_result"
    }
   ],
   "source": [
    "# количество прослушиваний в Санкт-Петербурге по средам\n",
    "number_tracks('Wednesday', 'Saint-Petersburg')"
   ]
  },
  {
   "cell_type": "code",
   "execution_count": 67,
   "metadata": {
    "id": "vYDw5u_K_Zcu"
   },
   "outputs": [
    {
     "data": {
      "text/plain": [
       "15945"
      ]
     },
     "execution_count": 67,
     "metadata": {},
     "output_type": "execute_result"
    }
   ],
   "source": [
    "# количество прослушиваний в Москве по пятницам\n",
    "number_tracks('Friday', 'Moscow')"
   ]
  },
  {
   "cell_type": "code",
   "execution_count": 68,
   "metadata": {
    "id": "8_yzFtW3_Zcu"
   },
   "outputs": [
    {
     "data": {
      "text/plain": [
       "5895"
      ]
     },
     "execution_count": 68,
     "metadata": {},
     "output_type": "execute_result"
    }
   ],
   "source": [
    "# количество прослушиваний в Санкт-Петербурге по пятницам\n",
    "number_tracks('Friday', 'Saint-Petersburg')"
   ]
  },
  {
   "cell_type": "markdown",
   "metadata": {
    "id": "SG23P8tt_Zcs"
   },
   "source": [
    "<div class=\"alert alert-info\">Создайте c помощью конструктора pd.DataFrame таблицу</div>"
   ]
  },
  {
   "cell_type": "markdown",
   "metadata": {
    "id": "7QXffbO-_Zcu"
   },
   "source": [
    "Создайте c помощью конструктора `pd.DataFrame` таблицу, где\n",
    "* названия колонок — `['city', 'monday', 'wednesday', 'friday']`;\n",
    "* данные — результаты, которые вы получили с помощью `number_tracks`."
   ]
  },
  {
   "cell_type": "code",
   "execution_count": 69,
   "metadata": {
    "id": "APAcLpOr_Zcu"
   },
   "outputs": [
    {
     "data": {
      "text/html": [
       "<div>\n",
       "<style scoped>\n",
       "    .dataframe tbody tr th:only-of-type {\n",
       "        vertical-align: middle;\n",
       "    }\n",
       "\n",
       "    .dataframe tbody tr th {\n",
       "        vertical-align: top;\n",
       "    }\n",
       "\n",
       "    .dataframe thead th {\n",
       "        text-align: right;\n",
       "    }\n",
       "</style>\n",
       "<table border=\"1\" class=\"dataframe\">\n",
       "  <thead>\n",
       "    <tr style=\"text-align: right;\">\n",
       "      <th></th>\n",
       "      <th>city</th>\n",
       "      <th>monday</th>\n",
       "      <th>wednesday</th>\n",
       "      <th>friday</th>\n",
       "    </tr>\n",
       "  </thead>\n",
       "  <tbody>\n",
       "    <tr>\n",
       "      <th>0</th>\n",
       "      <td>Moscow</td>\n",
       "      <td>15740</td>\n",
       "      <td>11056</td>\n",
       "      <td>15945</td>\n",
       "    </tr>\n",
       "    <tr>\n",
       "      <th>1</th>\n",
       "      <td>Saint-Petersburg</td>\n",
       "      <td>5614</td>\n",
       "      <td>7003</td>\n",
       "      <td>5895</td>\n",
       "    </tr>\n",
       "  </tbody>\n",
       "</table>\n",
       "</div>"
      ],
      "text/plain": [
       "               city  monday  wednesday  friday\n",
       "0            Moscow   15740      11056   15945\n",
       "1  Saint-Petersburg    5614       7003    5895"
      ]
     },
     "metadata": {},
     "output_type": "display_data"
    }
   ],
   "source": [
    "# Таблица с результатами\n",
    "total = pd.DataFrame(data = [['Moscow', 15740, 11056, 15945],\n",
    "                             ['Saint-Petersburg', 5614, 7003, 5895]], \n",
    "                     columns = ['city', 'monday', 'wednesday', 'friday'])\n",
    "display(total)"
   ]
  },
  {
   "cell_type": "markdown",
   "metadata": {
    "id": "-EgPIHYu_Zcu"
   },
   "source": [
    "**Выводы**\n",
    "\n",
    "Данные показывают разницу поведения пользователей:\n",
    "\n",
    "- В Москве пик прослушиваний приходится на понедельник и пятницу, а в среду заметен спад.\n",
    "- В Петербурге, наоборот, больше слушают музыку по средам. Активность в понедельник и пятницу здесь почти в равной мере уступает среде.\n",
    "\n",
    "Значит, данные говорят в пользу первой гипотезы."
   ]
  },
  {
   "cell_type": "markdown",
   "metadata": {
    "id": "atZAxtq4_Zcu"
   },
   "source": [
    "### Музыка в начале и в конце недели"
   ]
  },
  {
   "cell_type": "markdown",
   "metadata": {
    "id": "eXrQqXFH_Zcu"
   },
   "source": [
    "Согласно второй гипотезе, утром в понедельник в Москве преобладают одни жанры, а в Петербурге — другие. Так же и вечером пятницы преобладают разные жанры — в зависимости от города."
   ]
  },
  {
   "cell_type": "markdown",
   "metadata": {
    "id": "SG23P8tt_Zcs"
   },
   "source": [
    "<div class=\"alert alert-info\">Сохраните таблицы с данными в две переменные:\n",
    "\n",
    "по Москве — в moscow_general;\n",
    "по Санкт-Петербургу — в spb_general.</div>"
   ]
  },
  {
   "cell_type": "code",
   "execution_count": 70,
   "metadata": {
    "id": "qeaFfM_P_Zcu"
   },
   "outputs": [],
   "source": [
    "# получение таблицы moscow_general из тех строк таблицы df, \n",
    "# для которых значение в столбце 'city' равно 'Moscow'\n",
    "\n",
    "moscow_general = df[df['city'] == 'Moscow']\n"
   ]
  },
  {
   "cell_type": "code",
   "execution_count": 71,
   "metadata": {
    "id": "ORaVRKto_Zcu"
   },
   "outputs": [],
   "source": [
    "# получение таблицы spb_general из тех строк таблицы df,\n",
    "# для которых значение в столбце 'city' равно 'Saint-Petersburg'\n",
    "\n",
    "spb_general = df[df['city'] == 'Saint-Petersburg']"
   ]
  },
  {
   "cell_type": "markdown",
   "metadata": {
    "id": "SG23P8tt_Zcs"
   },
   "source": [
    "<div class=\"alert alert-info\">Создайте функцию genre_weekday() с четырьмя параметрами:\n",
    "\n",
    "- таблица (датафрейм) с данными,\n",
    "- день недели,\n",
    "- начальная временная метка в формате 'hh:mm',\n",
    "- последняя временная метка в формате 'hh:mm'.</div>"
   ]
  },
  {
   "cell_type": "markdown",
   "metadata": {
    "id": "MEJV-CX2_Zcu"
   },
   "source": [
    "Функция должна вернуть информацию о топ-10 жанров тех треков, которые прослушивали в указанный день, в промежутке между двумя отметками времени."
   ]
  },
  {
   "cell_type": "code",
   "execution_count": 72,
   "metadata": {
    "id": "laJT9BYl_Zcu"
   },
   "outputs": [],
   "source": [
    "# Объявление функции genre_weekday() с параметрами table, day, time1, time2,\n",
    "# которая возвращает информацию о самых популярных жанрах в указанный день в\n",
    "# заданное время:\n",
    "\n",
    "def genre_weekday(table, day, time1, time2):\n",
    "\n",
    "# 1) в переменную genre_df сохраняются те строки переданного датафрейма table, для\n",
    "#    которых одновременно:\n",
    "#    - значение в столбце day равно значению аргумента day\n",
    "#    - значение в столбце time больше значения аргумента time1\n",
    "#    - значение в столбце time меньше значения аргумента time2\n",
    "#    Используйте последовательную фильтрацию с помощью логической индексации.\n",
    "\n",
    "    genre_df = table[table['day'] == day]\n",
    "    genre_df = genre_df[genre_df['time'] > time1]\n",
    "    genre_df = genre_df[genre_df['time'] < time2]\n",
    "    \n",
    "# 2) сгруппировать датафрейм genre_df по столбцу genre, взять один из его\n",
    "#    столбцов и посчитать методом count() количество записей для каждого из\n",
    "#    присутствующих жанров, получившийся Series записать в переменную\n",
    "#    genre_df_count\n",
    "\n",
    "    genre_df_count = genre_df.groupby('genre')['city'].count()\n",
    "    \n",
    "    \n",
    "# 3) отсортировать genre_df_count по убыванию встречаемости и сохранить\n",
    "#    в переменную genre_df_sorted\n",
    "    \n",
    "    genre_df_sorted = genre_df_count.sort_values(ascending = False)\n",
    "    \n",
    "# 4) вернуть Series из 10 первых значений genre_df_sorted, это будут топ-10\n",
    "#    популярных жанров (в указанный день, в заданное время)\n",
    "    \n",
    "    return genre_df_sorted.head(10)"
   ]
  },
  {
   "cell_type": "markdown",
   "metadata": {
    "id": "SG23P8tt_Zcs"
   },
   "source": [
    "<div class=\"alert alert-info\">Cравните результаты функции genre_weekday() для Москвы и Санкт-Петербурга в понедельник утром (с 7:00 до 11:00) и в пятницу вечером (с 17:00 до 23:00):</div>"
   ]
  },
  {
   "cell_type": "code",
   "execution_count": 73,
   "metadata": {
    "id": "yz7itPUQ_Zcu"
   },
   "outputs": [
    {
     "data": {
      "text/plain": [
       "genre\n",
       "pop            781\n",
       "dance          549\n",
       "electronic     480\n",
       "rock           474\n",
       "hiphop         286\n",
       "ruspop         186\n",
       "world          181\n",
       "rusrap         175\n",
       "alternative    164\n",
       "unknown        161\n",
       "Name: city, dtype: int64"
      ]
     },
     "execution_count": 73,
     "metadata": {},
     "output_type": "execute_result"
    }
   ],
   "source": [
    "# вызов функции для утра понедельника в Москве (вместо df — таблица moscow_general)\n",
    "# объекты, хранящие время, являются строками и сравниваются как строки\n",
    "# пример вызова: genre_weekday(moscow_general, 'Monday', '07:00', '11:00')\n",
    "\n",
    "genre_weekday(moscow_general, 'Monday', '07:00', '11:00')"
   ]
  },
  {
   "cell_type": "code",
   "execution_count": 74,
   "metadata": {
    "id": "kwUcHPdy_Zcu"
   },
   "outputs": [
    {
     "data": {
      "text/plain": [
       "genre\n",
       "pop            218\n",
       "dance          182\n",
       "rock           162\n",
       "electronic     147\n",
       "hiphop          80\n",
       "ruspop          64\n",
       "alternative     58\n",
       "rusrap          55\n",
       "jazz            44\n",
       "classical       40\n",
       "Name: city, dtype: int64"
      ]
     },
     "execution_count": 74,
     "metadata": {},
     "output_type": "execute_result"
    }
   ],
   "source": [
    "# вызов функции для утра понедельника в Петербурге (вместо df — таблица spb_general)\n",
    "genre_weekday(spb_general, 'Monday', '07:00', '11:00')"
   ]
  },
  {
   "cell_type": "code",
   "execution_count": 75,
   "metadata": {
    "id": "EzXVRE1o_Zcu"
   },
   "outputs": [
    {
     "data": {
      "text/plain": [
       "genre\n",
       "pop            713\n",
       "rock           517\n",
       "dance          495\n",
       "electronic     482\n",
       "hiphop         273\n",
       "world          208\n",
       "ruspop         170\n",
       "alternative    163\n",
       "classical      163\n",
       "rusrap         142\n",
       "Name: city, dtype: int64"
      ]
     },
     "execution_count": 75,
     "metadata": {},
     "output_type": "execute_result"
    }
   ],
   "source": [
    "# вызов функции для вечера пятницы в Москве\n",
    "genre_weekday(moscow_general, 'Friday', '17:00', '23:00')"
   ]
  },
  {
   "cell_type": "code",
   "execution_count": 76,
   "metadata": {
    "id": "JZaEKu5v_Zcu"
   },
   "outputs": [
    {
     "data": {
      "text/plain": [
       "genre\n",
       "pop            256\n",
       "electronic     216\n",
       "rock           216\n",
       "dance          210\n",
       "hiphop          97\n",
       "alternative     63\n",
       "jazz            61\n",
       "classical       60\n",
       "rusrap          59\n",
       "world           54\n",
       "Name: city, dtype: int64"
      ]
     },
     "execution_count": 76,
     "metadata": {},
     "output_type": "execute_result"
    }
   ],
   "source": [
    "# вызов функции для вечера пятницы в Петербурге\n",
    "genre_weekday(spb_general, 'Friday', '17:00', '23:00')"
   ]
  },
  {
   "cell_type": "markdown",
   "metadata": {
    "id": "wrCe4MNX_Zcu"
   },
   "source": [
    "**Выводы**\n",
    "\n",
    "Если сравнить топ-10 жанров в понедельник утром, можно сделать такие выводы:\n",
    "\n",
    "1. В Москве и Петербурге слушают похожую музыку. Единственное отличие — в московский рейтинг вошёл жанр “world”, а в петербургский — джаз и классика.\n",
    "\n",
    "2. В Москве пропущенных значений оказалось так много, что значение `'unknown'` заняло десятое место среди самых популярных жанров. Значит, пропущенные значения занимают существенную долю в данных и угрожают достоверности исследования.\n",
    "\n",
    "Вечер пятницы не меняет эту картину. Некоторые жанры поднимаются немного выше, другие спускаются, но в целом топ-10 остаётся тем же самым.\n",
    "\n",
    "Таким образом, вторая гипотеза подтвердилась лишь частично:\n",
    "* Пользователи слушают похожую музыку в начале недели и в конце.\n",
    "* Разница между Москвой и Петербургом не слишком выражена. В Москве чаще слушают русскую популярную музыку, в Петербурге — джаз.\n",
    "\n",
    "Однако пропуски в данных ставят под сомнение этот результат. В Москве их так много, что рейтинг топ-10 мог бы выглядеть иначе, если бы не утерянные  данные о жанрах."
   ]
  },
  {
   "cell_type": "markdown",
   "metadata": {
    "id": "JolODAqr_Zcu"
   },
   "source": [
    "### Жанровые предпочтения в Москве и Петербурге\n",
    "\n",
    "Гипотеза: Петербург — столица рэпа, музыку этого жанра там слушают чаще, чем в Москве.  А Москва — город контрастов, в котором, тем не менее, преобладает поп-музыка."
   ]
  },
  {
   "cell_type": "markdown",
   "metadata": {
    "id": "DlegSvaT_Zcu"
   },
   "source": [
    "Сгруппируйте таблицу `moscow_general` по жанру и посчитайте прослушивания треков каждого жанра методом `count()`. Затем отсортируйте результат в порядке убывания и сохраните его в таблице `moscow_genres`."
   ]
  },
  {
   "cell_type": "markdown",
   "metadata": {
    "id": "SG23P8tt_Zcs"
   },
   "source": [
    "<div class=\"alert alert-info\">Сгруппируйте таблицу moscow_general по жанру и посчитайте прослушивания треков каждого жанра методом count(). Затем отсортируйте результат в порядке убывания и сохраните его в таблице moscow_genres.</div>"
   ]
  },
  {
   "cell_type": "code",
   "execution_count": 77,
   "metadata": {
    "id": "r19lIPke_Zcu"
   },
   "outputs": [],
   "source": [
    "# одной строкой: группировка таблицы moscow_general по столбцу 'genre', \n",
    "\n",
    "moscow_general = moscow_general.groupby('genre')\n",
    "\n",
    "#подсчёт числа значений 'genre' в этой группировке методом count(), \n",
    "\n",
    "moscow_general = moscow_general['genre'].count()\n",
    "\n",
    "# сортировка получившегося Series в порядке убывания и сохранение в moscow_genres\n",
    "\n",
    "moscow_genres = moscow_general.sort_values(ascending = False)"
   ]
  },
  {
   "cell_type": "markdown",
   "metadata": {
    "id": "SG23P8tt_Zcs"
   },
   "source": [
    "<div class=\"alert alert-info\">Выведите на экран первые десять строк moscow_genres:</div>"
   ]
  },
  {
   "cell_type": "code",
   "execution_count": 78,
   "metadata": {
    "id": "WhCSooF8_Zcv"
   },
   "outputs": [
    {
     "data": {
      "text/plain": [
       "genre\n",
       "pop            5892\n",
       "dance          4435\n",
       "rock           3965\n",
       "electronic     3786\n",
       "hiphop         2096\n",
       "classical      1616\n",
       "world          1432\n",
       "alternative    1379\n",
       "ruspop         1372\n",
       "rusrap         1161\n",
       "Name: genre, dtype: int64"
      ]
     },
     "execution_count": 78,
     "metadata": {},
     "output_type": "execute_result"
    }
   ],
   "source": [
    "# просмотр первых 10 строк moscow_genres\n",
    "\n",
    "moscow_genres.head(10)"
   ]
  },
  {
   "cell_type": "markdown",
   "metadata": {
    "id": "SG23P8tt_Zcs"
   },
   "source": [
    "<div class=\"alert alert-info\">Теперь повторите то же и для Петербурга.</div>"
   ]
  },
  {
   "cell_type": "markdown",
   "metadata": {
    "id": "cnPG2vnN_Zcv"
   },
   "source": [
    "Теперь повторите то же и для Петербурга.\n",
    "\n",
    "Сгруппируйте таблицу `spb_general` по жанру. Посчитайте прослушивания треков каждого жанра. Результат отсортируйте в порядке убывания и сохраните в таблице `spb_genres`:\n"
   ]
  },
  {
   "cell_type": "code",
   "execution_count": 79,
   "metadata": {
    "id": "gluLIpE7_Zcv"
   },
   "outputs": [],
   "source": [
    "# одной строкой: группировка таблицы spb_general по столбцу 'genre', \n",
    "\n",
    "spb_general = spb_general.groupby('genre')\n",
    "\n",
    "# подсчёт числа значений 'genre' в этой группировке методом count(), \n",
    "\n",
    "spb_general = spb_general['genre'].count()\n",
    "\n",
    "# сортировка получившегося Series в порядке убывания и сохранение в spb_genres\n",
    "\n",
    "spb_genres = spb_general.sort_values(ascending = False)"
   ]
  },
  {
   "cell_type": "markdown",
   "metadata": {
    "id": "SG23P8tt_Zcs"
   },
   "source": [
    "<div class=\"alert alert-info\">Выведите на экран первые десять строк spb_genres:</div>"
   ]
  },
  {
   "cell_type": "code",
   "execution_count": 80,
   "metadata": {
    "id": "uaGJHjVU_Zcv"
   },
   "outputs": [
    {
     "data": {
      "text/plain": [
       "genre\n",
       "pop            2431\n",
       "dance          1932\n",
       "rock           1879\n",
       "electronic     1736\n",
       "hiphop          960\n",
       "alternative     649\n",
       "classical       646\n",
       "rusrap          564\n",
       "ruspop          538\n",
       "world           515\n",
       "Name: genre, dtype: int64"
      ]
     },
     "execution_count": 80,
     "metadata": {},
     "output_type": "execute_result"
    }
   ],
   "source": [
    "# просмотр первых 10 строк spb_genres\n",
    "\n",
    "spb_genres.head(10)"
   ]
  },
  {
   "cell_type": "markdown",
   "metadata": {
    "id": "RY51YJYu_Zcv"
   },
   "source": [
    "**Выводы**"
   ]
  },
  {
   "cell_type": "markdown",
   "metadata": {
    "id": "nVhnJEm__Zcv"
   },
   "source": [
    "Гипотеза частично подтвердилась:\n",
    "* Поп-музыка — самый популярный жанр в Москве, как и предполагала гипотеза. Более того, в топ-10 жанров встречается близкий жанр — русская популярная музыка.\n",
    "* Вопреки ожиданиям, рэп одинаково популярен в Москве и Петербурге. \n"
   ]
  },
  {
   "cell_type": "markdown",
   "metadata": {
    "id": "ykKQ0N65_Zcv"
   },
   "source": [
    "## Итоги исследования"
   ]
  },
  {
   "cell_type": "markdown",
   "metadata": {
    "id": "tjUwbHb3_Zcv"
   },
   "source": [
    "Вы проверили три гипотезы и установили:\n",
    "\n",
    "1. День недели по-разному влияет на активность пользователей в Москве и Петербурге. \n",
    "\n",
    "Первая гипотеза полностью подтвердилась.\n",
    "\n",
    "2. Музыкальные предпочтения не сильно меняются в течение недели — будь то Москва или Петербург. Небольшие различия заметны в начале недели, по понедельникам:\n",
    "* в Москве слушают музыку жанра “world”,\n",
    "* в Петербурге — джаз и классику.\n",
    "\n",
    "Таким образом, вторая гипотеза подтвердилась лишь отчасти. Этот результат мог оказаться иным, если бы не пропуски в данных.\n",
    "\n",
    "3. Во вкусах пользователей Москвы и Петербурга больше общего чем различий. Вопреки ожиданиям, предпочтения жанров в Петербурге напоминают московские.\n",
    "\n",
    "Третья гипотеза не подтвердилась. Если различия в предпочтениях и существуют, на основной массе пользователей они незаметны.\n",
    "\n",
    "**На практике исследования содержат проверки статистических гипотез.**\n",
    "Из данных одного сервиса не всегда можно сделать вывод о всех жителях города.\n",
    "Проверки статистических гипотез покажут, насколько они достоверны, исходя из имеющихся данных. \n",
    "С методами проверок гипотез вы ещё познакомитесь в следующих темах."
   ]
  }
 ],
 "metadata": {
  "ExecuteTimeLog": [
   {
    "duration": 426,
    "start_time": "2022-04-21T14:32:42.293Z"
   },
   {
    "duration": 190,
    "start_time": "2022-04-21T14:33:37.546Z"
   },
   {
    "duration": 77,
    "start_time": "2022-04-21T14:34:05.472Z"
   },
   {
    "duration": 3,
    "start_time": "2022-04-21T14:35:13.519Z"
   },
   {
    "duration": 12,
    "start_time": "2022-04-21T14:35:15.937Z"
   },
   {
    "duration": 499,
    "start_time": "2022-04-21T14:35:20.662Z"
   },
   {
    "duration": 197,
    "start_time": "2022-04-21T14:37:10.359Z"
   },
   {
    "duration": 9,
    "start_time": "2022-04-21T14:40:37.218Z"
   },
   {
    "duration": 3,
    "start_time": "2022-04-21T14:40:46.052Z"
   },
   {
    "duration": 3,
    "start_time": "2022-04-21T14:40:50.069Z"
   },
   {
    "duration": 210,
    "start_time": "2022-04-21T14:40:51.992Z"
   },
   {
    "duration": 27,
    "start_time": "2022-04-21T14:41:32.892Z"
   },
   {
    "duration": 3,
    "start_time": "2022-04-21T14:41:57.812Z"
   },
   {
    "duration": 65,
    "start_time": "2022-04-21T14:42:13.615Z"
   },
   {
    "duration": 37,
    "start_time": "2022-04-21T14:53:00.550Z"
   },
   {
    "duration": 40,
    "start_time": "2022-04-21T14:55:41.821Z"
   },
   {
    "duration": 9,
    "start_time": "2022-04-21T14:57:33.179Z"
   },
   {
    "duration": 7,
    "start_time": "2022-04-21T14:57:42.589Z"
   },
   {
    "duration": 4,
    "start_time": "2022-04-21T14:57:57.431Z"
   },
   {
    "duration": 33,
    "start_time": "2022-04-21T14:58:45.693Z"
   },
   {
    "duration": 145,
    "start_time": "2022-04-21T15:00:41.818Z"
   },
   {
    "duration": 30,
    "start_time": "2022-04-21T15:01:36.726Z"
   },
   {
    "duration": 4,
    "start_time": "2022-04-21T15:01:53.938Z"
   },
   {
    "duration": 4,
    "start_time": "2022-04-21T15:02:43.384Z"
   },
   {
    "duration": 22,
    "start_time": "2022-04-21T15:03:04.384Z"
   },
   {
    "duration": 3,
    "start_time": "2022-04-21T15:03:11.769Z"
   },
   {
    "duration": 3,
    "start_time": "2022-04-21T15:03:14.202Z"
   },
   {
    "duration": 22,
    "start_time": "2022-04-21T15:03:41.688Z"
   },
   {
    "duration": 20,
    "start_time": "2022-04-21T15:03:45.186Z"
   },
   {
    "duration": 28,
    "start_time": "2022-04-21T15:03:57.400Z"
   },
   {
    "duration": 3,
    "start_time": "2022-04-21T15:05:12.450Z"
   },
   {
    "duration": 23,
    "start_time": "2022-04-21T15:05:17.020Z"
   },
   {
    "duration": 3,
    "start_time": "2022-04-21T15:05:34.948Z"
   },
   {
    "duration": 4,
    "start_time": "2022-04-21T15:06:25.082Z"
   },
   {
    "duration": 4,
    "start_time": "2022-04-21T15:06:28.374Z"
   },
   {
    "duration": 15,
    "start_time": "2022-04-21T15:06:34.122Z"
   },
   {
    "duration": 4,
    "start_time": "2022-04-21T15:06:37.550Z"
   },
   {
    "duration": 3,
    "start_time": "2022-04-21T15:06:52.297Z"
   },
   {
    "duration": 34,
    "start_time": "2022-04-21T15:08:31.935Z"
   },
   {
    "duration": 29,
    "start_time": "2022-04-21T15:08:56.816Z"
   },
   {
    "duration": 11,
    "start_time": "2022-04-21T15:12:12.780Z"
   },
   {
    "duration": 2356,
    "start_time": "2022-04-21T15:12:39.275Z"
   },
   {
    "duration": 8,
    "start_time": "2022-04-21T15:13:40.607Z"
   },
   {
    "duration": 21,
    "start_time": "2022-04-21T15:14:13.123Z"
   },
   {
    "duration": 2,
    "start_time": "2022-04-21T15:14:27.051Z"
   },
   {
    "duration": 27,
    "start_time": "2022-04-21T15:14:30.585Z"
   },
   {
    "duration": 3,
    "start_time": "2022-04-21T15:14:49.188Z"
   },
   {
    "duration": 72,
    "start_time": "2022-04-21T15:15:26.743Z"
   },
   {
    "duration": 2,
    "start_time": "2022-04-21T15:15:35.782Z"
   },
   {
    "duration": 9,
    "start_time": "2022-04-21T15:16:46.628Z"
   },
   {
    "duration": 9,
    "start_time": "2022-04-21T15:17:14.608Z"
   },
   {
    "duration": 79,
    "start_time": "2022-04-21T15:19:54.483Z"
   },
   {
    "duration": 2,
    "start_time": "2022-04-21T15:20:07.769Z"
   },
   {
    "duration": 83,
    "start_time": "2022-04-21T15:20:11.970Z"
   },
   {
    "duration": 11,
    "start_time": "2022-04-21T15:23:31.571Z"
   },
   {
    "duration": 8,
    "start_time": "2022-04-21T15:23:42.369Z"
   },
   {
    "duration": 7,
    "start_time": "2022-04-21T15:23:55.913Z"
   },
   {
    "duration": 8,
    "start_time": "2022-04-21T15:24:16.333Z"
   },
   {
    "duration": 129,
    "start_time": "2022-04-21T15:24:47.741Z"
   },
   {
    "duration": 11,
    "start_time": "2022-04-21T15:24:52.963Z"
   },
   {
    "duration": 1040,
    "start_time": "2022-04-21T15:32:41.161Z"
   },
   {
    "duration": 7,
    "start_time": "2022-04-21T15:34:36.954Z"
   },
   {
    "duration": 3,
    "start_time": "2022-04-21T15:34:47.530Z"
   },
   {
    "duration": 7,
    "start_time": "2022-04-21T15:34:50.492Z"
   },
   {
    "duration": 11,
    "start_time": "2022-04-21T15:35:20.731Z"
   },
   {
    "duration": 3,
    "start_time": "2022-04-21T15:35:46.235Z"
   },
   {
    "duration": 3,
    "start_time": "2022-04-21T15:36:15.606Z"
   },
   {
    "duration": 7,
    "start_time": "2022-04-21T15:36:18.661Z"
   },
   {
    "duration": 8,
    "start_time": "2022-04-21T15:36:22.230Z"
   },
   {
    "duration": 7,
    "start_time": "2022-04-21T15:36:44.630Z"
   },
   {
    "duration": 7,
    "start_time": "2022-04-21T15:37:05.864Z"
   },
   {
    "duration": 9,
    "start_time": "2022-04-21T15:37:24.376Z"
   },
   {
    "duration": 17,
    "start_time": "2022-04-21T15:37:28.923Z"
   },
   {
    "duration": 11,
    "start_time": "2022-04-21T15:37:36.423Z"
   },
   {
    "duration": 9,
    "start_time": "2022-04-21T15:38:05.370Z"
   },
   {
    "duration": 10,
    "start_time": "2022-04-21T15:38:08.202Z"
   },
   {
    "duration": 3,
    "start_time": "2022-04-21T15:38:53.785Z"
   },
   {
    "duration": 10,
    "start_time": "2022-04-21T15:38:55.903Z"
   },
   {
    "duration": 10,
    "start_time": "2022-04-21T15:38:59.066Z"
   },
   {
    "duration": 9,
    "start_time": "2022-04-21T15:39:32.368Z"
   },
   {
    "duration": 10,
    "start_time": "2022-04-21T15:39:36.085Z"
   },
   {
    "duration": 2,
    "start_time": "2022-04-21T15:39:43.543Z"
   },
   {
    "duration": 11,
    "start_time": "2022-04-21T15:39:47.127Z"
   },
   {
    "duration": 3,
    "start_time": "2022-04-21T15:40:39.346Z"
   },
   {
    "duration": 12,
    "start_time": "2022-04-21T15:40:40.883Z"
   },
   {
    "duration": 10,
    "start_time": "2022-04-21T15:40:44.607Z"
   },
   {
    "duration": 2,
    "start_time": "2022-04-21T15:41:03.110Z"
   },
   {
    "duration": 10,
    "start_time": "2022-04-21T15:46:37.564Z"
   },
   {
    "duration": 9,
    "start_time": "2022-04-21T15:46:46.904Z"
   },
   {
    "duration": 12,
    "start_time": "2022-04-21T15:47:05.869Z"
   },
   {
    "duration": 10,
    "start_time": "2022-04-21T15:47:16.118Z"
   },
   {
    "duration": 4,
    "start_time": "2022-04-21T15:50:11.629Z"
   },
   {
    "duration": 45,
    "start_time": "2022-04-21T15:50:33.444Z"
   },
   {
    "duration": 38,
    "start_time": "2022-04-21T15:50:47.945Z"
   },
   {
    "duration": 14,
    "start_time": "2022-04-21T15:52:40.411Z"
   },
   {
    "duration": 13,
    "start_time": "2022-04-21T15:53:23.290Z"
   },
   {
    "duration": 37,
    "start_time": "2022-04-21T15:54:02.449Z"
   },
   {
    "duration": 12,
    "start_time": "2022-04-21T15:54:40.634Z"
   },
   {
    "duration": 12,
    "start_time": "2022-04-21T15:54:58.651Z"
   },
   {
    "duration": 4,
    "start_time": "2022-04-21T16:02:19.950Z"
   },
   {
    "duration": 35,
    "start_time": "2022-04-21T16:05:45.282Z"
   },
   {
    "duration": 24,
    "start_time": "2022-04-21T16:05:48.548Z"
   },
   {
    "duration": 29,
    "start_time": "2022-04-21T16:05:50.038Z"
   },
   {
    "duration": 21,
    "start_time": "2022-04-21T16:05:51.794Z"
   },
   {
    "duration": 25,
    "start_time": "2022-04-21T16:05:53.368Z"
   },
   {
    "duration": 23,
    "start_time": "2022-04-21T16:05:54.494Z"
   },
   {
    "duration": 25,
    "start_time": "2022-04-21T16:09:06.723Z"
   },
   {
    "duration": 22,
    "start_time": "2022-04-21T16:09:09.310Z"
   },
   {
    "duration": 26,
    "start_time": "2022-04-21T16:09:10.041Z"
   },
   {
    "duration": 20,
    "start_time": "2022-04-21T16:09:11.522Z"
   },
   {
    "duration": 27,
    "start_time": "2022-04-21T16:11:01.788Z"
   },
   {
    "duration": 23,
    "start_time": "2022-04-21T16:11:09.814Z"
   },
   {
    "duration": 26,
    "start_time": "2022-04-21T16:11:13.816Z"
   },
   {
    "duration": 22,
    "start_time": "2022-04-21T16:11:16.172Z"
   },
   {
    "duration": 26,
    "start_time": "2022-04-21T16:11:19.483Z"
   },
   {
    "duration": 4,
    "start_time": "2022-04-21T16:12:47.322Z"
   },
   {
    "duration": 15,
    "start_time": "2022-04-21T16:12:50.464Z"
   },
   {
    "duration": 20,
    "start_time": "2022-04-21T16:13:14.434Z"
   },
   {
    "duration": 4,
    "start_time": "2022-04-21T16:14:12.367Z"
   },
   {
    "duration": 18,
    "start_time": "2022-04-21T16:14:15.117Z"
   },
   {
    "duration": 16,
    "start_time": "2022-04-21T16:14:17.606Z"
   },
   {
    "duration": 16,
    "start_time": "2022-04-21T16:14:20.204Z"
   },
   {
    "duration": 17,
    "start_time": "2022-04-21T16:14:23.522Z"
   },
   {
    "duration": 20,
    "start_time": "2022-04-21T16:14:26.189Z"
   },
   {
    "duration": 18,
    "start_time": "2022-04-21T16:14:28.985Z"
   },
   {
    "duration": 8,
    "start_time": "2022-04-21T16:17:34.477Z"
   },
   {
    "duration": 8,
    "start_time": "2022-04-21T16:17:57.704Z"
   },
   {
    "duration": 4,
    "start_time": "2022-04-21T16:21:38.635Z"
   },
   {
    "duration": 4,
    "start_time": "2022-04-21T16:21:41.272Z"
   },
   {
    "duration": 10,
    "start_time": "2022-04-21T16:21:57.991Z"
   },
   {
    "duration": 8,
    "start_time": "2022-04-21T16:31:56.309Z"
   },
   {
    "duration": 5,
    "start_time": "2022-04-21T16:32:41.777Z"
   },
   {
    "duration": 7,
    "start_time": "2022-04-21T16:32:44.699Z"
   },
   {
    "duration": 9,
    "start_time": "2022-04-21T16:32:55.228Z"
   },
   {
    "duration": 14,
    "start_time": "2022-04-21T16:33:00.588Z"
   },
   {
    "duration": 10,
    "start_time": "2022-04-21T16:33:13.141Z"
   },
   {
    "duration": 22,
    "start_time": "2022-04-21T16:33:18.942Z"
   },
   {
    "duration": 4,
    "start_time": "2022-04-21T16:34:59.487Z"
   },
   {
    "duration": 24,
    "start_time": "2022-04-21T16:35:01.641Z"
   },
   {
    "duration": 16,
    "start_time": "2022-04-21T16:40:46.867Z"
   },
   {
    "duration": 23,
    "start_time": "2022-04-21T16:42:21.992Z"
   },
   {
    "duration": 4,
    "start_time": "2022-04-21T16:44:54.614Z"
   },
   {
    "duration": 24,
    "start_time": "2022-04-21T16:44:56.791Z"
   },
   {
    "duration": 23,
    "start_time": "2022-04-21T16:46:10.439Z"
   },
   {
    "duration": 24,
    "start_time": "2022-04-21T16:46:18.252Z"
   },
   {
    "duration": 4,
    "start_time": "2022-04-21T16:46:25.974Z"
   },
   {
    "duration": 18,
    "start_time": "2022-04-21T16:46:27.789Z"
   },
   {
    "duration": 4,
    "start_time": "2022-04-21T16:51:35.671Z"
   },
   {
    "duration": 0,
    "start_time": "2022-04-21T16:51:41.035Z"
   },
   {
    "duration": 2225,
    "start_time": "2022-04-21T16:51:43.850Z"
   },
   {
    "duration": 2609,
    "start_time": "2022-04-21T16:53:55.284Z"
   },
   {
    "duration": 0,
    "start_time": "2022-04-21T16:55:16.969Z"
   },
   {
    "duration": 2287,
    "start_time": "2022-04-21T16:55:23.778Z"
   },
   {
    "duration": 5,
    "start_time": "2022-04-21T16:56:05.219Z"
   },
   {
    "duration": 17,
    "start_time": "2022-04-21T16:56:06.957Z"
   },
   {
    "duration": 4,
    "start_time": "2022-04-21T16:56:55.395Z"
   },
   {
    "duration": 21,
    "start_time": "2022-04-21T16:56:57.115Z"
   },
   {
    "duration": 5,
    "start_time": "2022-04-21T16:57:23.798Z"
   },
   {
    "duration": 24,
    "start_time": "2022-04-21T16:57:25.548Z"
   },
   {
    "duration": 23,
    "start_time": "2022-04-21T16:58:18.891Z"
   },
   {
    "duration": 25,
    "start_time": "2022-04-21T16:58:26.258Z"
   },
   {
    "duration": 4,
    "start_time": "2022-04-21T16:58:28.667Z"
   },
   {
    "duration": 21,
    "start_time": "2022-04-21T16:58:30.163Z"
   },
   {
    "duration": 21,
    "start_time": "2022-04-21T16:59:35.290Z"
   },
   {
    "duration": 21,
    "start_time": "2022-04-21T17:05:12.265Z"
   },
   {
    "duration": 4,
    "start_time": "2022-04-21T17:05:19.120Z"
   },
   {
    "duration": 26,
    "start_time": "2022-04-21T17:05:20.697Z"
   },
   {
    "duration": 4,
    "start_time": "2022-04-21T17:06:30.180Z"
   },
   {
    "duration": 20,
    "start_time": "2022-04-21T17:06:32.079Z"
   },
   {
    "duration": 5,
    "start_time": "2022-04-21T17:08:02.492Z"
   },
   {
    "duration": 28,
    "start_time": "2022-04-21T17:08:03.661Z"
   },
   {
    "duration": 5,
    "start_time": "2022-04-21T17:09:23.820Z"
   },
   {
    "duration": 26,
    "start_time": "2022-04-21T17:09:25.273Z"
   },
   {
    "duration": 5,
    "start_time": "2022-04-21T17:09:38.502Z"
   },
   {
    "duration": 5,
    "start_time": "2022-04-21T17:09:49.603Z"
   },
   {
    "duration": 24,
    "start_time": "2022-04-21T17:09:50.921Z"
   },
   {
    "duration": 5,
    "start_time": "2022-04-21T17:10:58.852Z"
   },
   {
    "duration": 24,
    "start_time": "2022-04-21T17:11:00.927Z"
   },
   {
    "duration": 4,
    "start_time": "2022-04-21T17:15:27.168Z"
   },
   {
    "duration": 24,
    "start_time": "2022-04-21T17:15:28.097Z"
   },
   {
    "duration": 4,
    "start_time": "2022-04-21T17:15:44.412Z"
   },
   {
    "duration": 25,
    "start_time": "2022-04-21T17:15:47.043Z"
   },
   {
    "duration": 4,
    "start_time": "2022-04-21T17:16:29.280Z"
   },
   {
    "duration": 39,
    "start_time": "2022-04-21T17:16:32.285Z"
   },
   {
    "duration": 5,
    "start_time": "2022-04-21T17:17:05.119Z"
   },
   {
    "duration": 24,
    "start_time": "2022-04-21T17:17:07.168Z"
   },
   {
    "duration": 4,
    "start_time": "2022-04-21T17:17:36.755Z"
   },
   {
    "duration": 22,
    "start_time": "2022-04-21T17:17:38.786Z"
   },
   {
    "duration": 5,
    "start_time": "2022-04-21T17:18:49.190Z"
   },
   {
    "duration": 26,
    "start_time": "2022-04-21T17:18:52.504Z"
   },
   {
    "duration": 6,
    "start_time": "2022-04-21T17:19:10.768Z"
   },
   {
    "duration": 24,
    "start_time": "2022-04-21T17:19:13.306Z"
   },
   {
    "duration": 5,
    "start_time": "2022-04-21T17:20:01.832Z"
   },
   {
    "duration": 25,
    "start_time": "2022-04-21T17:20:03.662Z"
   },
   {
    "duration": 4,
    "start_time": "2022-04-21T17:20:31.073Z"
   },
   {
    "duration": 26,
    "start_time": "2022-04-21T17:20:32.886Z"
   },
   {
    "duration": 75,
    "start_time": "2022-04-22T09:35:37.523Z"
   },
   {
    "duration": 14,
    "start_time": "2022-04-22T09:36:00.996Z"
   },
   {
    "duration": 11,
    "start_time": "2022-04-22T09:36:04.090Z"
   },
   {
    "duration": 546,
    "start_time": "2022-04-22T09:36:35.971Z"
   },
   {
    "duration": 226,
    "start_time": "2022-04-22T09:36:36.520Z"
   },
   {
    "duration": 49,
    "start_time": "2022-04-22T09:36:36.749Z"
   },
   {
    "duration": 42,
    "start_time": "2022-04-22T09:36:36.801Z"
   },
   {
    "duration": 5,
    "start_time": "2022-04-22T09:36:36.845Z"
   },
   {
    "duration": 45,
    "start_time": "2022-04-22T09:36:36.852Z"
   },
   {
    "duration": 8,
    "start_time": "2022-04-22T09:36:36.900Z"
   },
   {
    "duration": 43,
    "start_time": "2022-04-22T09:36:36.911Z"
   },
   {
    "duration": 50,
    "start_time": "2022-04-22T09:36:36.957Z"
   },
   {
    "duration": 34,
    "start_time": "2022-04-22T09:36:37.013Z"
   },
   {
    "duration": 139,
    "start_time": "2022-04-22T09:36:37.049Z"
   },
   {
    "duration": 132,
    "start_time": "2022-04-22T09:36:37.190Z"
   },
   {
    "duration": 102,
    "start_time": "2022-04-22T09:36:37.325Z"
   },
   {
    "duration": 14,
    "start_time": "2022-04-22T09:36:37.429Z"
   },
   {
    "duration": 4,
    "start_time": "2022-04-22T09:36:37.445Z"
   },
   {
    "duration": 46,
    "start_time": "2022-04-22T09:36:37.451Z"
   },
   {
    "duration": 15,
    "start_time": "2022-04-22T09:36:37.500Z"
   },
   {
    "duration": 16,
    "start_time": "2022-04-22T09:36:37.517Z"
   },
   {
    "duration": 15,
    "start_time": "2022-04-22T09:36:37.535Z"
   },
   {
    "duration": 40,
    "start_time": "2022-04-22T09:36:37.551Z"
   },
   {
    "duration": 27,
    "start_time": "2022-04-22T09:36:37.594Z"
   },
   {
    "duration": 18,
    "start_time": "2022-04-22T09:36:37.623Z"
   },
   {
    "duration": 43,
    "start_time": "2022-04-22T09:36:37.643Z"
   },
   {
    "duration": 21,
    "start_time": "2022-04-22T09:36:37.689Z"
   },
   {
    "duration": 21,
    "start_time": "2022-04-22T09:36:37.712Z"
   },
   {
    "duration": 62,
    "start_time": "2022-04-22T09:36:37.735Z"
   },
   {
    "duration": 12,
    "start_time": "2022-04-22T09:36:37.800Z"
   },
   {
    "duration": 15,
    "start_time": "2022-04-22T09:36:37.817Z"
   },
   {
    "duration": 12,
    "start_time": "2022-04-22T09:36:37.835Z"
   },
   {
    "duration": 41,
    "start_time": "2022-04-22T09:36:37.849Z"
   },
   {
    "duration": 18,
    "start_time": "2022-04-22T09:36:50.489Z"
   },
   {
    "duration": 13,
    "start_time": "2022-04-22T09:36:51.919Z"
   },
   {
    "duration": 6,
    "start_time": "2022-04-22T09:36:56.269Z"
   },
   {
    "duration": 58,
    "start_time": "2022-04-22T09:37:01.407Z"
   },
   {
    "duration": 9,
    "start_time": "2022-04-22T09:38:39.582Z"
   },
   {
    "duration": 27,
    "start_time": "2022-04-22T09:38:41.799Z"
   },
   {
    "duration": 6,
    "start_time": "2022-04-22T09:39:30.313Z"
   },
   {
    "duration": 26,
    "start_time": "2022-04-22T09:39:31.747Z"
   },
   {
    "duration": 6,
    "start_time": "2022-04-22T09:40:00.838Z"
   },
   {
    "duration": 28,
    "start_time": "2022-04-22T09:40:03.452Z"
   },
   {
    "duration": 17,
    "start_time": "2022-04-22T09:40:14.952Z"
   },
   {
    "duration": 33,
    "start_time": "2022-04-22T09:40:22.103Z"
   },
   {
    "duration": 21,
    "start_time": "2022-04-22T09:40:27.275Z"
   },
   {
    "duration": 12,
    "start_time": "2022-04-22T09:45:55.918Z"
   },
   {
    "duration": 14,
    "start_time": "2022-04-22T09:46:42.490Z"
   },
   {
    "duration": 15,
    "start_time": "2022-04-22T09:47:05.437Z"
   },
   {
    "duration": 12,
    "start_time": "2022-04-22T09:47:41.267Z"
   },
   {
    "duration": 9,
    "start_time": "2022-04-22T09:48:02.348Z"
   },
   {
    "duration": 12,
    "start_time": "2022-04-22T09:48:30.212Z"
   },
   {
    "duration": 11,
    "start_time": "2022-04-22T09:51:19.645Z"
   },
   {
    "duration": 11,
    "start_time": "2022-04-22T09:51:31.651Z"
   },
   {
    "duration": 11,
    "start_time": "2022-04-22T09:52:10.557Z"
   },
   {
    "duration": 11,
    "start_time": "2022-04-22T09:53:46.617Z"
   },
   {
    "duration": 12,
    "start_time": "2022-04-22T09:54:42.609Z"
   },
   {
    "duration": 13,
    "start_time": "2022-04-22T09:54:58.399Z"
   },
   {
    "duration": 8,
    "start_time": "2022-04-22T09:55:15.644Z"
   },
   {
    "duration": 10,
    "start_time": "2022-04-22T09:56:52.743Z"
   },
   {
    "duration": 7,
    "start_time": "2022-04-22T09:57:02.026Z"
   },
   {
    "duration": 6,
    "start_time": "2022-04-22T09:57:47.516Z"
   },
   {
    "duration": 6,
    "start_time": "2022-04-22T09:57:50.931Z"
   },
   {
    "duration": 15,
    "start_time": "2022-04-22T09:58:52.807Z"
   },
   {
    "duration": 35,
    "start_time": "2022-04-22T09:59:06.945Z"
   },
   {
    "duration": 18,
    "start_time": "2022-04-22T09:59:14.332Z"
   },
   {
    "duration": 19,
    "start_time": "2022-04-22T09:59:34.907Z"
   },
   {
    "duration": 4,
    "start_time": "2022-04-22T10:00:15.365Z"
   },
   {
    "duration": 11,
    "start_time": "2022-04-22T10:00:29.748Z"
   },
   {
    "duration": 11,
    "start_time": "2022-04-22T10:00:47.046Z"
   },
   {
    "duration": 12,
    "start_time": "2022-04-22T10:01:14.280Z"
   },
   {
    "duration": 13,
    "start_time": "2022-04-22T10:03:35.425Z"
   },
   {
    "duration": 11,
    "start_time": "2022-04-22T10:04:58.315Z"
   },
   {
    "duration": 11,
    "start_time": "2022-04-22T10:11:55.999Z"
   },
   {
    "duration": 10,
    "start_time": "2022-04-22T10:12:05.617Z"
   },
   {
    "duration": 12,
    "start_time": "2022-04-22T10:14:23.005Z"
   },
   {
    "duration": 11,
    "start_time": "2022-04-22T10:16:51.111Z"
   },
   {
    "duration": 10,
    "start_time": "2022-04-22T10:16:58.823Z"
   },
   {
    "duration": 79,
    "start_time": "2022-04-22T12:13:59.533Z"
   },
   {
    "duration": 674,
    "start_time": "2022-04-22T12:14:11.978Z"
   },
   {
    "duration": 283,
    "start_time": "2022-04-22T12:14:12.658Z"
   },
   {
    "duration": 34,
    "start_time": "2022-04-22T12:14:12.944Z"
   },
   {
    "duration": 50,
    "start_time": "2022-04-22T12:14:12.981Z"
   },
   {
    "duration": 34,
    "start_time": "2022-04-22T12:14:13.033Z"
   },
   {
    "duration": 34,
    "start_time": "2022-04-22T12:14:13.070Z"
   },
   {
    "duration": 34,
    "start_time": "2022-04-22T12:14:13.107Z"
   },
   {
    "duration": 58,
    "start_time": "2022-04-22T12:14:13.144Z"
   },
   {
    "duration": 48,
    "start_time": "2022-04-22T12:14:13.205Z"
   },
   {
    "duration": 50,
    "start_time": "2022-04-22T12:14:13.257Z"
   },
   {
    "duration": 121,
    "start_time": "2022-04-22T12:14:13.309Z"
   },
   {
    "duration": 127,
    "start_time": "2022-04-22T12:14:13.433Z"
   },
   {
    "duration": 105,
    "start_time": "2022-04-22T12:14:13.562Z"
   },
   {
    "duration": 14,
    "start_time": "2022-04-22T12:14:13.670Z"
   },
   {
    "duration": 44,
    "start_time": "2022-04-22T12:14:13.686Z"
   },
   {
    "duration": 61,
    "start_time": "2022-04-22T12:14:13.732Z"
   },
   {
    "duration": 25,
    "start_time": "2022-04-22T12:14:13.795Z"
   },
   {
    "duration": 20,
    "start_time": "2022-04-22T12:14:13.822Z"
   },
   {
    "duration": 46,
    "start_time": "2022-04-22T12:14:13.844Z"
   },
   {
    "duration": 46,
    "start_time": "2022-04-22T12:14:13.893Z"
   },
   {
    "duration": 69,
    "start_time": "2022-04-22T12:14:13.941Z"
   },
   {
    "duration": 45,
    "start_time": "2022-04-22T12:14:14.013Z"
   },
   {
    "duration": 49,
    "start_time": "2022-04-22T12:14:14.061Z"
   },
   {
    "duration": 47,
    "start_time": "2022-04-22T12:14:14.113Z"
   },
   {
    "duration": 59,
    "start_time": "2022-04-22T12:14:14.163Z"
   },
   {
    "duration": 47,
    "start_time": "2022-04-22T12:14:14.225Z"
   },
   {
    "duration": 28,
    "start_time": "2022-04-22T12:14:14.274Z"
   },
   {
    "duration": 28,
    "start_time": "2022-04-22T12:14:14.308Z"
   },
   {
    "duration": 44,
    "start_time": "2022-04-22T12:14:14.338Z"
   },
   {
    "duration": 24,
    "start_time": "2022-04-22T12:14:14.384Z"
   },
   {
    "duration": 75,
    "start_time": "2022-04-22T12:14:14.410Z"
   },
   {
    "duration": 32,
    "start_time": "2022-04-22T12:14:14.487Z"
   },
   {
    "duration": 38,
    "start_time": "2022-04-22T12:14:14.521Z"
   },
   {
    "duration": 29,
    "start_time": "2022-04-22T12:14:14.562Z"
   },
   {
    "duration": 24,
    "start_time": "2022-04-22T12:14:14.594Z"
   },
   {
    "duration": 436,
    "start_time": "2022-04-22T12:14:14.620Z"
   },
   {
    "duration": 0,
    "start_time": "2022-04-22T12:14:15.058Z"
   },
   {
    "duration": 0,
    "start_time": "2022-04-22T12:14:15.062Z"
   },
   {
    "duration": 12,
    "start_time": "2022-04-22T12:14:22.094Z"
   },
   {
    "duration": 11,
    "start_time": "2022-04-22T12:16:35.837Z"
   },
   {
    "duration": 11,
    "start_time": "2022-04-22T12:16:56.133Z"
   },
   {
    "duration": 6,
    "start_time": "2022-04-22T12:20:31.807Z"
   },
   {
    "duration": 8,
    "start_time": "2022-04-22T12:20:35.197Z"
   },
   {
    "duration": 3,
    "start_time": "2022-04-22T12:20:51.266Z"
   },
   {
    "duration": 338,
    "start_time": "2022-04-22T12:20:51.273Z"
   },
   {
    "duration": 23,
    "start_time": "2022-04-22T12:20:51.614Z"
   },
   {
    "duration": 78,
    "start_time": "2022-04-22T12:20:51.640Z"
   },
   {
    "duration": 30,
    "start_time": "2022-04-22T12:20:51.721Z"
   },
   {
    "duration": 15,
    "start_time": "2022-04-22T12:20:51.754Z"
   },
   {
    "duration": 11,
    "start_time": "2022-04-22T12:20:51.772Z"
   },
   {
    "duration": 75,
    "start_time": "2022-04-22T12:20:51.786Z"
   },
   {
    "duration": 28,
    "start_time": "2022-04-22T12:20:51.863Z"
   },
   {
    "duration": 36,
    "start_time": "2022-04-22T12:20:51.893Z"
   },
   {
    "duration": 131,
    "start_time": "2022-04-22T12:20:51.934Z"
   },
   {
    "duration": 128,
    "start_time": "2022-04-22T12:20:52.068Z"
   },
   {
    "duration": 152,
    "start_time": "2022-04-22T12:20:52.199Z"
   },
   {
    "duration": 17,
    "start_time": "2022-04-22T12:20:52.358Z"
   },
   {
    "duration": 4,
    "start_time": "2022-04-22T12:20:52.378Z"
   },
   {
    "duration": 31,
    "start_time": "2022-04-22T12:20:52.384Z"
   },
   {
    "duration": 49,
    "start_time": "2022-04-22T12:20:52.418Z"
   },
   {
    "duration": 21,
    "start_time": "2022-04-22T12:20:52.469Z"
   },
   {
    "duration": 19,
    "start_time": "2022-04-22T12:20:52.494Z"
   },
   {
    "duration": 6,
    "start_time": "2022-04-22T12:20:52.516Z"
   },
   {
    "duration": 27,
    "start_time": "2022-04-22T12:20:52.563Z"
   },
   {
    "duration": 22,
    "start_time": "2022-04-22T12:20:52.592Z"
   },
   {
    "duration": 51,
    "start_time": "2022-04-22T12:20:52.617Z"
   },
   {
    "duration": 23,
    "start_time": "2022-04-22T12:20:52.670Z"
   },
   {
    "duration": 28,
    "start_time": "2022-04-22T12:20:52.695Z"
   },
   {
    "duration": 55,
    "start_time": "2022-04-22T12:20:52.726Z"
   },
   {
    "duration": 14,
    "start_time": "2022-04-22T12:20:52.784Z"
   },
   {
    "duration": 18,
    "start_time": "2022-04-22T12:20:52.801Z"
   },
   {
    "duration": 18,
    "start_time": "2022-04-22T12:20:52.858Z"
   },
   {
    "duration": 7,
    "start_time": "2022-04-22T12:20:52.879Z"
   },
   {
    "duration": 34,
    "start_time": "2022-04-22T12:20:52.890Z"
   },
   {
    "duration": 51,
    "start_time": "2022-04-22T12:20:52.927Z"
   },
   {
    "duration": 26,
    "start_time": "2022-04-22T12:20:52.980Z"
   },
   {
    "duration": 54,
    "start_time": "2022-04-22T12:20:53.009Z"
   },
   {
    "duration": 23,
    "start_time": "2022-04-22T12:20:53.069Z"
   },
   {
    "duration": 11,
    "start_time": "2022-04-22T12:20:53.095Z"
   },
   {
    "duration": 0,
    "start_time": "2022-04-22T12:20:53.109Z"
   },
   {
    "duration": 0,
    "start_time": "2022-04-22T12:20:53.111Z"
   },
   {
    "duration": 6,
    "start_time": "2022-04-22T12:22:59.400Z"
   },
   {
    "duration": 4,
    "start_time": "2022-04-22T12:23:16.571Z"
   },
   {
    "duration": 237,
    "start_time": "2022-04-22T12:23:16.577Z"
   },
   {
    "duration": 16,
    "start_time": "2022-04-22T12:23:16.816Z"
   },
   {
    "duration": 66,
    "start_time": "2022-04-22T12:23:16.835Z"
   },
   {
    "duration": 5,
    "start_time": "2022-04-22T12:23:16.904Z"
   },
   {
    "duration": 23,
    "start_time": "2022-04-22T12:23:16.912Z"
   },
   {
    "duration": 28,
    "start_time": "2022-04-22T12:23:16.937Z"
   },
   {
    "duration": 38,
    "start_time": "2022-04-22T12:23:16.970Z"
   },
   {
    "duration": 25,
    "start_time": "2022-04-22T12:23:17.013Z"
   },
   {
    "duration": 41,
    "start_time": "2022-04-22T12:23:17.057Z"
   },
   {
    "duration": 166,
    "start_time": "2022-04-22T12:23:17.101Z"
   },
   {
    "duration": 166,
    "start_time": "2022-04-22T12:23:17.272Z"
   },
   {
    "duration": 138,
    "start_time": "2022-04-22T12:23:17.442Z"
   },
   {
    "duration": 24,
    "start_time": "2022-04-22T12:23:17.583Z"
   },
   {
    "duration": 5,
    "start_time": "2022-04-22T12:23:17.609Z"
   },
   {
    "duration": 45,
    "start_time": "2022-04-22T12:23:17.617Z"
   },
   {
    "duration": 26,
    "start_time": "2022-04-22T12:23:17.666Z"
   },
   {
    "duration": 24,
    "start_time": "2022-04-22T12:23:17.694Z"
   },
   {
    "duration": 42,
    "start_time": "2022-04-22T12:23:17.721Z"
   },
   {
    "duration": 26,
    "start_time": "2022-04-22T12:23:17.765Z"
   },
   {
    "duration": 33,
    "start_time": "2022-04-22T12:23:17.793Z"
   },
   {
    "duration": 22,
    "start_time": "2022-04-22T12:23:17.829Z"
   },
   {
    "duration": 30,
    "start_time": "2022-04-22T12:23:17.858Z"
   },
   {
    "duration": 20,
    "start_time": "2022-04-22T12:23:17.893Z"
   },
   {
    "duration": 46,
    "start_time": "2022-04-22T12:23:17.915Z"
   },
   {
    "duration": 21,
    "start_time": "2022-04-22T12:23:17.963Z"
   },
   {
    "duration": 12,
    "start_time": "2022-04-22T12:23:17.986Z"
   },
   {
    "duration": 38,
    "start_time": "2022-04-22T12:23:18.000Z"
   },
   {
    "duration": 24,
    "start_time": "2022-04-22T12:23:18.040Z"
   },
   {
    "duration": 23,
    "start_time": "2022-04-22T12:23:18.067Z"
   },
   {
    "duration": 70,
    "start_time": "2022-04-22T12:23:18.092Z"
   },
   {
    "duration": 18,
    "start_time": "2022-04-22T12:23:18.165Z"
   },
   {
    "duration": 32,
    "start_time": "2022-04-22T12:23:18.185Z"
   },
   {
    "duration": 26,
    "start_time": "2022-04-22T12:23:18.219Z"
   },
   {
    "duration": 15,
    "start_time": "2022-04-22T12:23:18.251Z"
   },
   {
    "duration": 25,
    "start_time": "2022-04-22T12:23:18.271Z"
   },
   {
    "duration": 0,
    "start_time": "2022-04-22T12:23:18.298Z"
   },
   {
    "duration": 0,
    "start_time": "2022-04-22T12:23:18.300Z"
   },
   {
    "duration": 12,
    "start_time": "2022-04-22T12:25:15.191Z"
   },
   {
    "duration": 11,
    "start_time": "2022-04-22T12:25:23.169Z"
   },
   {
    "duration": 5,
    "start_time": "2022-04-22T12:25:28.048Z"
   },
   {
    "duration": 234,
    "start_time": "2022-04-22T12:25:28.059Z"
   },
   {
    "duration": 17,
    "start_time": "2022-04-22T12:25:28.296Z"
   },
   {
    "duration": 67,
    "start_time": "2022-04-22T12:25:28.315Z"
   },
   {
    "duration": 6,
    "start_time": "2022-04-22T12:25:28.385Z"
   },
   {
    "duration": 15,
    "start_time": "2022-04-22T12:25:28.393Z"
   },
   {
    "duration": 6,
    "start_time": "2022-04-22T12:25:28.410Z"
   },
   {
    "duration": 71,
    "start_time": "2022-04-22T12:25:28.418Z"
   },
   {
    "duration": 26,
    "start_time": "2022-04-22T12:25:28.491Z"
   },
   {
    "duration": 65,
    "start_time": "2022-04-22T12:25:28.520Z"
   },
   {
    "duration": 127,
    "start_time": "2022-04-22T12:25:28.588Z"
   },
   {
    "duration": 127,
    "start_time": "2022-04-22T12:25:28.718Z"
   },
   {
    "duration": 105,
    "start_time": "2022-04-22T12:25:28.848Z"
   },
   {
    "duration": 17,
    "start_time": "2022-04-22T12:25:28.955Z"
   },
   {
    "duration": 4,
    "start_time": "2022-04-22T12:25:28.975Z"
   },
   {
    "duration": 15,
    "start_time": "2022-04-22T12:25:28.982Z"
   },
   {
    "duration": 15,
    "start_time": "2022-04-22T12:25:29.000Z"
   },
   {
    "duration": 58,
    "start_time": "2022-04-22T12:25:29.017Z"
   },
   {
    "duration": 19,
    "start_time": "2022-04-22T12:25:29.078Z"
   },
   {
    "duration": 9,
    "start_time": "2022-04-22T12:25:29.100Z"
   },
   {
    "duration": 59,
    "start_time": "2022-04-22T12:25:29.111Z"
   },
   {
    "duration": 26,
    "start_time": "2022-04-22T12:25:29.173Z"
   },
   {
    "duration": 22,
    "start_time": "2022-04-22T12:25:29.202Z"
   },
   {
    "duration": 24,
    "start_time": "2022-04-22T12:25:29.252Z"
   },
   {
    "duration": 23,
    "start_time": "2022-04-22T12:25:29.279Z"
   },
   {
    "duration": 55,
    "start_time": "2022-04-22T12:25:29.304Z"
   },
   {
    "duration": 14,
    "start_time": "2022-04-22T12:25:29.361Z"
   },
   {
    "duration": 32,
    "start_time": "2022-04-22T12:25:29.378Z"
   },
   {
    "duration": 35,
    "start_time": "2022-04-22T12:25:29.417Z"
   },
   {
    "duration": 7,
    "start_time": "2022-04-22T12:25:29.457Z"
   },
   {
    "duration": 41,
    "start_time": "2022-04-22T12:25:29.473Z"
   },
   {
    "duration": 21,
    "start_time": "2022-04-22T12:25:29.518Z"
   },
   {
    "duration": 28,
    "start_time": "2022-04-22T12:25:29.558Z"
   },
   {
    "duration": 18,
    "start_time": "2022-04-22T12:25:29.589Z"
   },
   {
    "duration": 41,
    "start_time": "2022-04-22T12:25:29.610Z"
   },
   {
    "duration": 11,
    "start_time": "2022-04-22T12:25:29.658Z"
   },
   {
    "duration": 0,
    "start_time": "2022-04-22T12:25:29.671Z"
   },
   {
    "duration": 0,
    "start_time": "2022-04-22T12:25:29.673Z"
   },
   {
    "duration": 12,
    "start_time": "2022-04-22T12:27:23.251Z"
   },
   {
    "duration": 4,
    "start_time": "2022-04-22T12:27:47.476Z"
   },
   {
    "duration": 237,
    "start_time": "2022-04-22T12:27:47.483Z"
   },
   {
    "duration": 29,
    "start_time": "2022-04-22T12:27:47.723Z"
   },
   {
    "duration": 47,
    "start_time": "2022-04-22T12:27:47.756Z"
   },
   {
    "duration": 6,
    "start_time": "2022-04-22T12:27:47.806Z"
   },
   {
    "duration": 38,
    "start_time": "2022-04-22T12:27:47.814Z"
   },
   {
    "duration": 8,
    "start_time": "2022-04-22T12:27:47.857Z"
   },
   {
    "duration": 43,
    "start_time": "2022-04-22T12:27:47.868Z"
   },
   {
    "duration": 52,
    "start_time": "2022-04-22T12:27:47.914Z"
   },
   {
    "duration": 39,
    "start_time": "2022-04-22T12:27:47.969Z"
   },
   {
    "duration": 131,
    "start_time": "2022-04-22T12:27:48.016Z"
   },
   {
    "duration": 137,
    "start_time": "2022-04-22T12:27:48.153Z"
   },
   {
    "duration": 119,
    "start_time": "2022-04-22T12:27:48.293Z"
   },
   {
    "duration": 18,
    "start_time": "2022-04-22T12:27:48.415Z"
   },
   {
    "duration": 5,
    "start_time": "2022-04-22T12:27:48.452Z"
   },
   {
    "duration": 34,
    "start_time": "2022-04-22T12:27:48.463Z"
   },
   {
    "duration": 16,
    "start_time": "2022-04-22T12:27:48.500Z"
   },
   {
    "duration": 40,
    "start_time": "2022-04-22T12:27:48.518Z"
   },
   {
    "duration": 18,
    "start_time": "2022-04-22T12:27:48.564Z"
   },
   {
    "duration": 5,
    "start_time": "2022-04-22T12:27:48.585Z"
   },
   {
    "duration": 34,
    "start_time": "2022-04-22T12:27:48.592Z"
   },
   {
    "duration": 53,
    "start_time": "2022-04-22T12:27:48.630Z"
   },
   {
    "duration": 28,
    "start_time": "2022-04-22T12:27:48.688Z"
   },
   {
    "duration": 46,
    "start_time": "2022-04-22T12:27:48.719Z"
   },
   {
    "duration": 26,
    "start_time": "2022-04-22T12:27:48.768Z"
   },
   {
    "duration": 56,
    "start_time": "2022-04-22T12:27:48.797Z"
   },
   {
    "duration": 19,
    "start_time": "2022-04-22T12:27:48.858Z"
   },
   {
    "duration": 23,
    "start_time": "2022-04-22T12:27:48.880Z"
   },
   {
    "duration": 18,
    "start_time": "2022-04-22T12:27:48.910Z"
   },
   {
    "duration": 34,
    "start_time": "2022-04-22T12:27:48.930Z"
   },
   {
    "duration": 46,
    "start_time": "2022-04-22T12:27:48.967Z"
   },
   {
    "duration": 18,
    "start_time": "2022-04-22T12:27:49.015Z"
   },
   {
    "duration": 49,
    "start_time": "2022-04-22T12:27:49.035Z"
   },
   {
    "duration": 24,
    "start_time": "2022-04-22T12:27:49.086Z"
   },
   {
    "duration": 56,
    "start_time": "2022-04-22T12:27:49.114Z"
   },
   {
    "duration": 4,
    "start_time": "2022-04-22T12:27:49.172Z"
   },
   {
    "duration": 16,
    "start_time": "2022-04-22T12:27:49.179Z"
   },
   {
    "duration": 7,
    "start_time": "2022-04-22T12:27:49.197Z"
   },
   {
    "duration": 13,
    "start_time": "2022-04-22T12:28:27.685Z"
   },
   {
    "duration": 17,
    "start_time": "2022-04-22T12:31:24.638Z"
   },
   {
    "duration": 15,
    "start_time": "2022-04-22T12:31:26.661Z"
   },
   {
    "duration": 21,
    "start_time": "2022-04-22T12:31:37.015Z"
   },
   {
    "duration": 3,
    "start_time": "2022-04-22T12:33:54.270Z"
   },
   {
    "duration": 215,
    "start_time": "2022-04-22T12:33:54.276Z"
   },
   {
    "duration": 16,
    "start_time": "2022-04-22T12:33:54.493Z"
   },
   {
    "duration": 60,
    "start_time": "2022-04-22T12:33:54.511Z"
   },
   {
    "duration": 5,
    "start_time": "2022-04-22T12:33:54.575Z"
   },
   {
    "duration": 16,
    "start_time": "2022-04-22T12:33:54.582Z"
   },
   {
    "duration": 5,
    "start_time": "2022-04-22T12:33:54.600Z"
   },
   {
    "duration": 72,
    "start_time": "2022-04-22T12:33:54.607Z"
   },
   {
    "duration": 32,
    "start_time": "2022-04-22T12:33:54.681Z"
   },
   {
    "duration": 45,
    "start_time": "2022-04-22T12:33:54.716Z"
   },
   {
    "duration": 120,
    "start_time": "2022-04-22T12:33:54.763Z"
   },
   {
    "duration": 131,
    "start_time": "2022-04-22T12:33:54.886Z"
   },
   {
    "duration": 106,
    "start_time": "2022-04-22T12:33:55.022Z"
   },
   {
    "duration": 24,
    "start_time": "2022-04-22T12:33:55.130Z"
   },
   {
    "duration": 4,
    "start_time": "2022-04-22T12:33:55.156Z"
   },
   {
    "duration": 17,
    "start_time": "2022-04-22T12:33:55.162Z"
   },
   {
    "duration": 14,
    "start_time": "2022-04-22T12:33:55.181Z"
   },
   {
    "duration": 16,
    "start_time": "2022-04-22T12:33:55.198Z"
   },
   {
    "duration": 16,
    "start_time": "2022-04-22T12:33:55.252Z"
   },
   {
    "duration": 6,
    "start_time": "2022-04-22T12:33:55.270Z"
   },
   {
    "duration": 30,
    "start_time": "2022-04-22T12:33:55.279Z"
   },
   {
    "duration": 52,
    "start_time": "2022-04-22T12:33:55.311Z"
   },
   {
    "duration": 22,
    "start_time": "2022-04-22T12:33:55.366Z"
   },
   {
    "duration": 23,
    "start_time": "2022-04-22T12:33:55.391Z"
   },
   {
    "duration": 57,
    "start_time": "2022-04-22T12:33:55.416Z"
   },
   {
    "duration": 23,
    "start_time": "2022-04-22T12:33:55.476Z"
   },
   {
    "duration": 12,
    "start_time": "2022-04-22T12:33:55.502Z"
   },
   {
    "duration": 18,
    "start_time": "2022-04-22T12:33:55.553Z"
   },
   {
    "duration": 20,
    "start_time": "2022-04-22T12:33:55.573Z"
   },
   {
    "duration": 6,
    "start_time": "2022-04-22T12:33:55.596Z"
   },
   {
    "duration": 61,
    "start_time": "2022-04-22T12:33:55.604Z"
   },
   {
    "duration": 17,
    "start_time": "2022-04-22T12:33:55.667Z"
   },
   {
    "duration": 25,
    "start_time": "2022-04-22T12:33:55.687Z"
   },
   {
    "duration": 48,
    "start_time": "2022-04-22T12:33:55.714Z"
   },
   {
    "duration": 7,
    "start_time": "2022-04-22T12:33:55.764Z"
   },
   {
    "duration": 4,
    "start_time": "2022-04-22T12:33:55.773Z"
   },
   {
    "duration": 4,
    "start_time": "2022-04-22T12:33:55.781Z"
   },
   {
    "duration": 7,
    "start_time": "2022-04-22T12:33:55.787Z"
   },
   {
    "duration": 11,
    "start_time": "2022-04-22T12:34:53.021Z"
   },
   {
    "duration": 4,
    "start_time": "2022-04-22T12:34:57.874Z"
   },
   {
    "duration": 224,
    "start_time": "2022-04-22T12:34:57.884Z"
   },
   {
    "duration": 16,
    "start_time": "2022-04-22T12:34:58.111Z"
   },
   {
    "duration": 73,
    "start_time": "2022-04-22T12:34:58.130Z"
   },
   {
    "duration": 23,
    "start_time": "2022-04-22T12:34:58.206Z"
   },
   {
    "duration": 48,
    "start_time": "2022-04-22T12:34:58.232Z"
   },
   {
    "duration": 28,
    "start_time": "2022-04-22T12:34:58.282Z"
   },
   {
    "duration": 63,
    "start_time": "2022-04-22T12:34:58.312Z"
   },
   {
    "duration": 46,
    "start_time": "2022-04-22T12:34:58.377Z"
   },
   {
    "duration": 47,
    "start_time": "2022-04-22T12:34:58.425Z"
   },
   {
    "duration": 117,
    "start_time": "2022-04-22T12:34:58.476Z"
   },
   {
    "duration": 124,
    "start_time": "2022-04-22T12:34:58.595Z"
   },
   {
    "duration": 97,
    "start_time": "2022-04-22T12:34:58.721Z"
   },
   {
    "duration": 15,
    "start_time": "2022-04-22T12:34:58.820Z"
   },
   {
    "duration": 14,
    "start_time": "2022-04-22T12:34:58.852Z"
   },
   {
    "duration": 63,
    "start_time": "2022-04-22T12:34:58.868Z"
   },
   {
    "duration": 55,
    "start_time": "2022-04-22T12:34:58.934Z"
   },
   {
    "duration": 37,
    "start_time": "2022-04-22T12:34:58.991Z"
   },
   {
    "duration": 46,
    "start_time": "2022-04-22T12:34:59.030Z"
   },
   {
    "duration": 32,
    "start_time": "2022-04-22T12:34:59.078Z"
   },
   {
    "duration": 69,
    "start_time": "2022-04-22T12:34:59.112Z"
   },
   {
    "duration": 29,
    "start_time": "2022-04-22T12:34:59.183Z"
   },
   {
    "duration": 58,
    "start_time": "2022-04-22T12:34:59.215Z"
   },
   {
    "duration": 36,
    "start_time": "2022-04-22T12:34:59.275Z"
   },
   {
    "duration": 50,
    "start_time": "2022-04-22T12:34:59.313Z"
   },
   {
    "duration": 47,
    "start_time": "2022-04-22T12:34:59.365Z"
   },
   {
    "duration": 36,
    "start_time": "2022-04-22T12:34:59.414Z"
   },
   {
    "duration": 53,
    "start_time": "2022-04-22T12:34:59.452Z"
   },
   {
    "duration": 40,
    "start_time": "2022-04-22T12:34:59.511Z"
   },
   {
    "duration": 22,
    "start_time": "2022-04-22T12:34:59.553Z"
   },
   {
    "duration": 85,
    "start_time": "2022-04-22T12:34:59.577Z"
   },
   {
    "duration": 41,
    "start_time": "2022-04-22T12:34:59.664Z"
   },
   {
    "duration": 45,
    "start_time": "2022-04-22T12:34:59.707Z"
   },
   {
    "duration": 32,
    "start_time": "2022-04-22T12:34:59.754Z"
   },
   {
    "duration": 24,
    "start_time": "2022-04-22T12:34:59.788Z"
   },
   {
    "duration": 10,
    "start_time": "2022-04-22T12:34:59.815Z"
   },
   {
    "duration": 29,
    "start_time": "2022-04-22T12:34:59.827Z"
   },
   {
    "duration": 24,
    "start_time": "2022-04-22T12:34:59.858Z"
   },
   {
    "duration": 4,
    "start_time": "2022-04-22T12:37:16.508Z"
   },
   {
    "duration": 222,
    "start_time": "2022-04-22T12:37:16.515Z"
   },
   {
    "duration": 17,
    "start_time": "2022-04-22T12:37:16.740Z"
   },
   {
    "duration": 43,
    "start_time": "2022-04-22T12:37:16.760Z"
   },
   {
    "duration": 6,
    "start_time": "2022-04-22T12:37:16.806Z"
   },
   {
    "duration": 46,
    "start_time": "2022-04-22T12:37:16.814Z"
   },
   {
    "duration": 5,
    "start_time": "2022-04-22T12:37:16.862Z"
   },
   {
    "duration": 48,
    "start_time": "2022-04-22T12:37:16.869Z"
   },
   {
    "duration": 52,
    "start_time": "2022-04-22T12:37:16.921Z"
   },
   {
    "duration": 37,
    "start_time": "2022-04-22T12:37:16.976Z"
   },
   {
    "duration": 126,
    "start_time": "2022-04-22T12:37:17.015Z"
   },
   {
    "duration": 126,
    "start_time": "2022-04-22T12:37:17.143Z"
   },
   {
    "duration": 99,
    "start_time": "2022-04-22T12:37:17.271Z"
   },
   {
    "duration": 16,
    "start_time": "2022-04-22T12:37:17.372Z"
   },
   {
    "duration": 4,
    "start_time": "2022-04-22T12:37:17.390Z"
   },
   {
    "duration": 13,
    "start_time": "2022-04-22T12:37:17.396Z"
   },
   {
    "duration": 42,
    "start_time": "2022-04-22T12:37:17.412Z"
   },
   {
    "duration": 20,
    "start_time": "2022-04-22T12:37:17.456Z"
   },
   {
    "duration": 15,
    "start_time": "2022-04-22T12:37:17.478Z"
   },
   {
    "duration": 6,
    "start_time": "2022-04-22T12:37:17.495Z"
   },
   {
    "duration": 58,
    "start_time": "2022-04-22T12:37:17.503Z"
   },
   {
    "duration": 20,
    "start_time": "2022-04-22T12:37:17.563Z"
   },
   {
    "duration": 20,
    "start_time": "2022-04-22T12:37:17.585Z"
   },
   {
    "duration": 49,
    "start_time": "2022-04-22T12:37:17.610Z"
   },
   {
    "duration": 22,
    "start_time": "2022-04-22T12:37:17.661Z"
   },
   {
    "duration": 21,
    "start_time": "2022-04-22T12:37:17.685Z"
   },
   {
    "duration": 46,
    "start_time": "2022-04-22T12:37:17.708Z"
   },
   {
    "duration": 16,
    "start_time": "2022-04-22T12:37:17.756Z"
   },
   {
    "duration": 17,
    "start_time": "2022-04-22T12:37:17.774Z"
   },
   {
    "duration": 6,
    "start_time": "2022-04-22T12:37:17.794Z"
   },
   {
    "duration": 60,
    "start_time": "2022-04-22T12:37:17.802Z"
   },
   {
    "duration": 16,
    "start_time": "2022-04-22T12:37:17.864Z"
   },
   {
    "duration": 27,
    "start_time": "2022-04-22T12:37:17.882Z"
   },
   {
    "duration": 43,
    "start_time": "2022-04-22T12:37:17.911Z"
   },
   {
    "duration": 15,
    "start_time": "2022-04-22T12:37:17.957Z"
   },
   {
    "duration": 6,
    "start_time": "2022-04-22T12:37:17.975Z"
   },
   {
    "duration": 4,
    "start_time": "2022-04-22T12:37:17.984Z"
   },
   {
    "duration": 6,
    "start_time": "2022-04-22T12:37:17.990Z"
   },
   {
    "duration": 4,
    "start_time": "2022-04-22T12:41:14.001Z"
   },
   {
    "duration": 223,
    "start_time": "2022-04-22T12:41:14.008Z"
   },
   {
    "duration": 20,
    "start_time": "2022-04-22T12:41:14.233Z"
   },
   {
    "duration": 47,
    "start_time": "2022-04-22T12:41:14.255Z"
   },
   {
    "duration": 6,
    "start_time": "2022-04-22T12:41:14.306Z"
   },
   {
    "duration": 43,
    "start_time": "2022-04-22T12:41:14.314Z"
   },
   {
    "duration": 6,
    "start_time": "2022-04-22T12:41:14.359Z"
   },
   {
    "duration": 39,
    "start_time": "2022-04-22T12:41:14.367Z"
   },
   {
    "duration": 51,
    "start_time": "2022-04-22T12:41:14.408Z"
   },
   {
    "duration": 38,
    "start_time": "2022-04-22T12:41:14.462Z"
   },
   {
    "duration": 122,
    "start_time": "2022-04-22T12:41:14.502Z"
   },
   {
    "duration": 122,
    "start_time": "2022-04-22T12:41:14.626Z"
   },
   {
    "duration": 101,
    "start_time": "2022-04-22T12:41:14.752Z"
   },
   {
    "duration": 15,
    "start_time": "2022-04-22T12:41:14.855Z"
   },
   {
    "duration": 3,
    "start_time": "2022-04-22T12:41:14.872Z"
   },
   {
    "duration": 16,
    "start_time": "2022-04-22T12:41:14.877Z"
   },
   {
    "duration": 15,
    "start_time": "2022-04-22T12:41:14.895Z"
   },
   {
    "duration": 47,
    "start_time": "2022-04-22T12:41:14.912Z"
   },
   {
    "duration": 16,
    "start_time": "2022-04-22T12:41:14.961Z"
   },
   {
    "duration": 5,
    "start_time": "2022-04-22T12:41:14.979Z"
   },
   {
    "duration": 27,
    "start_time": "2022-04-22T12:41:14.986Z"
   },
   {
    "duration": 56,
    "start_time": "2022-04-22T12:41:15.015Z"
   },
   {
    "duration": 23,
    "start_time": "2022-04-22T12:41:15.073Z"
   },
   {
    "duration": 56,
    "start_time": "2022-04-22T12:41:15.098Z"
   },
   {
    "duration": 23,
    "start_time": "2022-04-22T12:41:15.156Z"
   },
   {
    "duration": 20,
    "start_time": "2022-04-22T12:41:15.181Z"
   },
   {
    "duration": 12,
    "start_time": "2022-04-22T12:41:15.203Z"
   },
   {
    "duration": 49,
    "start_time": "2022-04-22T12:41:15.216Z"
   },
   {
    "duration": 17,
    "start_time": "2022-04-22T12:41:15.267Z"
   },
   {
    "duration": 6,
    "start_time": "2022-04-22T12:41:15.286Z"
   },
   {
    "duration": 33,
    "start_time": "2022-04-22T12:41:15.294Z"
   },
   {
    "duration": 36,
    "start_time": "2022-04-22T12:41:15.329Z"
   },
   {
    "duration": 23,
    "start_time": "2022-04-22T12:41:15.367Z"
   },
   {
    "duration": 15,
    "start_time": "2022-04-22T12:41:15.392Z"
   },
   {
    "duration": 48,
    "start_time": "2022-04-22T12:41:15.409Z"
   },
   {
    "duration": 6,
    "start_time": "2022-04-22T12:41:15.460Z"
   },
   {
    "duration": 10,
    "start_time": "2022-04-22T12:41:15.471Z"
   },
   {
    "duration": 8,
    "start_time": "2022-04-22T12:41:15.483Z"
   },
   {
    "duration": 4,
    "start_time": "2022-04-22T12:54:56.697Z"
   },
   {
    "duration": 233,
    "start_time": "2022-04-22T12:54:56.705Z"
   },
   {
    "duration": 20,
    "start_time": "2022-04-22T12:54:56.940Z"
   },
   {
    "duration": 48,
    "start_time": "2022-04-22T12:54:56.962Z"
   },
   {
    "duration": 6,
    "start_time": "2022-04-22T12:54:57.013Z"
   },
   {
    "duration": 38,
    "start_time": "2022-04-22T12:54:57.021Z"
   },
   {
    "duration": 6,
    "start_time": "2022-04-22T12:54:57.061Z"
   },
   {
    "duration": 40,
    "start_time": "2022-04-22T12:54:57.069Z"
   },
   {
    "duration": 58,
    "start_time": "2022-04-22T12:54:57.114Z"
   },
   {
    "duration": 39,
    "start_time": "2022-04-22T12:54:57.175Z"
   },
   {
    "duration": 130,
    "start_time": "2022-04-22T12:54:57.217Z"
   },
   {
    "duration": 129,
    "start_time": "2022-04-22T12:54:57.351Z"
   },
   {
    "duration": 104,
    "start_time": "2022-04-22T12:54:57.482Z"
   },
   {
    "duration": 35,
    "start_time": "2022-04-22T12:54:57.588Z"
   },
   {
    "duration": 4,
    "start_time": "2022-04-22T12:54:57.625Z"
   },
   {
    "duration": 13,
    "start_time": "2022-04-22T12:54:57.652Z"
   },
   {
    "duration": 15,
    "start_time": "2022-04-22T12:54:57.667Z"
   },
   {
    "duration": 15,
    "start_time": "2022-04-22T12:54:57.684Z"
   },
   {
    "duration": 51,
    "start_time": "2022-04-22T12:54:57.701Z"
   },
   {
    "duration": 6,
    "start_time": "2022-04-22T12:54:57.754Z"
   },
   {
    "duration": 34,
    "start_time": "2022-04-22T12:54:57.762Z"
   },
   {
    "duration": 20,
    "start_time": "2022-04-22T12:54:57.799Z"
   },
   {
    "duration": 46,
    "start_time": "2022-04-22T12:54:57.821Z"
   },
   {
    "duration": 21,
    "start_time": "2022-04-22T12:54:57.871Z"
   },
   {
    "duration": 22,
    "start_time": "2022-04-22T12:54:57.894Z"
   },
   {
    "duration": 49,
    "start_time": "2022-04-22T12:54:57.919Z"
   },
   {
    "duration": 11,
    "start_time": "2022-04-22T12:54:57.970Z"
   },
   {
    "duration": 24,
    "start_time": "2022-04-22T12:54:57.983Z"
   },
   {
    "duration": 43,
    "start_time": "2022-04-22T12:54:58.009Z"
   },
   {
    "duration": 6,
    "start_time": "2022-04-22T12:54:58.054Z"
   },
   {
    "duration": 57,
    "start_time": "2022-04-22T12:54:58.062Z"
   },
   {
    "duration": 20,
    "start_time": "2022-04-22T12:54:58.121Z"
   },
   {
    "duration": 27,
    "start_time": "2022-04-22T12:54:58.144Z"
   },
   {
    "duration": 16,
    "start_time": "2022-04-22T12:54:58.173Z"
   },
   {
    "duration": 27,
    "start_time": "2022-04-22T12:54:58.191Z"
   },
   {
    "duration": 12,
    "start_time": "2022-04-22T12:54:58.220Z"
   },
   {
    "duration": 23,
    "start_time": "2022-04-22T12:54:58.234Z"
   },
   {
    "duration": 23,
    "start_time": "2022-04-22T12:54:58.259Z"
   },
   {
    "duration": 5,
    "start_time": "2022-04-22T12:56:07.318Z"
   },
   {
    "duration": 238,
    "start_time": "2022-04-22T12:56:07.325Z"
   },
   {
    "duration": 17,
    "start_time": "2022-04-22T12:56:07.565Z"
   },
   {
    "duration": 67,
    "start_time": "2022-04-22T12:56:07.586Z"
   },
   {
    "duration": 6,
    "start_time": "2022-04-22T12:56:07.656Z"
   },
   {
    "duration": 15,
    "start_time": "2022-04-22T12:56:07.664Z"
   },
   {
    "duration": 5,
    "start_time": "2022-04-22T12:56:07.681Z"
   },
   {
    "duration": 78,
    "start_time": "2022-04-22T12:56:07.688Z"
   },
   {
    "duration": 29,
    "start_time": "2022-04-22T12:56:07.770Z"
   },
   {
    "duration": 57,
    "start_time": "2022-04-22T12:56:07.801Z"
   },
   {
    "duration": 120,
    "start_time": "2022-04-22T12:56:07.861Z"
   },
   {
    "duration": 130,
    "start_time": "2022-04-22T12:56:07.983Z"
   },
   {
    "duration": 103,
    "start_time": "2022-04-22T12:56:08.117Z"
   },
   {
    "duration": 60,
    "start_time": "2022-04-22T12:56:08.223Z"
   },
   {
    "duration": 11,
    "start_time": "2022-04-22T12:56:08.285Z"
   },
   {
    "duration": 21,
    "start_time": "2022-04-22T12:56:08.298Z"
   },
   {
    "duration": 33,
    "start_time": "2022-04-22T12:56:08.321Z"
   },
   {
    "duration": 16,
    "start_time": "2022-04-22T12:56:08.356Z"
   },
   {
    "duration": 18,
    "start_time": "2022-04-22T12:56:08.375Z"
   },
   {
    "duration": 5,
    "start_time": "2022-04-22T12:56:08.396Z"
   },
   {
    "duration": 66,
    "start_time": "2022-04-22T12:56:08.403Z"
   },
   {
    "duration": 19,
    "start_time": "2022-04-22T12:56:08.471Z"
   },
   {
    "duration": 40,
    "start_time": "2022-04-22T12:56:08.493Z"
   },
   {
    "duration": 24,
    "start_time": "2022-04-22T12:56:08.556Z"
   },
   {
    "duration": 26,
    "start_time": "2022-04-22T12:56:08.583Z"
   },
   {
    "duration": 50,
    "start_time": "2022-04-22T12:56:08.611Z"
   },
   {
    "duration": 12,
    "start_time": "2022-04-22T12:56:08.663Z"
   },
   {
    "duration": 37,
    "start_time": "2022-04-22T12:56:08.677Z"
   },
   {
    "duration": 29,
    "start_time": "2022-04-22T12:56:08.717Z"
   },
   {
    "duration": 18,
    "start_time": "2022-04-22T12:56:08.749Z"
   },
   {
    "duration": 44,
    "start_time": "2022-04-22T12:56:08.770Z"
   },
   {
    "duration": 21,
    "start_time": "2022-04-22T12:56:08.816Z"
   },
   {
    "duration": 44,
    "start_time": "2022-04-22T12:56:08.839Z"
   },
   {
    "duration": 16,
    "start_time": "2022-04-22T12:56:08.886Z"
   },
   {
    "duration": 29,
    "start_time": "2022-04-22T12:56:08.905Z"
   },
   {
    "duration": 18,
    "start_time": "2022-04-22T12:56:08.936Z"
   },
   {
    "duration": 25,
    "start_time": "2022-04-22T12:56:08.957Z"
   },
   {
    "duration": 11,
    "start_time": "2022-04-22T12:56:08.985Z"
   },
   {
    "duration": 45,
    "start_time": "2022-04-23T11:02:57.971Z"
   },
   {
    "duration": 5,
    "start_time": "2022-04-23T11:03:02.100Z"
   },
   {
    "duration": 6,
    "start_time": "2022-04-23T11:03:04.265Z"
   },
   {
    "duration": 5,
    "start_time": "2022-04-23T11:03:08.843Z"
   },
   {
    "duration": 99,
    "start_time": "2022-04-23T11:05:35.011Z"
   },
   {
    "duration": 6,
    "start_time": "2022-04-23T11:06:02.677Z"
   },
   {
    "duration": 390,
    "start_time": "2022-04-23T11:06:07.614Z"
   },
   {
    "duration": 125,
    "start_time": "2022-04-23T11:06:08.006Z"
   },
   {
    "duration": 15,
    "start_time": "2022-04-23T11:06:08.133Z"
   },
   {
    "duration": 25,
    "start_time": "2022-04-23T11:06:08.150Z"
   },
   {
    "duration": 3,
    "start_time": "2022-04-23T11:06:08.177Z"
   },
   {
    "duration": 12,
    "start_time": "2022-04-23T11:06:08.181Z"
   },
   {
    "duration": 5,
    "start_time": "2022-04-23T11:06:08.195Z"
   },
   {
    "duration": 40,
    "start_time": "2022-04-23T11:06:08.201Z"
   },
   {
    "duration": 16,
    "start_time": "2022-04-23T11:06:08.242Z"
   },
   {
    "duration": 20,
    "start_time": "2022-04-23T11:06:08.261Z"
   },
   {
    "duration": 85,
    "start_time": "2022-04-23T11:06:08.283Z"
   },
   {
    "duration": 73,
    "start_time": "2022-04-23T11:06:08.369Z"
   },
   {
    "duration": 51,
    "start_time": "2022-04-23T11:06:08.443Z"
   },
   {
    "duration": 43,
    "start_time": "2022-04-23T11:06:08.495Z"
   },
   {
    "duration": 21,
    "start_time": "2022-04-23T11:06:08.540Z"
   },
   {
    "duration": 24,
    "start_time": "2022-04-23T11:06:08.562Z"
   },
   {
    "duration": 29,
    "start_time": "2022-04-23T11:06:08.587Z"
   },
   {
    "duration": 24,
    "start_time": "2022-04-23T11:06:08.617Z"
   },
   {
    "duration": 21,
    "start_time": "2022-04-23T11:06:08.642Z"
   },
   {
    "duration": 22,
    "start_time": "2022-04-23T11:06:08.664Z"
   },
   {
    "duration": 28,
    "start_time": "2022-04-23T11:06:08.687Z"
   },
   {
    "duration": 20,
    "start_time": "2022-04-23T11:06:08.717Z"
   },
   {
    "duration": 27,
    "start_time": "2022-04-23T11:06:08.739Z"
   },
   {
    "duration": 17,
    "start_time": "2022-04-23T11:06:08.768Z"
   },
   {
    "duration": 18,
    "start_time": "2022-04-23T11:06:08.786Z"
   },
   {
    "duration": 24,
    "start_time": "2022-04-23T11:06:08.806Z"
   },
   {
    "duration": 13,
    "start_time": "2022-04-23T11:06:08.832Z"
   },
   {
    "duration": 15,
    "start_time": "2022-04-23T11:06:08.848Z"
   },
   {
    "duration": 19,
    "start_time": "2022-04-23T11:06:08.865Z"
   },
   {
    "duration": 11,
    "start_time": "2022-04-23T11:06:08.886Z"
   },
   {
    "duration": 38,
    "start_time": "2022-04-23T11:06:08.899Z"
   },
   {
    "duration": 20,
    "start_time": "2022-04-23T11:06:08.938Z"
   },
   {
    "duration": 15,
    "start_time": "2022-04-23T11:06:08.960Z"
   },
   {
    "duration": 13,
    "start_time": "2022-04-23T11:06:08.977Z"
   },
   {
    "duration": 10,
    "start_time": "2022-04-23T11:06:08.991Z"
   },
   {
    "duration": 12,
    "start_time": "2022-04-23T11:06:09.002Z"
   },
   {
    "duration": 26,
    "start_time": "2022-04-23T11:06:09.016Z"
   },
   {
    "duration": 11,
    "start_time": "2022-04-23T11:06:09.043Z"
   },
   {
    "duration": 98,
    "start_time": "2022-04-23T11:09:22.609Z"
   },
   {
    "duration": 3,
    "start_time": "2022-04-23T11:09:44.055Z"
   },
   {
    "duration": 131,
    "start_time": "2022-04-23T11:09:44.062Z"
   },
   {
    "duration": 10,
    "start_time": "2022-04-23T11:09:44.195Z"
   },
   {
    "duration": 39,
    "start_time": "2022-04-23T11:09:44.206Z"
   },
   {
    "duration": 4,
    "start_time": "2022-04-23T11:09:44.247Z"
   },
   {
    "duration": 9,
    "start_time": "2022-04-23T11:09:44.252Z"
   },
   {
    "duration": 3,
    "start_time": "2022-04-23T11:09:44.263Z"
   },
   {
    "duration": 22,
    "start_time": "2022-04-23T11:09:44.267Z"
   },
   {
    "duration": 16,
    "start_time": "2022-04-23T11:09:44.323Z"
   },
   {
    "duration": 19,
    "start_time": "2022-04-23T11:09:44.340Z"
   },
   {
    "duration": 65,
    "start_time": "2022-04-23T11:09:44.362Z"
   },
   {
    "duration": 58,
    "start_time": "2022-04-23T11:09:44.428Z"
   },
   {
    "duration": 65,
    "start_time": "2022-04-23T11:09:44.487Z"
   },
   {
    "duration": 32,
    "start_time": "2022-04-23T11:09:44.553Z"
   },
   {
    "duration": 3,
    "start_time": "2022-04-23T11:09:44.586Z"
   },
   {
    "duration": 10,
    "start_time": "2022-04-23T11:09:44.590Z"
   },
   {
    "duration": 44,
    "start_time": "2022-04-23T11:09:44.601Z"
   },
   {
    "duration": 9,
    "start_time": "2022-04-23T11:09:44.647Z"
   },
   {
    "duration": 10,
    "start_time": "2022-04-23T11:09:44.657Z"
   },
   {
    "duration": 3,
    "start_time": "2022-04-23T11:09:44.668Z"
   },
   {
    "duration": 19,
    "start_time": "2022-04-23T11:09:44.672Z"
   },
   {
    "duration": 37,
    "start_time": "2022-04-23T11:09:44.693Z"
   },
   {
    "duration": 13,
    "start_time": "2022-04-23T11:09:44.731Z"
   },
   {
    "duration": 11,
    "start_time": "2022-04-23T11:09:44.745Z"
   },
   {
    "duration": 14,
    "start_time": "2022-04-23T11:09:44.757Z"
   },
   {
    "duration": 11,
    "start_time": "2022-04-23T11:09:44.772Z"
   },
   {
    "duration": 6,
    "start_time": "2022-04-23T11:09:44.785Z"
   },
   {
    "duration": 35,
    "start_time": "2022-04-23T11:09:44.793Z"
   },
   {
    "duration": 7,
    "start_time": "2022-04-23T11:09:44.831Z"
   },
   {
    "duration": 3,
    "start_time": "2022-04-23T11:09:44.840Z"
   },
   {
    "duration": 19,
    "start_time": "2022-04-23T11:09:44.845Z"
   },
   {
    "duration": 10,
    "start_time": "2022-04-23T11:09:44.866Z"
   },
   {
    "duration": 13,
    "start_time": "2022-04-23T11:09:44.877Z"
   },
   {
    "duration": 40,
    "start_time": "2022-04-23T11:09:44.891Z"
   },
   {
    "duration": 8,
    "start_time": "2022-04-23T11:09:44.933Z"
   },
   {
    "duration": 4,
    "start_time": "2022-04-23T11:09:44.943Z"
   },
   {
    "duration": 7,
    "start_time": "2022-04-23T11:09:44.948Z"
   },
   {
    "duration": 5,
    "start_time": "2022-04-23T11:09:44.957Z"
   }
  ],
  "colab": {
   "collapsed_sections": [
    "E0vqbgi9ay0H",
    "VUC88oWjTJw2"
   ],
   "name": "yandex_music_project.ipynb",
   "provenance": []
  },
  "kernelspec": {
   "display_name": "Python 3 (ipykernel)",
   "language": "python",
   "name": "python3"
  },
  "language_info": {
   "codemirror_mode": {
    "name": "ipython",
    "version": 3
   },
   "file_extension": ".py",
   "mimetype": "text/x-python",
   "name": "python",
   "nbconvert_exporter": "python",
   "pygments_lexer": "ipython3",
   "version": "3.9.13"
  },
  "toc": {
   "base_numbering": 1,
   "nav_menu": {},
   "number_sections": true,
   "sideBar": true,
   "skip_h1_title": true,
   "title_cell": "Table of Contents",
   "title_sidebar": "Contents",
   "toc_cell": false,
   "toc_position": {},
   "toc_section_display": true,
   "toc_window_display": true
  }
 },
 "nbformat": 4,
 "nbformat_minor": 1
}
