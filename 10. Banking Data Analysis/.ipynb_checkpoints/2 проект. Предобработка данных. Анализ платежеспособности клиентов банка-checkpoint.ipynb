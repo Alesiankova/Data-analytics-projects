{
 "cells": [
  {
   "cell_type": "markdown",
   "id": "f1505bd2",
   "metadata": {},
   "source": [
    "# Исследование надежности заемщиков."
   ]
  },
  {
   "cell_type": "markdown",
   "id": "5e1c213d",
   "metadata": {},
   "source": [
    "<div class=\"alert alert-info\"><b>Заказчик</b> — кредитный отдел банка. <b>Суть проекта - </b> разобраться, влияет ли семейное положение и количество детей клиента на факт погашения кредита в срок. <b>Входные данные от банка</b> — статистика о платёжеспособности клиентов.\n",
    "<b>Результаты исследования</b> будут учтены при построении модели кредитного скоринга — специальной системы, которая оценивает способность потенциального заёмщика вернуть кредит банку.</div>"
   ]
  },
  {
   "cell_type": "markdown",
   "id": "a5e36c8d",
   "metadata": {},
   "source": [
    "### Шаг 1. Обзор данных"
   ]
  },
  {
   "cell_type": "markdown",
   "id": "3eb40a5a",
   "metadata": {},
   "source": [
    "<div class=\"alert alert-info\"><b>Общая информация</b> о таблице и обзор первых 5ти строк таблицы</div>"
   ]
  },
  {
   "cell_type": "code",
   "execution_count": 3,
   "id": "ab012f4c",
   "metadata": {},
   "outputs": [
    {
     "name": "stdout",
     "output_type": "stream",
     "text": [
      "Общая информация\n",
      "<class 'pandas.core.frame.DataFrame'>\n",
      "RangeIndex: 21525 entries, 0 to 21524\n",
      "Data columns (total 12 columns):\n",
      " #   Column            Non-Null Count  Dtype  \n",
      "---  ------            --------------  -----  \n",
      " 0   children          21525 non-null  int64  \n",
      " 1   days_employed     19351 non-null  float64\n",
      " 2   dob_years         21525 non-null  int64  \n",
      " 3   education         21525 non-null  object \n",
      " 4   education_id      21525 non-null  int64  \n",
      " 5   family_status     21525 non-null  object \n",
      " 6   family_status_id  21525 non-null  int64  \n",
      " 7   gender            21525 non-null  object \n",
      " 8   income_type       21525 non-null  object \n",
      " 9   debt              21525 non-null  int64  \n",
      " 10  total_income      19351 non-null  float64\n",
      " 11  purpose           21525 non-null  object \n",
      "dtypes: float64(2), int64(5), object(5)\n",
      "memory usage: 2.0+ MB\n",
      "= = = = = = = = = = = = = = = = = = = = = = = = = = = = = = = = = = = = = = = = = = = = = = = = = = = = = = = = = = = = = = = = = \n",
      "Первые 5 строк датафрейма\n"
     ]
    },
    {
     "data": {
      "text/html": [
       "<div>\n",
       "<style scoped>\n",
       "    .dataframe tbody tr th:only-of-type {\n",
       "        vertical-align: middle;\n",
       "    }\n",
       "\n",
       "    .dataframe tbody tr th {\n",
       "        vertical-align: top;\n",
       "    }\n",
       "\n",
       "    .dataframe thead th {\n",
       "        text-align: right;\n",
       "    }\n",
       "</style>\n",
       "<table border=\"1\" class=\"dataframe\">\n",
       "  <thead>\n",
       "    <tr style=\"text-align: right;\">\n",
       "      <th></th>\n",
       "      <th>children</th>\n",
       "      <th>days_employed</th>\n",
       "      <th>dob_years</th>\n",
       "      <th>education</th>\n",
       "      <th>education_id</th>\n",
       "      <th>family_status</th>\n",
       "      <th>family_status_id</th>\n",
       "      <th>gender</th>\n",
       "      <th>income_type</th>\n",
       "      <th>debt</th>\n",
       "      <th>total_income</th>\n",
       "      <th>purpose</th>\n",
       "    </tr>\n",
       "  </thead>\n",
       "  <tbody>\n",
       "    <tr>\n",
       "      <th>0</th>\n",
       "      <td>1</td>\n",
       "      <td>-8437.673028</td>\n",
       "      <td>42</td>\n",
       "      <td>высшее</td>\n",
       "      <td>0</td>\n",
       "      <td>женат / замужем</td>\n",
       "      <td>0</td>\n",
       "      <td>F</td>\n",
       "      <td>сотрудник</td>\n",
       "      <td>0</td>\n",
       "      <td>253875.639453</td>\n",
       "      <td>покупка жилья</td>\n",
       "    </tr>\n",
       "    <tr>\n",
       "      <th>1</th>\n",
       "      <td>1</td>\n",
       "      <td>-4024.803754</td>\n",
       "      <td>36</td>\n",
       "      <td>среднее</td>\n",
       "      <td>1</td>\n",
       "      <td>женат / замужем</td>\n",
       "      <td>0</td>\n",
       "      <td>F</td>\n",
       "      <td>сотрудник</td>\n",
       "      <td>0</td>\n",
       "      <td>112080.014102</td>\n",
       "      <td>приобретение автомобиля</td>\n",
       "    </tr>\n",
       "    <tr>\n",
       "      <th>2</th>\n",
       "      <td>0</td>\n",
       "      <td>-5623.422610</td>\n",
       "      <td>33</td>\n",
       "      <td>Среднее</td>\n",
       "      <td>1</td>\n",
       "      <td>женат / замужем</td>\n",
       "      <td>0</td>\n",
       "      <td>M</td>\n",
       "      <td>сотрудник</td>\n",
       "      <td>0</td>\n",
       "      <td>145885.952297</td>\n",
       "      <td>покупка жилья</td>\n",
       "    </tr>\n",
       "    <tr>\n",
       "      <th>3</th>\n",
       "      <td>3</td>\n",
       "      <td>-4124.747207</td>\n",
       "      <td>32</td>\n",
       "      <td>среднее</td>\n",
       "      <td>1</td>\n",
       "      <td>женат / замужем</td>\n",
       "      <td>0</td>\n",
       "      <td>M</td>\n",
       "      <td>сотрудник</td>\n",
       "      <td>0</td>\n",
       "      <td>267628.550329</td>\n",
       "      <td>дополнительное образование</td>\n",
       "    </tr>\n",
       "    <tr>\n",
       "      <th>4</th>\n",
       "      <td>0</td>\n",
       "      <td>340266.072047</td>\n",
       "      <td>53</td>\n",
       "      <td>среднее</td>\n",
       "      <td>1</td>\n",
       "      <td>гражданский брак</td>\n",
       "      <td>1</td>\n",
       "      <td>F</td>\n",
       "      <td>пенсионер</td>\n",
       "      <td>0</td>\n",
       "      <td>158616.077870</td>\n",
       "      <td>сыграть свадьбу</td>\n",
       "    </tr>\n",
       "  </tbody>\n",
       "</table>\n",
       "</div>"
      ],
      "text/plain": [
       "   children  days_employed  dob_years education  education_id  \\\n",
       "0         1   -8437.673028         42    высшее             0   \n",
       "1         1   -4024.803754         36   среднее             1   \n",
       "2         0   -5623.422610         33   Среднее             1   \n",
       "3         3   -4124.747207         32   среднее             1   \n",
       "4         0  340266.072047         53   среднее             1   \n",
       "\n",
       "      family_status  family_status_id gender income_type  debt   total_income  \\\n",
       "0   женат / замужем                 0      F   сотрудник     0  253875.639453   \n",
       "1   женат / замужем                 0      F   сотрудник     0  112080.014102   \n",
       "2   женат / замужем                 0      M   сотрудник     0  145885.952297   \n",
       "3   женат / замужем                 0      M   сотрудник     0  267628.550329   \n",
       "4  гражданский брак                 1      F   пенсионер     0  158616.077870   \n",
       "\n",
       "                      purpose  \n",
       "0               покупка жилья  \n",
       "1     приобретение автомобиля  \n",
       "2               покупка жилья  \n",
       "3  дополнительное образование  \n",
       "4             сыграть свадьбу  "
      ]
     },
     "metadata": {},
     "output_type": "display_data"
    }
   ],
   "source": [
    "import pandas as pd\n",
    "data = pd.read_csv('data.csv')\n",
    "\n",
    "print('Общая информация')\n",
    "data.info()\n",
    "print(65 * '= ')\n",
    "\n",
    "print('Первые 5 строк датафрейма')\n",
    "display(data.head())"
   ]
  },
  {
   "cell_type": "markdown",
   "id": "bb1e162d",
   "metadata": {},
   "source": [
    "<div class=\"alert alert-info\"> Информация о <b>пропусках и дубликатах </b></div>"
   ]
  },
  {
   "cell_type": "code",
   "execution_count": 4,
   "id": "af175dc0",
   "metadata": {},
   "outputs": [
    {
     "name": "stdout",
     "output_type": "stream",
     "text": [
      "Инофрмация о пропусках\n"
     ]
    },
    {
     "data": {
      "text/plain": [
       "children               0\n",
       "days_employed       2174\n",
       "dob_years              0\n",
       "education              0\n",
       "education_id           0\n",
       "family_status          0\n",
       "family_status_id       0\n",
       "gender                 0\n",
       "income_type            0\n",
       "debt                   0\n",
       "total_income        2174\n",
       "purpose                0\n",
       "dtype: int64"
      ]
     },
     "metadata": {},
     "output_type": "display_data"
    },
    {
     "name": "stdout",
     "output_type": "stream",
     "text": [
      "= = = = = = = = = = = = = = = = = = = = = = = = = = = = = = = = = = = = = = = = = = = = = = = = = = = = = = = = = = = = \n",
      "Полных дубликатов: 54\n",
      "= = = = = = = = = = = = = = = = = = = = = = = = = = = = = = = = = = = = = = = = = = = = = = = = = = = = = = = = = = = = \n"
     ]
    }
   ],
   "source": [
    "print('Инофрмация о пропусках')\n",
    "display(data.isna().sum())\n",
    "print(60 * '= ')\n",
    "\n",
    "print(f'Полных дубликатов: {data.duplicated().sum()}')\n",
    "print(60 * '= ')"
   ]
  },
  {
   "cell_type": "markdown",
   "id": "32bcb03e",
   "metadata": {},
   "source": [
    "<div class=\"alert alert-info\"> Описательная статистика данных <b></b></div>"
   ]
  },
  {
   "cell_type": "code",
   "execution_count": 5,
   "id": "11cd5fdf",
   "metadata": {},
   "outputs": [
    {
     "data": {
      "text/html": [
       "<div>\n",
       "<style scoped>\n",
       "    .dataframe tbody tr th:only-of-type {\n",
       "        vertical-align: middle;\n",
       "    }\n",
       "\n",
       "    .dataframe tbody tr th {\n",
       "        vertical-align: top;\n",
       "    }\n",
       "\n",
       "    .dataframe thead th {\n",
       "        text-align: right;\n",
       "    }\n",
       "</style>\n",
       "<table border=\"1\" class=\"dataframe\">\n",
       "  <thead>\n",
       "    <tr style=\"text-align: right;\">\n",
       "      <th></th>\n",
       "      <th>children</th>\n",
       "      <th>days_employed</th>\n",
       "      <th>dob_years</th>\n",
       "      <th>education</th>\n",
       "      <th>education_id</th>\n",
       "      <th>family_status</th>\n",
       "      <th>family_status_id</th>\n",
       "      <th>gender</th>\n",
       "      <th>income_type</th>\n",
       "      <th>debt</th>\n",
       "      <th>total_income</th>\n",
       "      <th>purpose</th>\n",
       "    </tr>\n",
       "  </thead>\n",
       "  <tbody>\n",
       "    <tr>\n",
       "      <th>count</th>\n",
       "      <td>21525.000000</td>\n",
       "      <td>19351.000000</td>\n",
       "      <td>21525.000000</td>\n",
       "      <td>21525</td>\n",
       "      <td>21525.000000</td>\n",
       "      <td>21525</td>\n",
       "      <td>21525.000000</td>\n",
       "      <td>21525</td>\n",
       "      <td>21525</td>\n",
       "      <td>21525.000000</td>\n",
       "      <td>1.935100e+04</td>\n",
       "      <td>21525</td>\n",
       "    </tr>\n",
       "    <tr>\n",
       "      <th>unique</th>\n",
       "      <td>NaN</td>\n",
       "      <td>NaN</td>\n",
       "      <td>NaN</td>\n",
       "      <td>15</td>\n",
       "      <td>NaN</td>\n",
       "      <td>5</td>\n",
       "      <td>NaN</td>\n",
       "      <td>3</td>\n",
       "      <td>8</td>\n",
       "      <td>NaN</td>\n",
       "      <td>NaN</td>\n",
       "      <td>38</td>\n",
       "    </tr>\n",
       "    <tr>\n",
       "      <th>top</th>\n",
       "      <td>NaN</td>\n",
       "      <td>NaN</td>\n",
       "      <td>NaN</td>\n",
       "      <td>среднее</td>\n",
       "      <td>NaN</td>\n",
       "      <td>женат / замужем</td>\n",
       "      <td>NaN</td>\n",
       "      <td>F</td>\n",
       "      <td>сотрудник</td>\n",
       "      <td>NaN</td>\n",
       "      <td>NaN</td>\n",
       "      <td>свадьба</td>\n",
       "    </tr>\n",
       "    <tr>\n",
       "      <th>freq</th>\n",
       "      <td>NaN</td>\n",
       "      <td>NaN</td>\n",
       "      <td>NaN</td>\n",
       "      <td>13750</td>\n",
       "      <td>NaN</td>\n",
       "      <td>12380</td>\n",
       "      <td>NaN</td>\n",
       "      <td>14236</td>\n",
       "      <td>11119</td>\n",
       "      <td>NaN</td>\n",
       "      <td>NaN</td>\n",
       "      <td>797</td>\n",
       "    </tr>\n",
       "    <tr>\n",
       "      <th>mean</th>\n",
       "      <td>0.538908</td>\n",
       "      <td>63046.497661</td>\n",
       "      <td>43.293380</td>\n",
       "      <td>NaN</td>\n",
       "      <td>0.817236</td>\n",
       "      <td>NaN</td>\n",
       "      <td>0.972544</td>\n",
       "      <td>NaN</td>\n",
       "      <td>NaN</td>\n",
       "      <td>0.080883</td>\n",
       "      <td>1.674223e+05</td>\n",
       "      <td>NaN</td>\n",
       "    </tr>\n",
       "    <tr>\n",
       "      <th>std</th>\n",
       "      <td>1.381587</td>\n",
       "      <td>140827.311974</td>\n",
       "      <td>12.574584</td>\n",
       "      <td>NaN</td>\n",
       "      <td>0.548138</td>\n",
       "      <td>NaN</td>\n",
       "      <td>1.420324</td>\n",
       "      <td>NaN</td>\n",
       "      <td>NaN</td>\n",
       "      <td>0.272661</td>\n",
       "      <td>1.029716e+05</td>\n",
       "      <td>NaN</td>\n",
       "    </tr>\n",
       "    <tr>\n",
       "      <th>min</th>\n",
       "      <td>-1.000000</td>\n",
       "      <td>-18388.949901</td>\n",
       "      <td>0.000000</td>\n",
       "      <td>NaN</td>\n",
       "      <td>0.000000</td>\n",
       "      <td>NaN</td>\n",
       "      <td>0.000000</td>\n",
       "      <td>NaN</td>\n",
       "      <td>NaN</td>\n",
       "      <td>0.000000</td>\n",
       "      <td>2.066726e+04</td>\n",
       "      <td>NaN</td>\n",
       "    </tr>\n",
       "    <tr>\n",
       "      <th>25%</th>\n",
       "      <td>0.000000</td>\n",
       "      <td>-2747.423625</td>\n",
       "      <td>33.000000</td>\n",
       "      <td>NaN</td>\n",
       "      <td>1.000000</td>\n",
       "      <td>NaN</td>\n",
       "      <td>0.000000</td>\n",
       "      <td>NaN</td>\n",
       "      <td>NaN</td>\n",
       "      <td>0.000000</td>\n",
       "      <td>1.030532e+05</td>\n",
       "      <td>NaN</td>\n",
       "    </tr>\n",
       "    <tr>\n",
       "      <th>50%</th>\n",
       "      <td>0.000000</td>\n",
       "      <td>-1203.369529</td>\n",
       "      <td>42.000000</td>\n",
       "      <td>NaN</td>\n",
       "      <td>1.000000</td>\n",
       "      <td>NaN</td>\n",
       "      <td>0.000000</td>\n",
       "      <td>NaN</td>\n",
       "      <td>NaN</td>\n",
       "      <td>0.000000</td>\n",
       "      <td>1.450179e+05</td>\n",
       "      <td>NaN</td>\n",
       "    </tr>\n",
       "    <tr>\n",
       "      <th>75%</th>\n",
       "      <td>1.000000</td>\n",
       "      <td>-291.095954</td>\n",
       "      <td>53.000000</td>\n",
       "      <td>NaN</td>\n",
       "      <td>1.000000</td>\n",
       "      <td>NaN</td>\n",
       "      <td>1.000000</td>\n",
       "      <td>NaN</td>\n",
       "      <td>NaN</td>\n",
       "      <td>0.000000</td>\n",
       "      <td>2.034351e+05</td>\n",
       "      <td>NaN</td>\n",
       "    </tr>\n",
       "    <tr>\n",
       "      <th>max</th>\n",
       "      <td>20.000000</td>\n",
       "      <td>401755.400475</td>\n",
       "      <td>75.000000</td>\n",
       "      <td>NaN</td>\n",
       "      <td>4.000000</td>\n",
       "      <td>NaN</td>\n",
       "      <td>4.000000</td>\n",
       "      <td>NaN</td>\n",
       "      <td>NaN</td>\n",
       "      <td>1.000000</td>\n",
       "      <td>2.265604e+06</td>\n",
       "      <td>NaN</td>\n",
       "    </tr>\n",
       "  </tbody>\n",
       "</table>\n",
       "</div>"
      ],
      "text/plain": [
       "            children  days_employed     dob_years education  education_id  \\\n",
       "count   21525.000000   19351.000000  21525.000000     21525  21525.000000   \n",
       "unique           NaN            NaN           NaN        15           NaN   \n",
       "top              NaN            NaN           NaN   среднее           NaN   \n",
       "freq             NaN            NaN           NaN     13750           NaN   \n",
       "mean        0.538908   63046.497661     43.293380       NaN      0.817236   \n",
       "std         1.381587  140827.311974     12.574584       NaN      0.548138   \n",
       "min        -1.000000  -18388.949901      0.000000       NaN      0.000000   \n",
       "25%         0.000000   -2747.423625     33.000000       NaN      1.000000   \n",
       "50%         0.000000   -1203.369529     42.000000       NaN      1.000000   \n",
       "75%         1.000000    -291.095954     53.000000       NaN      1.000000   \n",
       "max        20.000000  401755.400475     75.000000       NaN      4.000000   \n",
       "\n",
       "          family_status  family_status_id gender income_type          debt  \\\n",
       "count             21525      21525.000000  21525       21525  21525.000000   \n",
       "unique                5               NaN      3           8           NaN   \n",
       "top     женат / замужем               NaN      F   сотрудник           NaN   \n",
       "freq              12380               NaN  14236       11119           NaN   \n",
       "mean                NaN          0.972544    NaN         NaN      0.080883   \n",
       "std                 NaN          1.420324    NaN         NaN      0.272661   \n",
       "min                 NaN          0.000000    NaN         NaN      0.000000   \n",
       "25%                 NaN          0.000000    NaN         NaN      0.000000   \n",
       "50%                 NaN          0.000000    NaN         NaN      0.000000   \n",
       "75%                 NaN          1.000000    NaN         NaN      0.000000   \n",
       "max                 NaN          4.000000    NaN         NaN      1.000000   \n",
       "\n",
       "        total_income  purpose  \n",
       "count   1.935100e+04    21525  \n",
       "unique           NaN       38  \n",
       "top              NaN  свадьба  \n",
       "freq             NaN      797  \n",
       "mean    1.674223e+05      NaN  \n",
       "std     1.029716e+05      NaN  \n",
       "min     2.066726e+04      NaN  \n",
       "25%     1.030532e+05      NaN  \n",
       "50%     1.450179e+05      NaN  \n",
       "75%     2.034351e+05      NaN  \n",
       "max     2.265604e+06      NaN  "
      ]
     },
     "metadata": {},
     "output_type": "display_data"
    }
   ],
   "source": [
    "display(data.describe(include='all'))"
   ]
  },
  {
   "cell_type": "markdown",
   "id": "d26bb82c",
   "metadata": {},
   "source": [
    "### Шаг 2.1 Заполнение пропусков"
   ]
  },
  {
   "cell_type": "markdown",
   "id": "654a8a9e",
   "metadata": {},
   "source": [
    "<div class=\"alert alert-info\"> В столбцах <b>total_income и days_employed</b> были обнаружены значения <b>NaN.</b>\n",
    "    \n",
    "    \n",
    "Значения <b>total_income</b> отсутствуют там где нет информации о <b>days_employed</b></div>"
   ]
  },
  {
   "cell_type": "code",
   "execution_count": 6,
   "id": "784ed003",
   "metadata": {},
   "outputs": [
    {
     "data": {
      "text/html": [
       "<div>\n",
       "<style scoped>\n",
       "    .dataframe tbody tr th:only-of-type {\n",
       "        vertical-align: middle;\n",
       "    }\n",
       "\n",
       "    .dataframe tbody tr th {\n",
       "        vertical-align: top;\n",
       "    }\n",
       "\n",
       "    .dataframe thead th {\n",
       "        text-align: right;\n",
       "    }\n",
       "</style>\n",
       "<table border=\"1\" class=\"dataframe\">\n",
       "  <thead>\n",
       "    <tr style=\"text-align: right;\">\n",
       "      <th></th>\n",
       "      <th>children</th>\n",
       "      <th>days_employed</th>\n",
       "      <th>dob_years</th>\n",
       "      <th>education</th>\n",
       "      <th>education_id</th>\n",
       "      <th>family_status</th>\n",
       "      <th>family_status_id</th>\n",
       "      <th>gender</th>\n",
       "      <th>income_type</th>\n",
       "      <th>debt</th>\n",
       "      <th>total_income</th>\n",
       "      <th>purpose</th>\n",
       "    </tr>\n",
       "  </thead>\n",
       "  <tbody>\n",
       "    <tr>\n",
       "      <th>12</th>\n",
       "      <td>0</td>\n",
       "      <td>NaN</td>\n",
       "      <td>65</td>\n",
       "      <td>среднее</td>\n",
       "      <td>1</td>\n",
       "      <td>гражданский брак</td>\n",
       "      <td>1</td>\n",
       "      <td>M</td>\n",
       "      <td>пенсионер</td>\n",
       "      <td>0</td>\n",
       "      <td>NaN</td>\n",
       "      <td>сыграть свадьбу</td>\n",
       "    </tr>\n",
       "    <tr>\n",
       "      <th>26</th>\n",
       "      <td>0</td>\n",
       "      <td>NaN</td>\n",
       "      <td>41</td>\n",
       "      <td>среднее</td>\n",
       "      <td>1</td>\n",
       "      <td>женат / замужем</td>\n",
       "      <td>0</td>\n",
       "      <td>M</td>\n",
       "      <td>госслужащий</td>\n",
       "      <td>0</td>\n",
       "      <td>NaN</td>\n",
       "      <td>образование</td>\n",
       "    </tr>\n",
       "    <tr>\n",
       "      <th>29</th>\n",
       "      <td>0</td>\n",
       "      <td>NaN</td>\n",
       "      <td>63</td>\n",
       "      <td>среднее</td>\n",
       "      <td>1</td>\n",
       "      <td>Не женат / не замужем</td>\n",
       "      <td>4</td>\n",
       "      <td>F</td>\n",
       "      <td>пенсионер</td>\n",
       "      <td>0</td>\n",
       "      <td>NaN</td>\n",
       "      <td>строительство жилой недвижимости</td>\n",
       "    </tr>\n",
       "    <tr>\n",
       "      <th>41</th>\n",
       "      <td>0</td>\n",
       "      <td>NaN</td>\n",
       "      <td>50</td>\n",
       "      <td>среднее</td>\n",
       "      <td>1</td>\n",
       "      <td>женат / замужем</td>\n",
       "      <td>0</td>\n",
       "      <td>F</td>\n",
       "      <td>госслужащий</td>\n",
       "      <td>0</td>\n",
       "      <td>NaN</td>\n",
       "      <td>сделка с подержанным автомобилем</td>\n",
       "    </tr>\n",
       "    <tr>\n",
       "      <th>55</th>\n",
       "      <td>0</td>\n",
       "      <td>NaN</td>\n",
       "      <td>54</td>\n",
       "      <td>среднее</td>\n",
       "      <td>1</td>\n",
       "      <td>гражданский брак</td>\n",
       "      <td>1</td>\n",
       "      <td>F</td>\n",
       "      <td>пенсионер</td>\n",
       "      <td>1</td>\n",
       "      <td>NaN</td>\n",
       "      <td>сыграть свадьбу</td>\n",
       "    </tr>\n",
       "    <tr>\n",
       "      <th>65</th>\n",
       "      <td>0</td>\n",
       "      <td>NaN</td>\n",
       "      <td>21</td>\n",
       "      <td>среднее</td>\n",
       "      <td>1</td>\n",
       "      <td>Не женат / не замужем</td>\n",
       "      <td>4</td>\n",
       "      <td>M</td>\n",
       "      <td>компаньон</td>\n",
       "      <td>0</td>\n",
       "      <td>NaN</td>\n",
       "      <td>операции с коммерческой недвижимостью</td>\n",
       "    </tr>\n",
       "    <tr>\n",
       "      <th>67</th>\n",
       "      <td>0</td>\n",
       "      <td>NaN</td>\n",
       "      <td>52</td>\n",
       "      <td>высшее</td>\n",
       "      <td>0</td>\n",
       "      <td>женат / замужем</td>\n",
       "      <td>0</td>\n",
       "      <td>F</td>\n",
       "      <td>пенсионер</td>\n",
       "      <td>0</td>\n",
       "      <td>NaN</td>\n",
       "      <td>покупка жилья для семьи</td>\n",
       "    </tr>\n",
       "    <tr>\n",
       "      <th>72</th>\n",
       "      <td>1</td>\n",
       "      <td>NaN</td>\n",
       "      <td>32</td>\n",
       "      <td>высшее</td>\n",
       "      <td>0</td>\n",
       "      <td>женат / замужем</td>\n",
       "      <td>0</td>\n",
       "      <td>M</td>\n",
       "      <td>госслужащий</td>\n",
       "      <td>0</td>\n",
       "      <td>NaN</td>\n",
       "      <td>операции с коммерческой недвижимостью</td>\n",
       "    </tr>\n",
       "    <tr>\n",
       "      <th>82</th>\n",
       "      <td>2</td>\n",
       "      <td>NaN</td>\n",
       "      <td>50</td>\n",
       "      <td>высшее</td>\n",
       "      <td>0</td>\n",
       "      <td>женат / замужем</td>\n",
       "      <td>0</td>\n",
       "      <td>F</td>\n",
       "      <td>сотрудник</td>\n",
       "      <td>0</td>\n",
       "      <td>NaN</td>\n",
       "      <td>жилье</td>\n",
       "    </tr>\n",
       "    <tr>\n",
       "      <th>83</th>\n",
       "      <td>0</td>\n",
       "      <td>NaN</td>\n",
       "      <td>52</td>\n",
       "      <td>среднее</td>\n",
       "      <td>1</td>\n",
       "      <td>женат / замужем</td>\n",
       "      <td>0</td>\n",
       "      <td>M</td>\n",
       "      <td>сотрудник</td>\n",
       "      <td>0</td>\n",
       "      <td>NaN</td>\n",
       "      <td>жилье</td>\n",
       "    </tr>\n",
       "  </tbody>\n",
       "</table>\n",
       "</div>"
      ],
      "text/plain": [
       "    children  days_employed  dob_years education  education_id  \\\n",
       "12         0            NaN         65   среднее             1   \n",
       "26         0            NaN         41   среднее             1   \n",
       "29         0            NaN         63   среднее             1   \n",
       "41         0            NaN         50   среднее             1   \n",
       "55         0            NaN         54   среднее             1   \n",
       "65         0            NaN         21   среднее             1   \n",
       "67         0            NaN         52    высшее             0   \n",
       "72         1            NaN         32    высшее             0   \n",
       "82         2            NaN         50    высшее             0   \n",
       "83         0            NaN         52   среднее             1   \n",
       "\n",
       "            family_status  family_status_id gender  income_type  debt  \\\n",
       "12       гражданский брак                 1      M    пенсионер     0   \n",
       "26        женат / замужем                 0      M  госслужащий     0   \n",
       "29  Не женат / не замужем                 4      F    пенсионер     0   \n",
       "41        женат / замужем                 0      F  госслужащий     0   \n",
       "55       гражданский брак                 1      F    пенсионер     1   \n",
       "65  Не женат / не замужем                 4      M    компаньон     0   \n",
       "67        женат / замужем                 0      F    пенсионер     0   \n",
       "72        женат / замужем                 0      M  госслужащий     0   \n",
       "82        женат / замужем                 0      F    сотрудник     0   \n",
       "83        женат / замужем                 0      M    сотрудник     0   \n",
       "\n",
       "    total_income                                purpose  \n",
       "12           NaN                        сыграть свадьбу  \n",
       "26           NaN                            образование  \n",
       "29           NaN       строительство жилой недвижимости  \n",
       "41           NaN       сделка с подержанным автомобилем  \n",
       "55           NaN                        сыграть свадьбу  \n",
       "65           NaN  операции с коммерческой недвижимостью  \n",
       "67           NaN                покупка жилья для семьи  \n",
       "72           NaN  операции с коммерческой недвижимостью  \n",
       "82           NaN                                  жилье  \n",
       "83           NaN                                  жилье  "
      ]
     },
     "metadata": {},
     "output_type": "display_data"
    }
   ],
   "source": [
    "display(data[data['total_income'].isna()].head(10)) "
   ]
  },
  {
   "cell_type": "markdown",
   "id": "5a9c1abb",
   "metadata": {},
   "source": [
    "<div class=\"alert alert-info\"> Доля пропущенных значений в столбцах <b>total_income и days_employed</b> </div>"
   ]
  },
  {
   "cell_type": "code",
   "execution_count": 7,
   "id": "85c36be2",
   "metadata": {},
   "outputs": [
    {
     "name": "stdout",
     "output_type": "stream",
     "text": [
      "0.10099883855981417\n",
      "0.10099883855981417\n"
     ]
    }
   ],
   "source": [
    "print(data['total_income'].isna().mean())\n",
    "print(data['days_employed'].isna().mean())"
   ]
  },
  {
   "cell_type": "markdown",
   "id": "33586ac6",
   "metadata": {},
   "source": [
    "<div class=\"alert alert-info\"> Заполнить пропуски в столбце <b>total_income</b> медианным значением — лучшее решение, так как в выборке присутствует большой разброс значений. \n",
    "    \n",
    "Ниже это видно по MIN и MAX значениям столбца <b>total_income</b></div>"
   ]
  },
  {
   "cell_type": "code",
   "execution_count": 8,
   "id": "e05d7e96",
   "metadata": {},
   "outputs": [
    {
     "name": "stdout",
     "output_type": "stream",
     "text": [
      "Минимальное значение total_income: 20667\n",
      "Максимальное значение total_income: 2265604\n"
     ]
    }
   ],
   "source": [
    "min_total_income = int(data['total_income'].min())\n",
    "max_total_income = int(data['total_income'].max())\n",
    "\n",
    "print(f'Минимальное значение total_income: {min_total_income}')\n",
    "print(f'Максимальное значение total_income: {max_total_income}')"
   ]
  },
  {
   "cell_type": "markdown",
   "id": "bfe113ea",
   "metadata": {},
   "source": [
    "<div class=\"alert alert-info\"> Заполнение пропущенных значений в столбце <b>total_income медианным значением по столбцу.</b>\n",
    "    \n",
    "Проверим отсутствие пропусков методом <b>isna</b> </div>"
   ]
  },
  {
   "cell_type": "code",
   "execution_count": 9,
   "id": "f26cd10a",
   "metadata": {},
   "outputs": [
    {
     "data": {
      "text/plain": [
       "145017.93753253992"
      ]
     },
     "metadata": {},
     "output_type": "display_data"
    },
    {
     "name": "stdout",
     "output_type": "stream",
     "text": [
      "Инофрмация о пропусках\n"
     ]
    },
    {
     "data": {
      "text/plain": [
       "children               0\n",
       "days_employed       2174\n",
       "dob_years              0\n",
       "education              0\n",
       "education_id           0\n",
       "family_status          0\n",
       "family_status_id       0\n",
       "gender                 0\n",
       "income_type            0\n",
       "debt                   0\n",
       "total_income           0\n",
       "purpose                0\n",
       "dtype: int64"
      ]
     },
     "execution_count": 9,
     "metadata": {},
     "output_type": "execute_result"
    }
   ],
   "source": [
    "median_total_income = data['total_income'].median()\n",
    "display(median_total_income)\n",
    "data['total_income'] = data['total_income'].fillna(median_total_income)\n",
    "\n",
    "print('Инофрмация о пропусках')\n",
    "data.isna().sum()"
   ]
  },
  {
   "cell_type": "markdown",
   "id": "591f3062",
   "metadata": {},
   "source": [
    "### Шаг 2.2. Проверка данных на аномалии и исправления\n"
   ]
  },
  {
   "cell_type": "markdown",
   "id": "97623451",
   "metadata": {},
   "source": [
    " <div class=\"alert alert-info\"> Ищем значения с аномалиями в столбцах <b>\n",
    "   "
   ]
  },
  {
   "cell_type": "code",
   "execution_count": 10,
   "id": "48c4c6e0",
   "metadata": {},
   "outputs": [
    {
     "data": {
      "text/html": [
       "<div>\n",
       "<style scoped>\n",
       "    .dataframe tbody tr th:only-of-type {\n",
       "        vertical-align: middle;\n",
       "    }\n",
       "\n",
       "    .dataframe tbody tr th {\n",
       "        vertical-align: top;\n",
       "    }\n",
       "\n",
       "    .dataframe thead th {\n",
       "        text-align: right;\n",
       "    }\n",
       "</style>\n",
       "<table border=\"1\" class=\"dataframe\">\n",
       "  <thead>\n",
       "    <tr style=\"text-align: right;\">\n",
       "      <th></th>\n",
       "      <th>children</th>\n",
       "      <th>days_employed</th>\n",
       "      <th>dob_years</th>\n",
       "      <th>education</th>\n",
       "      <th>education_id</th>\n",
       "      <th>family_status</th>\n",
       "      <th>family_status_id</th>\n",
       "      <th>gender</th>\n",
       "      <th>income_type</th>\n",
       "      <th>debt</th>\n",
       "      <th>total_income</th>\n",
       "      <th>purpose</th>\n",
       "    </tr>\n",
       "  </thead>\n",
       "  <tbody>\n",
       "    <tr>\n",
       "      <th>count</th>\n",
       "      <td>21525.000000</td>\n",
       "      <td>19351.000000</td>\n",
       "      <td>21525.000000</td>\n",
       "      <td>21525</td>\n",
       "      <td>21525.000000</td>\n",
       "      <td>21525</td>\n",
       "      <td>21525.000000</td>\n",
       "      <td>21525</td>\n",
       "      <td>21525</td>\n",
       "      <td>21525.000000</td>\n",
       "      <td>2.152500e+04</td>\n",
       "      <td>21525</td>\n",
       "    </tr>\n",
       "    <tr>\n",
       "      <th>unique</th>\n",
       "      <td>NaN</td>\n",
       "      <td>NaN</td>\n",
       "      <td>NaN</td>\n",
       "      <td>15</td>\n",
       "      <td>NaN</td>\n",
       "      <td>5</td>\n",
       "      <td>NaN</td>\n",
       "      <td>3</td>\n",
       "      <td>8</td>\n",
       "      <td>NaN</td>\n",
       "      <td>NaN</td>\n",
       "      <td>38</td>\n",
       "    </tr>\n",
       "    <tr>\n",
       "      <th>top</th>\n",
       "      <td>NaN</td>\n",
       "      <td>NaN</td>\n",
       "      <td>NaN</td>\n",
       "      <td>среднее</td>\n",
       "      <td>NaN</td>\n",
       "      <td>женат / замужем</td>\n",
       "      <td>NaN</td>\n",
       "      <td>F</td>\n",
       "      <td>сотрудник</td>\n",
       "      <td>NaN</td>\n",
       "      <td>NaN</td>\n",
       "      <td>свадьба</td>\n",
       "    </tr>\n",
       "    <tr>\n",
       "      <th>freq</th>\n",
       "      <td>NaN</td>\n",
       "      <td>NaN</td>\n",
       "      <td>NaN</td>\n",
       "      <td>13750</td>\n",
       "      <td>NaN</td>\n",
       "      <td>12380</td>\n",
       "      <td>NaN</td>\n",
       "      <td>14236</td>\n",
       "      <td>11119</td>\n",
       "      <td>NaN</td>\n",
       "      <td>NaN</td>\n",
       "      <td>797</td>\n",
       "    </tr>\n",
       "    <tr>\n",
       "      <th>mean</th>\n",
       "      <td>0.538908</td>\n",
       "      <td>63046.497661</td>\n",
       "      <td>43.293380</td>\n",
       "      <td>NaN</td>\n",
       "      <td>0.817236</td>\n",
       "      <td>NaN</td>\n",
       "      <td>0.972544</td>\n",
       "      <td>NaN</td>\n",
       "      <td>NaN</td>\n",
       "      <td>0.080883</td>\n",
       "      <td>1.651595e+05</td>\n",
       "      <td>NaN</td>\n",
       "    </tr>\n",
       "    <tr>\n",
       "      <th>std</th>\n",
       "      <td>1.381587</td>\n",
       "      <td>140827.311974</td>\n",
       "      <td>12.574584</td>\n",
       "      <td>NaN</td>\n",
       "      <td>0.548138</td>\n",
       "      <td>NaN</td>\n",
       "      <td>1.420324</td>\n",
       "      <td>NaN</td>\n",
       "      <td>NaN</td>\n",
       "      <td>0.272661</td>\n",
       "      <td>9.786607e+04</td>\n",
       "      <td>NaN</td>\n",
       "    </tr>\n",
       "    <tr>\n",
       "      <th>min</th>\n",
       "      <td>-1.000000</td>\n",
       "      <td>-18388.949901</td>\n",
       "      <td>0.000000</td>\n",
       "      <td>NaN</td>\n",
       "      <td>0.000000</td>\n",
       "      <td>NaN</td>\n",
       "      <td>0.000000</td>\n",
       "      <td>NaN</td>\n",
       "      <td>NaN</td>\n",
       "      <td>0.000000</td>\n",
       "      <td>2.066726e+04</td>\n",
       "      <td>NaN</td>\n",
       "    </tr>\n",
       "    <tr>\n",
       "      <th>25%</th>\n",
       "      <td>0.000000</td>\n",
       "      <td>-2747.423625</td>\n",
       "      <td>33.000000</td>\n",
       "      <td>NaN</td>\n",
       "      <td>1.000000</td>\n",
       "      <td>NaN</td>\n",
       "      <td>0.000000</td>\n",
       "      <td>NaN</td>\n",
       "      <td>NaN</td>\n",
       "      <td>0.000000</td>\n",
       "      <td>1.077982e+05</td>\n",
       "      <td>NaN</td>\n",
       "    </tr>\n",
       "    <tr>\n",
       "      <th>50%</th>\n",
       "      <td>0.000000</td>\n",
       "      <td>-1203.369529</td>\n",
       "      <td>42.000000</td>\n",
       "      <td>NaN</td>\n",
       "      <td>1.000000</td>\n",
       "      <td>NaN</td>\n",
       "      <td>0.000000</td>\n",
       "      <td>NaN</td>\n",
       "      <td>NaN</td>\n",
       "      <td>0.000000</td>\n",
       "      <td>1.450179e+05</td>\n",
       "      <td>NaN</td>\n",
       "    </tr>\n",
       "    <tr>\n",
       "      <th>75%</th>\n",
       "      <td>1.000000</td>\n",
       "      <td>-291.095954</td>\n",
       "      <td>53.000000</td>\n",
       "      <td>NaN</td>\n",
       "      <td>1.000000</td>\n",
       "      <td>NaN</td>\n",
       "      <td>1.000000</td>\n",
       "      <td>NaN</td>\n",
       "      <td>NaN</td>\n",
       "      <td>0.000000</td>\n",
       "      <td>1.955436e+05</td>\n",
       "      <td>NaN</td>\n",
       "    </tr>\n",
       "    <tr>\n",
       "      <th>max</th>\n",
       "      <td>20.000000</td>\n",
       "      <td>401755.400475</td>\n",
       "      <td>75.000000</td>\n",
       "      <td>NaN</td>\n",
       "      <td>4.000000</td>\n",
       "      <td>NaN</td>\n",
       "      <td>4.000000</td>\n",
       "      <td>NaN</td>\n",
       "      <td>NaN</td>\n",
       "      <td>1.000000</td>\n",
       "      <td>2.265604e+06</td>\n",
       "      <td>NaN</td>\n",
       "    </tr>\n",
       "  </tbody>\n",
       "</table>\n",
       "</div>"
      ],
      "text/plain": [
       "            children  days_employed     dob_years education  education_id  \\\n",
       "count   21525.000000   19351.000000  21525.000000     21525  21525.000000   \n",
       "unique           NaN            NaN           NaN        15           NaN   \n",
       "top              NaN            NaN           NaN   среднее           NaN   \n",
       "freq             NaN            NaN           NaN     13750           NaN   \n",
       "mean        0.538908   63046.497661     43.293380       NaN      0.817236   \n",
       "std         1.381587  140827.311974     12.574584       NaN      0.548138   \n",
       "min        -1.000000  -18388.949901      0.000000       NaN      0.000000   \n",
       "25%         0.000000   -2747.423625     33.000000       NaN      1.000000   \n",
       "50%         0.000000   -1203.369529     42.000000       NaN      1.000000   \n",
       "75%         1.000000    -291.095954     53.000000       NaN      1.000000   \n",
       "max        20.000000  401755.400475     75.000000       NaN      4.000000   \n",
       "\n",
       "          family_status  family_status_id gender income_type          debt  \\\n",
       "count             21525      21525.000000  21525       21525  21525.000000   \n",
       "unique                5               NaN      3           8           NaN   \n",
       "top     женат / замужем               NaN      F   сотрудник           NaN   \n",
       "freq              12380               NaN  14236       11119           NaN   \n",
       "mean                NaN          0.972544    NaN         NaN      0.080883   \n",
       "std                 NaN          1.420324    NaN         NaN      0.272661   \n",
       "min                 NaN          0.000000    NaN         NaN      0.000000   \n",
       "25%                 NaN          0.000000    NaN         NaN      0.000000   \n",
       "50%                 NaN          0.000000    NaN         NaN      0.000000   \n",
       "75%                 NaN          1.000000    NaN         NaN      0.000000   \n",
       "max                 NaN          4.000000    NaN         NaN      1.000000   \n",
       "\n",
       "        total_income  purpose  \n",
       "count   2.152500e+04    21525  \n",
       "unique           NaN       38  \n",
       "top              NaN  свадьба  \n",
       "freq             NaN      797  \n",
       "mean    1.651595e+05      NaN  \n",
       "std     9.786607e+04      NaN  \n",
       "min     2.066726e+04      NaN  \n",
       "25%     1.077982e+05      NaN  \n",
       "50%     1.450179e+05      NaN  \n",
       "75%     1.955436e+05      NaN  \n",
       "max     2.265604e+06      NaN  "
      ]
     },
     "metadata": {},
     "output_type": "display_data"
    }
   ],
   "source": [
    "display(data.describe(include='all'))"
   ]
  },
  {
   "cell_type": "markdown",
   "id": "e5b7e317",
   "metadata": {},
   "source": [
    " 🔹<font color='blue'>  <b> Выводы:</b>\n",
    "    \n",
    "    1. Есть некорректные минусовые значения в столбце children\n",
    "    2. Есть некорректные минусовые значения в столбце days_employed\n",
    "    3*. В столбце dob_years есть значение \"0\" - которое встречается у 101 клиента. Это аномалия и ошибка.\n",
    "    4. В столбце debt всё хорошо. Корректные значения от 0 до 1 типа float\n",
    "    5. Со столбцом total_income всё хорошо. Корректные значения типа float\n",
    "    6. В столбце children максимальное значение - 20 детей. Вероятнее всего это ошибка и тут лишний \"0\"\n",
    "    7*. В столбце days_employed есть аномально большие значения (max - 401755 при медиане - 2194)."
   ]
  },
  {
   "cell_type": "markdown",
   "id": "4b681507",
   "metadata": {},
   "source": [
    "<div class=\"alert alert-info\"> Рассмотрим подробнее столбец<b> education_id. </b>\n",
    "    \n",
    "<b> Вывод:</b> Количество ID - соответствует количеству вариантов в столбце <b> education</b> </div>"
   ]
  },
  {
   "cell_type": "code",
   "execution_count": 11,
   "id": "d6aeebbb",
   "metadata": {
    "scrolled": true
   },
   "outputs": [
    {
     "data": {
      "text/plain": [
       "1    15233\n",
       "0     5260\n",
       "2      744\n",
       "3      282\n",
       "4        6\n",
       "Name: education_id, dtype: int64"
      ]
     },
     "execution_count": 11,
     "metadata": {},
     "output_type": "execute_result"
    }
   ],
   "source": [
    "data['education_id'].value_counts()\n"
   ]
  },
  {
   "cell_type": "markdown",
   "id": "e106f746",
   "metadata": {},
   "source": [
    "<div class=\"alert alert-info\"> Рассмотрим подробнее столбец<b> family_status_id. </b>\n",
    "    \n",
    "<b> Вывод:</b> Количество ID - соответствует количеству вариантов в столбце <b>family_status</b> </div>"
   ]
  },
  {
   "cell_type": "code",
   "execution_count": 12,
   "id": "4e1939c7",
   "metadata": {
    "scrolled": true
   },
   "outputs": [
    {
     "data": {
      "text/plain": [
       "0    12380\n",
       "1     4177\n",
       "4     2813\n",
       "3     1195\n",
       "2      960\n",
       "Name: family_status_id, dtype: int64"
      ]
     },
     "execution_count": 12,
     "metadata": {},
     "output_type": "execute_result"
    }
   ],
   "source": [
    "data['family_status_id'].value_counts()"
   ]
  },
  {
   "cell_type": "markdown",
   "id": "71fd71cd",
   "metadata": {},
   "source": [
    "<div class=\"alert alert-info\"> Проверим уникальные значения столбца <b> children</b>. И заменим все значения \"20\" на \"2\"</div>"
   ]
  },
  {
   "cell_type": "code",
   "execution_count": 13,
   "id": "faff4a5c",
   "metadata": {},
   "outputs": [
    {
     "data": {
      "text/plain": [
       " 0     14149\n",
       " 1      4818\n",
       " 2      2055\n",
       " 3       330\n",
       " 20       76\n",
       "-1        47\n",
       " 4        41\n",
       " 5         9\n",
       "Name: children, dtype: int64"
      ]
     },
     "execution_count": 13,
     "metadata": {},
     "output_type": "execute_result"
    }
   ],
   "source": [
    "data['children'].value_counts()"
   ]
  },
  {
   "cell_type": "code",
   "execution_count": 14,
   "id": "141948b5",
   "metadata": {},
   "outputs": [],
   "source": [
    "data['children'] = data['children'].replace(20, 2)"
   ]
  },
  {
   "cell_type": "code",
   "execution_count": 15,
   "id": "f093ad01",
   "metadata": {},
   "outputs": [
    {
     "data": {
      "text/plain": [
       " 0    14149\n",
       " 1     4818\n",
       " 2     2131\n",
       " 3      330\n",
       "-1       47\n",
       " 4       41\n",
       " 5        9\n",
       "Name: children, dtype: int64"
      ]
     },
     "execution_count": 15,
     "metadata": {},
     "output_type": "execute_result"
    }
   ],
   "source": [
    "data['children'].value_counts()"
   ]
  },
  {
   "cell_type": "markdown",
   "id": "b7864e7b",
   "metadata": {},
   "source": [
    "<div class=\"alert alert-info\"> Обработка минусовых значений в столбце <b>days_employed и children </b>. </div>"
   ]
  },
  {
   "cell_type": "code",
   "execution_count": 16,
   "id": "9760e340",
   "metadata": {
    "scrolled": true
   },
   "outputs": [],
   "source": [
    "data['days_employed'] = abs(data['days_employed'])\n",
    "data['children'] = abs(data['children'])"
   ]
  },
  {
   "cell_type": "markdown",
   "id": "65a2d69d",
   "metadata": {},
   "source": [
    "<div class=\"alert alert-info\"> Проверка после обработки некорректных значений в столбцах <b>days_employed и children </b>. </div>"
   ]
  },
  {
   "cell_type": "code",
   "execution_count": 17,
   "id": "421b7271",
   "metadata": {},
   "outputs": [
    {
     "data": {
      "text/html": [
       "<div>\n",
       "<style scoped>\n",
       "    .dataframe tbody tr th:only-of-type {\n",
       "        vertical-align: middle;\n",
       "    }\n",
       "\n",
       "    .dataframe tbody tr th {\n",
       "        vertical-align: top;\n",
       "    }\n",
       "\n",
       "    .dataframe thead th {\n",
       "        text-align: right;\n",
       "    }\n",
       "</style>\n",
       "<table border=\"1\" class=\"dataframe\">\n",
       "  <thead>\n",
       "    <tr style=\"text-align: right;\">\n",
       "      <th></th>\n",
       "      <th>children</th>\n",
       "      <th>days_employed</th>\n",
       "      <th>dob_years</th>\n",
       "      <th>education</th>\n",
       "      <th>education_id</th>\n",
       "      <th>family_status</th>\n",
       "      <th>family_status_id</th>\n",
       "      <th>gender</th>\n",
       "      <th>income_type</th>\n",
       "      <th>debt</th>\n",
       "      <th>total_income</th>\n",
       "      <th>purpose</th>\n",
       "    </tr>\n",
       "  </thead>\n",
       "  <tbody>\n",
       "    <tr>\n",
       "      <th>count</th>\n",
       "      <td>21525.000000</td>\n",
       "      <td>19351.000000</td>\n",
       "      <td>21525.000000</td>\n",
       "      <td>21525</td>\n",
       "      <td>21525.000000</td>\n",
       "      <td>21525</td>\n",
       "      <td>21525.000000</td>\n",
       "      <td>21525</td>\n",
       "      <td>21525</td>\n",
       "      <td>21525.000000</td>\n",
       "      <td>2.152500e+04</td>\n",
       "      <td>21525</td>\n",
       "    </tr>\n",
       "    <tr>\n",
       "      <th>unique</th>\n",
       "      <td>NaN</td>\n",
       "      <td>NaN</td>\n",
       "      <td>NaN</td>\n",
       "      <td>15</td>\n",
       "      <td>NaN</td>\n",
       "      <td>5</td>\n",
       "      <td>NaN</td>\n",
       "      <td>3</td>\n",
       "      <td>8</td>\n",
       "      <td>NaN</td>\n",
       "      <td>NaN</td>\n",
       "      <td>38</td>\n",
       "    </tr>\n",
       "    <tr>\n",
       "      <th>top</th>\n",
       "      <td>NaN</td>\n",
       "      <td>NaN</td>\n",
       "      <td>NaN</td>\n",
       "      <td>среднее</td>\n",
       "      <td>NaN</td>\n",
       "      <td>женат / замужем</td>\n",
       "      <td>NaN</td>\n",
       "      <td>F</td>\n",
       "      <td>сотрудник</td>\n",
       "      <td>NaN</td>\n",
       "      <td>NaN</td>\n",
       "      <td>свадьба</td>\n",
       "    </tr>\n",
       "    <tr>\n",
       "      <th>freq</th>\n",
       "      <td>NaN</td>\n",
       "      <td>NaN</td>\n",
       "      <td>NaN</td>\n",
       "      <td>13750</td>\n",
       "      <td>NaN</td>\n",
       "      <td>12380</td>\n",
       "      <td>NaN</td>\n",
       "      <td>14236</td>\n",
       "      <td>11119</td>\n",
       "      <td>NaN</td>\n",
       "      <td>NaN</td>\n",
       "      <td>797</td>\n",
       "    </tr>\n",
       "    <tr>\n",
       "      <th>mean</th>\n",
       "      <td>0.479721</td>\n",
       "      <td>66914.728907</td>\n",
       "      <td>43.293380</td>\n",
       "      <td>NaN</td>\n",
       "      <td>0.817236</td>\n",
       "      <td>NaN</td>\n",
       "      <td>0.972544</td>\n",
       "      <td>NaN</td>\n",
       "      <td>NaN</td>\n",
       "      <td>0.080883</td>\n",
       "      <td>1.651595e+05</td>\n",
       "      <td>NaN</td>\n",
       "    </tr>\n",
       "    <tr>\n",
       "      <th>std</th>\n",
       "      <td>0.755528</td>\n",
       "      <td>139030.880527</td>\n",
       "      <td>12.574584</td>\n",
       "      <td>NaN</td>\n",
       "      <td>0.548138</td>\n",
       "      <td>NaN</td>\n",
       "      <td>1.420324</td>\n",
       "      <td>NaN</td>\n",
       "      <td>NaN</td>\n",
       "      <td>0.272661</td>\n",
       "      <td>9.786607e+04</td>\n",
       "      <td>NaN</td>\n",
       "    </tr>\n",
       "    <tr>\n",
       "      <th>min</th>\n",
       "      <td>0.000000</td>\n",
       "      <td>24.141633</td>\n",
       "      <td>0.000000</td>\n",
       "      <td>NaN</td>\n",
       "      <td>0.000000</td>\n",
       "      <td>NaN</td>\n",
       "      <td>0.000000</td>\n",
       "      <td>NaN</td>\n",
       "      <td>NaN</td>\n",
       "      <td>0.000000</td>\n",
       "      <td>2.066726e+04</td>\n",
       "      <td>NaN</td>\n",
       "    </tr>\n",
       "    <tr>\n",
       "      <th>25%</th>\n",
       "      <td>0.000000</td>\n",
       "      <td>927.009265</td>\n",
       "      <td>33.000000</td>\n",
       "      <td>NaN</td>\n",
       "      <td>1.000000</td>\n",
       "      <td>NaN</td>\n",
       "      <td>0.000000</td>\n",
       "      <td>NaN</td>\n",
       "      <td>NaN</td>\n",
       "      <td>0.000000</td>\n",
       "      <td>1.077982e+05</td>\n",
       "      <td>NaN</td>\n",
       "    </tr>\n",
       "    <tr>\n",
       "      <th>50%</th>\n",
       "      <td>0.000000</td>\n",
       "      <td>2194.220567</td>\n",
       "      <td>42.000000</td>\n",
       "      <td>NaN</td>\n",
       "      <td>1.000000</td>\n",
       "      <td>NaN</td>\n",
       "      <td>0.000000</td>\n",
       "      <td>NaN</td>\n",
       "      <td>NaN</td>\n",
       "      <td>0.000000</td>\n",
       "      <td>1.450179e+05</td>\n",
       "      <td>NaN</td>\n",
       "    </tr>\n",
       "    <tr>\n",
       "      <th>75%</th>\n",
       "      <td>1.000000</td>\n",
       "      <td>5537.882441</td>\n",
       "      <td>53.000000</td>\n",
       "      <td>NaN</td>\n",
       "      <td>1.000000</td>\n",
       "      <td>NaN</td>\n",
       "      <td>1.000000</td>\n",
       "      <td>NaN</td>\n",
       "      <td>NaN</td>\n",
       "      <td>0.000000</td>\n",
       "      <td>1.955436e+05</td>\n",
       "      <td>NaN</td>\n",
       "    </tr>\n",
       "    <tr>\n",
       "      <th>max</th>\n",
       "      <td>5.000000</td>\n",
       "      <td>401755.400475</td>\n",
       "      <td>75.000000</td>\n",
       "      <td>NaN</td>\n",
       "      <td>4.000000</td>\n",
       "      <td>NaN</td>\n",
       "      <td>4.000000</td>\n",
       "      <td>NaN</td>\n",
       "      <td>NaN</td>\n",
       "      <td>1.000000</td>\n",
       "      <td>2.265604e+06</td>\n",
       "      <td>NaN</td>\n",
       "    </tr>\n",
       "  </tbody>\n",
       "</table>\n",
       "</div>"
      ],
      "text/plain": [
       "            children  days_employed     dob_years education  education_id  \\\n",
       "count   21525.000000   19351.000000  21525.000000     21525  21525.000000   \n",
       "unique           NaN            NaN           NaN        15           NaN   \n",
       "top              NaN            NaN           NaN   среднее           NaN   \n",
       "freq             NaN            NaN           NaN     13750           NaN   \n",
       "mean        0.479721   66914.728907     43.293380       NaN      0.817236   \n",
       "std         0.755528  139030.880527     12.574584       NaN      0.548138   \n",
       "min         0.000000      24.141633      0.000000       NaN      0.000000   \n",
       "25%         0.000000     927.009265     33.000000       NaN      1.000000   \n",
       "50%         0.000000    2194.220567     42.000000       NaN      1.000000   \n",
       "75%         1.000000    5537.882441     53.000000       NaN      1.000000   \n",
       "max         5.000000  401755.400475     75.000000       NaN      4.000000   \n",
       "\n",
       "          family_status  family_status_id gender income_type          debt  \\\n",
       "count             21525      21525.000000  21525       21525  21525.000000   \n",
       "unique                5               NaN      3           8           NaN   \n",
       "top     женат / замужем               NaN      F   сотрудник           NaN   \n",
       "freq              12380               NaN  14236       11119           NaN   \n",
       "mean                NaN          0.972544    NaN         NaN      0.080883   \n",
       "std                 NaN          1.420324    NaN         NaN      0.272661   \n",
       "min                 NaN          0.000000    NaN         NaN      0.000000   \n",
       "25%                 NaN          0.000000    NaN         NaN      0.000000   \n",
       "50%                 NaN          0.000000    NaN         NaN      0.000000   \n",
       "75%                 NaN          1.000000    NaN         NaN      0.000000   \n",
       "max                 NaN          4.000000    NaN         NaN      1.000000   \n",
       "\n",
       "        total_income  purpose  \n",
       "count   2.152500e+04    21525  \n",
       "unique           NaN       38  \n",
       "top              NaN  свадьба  \n",
       "freq             NaN      797  \n",
       "mean    1.651595e+05      NaN  \n",
       "std     9.786607e+04      NaN  \n",
       "min     2.066726e+04      NaN  \n",
       "25%     1.077982e+05      NaN  \n",
       "50%     1.450179e+05      NaN  \n",
       "75%     1.955436e+05      NaN  \n",
       "max     2.265604e+06      NaN  "
      ]
     },
     "metadata": {},
     "output_type": "display_data"
    }
   ],
   "source": [
    "display(data.describe(include='all'))"
   ]
  },
  {
   "cell_type": "markdown",
   "id": "0042d7bd",
   "metadata": {},
   "source": [
    "<div class=\"alert alert-info\"> Заполнение пропущенных значений в столбце <b>days_employed</b> медианным значением по столбцу.\n",
    "    \n",
    " </div>"
   ]
  },
  {
   "cell_type": "code",
   "execution_count": 18,
   "id": "5272e300",
   "metadata": {},
   "outputs": [],
   "source": [
    "median_days_employed = data['days_employed'].median()\n",
    "data['days_employed'] = data['days_employed'].fillna(median_days_employed)"
   ]
  },
  {
   "cell_type": "markdown",
   "id": "9fa14430",
   "metadata": {},
   "source": [
    "<div class=\"alert alert-info\"> \n",
    "    \n",
    "Проверим отсутствие пропусков методом <b>isna</b> </div>"
   ]
  },
  {
   "cell_type": "code",
   "execution_count": 19,
   "id": "5bd9146d",
   "metadata": {},
   "outputs": [
    {
     "name": "stdout",
     "output_type": "stream",
     "text": [
      "Инофрмация о пропусках\n"
     ]
    },
    {
     "data": {
      "text/plain": [
       "children            0\n",
       "days_employed       0\n",
       "dob_years           0\n",
       "education           0\n",
       "education_id        0\n",
       "family_status       0\n",
       "family_status_id    0\n",
       "gender              0\n",
       "income_type         0\n",
       "debt                0\n",
       "total_income        0\n",
       "purpose             0\n",
       "dtype: int64"
      ]
     },
     "execution_count": 19,
     "metadata": {},
     "output_type": "execute_result"
    }
   ],
   "source": [
    "print('Инофрмация о пропусках')\n",
    "data.isna().sum()"
   ]
  },
  {
   "cell_type": "markdown",
   "id": "9e1f9494",
   "metadata": {},
   "source": [
    "<div class=\"alert alert-info\"> В столбце <b>dob_years</b> есть значение \"0\" - которое встречается у 101 клиента. Это аномалия и ошибка. Можно было бы заменить медианными значениями по столбцу или медианными значениями по столбцу учитывая группы  \"income_type\". Добавила в \"Выводы\" выше  </div>"
   ]
  },
  {
   "cell_type": "code",
   "execution_count": 20,
   "id": "67897a27",
   "metadata": {},
   "outputs": [
    {
     "data": {
      "text/plain": [
       "35    617\n",
       "40    609\n",
       "41    607\n",
       "34    603\n",
       "38    598\n",
       "42    597\n",
       "33    581\n",
       "39    573\n",
       "31    560\n",
       "36    555\n",
       "44    547\n",
       "29    545\n",
       "30    540\n",
       "48    538\n",
       "37    537\n",
       "50    514\n",
       "43    513\n",
       "32    510\n",
       "49    508\n",
       "28    503\n",
       "45    497\n",
       "27    493\n",
       "56    487\n",
       "52    484\n",
       "47    480\n",
       "54    479\n",
       "46    475\n",
       "58    461\n",
       "57    460\n",
       "53    459\n",
       "51    448\n",
       "59    444\n",
       "55    443\n",
       "26    408\n",
       "60    377\n",
       "25    357\n",
       "61    355\n",
       "62    352\n",
       "63    269\n",
       "64    265\n",
       "24    264\n",
       "23    254\n",
       "65    194\n",
       "66    183\n",
       "22    183\n",
       "67    167\n",
       "21    111\n",
       "0     101\n",
       "68     99\n",
       "69     85\n",
       "70     65\n",
       "71     58\n",
       "20     51\n",
       "72     33\n",
       "19     14\n",
       "73      8\n",
       "74      6\n",
       "75      1\n",
       "Name: dob_years, dtype: int64"
      ]
     },
     "execution_count": 20,
     "metadata": {},
     "output_type": "execute_result"
    }
   ],
   "source": [
    "data['dob_years'].value_counts()"
   ]
  },
  {
   "cell_type": "markdown",
   "id": "1e857e1e",
   "metadata": {},
   "source": [
    "### Шаг 2.3. Изменение типов данных."
   ]
  },
  {
   "cell_type": "markdown",
   "id": "4c9689ae",
   "metadata": {},
   "source": [
    "<div class=\"alert alert-info\"> Замена типа данных с float на int в столбце <b>total_income</b> </div>"
   ]
  },
  {
   "cell_type": "code",
   "execution_count": 21,
   "id": "35bb9511",
   "metadata": {},
   "outputs": [
    {
     "name": "stdout",
     "output_type": "stream",
     "text": [
      "<class 'pandas.core.frame.DataFrame'>\n",
      "RangeIndex: 21525 entries, 0 to 21524\n",
      "Data columns (total 12 columns):\n",
      " #   Column            Non-Null Count  Dtype  \n",
      "---  ------            --------------  -----  \n",
      " 0   children          21525 non-null  int64  \n",
      " 1   days_employed     21525 non-null  float64\n",
      " 2   dob_years         21525 non-null  int64  \n",
      " 3   education         21525 non-null  object \n",
      " 4   education_id      21525 non-null  int64  \n",
      " 5   family_status     21525 non-null  object \n",
      " 6   family_status_id  21525 non-null  int64  \n",
      " 7   gender            21525 non-null  object \n",
      " 8   income_type       21525 non-null  object \n",
      " 9   debt              21525 non-null  int64  \n",
      " 10  total_income      21525 non-null  int32  \n",
      " 11  purpose           21525 non-null  object \n",
      "dtypes: float64(1), int32(1), int64(5), object(5)\n",
      "memory usage: 1.9+ MB\n"
     ]
    }
   ],
   "source": [
    "data['total_income'] = data['total_income'].astype('int')\n",
    "data.info()"
   ]
  },
  {
   "cell_type": "markdown",
   "id": "4b594e04",
   "metadata": {},
   "source": [
    "### Шаг 2.4. Удаление дубликатов."
   ]
  },
  {
   "cell_type": "markdown",
   "id": "81b88a08",
   "metadata": {},
   "source": [
    "<div class=\"alert alert-info\"> Поиск неявных дубликатов в столбце <b>education</b> </div>"
   ]
  },
  {
   "cell_type": "code",
   "execution_count": 22,
   "id": "2a4d2e47",
   "metadata": {},
   "outputs": [
    {
     "data": {
      "text/plain": [
       "array(['высшее', 'среднее', 'Среднее', 'СРЕДНЕЕ', 'ВЫСШЕЕ',\n",
       "       'неоконченное высшее', 'начальное', 'Высшее',\n",
       "       'НЕОКОНЧЕННОЕ ВЫСШЕЕ', 'Неоконченное высшее', 'НАЧАЛЬНОЕ',\n",
       "       'Начальное', 'Ученая степень', 'УЧЕНАЯ СТЕПЕНЬ', 'ученая степень'],\n",
       "      dtype=object)"
      ]
     },
     "execution_count": 22,
     "metadata": {},
     "output_type": "execute_result"
    }
   ],
   "source": [
    "data['education'].unique()"
   ]
  },
  {
   "cell_type": "markdown",
   "id": "b9b9930f",
   "metadata": {},
   "source": [
    "<div class=\"alert alert-info\"> Обработка неявных дубликатов в столбце <b>education</b> и проверка на их отсутствие </div>"
   ]
  },
  {
   "cell_type": "code",
   "execution_count": 23,
   "id": "90b4246b",
   "metadata": {},
   "outputs": [
    {
     "data": {
      "text/plain": [
       "array(['высшее', 'среднее', 'неоконченное высшее', 'начальное',\n",
       "       'ученая степень'], dtype=object)"
      ]
     },
     "execution_count": 23,
     "metadata": {},
     "output_type": "execute_result"
    }
   ],
   "source": [
    "data['education'] = data['education'].str.lower()\n",
    "data['education'].unique()"
   ]
  },
  {
   "cell_type": "markdown",
   "id": "7117baca",
   "metadata": {},
   "source": [
    "<div class=\"alert alert-info\"> Поиск неявных дубликатов в столбце <b>family_status</b>. Дубликаты не найдены </div>"
   ]
  },
  {
   "cell_type": "code",
   "execution_count": 24,
   "id": "4494dc61",
   "metadata": {},
   "outputs": [
    {
     "data": {
      "text/plain": [
       "array(['женат / замужем', 'гражданский брак', 'вдовец / вдова',\n",
       "       'в разводе', 'Не женат / не замужем'], dtype=object)"
      ]
     },
     "execution_count": 24,
     "metadata": {},
     "output_type": "execute_result"
    }
   ],
   "source": [
    "data['family_status'].unique()"
   ]
  },
  {
   "cell_type": "markdown",
   "id": "df7e5f1d",
   "metadata": {},
   "source": [
    "<div class=\"alert alert-info\"> Поиск неявных дубликатов в столбце <b>gender</b>. Дубликаты не найдены.  </div>"
   ]
  },
  {
   "cell_type": "code",
   "execution_count": 25,
   "id": "97531a0e",
   "metadata": {},
   "outputs": [
    {
     "data": {
      "text/plain": [
       "F      14236\n",
       "M       7288\n",
       "XNA        1\n",
       "Name: gender, dtype: int64"
      ]
     },
     "execution_count": 25,
     "metadata": {},
     "output_type": "execute_result"
    }
   ],
   "source": [
    "data['gender'].unique()\n",
    "data['gender'].value_counts()\n"
   ]
  },
  {
   "cell_type": "markdown",
   "id": "d03bdb0b",
   "metadata": {},
   "source": [
    "<div class=\"alert alert-block alert-info\">\n",
    "<b>Сделано</b> ☑️ Найдено аномальное значение пола - XNA у 1 клиента. Возможно это не ошибка, а нежелание человека указывать свой пол :)\n",
    "\n",
    "</div>"
   ]
  },
  {
   "cell_type": "markdown",
   "id": "5d1a7e0d",
   "metadata": {},
   "source": [
    "<div class=\"alert alert-info\"> Поиск неявных дубликатов в столбце <b>income_type</b>. Дубликаты не найдены </div>"
   ]
  },
  {
   "cell_type": "code",
   "execution_count": 26,
   "id": "a3709368",
   "metadata": {},
   "outputs": [
    {
     "data": {
      "text/plain": [
       "array(['сотрудник', 'пенсионер', 'компаньон', 'госслужащий',\n",
       "       'безработный', 'предприниматель', 'студент', 'в декрете'],\n",
       "      dtype=object)"
      ]
     },
     "execution_count": 26,
     "metadata": {},
     "output_type": "execute_result"
    }
   ],
   "source": [
    "data['income_type'].unique()"
   ]
  },
  {
   "cell_type": "markdown",
   "id": "97510bfe",
   "metadata": {},
   "source": [
    "<div class=\"alert alert-info\"> Поиск неявных дубликатов в столбце <b>purpose</b>. Дубликаты найдены. В задании 2.7 - будут категоризированы </div>"
   ]
  },
  {
   "cell_type": "code",
   "execution_count": 27,
   "id": "0609325f",
   "metadata": {
    "scrolled": true
   },
   "outputs": [
    {
     "data": {
      "text/plain": [
       "array(['покупка жилья', 'приобретение автомобиля',\n",
       "       'дополнительное образование', 'сыграть свадьбу',\n",
       "       'операции с жильем', 'образование', 'на проведение свадьбы',\n",
       "       'покупка жилья для семьи', 'покупка недвижимости',\n",
       "       'покупка коммерческой недвижимости', 'покупка жилой недвижимости',\n",
       "       'строительство собственной недвижимости', 'недвижимость',\n",
       "       'строительство недвижимости', 'на покупку подержанного автомобиля',\n",
       "       'на покупку своего автомобиля',\n",
       "       'операции с коммерческой недвижимостью',\n",
       "       'строительство жилой недвижимости', 'жилье',\n",
       "       'операции со своей недвижимостью', 'автомобили',\n",
       "       'заняться образованием', 'сделка с подержанным автомобилем',\n",
       "       'получение образования', 'автомобиль', 'свадьба',\n",
       "       'получение дополнительного образования', 'покупка своего жилья',\n",
       "       'операции с недвижимостью', 'получение высшего образования',\n",
       "       'свой автомобиль', 'сделка с автомобилем',\n",
       "       'профильное образование', 'высшее образование',\n",
       "       'покупка жилья для сдачи', 'на покупку автомобиля', 'ремонт жилью',\n",
       "       'заняться высшим образованием'], dtype=object)"
      ]
     },
     "execution_count": 27,
     "metadata": {},
     "output_type": "execute_result"
    }
   ],
   "source": [
    "data['purpose'].unique()"
   ]
  },
  {
   "cell_type": "markdown",
   "id": "2d1e090b",
   "metadata": {},
   "source": [
    "🔹<font color='blue'>  Для поиска дубликатов я выбрала метод <b>unique()</b>, так как на мой взгляд он прекрасно подходит для поиска категорийных неявнях дубликатов. \n",
    "    \n",
    "🔹<font color='blue'>  Для удаления явных дубликатов использовался метод <b>drop_duplicates()</b>. \n",
    "    \n",
    "🔹<font color='blue'>  <b>Причины возникновения явных дубликатов</b> - ошибка или повторный кредит. \n",
    "    \n",
    "🔹<font color='blue'>  <b>Неявных</b> - ошибки в написании одного и того же слова, разный регистр.\n",
    "   "
   ]
  },
  {
   "cell_type": "markdown",
   "id": "b677d54f",
   "metadata": {},
   "source": [
    "<div class=\"alert alert-info\"> Проверка на явные дубликаты. <b> После исправления неявных дубликатов</b> </div>"
   ]
  },
  {
   "cell_type": "code",
   "execution_count": 28,
   "id": "2a744306",
   "metadata": {},
   "outputs": [
    {
     "name": "stdout",
     "output_type": "stream",
     "text": [
      "Полных дубликатов: 71\n",
      "= = = = = = = = = = = = = = = = = = = = = = = = = = = = = = = = = = = = = = = = = = = = = = = = = = = = = = = = = = = = \n"
     ]
    }
   ],
   "source": [
    "print(f'Полных дубликатов: {data.duplicated().sum()}')\n",
    "print(60 * '= ')"
   ]
  },
  {
   "cell_type": "markdown",
   "id": "bb92b070",
   "metadata": {},
   "source": [
    "<div class=\"alert alert-info\"> Удаление явных дубликатов из данных </b> </div>"
   ]
  },
  {
   "cell_type": "code",
   "execution_count": 29,
   "id": "87784d5e",
   "metadata": {},
   "outputs": [],
   "source": [
    "data = data.drop_duplicates().reset_index(drop=True)"
   ]
  },
  {
   "cell_type": "markdown",
   "id": "614912d7",
   "metadata": {},
   "source": [
    "<div class=\"alert alert-info\"> Проверка на отсутствие явных дубликотов </div>"
   ]
  },
  {
   "cell_type": "code",
   "execution_count": 30,
   "id": "308a5487",
   "metadata": {},
   "outputs": [
    {
     "name": "stdout",
     "output_type": "stream",
     "text": [
      "Полных дубликатов: 0\n"
     ]
    }
   ],
   "source": [
    "print(f'Полных дубликатов: {data.duplicated().sum()}')"
   ]
  },
  {
   "cell_type": "markdown",
   "id": "c75d7278",
   "metadata": {},
   "source": [
    "### Шаг 2.5. Формирование дополнительных датафреймов словарей, декомпозиция исходного датафрейма."
   ]
  },
  {
   "cell_type": "markdown",
   "id": "458bb6ec",
   "metadata": {},
   "source": [
    "<div class=\"alert alert-info\">Формирование дополнительного датафрейм словаря для <b>education</b> </div>"
   ]
  },
  {
   "cell_type": "code",
   "execution_count": 31,
   "id": "fd41f476",
   "metadata": {},
   "outputs": [
    {
     "data": {
      "text/html": [
       "<div>\n",
       "<style scoped>\n",
       "    .dataframe tbody tr th:only-of-type {\n",
       "        vertical-align: middle;\n",
       "    }\n",
       "\n",
       "    .dataframe tbody tr th {\n",
       "        vertical-align: top;\n",
       "    }\n",
       "\n",
       "    .dataframe thead th {\n",
       "        text-align: right;\n",
       "    }\n",
       "</style>\n",
       "<table border=\"1\" class=\"dataframe\">\n",
       "  <thead>\n",
       "    <tr style=\"text-align: right;\">\n",
       "      <th></th>\n",
       "      <th>education</th>\n",
       "      <th>education_id</th>\n",
       "    </tr>\n",
       "  </thead>\n",
       "  <tbody>\n",
       "    <tr>\n",
       "      <th>0</th>\n",
       "      <td>высшее</td>\n",
       "      <td>0</td>\n",
       "    </tr>\n",
       "    <tr>\n",
       "      <th>1</th>\n",
       "      <td>среднее</td>\n",
       "      <td>1</td>\n",
       "    </tr>\n",
       "    <tr>\n",
       "      <th>2</th>\n",
       "      <td>неоконченное высшее</td>\n",
       "      <td>2</td>\n",
       "    </tr>\n",
       "    <tr>\n",
       "      <th>3</th>\n",
       "      <td>начальное</td>\n",
       "      <td>3</td>\n",
       "    </tr>\n",
       "    <tr>\n",
       "      <th>4</th>\n",
       "      <td>ученая степень</td>\n",
       "      <td>4</td>\n",
       "    </tr>\n",
       "  </tbody>\n",
       "</table>\n",
       "</div>"
      ],
      "text/plain": [
       "             education  education_id\n",
       "0               высшее             0\n",
       "1              среднее             1\n",
       "2  неоконченное высшее             2\n",
       "3            начальное             3\n",
       "4       ученая степень             4"
      ]
     },
     "metadata": {},
     "output_type": "display_data"
    }
   ],
   "source": [
    "educ_dict = data[['education','education_id']]\n",
    "educ_dict = educ_dict.drop_duplicates().reset_index(drop=True)\n",
    "display(educ_dict)"
   ]
  },
  {
   "cell_type": "markdown",
   "id": "198404e8",
   "metadata": {},
   "source": [
    "<div class=\"alert alert-info\">Формирование дополнительного датафрейм словаря для <b>family_status</b> </div>"
   ]
  },
  {
   "cell_type": "code",
   "execution_count": 32,
   "id": "e7b9a427",
   "metadata": {},
   "outputs": [
    {
     "data": {
      "text/html": [
       "<div>\n",
       "<style scoped>\n",
       "    .dataframe tbody tr th:only-of-type {\n",
       "        vertical-align: middle;\n",
       "    }\n",
       "\n",
       "    .dataframe tbody tr th {\n",
       "        vertical-align: top;\n",
       "    }\n",
       "\n",
       "    .dataframe thead th {\n",
       "        text-align: right;\n",
       "    }\n",
       "</style>\n",
       "<table border=\"1\" class=\"dataframe\">\n",
       "  <thead>\n",
       "    <tr style=\"text-align: right;\">\n",
       "      <th></th>\n",
       "      <th>family_status</th>\n",
       "      <th>family_status_id</th>\n",
       "    </tr>\n",
       "  </thead>\n",
       "  <tbody>\n",
       "    <tr>\n",
       "      <th>0</th>\n",
       "      <td>женат / замужем</td>\n",
       "      <td>0</td>\n",
       "    </tr>\n",
       "    <tr>\n",
       "      <th>1</th>\n",
       "      <td>гражданский брак</td>\n",
       "      <td>1</td>\n",
       "    </tr>\n",
       "    <tr>\n",
       "      <th>2</th>\n",
       "      <td>вдовец / вдова</td>\n",
       "      <td>2</td>\n",
       "    </tr>\n",
       "    <tr>\n",
       "      <th>3</th>\n",
       "      <td>в разводе</td>\n",
       "      <td>3</td>\n",
       "    </tr>\n",
       "    <tr>\n",
       "      <th>4</th>\n",
       "      <td>Не женат / не замужем</td>\n",
       "      <td>4</td>\n",
       "    </tr>\n",
       "  </tbody>\n",
       "</table>\n",
       "</div>"
      ],
      "text/plain": [
       "           family_status  family_status_id\n",
       "0        женат / замужем                 0\n",
       "1       гражданский брак                 1\n",
       "2         вдовец / вдова                 2\n",
       "3              в разводе                 3\n",
       "4  Не женат / не замужем                 4"
      ]
     },
     "metadata": {},
     "output_type": "display_data"
    }
   ],
   "source": [
    "famil_dict = data[['family_status','family_status_id']]\n",
    "famil_dict = famil_dict.drop_duplicates().reset_index(drop=True)\n",
    "display(famil_dict)"
   ]
  },
  {
   "cell_type": "markdown",
   "id": "69829796",
   "metadata": {},
   "source": [
    "<div class=\"alert alert-info\">Удаление столбцов <b>education и family_status</b> из исходного Датафрейма </div>"
   ]
  },
  {
   "cell_type": "code",
   "execution_count": 33,
   "id": "50c63683",
   "metadata": {},
   "outputs": [
    {
     "data": {
      "text/html": [
       "<div>\n",
       "<style scoped>\n",
       "    .dataframe tbody tr th:only-of-type {\n",
       "        vertical-align: middle;\n",
       "    }\n",
       "\n",
       "    .dataframe tbody tr th {\n",
       "        vertical-align: top;\n",
       "    }\n",
       "\n",
       "    .dataframe thead th {\n",
       "        text-align: right;\n",
       "    }\n",
       "</style>\n",
       "<table border=\"1\" class=\"dataframe\">\n",
       "  <thead>\n",
       "    <tr style=\"text-align: right;\">\n",
       "      <th></th>\n",
       "      <th>children</th>\n",
       "      <th>days_employed</th>\n",
       "      <th>dob_years</th>\n",
       "      <th>education_id</th>\n",
       "      <th>family_status_id</th>\n",
       "      <th>gender</th>\n",
       "      <th>income_type</th>\n",
       "      <th>debt</th>\n",
       "      <th>total_income</th>\n",
       "      <th>purpose</th>\n",
       "    </tr>\n",
       "  </thead>\n",
       "  <tbody>\n",
       "    <tr>\n",
       "      <th>0</th>\n",
       "      <td>1</td>\n",
       "      <td>8437.673028</td>\n",
       "      <td>42</td>\n",
       "      <td>0</td>\n",
       "      <td>0</td>\n",
       "      <td>F</td>\n",
       "      <td>сотрудник</td>\n",
       "      <td>0</td>\n",
       "      <td>253875</td>\n",
       "      <td>покупка жилья</td>\n",
       "    </tr>\n",
       "    <tr>\n",
       "      <th>1</th>\n",
       "      <td>1</td>\n",
       "      <td>4024.803754</td>\n",
       "      <td>36</td>\n",
       "      <td>1</td>\n",
       "      <td>0</td>\n",
       "      <td>F</td>\n",
       "      <td>сотрудник</td>\n",
       "      <td>0</td>\n",
       "      <td>112080</td>\n",
       "      <td>приобретение автомобиля</td>\n",
       "    </tr>\n",
       "    <tr>\n",
       "      <th>2</th>\n",
       "      <td>0</td>\n",
       "      <td>5623.422610</td>\n",
       "      <td>33</td>\n",
       "      <td>1</td>\n",
       "      <td>0</td>\n",
       "      <td>M</td>\n",
       "      <td>сотрудник</td>\n",
       "      <td>0</td>\n",
       "      <td>145885</td>\n",
       "      <td>покупка жилья</td>\n",
       "    </tr>\n",
       "    <tr>\n",
       "      <th>3</th>\n",
       "      <td>3</td>\n",
       "      <td>4124.747207</td>\n",
       "      <td>32</td>\n",
       "      <td>1</td>\n",
       "      <td>0</td>\n",
       "      <td>M</td>\n",
       "      <td>сотрудник</td>\n",
       "      <td>0</td>\n",
       "      <td>267628</td>\n",
       "      <td>дополнительное образование</td>\n",
       "    </tr>\n",
       "    <tr>\n",
       "      <th>4</th>\n",
       "      <td>0</td>\n",
       "      <td>340266.072047</td>\n",
       "      <td>53</td>\n",
       "      <td>1</td>\n",
       "      <td>1</td>\n",
       "      <td>F</td>\n",
       "      <td>пенсионер</td>\n",
       "      <td>0</td>\n",
       "      <td>158616</td>\n",
       "      <td>сыграть свадьбу</td>\n",
       "    </tr>\n",
       "  </tbody>\n",
       "</table>\n",
       "</div>"
      ],
      "text/plain": [
       "   children  days_employed  dob_years  education_id  family_status_id gender  \\\n",
       "0         1    8437.673028         42             0                 0      F   \n",
       "1         1    4024.803754         36             1                 0      F   \n",
       "2         0    5623.422610         33             1                 0      M   \n",
       "3         3    4124.747207         32             1                 0      M   \n",
       "4         0  340266.072047         53             1                 1      F   \n",
       "\n",
       "  income_type  debt  total_income                     purpose  \n",
       "0   сотрудник     0        253875               покупка жилья  \n",
       "1   сотрудник     0        112080     приобретение автомобиля  \n",
       "2   сотрудник     0        145885               покупка жилья  \n",
       "3   сотрудник     0        267628  дополнительное образование  \n",
       "4   пенсионер     0        158616             сыграть свадьбу  "
      ]
     },
     "metadata": {},
     "output_type": "display_data"
    }
   ],
   "source": [
    "data = data.drop(columns = ['education', 'family_status'], axis = 1) \n",
    "display(data.head())"
   ]
  },
  {
   "cell_type": "markdown",
   "id": "d1bc5689",
   "metadata": {},
   "source": [
    "### Шаг 2.6. Категоризация дохода."
   ]
  },
  {
   "cell_type": "markdown",
   "id": "c3de6476",
   "metadata": {},
   "source": [
    "<div class=\"alert alert-info\">Создаем функцию <b>income_category</b> которая будет рассчитывать категорию учитывая значения столбца <b>total_income</b> </div>"
   ]
  },
  {
   "cell_type": "code",
   "execution_count": 34,
   "id": "d484145d",
   "metadata": {},
   "outputs": [],
   "source": [
    "def income_category(income):\n",
    "    if income < 30001:\n",
    "        return 'E'\n",
    "    if income < 50001:\n",
    "        return 'D'\n",
    "    if income < 200001:\n",
    "        return 'C'\n",
    "    if income < 1000001:\n",
    "        return 'B'\n",
    "    else:\n",
    "        return 'A'"
   ]
  },
  {
   "cell_type": "markdown",
   "id": "1f22524b",
   "metadata": {},
   "source": [
    "<div class=\"alert alert-info\">Создаем новый столбец <b>total_income_category</b> и заполняем значениями из функции</b> </div>"
   ]
  },
  {
   "cell_type": "code",
   "execution_count": 35,
   "id": "8c48c2a8",
   "metadata": {},
   "outputs": [],
   "source": [
    "data['total_income_category'] = data['total_income'].apply(income_category)"
   ]
  },
  {
   "cell_type": "markdown",
   "id": "c4d0fd7e",
   "metadata": {},
   "source": [
    "<div class=\"alert alert-info\"> Проверяем, как изменилась таблица и все ли категории в нее попали.</div>"
   ]
  },
  {
   "cell_type": "code",
   "execution_count": 36,
   "id": "ea73236e",
   "metadata": {},
   "outputs": [
    {
     "data": {
      "text/html": [
       "<div>\n",
       "<style scoped>\n",
       "    .dataframe tbody tr th:only-of-type {\n",
       "        vertical-align: middle;\n",
       "    }\n",
       "\n",
       "    .dataframe tbody tr th {\n",
       "        vertical-align: top;\n",
       "    }\n",
       "\n",
       "    .dataframe thead th {\n",
       "        text-align: right;\n",
       "    }\n",
       "</style>\n",
       "<table border=\"1\" class=\"dataframe\">\n",
       "  <thead>\n",
       "    <tr style=\"text-align: right;\">\n",
       "      <th></th>\n",
       "      <th>children</th>\n",
       "      <th>days_employed</th>\n",
       "      <th>dob_years</th>\n",
       "      <th>education_id</th>\n",
       "      <th>family_status_id</th>\n",
       "      <th>gender</th>\n",
       "      <th>income_type</th>\n",
       "      <th>debt</th>\n",
       "      <th>total_income</th>\n",
       "      <th>purpose</th>\n",
       "      <th>total_income_category</th>\n",
       "    </tr>\n",
       "  </thead>\n",
       "  <tbody>\n",
       "    <tr>\n",
       "      <th>0</th>\n",
       "      <td>1</td>\n",
       "      <td>8437.673028</td>\n",
       "      <td>42</td>\n",
       "      <td>0</td>\n",
       "      <td>0</td>\n",
       "      <td>F</td>\n",
       "      <td>сотрудник</td>\n",
       "      <td>0</td>\n",
       "      <td>253875</td>\n",
       "      <td>покупка жилья</td>\n",
       "      <td>B</td>\n",
       "    </tr>\n",
       "    <tr>\n",
       "      <th>1</th>\n",
       "      <td>1</td>\n",
       "      <td>4024.803754</td>\n",
       "      <td>36</td>\n",
       "      <td>1</td>\n",
       "      <td>0</td>\n",
       "      <td>F</td>\n",
       "      <td>сотрудник</td>\n",
       "      <td>0</td>\n",
       "      <td>112080</td>\n",
       "      <td>приобретение автомобиля</td>\n",
       "      <td>C</td>\n",
       "    </tr>\n",
       "    <tr>\n",
       "      <th>2</th>\n",
       "      <td>0</td>\n",
       "      <td>5623.422610</td>\n",
       "      <td>33</td>\n",
       "      <td>1</td>\n",
       "      <td>0</td>\n",
       "      <td>M</td>\n",
       "      <td>сотрудник</td>\n",
       "      <td>0</td>\n",
       "      <td>145885</td>\n",
       "      <td>покупка жилья</td>\n",
       "      <td>C</td>\n",
       "    </tr>\n",
       "    <tr>\n",
       "      <th>3</th>\n",
       "      <td>3</td>\n",
       "      <td>4124.747207</td>\n",
       "      <td>32</td>\n",
       "      <td>1</td>\n",
       "      <td>0</td>\n",
       "      <td>M</td>\n",
       "      <td>сотрудник</td>\n",
       "      <td>0</td>\n",
       "      <td>267628</td>\n",
       "      <td>дополнительное образование</td>\n",
       "      <td>B</td>\n",
       "    </tr>\n",
       "    <tr>\n",
       "      <th>4</th>\n",
       "      <td>0</td>\n",
       "      <td>340266.072047</td>\n",
       "      <td>53</td>\n",
       "      <td>1</td>\n",
       "      <td>1</td>\n",
       "      <td>F</td>\n",
       "      <td>пенсионер</td>\n",
       "      <td>0</td>\n",
       "      <td>158616</td>\n",
       "      <td>сыграть свадьбу</td>\n",
       "      <td>C</td>\n",
       "    </tr>\n",
       "  </tbody>\n",
       "</table>\n",
       "</div>"
      ],
      "text/plain": [
       "   children  days_employed  dob_years  education_id  family_status_id gender  \\\n",
       "0         1    8437.673028         42             0                 0      F   \n",
       "1         1    4024.803754         36             1                 0      F   \n",
       "2         0    5623.422610         33             1                 0      M   \n",
       "3         3    4124.747207         32             1                 0      M   \n",
       "4         0  340266.072047         53             1                 1      F   \n",
       "\n",
       "  income_type  debt  total_income                     purpose  \\\n",
       "0   сотрудник     0        253875               покупка жилья   \n",
       "1   сотрудник     0        112080     приобретение автомобиля   \n",
       "2   сотрудник     0        145885               покупка жилья   \n",
       "3   сотрудник     0        267628  дополнительное образование   \n",
       "4   пенсионер     0        158616             сыграть свадьбу   \n",
       "\n",
       "  total_income_category  \n",
       "0                     B  \n",
       "1                     C  \n",
       "2                     C  \n",
       "3                     B  \n",
       "4                     C  "
      ]
     },
     "metadata": {},
     "output_type": "display_data"
    },
    {
     "data": {
      "text/plain": [
       "array(['B', 'C', 'D', 'E', 'A'], dtype=object)"
      ]
     },
     "execution_count": 36,
     "metadata": {},
     "output_type": "execute_result"
    }
   ],
   "source": [
    "display(data.head()) \n",
    "data['total_income_category'].unique()"
   ]
  },
  {
   "cell_type": "markdown",
   "id": "0ec96caa",
   "metadata": {},
   "source": [
    "### Шаг 2.7. Категоризация целей кредита."
   ]
  },
  {
   "cell_type": "markdown",
   "id": "b922de88",
   "metadata": {},
   "source": [
    "<div class=\"alert alert-info\">Создаем функцию <b>name_purpose</b>, которая на основании данных из столбца <b>purpose </b>сформирует новый столбец <b>purpose_category</b>, в который войдут следующие категории:\n",
    "<b>'операции с автомобилем',</b>\n",
    "<b>'операции с недвижимостью',</b>\n",
    "<b>'проведение свадьбы',</b>\n",
    "<b>'получение образования'. </b> </div>"
   ]
  },
  {
   "cell_type": "code",
   "execution_count": 37,
   "id": "936b252e",
   "metadata": {},
   "outputs": [],
   "source": [
    "incorrect_property = ['покупка жилья','операции с жильем','покупка жилья для семьи',\n",
    "       'покупка недвижимости','покупка коммерческой недвижимости', 'покупка жилой недвижимости',\n",
    "       'строительство собственной недвижимости', 'недвижимость',\n",
    "       'строительство недвижимости','операции с коммерческой недвижимостью',\n",
    "       'строительство жилой недвижимости', 'жилье',\n",
    "       'операции со своей недвижимостью','покупка своего жилья',\n",
    "       'операции с недвижимостью', 'покупка жилья для сдачи', 'ремонт жилью']\n",
    "\n",
    "incorrect_car = ['приобретение автомобиля', 'на покупку подержанного автомобиля',\n",
    "                 'на покупку своего автомобиля','автомобили', 'автомобиль', 'свой автомобиль', \n",
    "                 'сделка с автомобилем', 'сделка с подержанным автомобилем', 'на покупку автомобиля' ]\n",
    "\n",
    "incorrect_education = ['дополнительное образование','образование',  'заняться образованием',\n",
    "                       'получение образования',  'получение дополнительного образования', \n",
    "                       'получение высшего образования', 'профильное образование', 'высшее образование', \n",
    "                      'заняться высшим образованием']\n",
    "\n",
    "incorrect_wedding = ['сыграть свадьбу', 'на проведение свадьбы', 'свадьба']\n",
    "\n",
    "\n",
    "def name_purpose(purpose):\n",
    "    try:\n",
    "        if purpose in incorrect_property:\n",
    "            return 'операции с недвижимостью'\n",
    "        if purpose in incorrect_car:\n",
    "            return 'операции с автомобилем'\n",
    "        if purpose in incorrect_education:\n",
    "            return 'получение образования'\n",
    "        if purpose in incorrect_wedding:\n",
    "            return 'проведение свадьбы'\n",
    "    except:\n",
    "        return 'другое'\n",
    "    \n",
    "data['purpose_category'] = data['purpose'].apply(name_purpose)"
   ]
  },
  {
   "cell_type": "markdown",
   "id": "2be3643c",
   "metadata": {},
   "source": [
    "<div class=\"alert alert-info\"> Проверяем, как изменилась таблица и все ли категории в нее попали.</div>"
   ]
  },
  {
   "cell_type": "code",
   "execution_count": 38,
   "id": "3eba5034",
   "metadata": {},
   "outputs": [
    {
     "data": {
      "text/html": [
       "<div>\n",
       "<style scoped>\n",
       "    .dataframe tbody tr th:only-of-type {\n",
       "        vertical-align: middle;\n",
       "    }\n",
       "\n",
       "    .dataframe tbody tr th {\n",
       "        vertical-align: top;\n",
       "    }\n",
       "\n",
       "    .dataframe thead th {\n",
       "        text-align: right;\n",
       "    }\n",
       "</style>\n",
       "<table border=\"1\" class=\"dataframe\">\n",
       "  <thead>\n",
       "    <tr style=\"text-align: right;\">\n",
       "      <th></th>\n",
       "      <th>children</th>\n",
       "      <th>days_employed</th>\n",
       "      <th>dob_years</th>\n",
       "      <th>education_id</th>\n",
       "      <th>family_status_id</th>\n",
       "      <th>gender</th>\n",
       "      <th>income_type</th>\n",
       "      <th>debt</th>\n",
       "      <th>total_income</th>\n",
       "      <th>purpose</th>\n",
       "      <th>total_income_category</th>\n",
       "      <th>purpose_category</th>\n",
       "    </tr>\n",
       "  </thead>\n",
       "  <tbody>\n",
       "    <tr>\n",
       "      <th>0</th>\n",
       "      <td>1</td>\n",
       "      <td>8437.673028</td>\n",
       "      <td>42</td>\n",
       "      <td>0</td>\n",
       "      <td>0</td>\n",
       "      <td>F</td>\n",
       "      <td>сотрудник</td>\n",
       "      <td>0</td>\n",
       "      <td>253875</td>\n",
       "      <td>покупка жилья</td>\n",
       "      <td>B</td>\n",
       "      <td>операции с недвижимостью</td>\n",
       "    </tr>\n",
       "    <tr>\n",
       "      <th>1</th>\n",
       "      <td>1</td>\n",
       "      <td>4024.803754</td>\n",
       "      <td>36</td>\n",
       "      <td>1</td>\n",
       "      <td>0</td>\n",
       "      <td>F</td>\n",
       "      <td>сотрудник</td>\n",
       "      <td>0</td>\n",
       "      <td>112080</td>\n",
       "      <td>приобретение автомобиля</td>\n",
       "      <td>C</td>\n",
       "      <td>операции с автомобилем</td>\n",
       "    </tr>\n",
       "    <tr>\n",
       "      <th>2</th>\n",
       "      <td>0</td>\n",
       "      <td>5623.422610</td>\n",
       "      <td>33</td>\n",
       "      <td>1</td>\n",
       "      <td>0</td>\n",
       "      <td>M</td>\n",
       "      <td>сотрудник</td>\n",
       "      <td>0</td>\n",
       "      <td>145885</td>\n",
       "      <td>покупка жилья</td>\n",
       "      <td>C</td>\n",
       "      <td>операции с недвижимостью</td>\n",
       "    </tr>\n",
       "    <tr>\n",
       "      <th>3</th>\n",
       "      <td>3</td>\n",
       "      <td>4124.747207</td>\n",
       "      <td>32</td>\n",
       "      <td>1</td>\n",
       "      <td>0</td>\n",
       "      <td>M</td>\n",
       "      <td>сотрудник</td>\n",
       "      <td>0</td>\n",
       "      <td>267628</td>\n",
       "      <td>дополнительное образование</td>\n",
       "      <td>B</td>\n",
       "      <td>получение образования</td>\n",
       "    </tr>\n",
       "    <tr>\n",
       "      <th>4</th>\n",
       "      <td>0</td>\n",
       "      <td>340266.072047</td>\n",
       "      <td>53</td>\n",
       "      <td>1</td>\n",
       "      <td>1</td>\n",
       "      <td>F</td>\n",
       "      <td>пенсионер</td>\n",
       "      <td>0</td>\n",
       "      <td>158616</td>\n",
       "      <td>сыграть свадьбу</td>\n",
       "      <td>C</td>\n",
       "      <td>проведение свадьбы</td>\n",
       "    </tr>\n",
       "  </tbody>\n",
       "</table>\n",
       "</div>"
      ],
      "text/plain": [
       "   children  days_employed  dob_years  education_id  family_status_id gender  \\\n",
       "0         1    8437.673028         42             0                 0      F   \n",
       "1         1    4024.803754         36             1                 0      F   \n",
       "2         0    5623.422610         33             1                 0      M   \n",
       "3         3    4124.747207         32             1                 0      M   \n",
       "4         0  340266.072047         53             1                 1      F   \n",
       "\n",
       "  income_type  debt  total_income                     purpose  \\\n",
       "0   сотрудник     0        253875               покупка жилья   \n",
       "1   сотрудник     0        112080     приобретение автомобиля   \n",
       "2   сотрудник     0        145885               покупка жилья   \n",
       "3   сотрудник     0        267628  дополнительное образование   \n",
       "4   пенсионер     0        158616             сыграть свадьбу   \n",
       "\n",
       "  total_income_category          purpose_category  \n",
       "0                     B  операции с недвижимостью  \n",
       "1                     C    операции с автомобилем  \n",
       "2                     C  операции с недвижимостью  \n",
       "3                     B     получение образования  \n",
       "4                     C        проведение свадьбы  "
      ]
     },
     "metadata": {},
     "output_type": "display_data"
    },
    {
     "data": {
      "text/plain": [
       "array(['операции с недвижимостью', 'операции с автомобилем',\n",
       "       'получение образования', 'проведение свадьбы'], dtype=object)"
      ]
     },
     "execution_count": 38,
     "metadata": {},
     "output_type": "execute_result"
    }
   ],
   "source": [
    "display(data.head())\n",
    "data['purpose_category'].unique()"
   ]
  },
  {
   "cell_type": "markdown",
   "id": "e6050f66",
   "metadata": {},
   "source": [
    "### Ответы на вопросы."
   ]
  },
  {
   "cell_type": "markdown",
   "id": "0f0e164d",
   "metadata": {},
   "source": [
    "##### Вопрос 1:Есть ли зависимость между количеством детей и возвратом кредита в срок?"
   ]
  },
  {
   "cell_type": "code",
   "execution_count": 39,
   "id": "42365ef0",
   "metadata": {},
   "outputs": [
    {
     "name": "stdout",
     "output_type": "stream",
     "text": [
      "pivot_0 - % клиентов c задолженностью в зависимсоти от количества детей\n"
     ]
    },
    {
     "data": {
      "text/html": [
       "<div>\n",
       "<style scoped>\n",
       "    .dataframe tbody tr th:only-of-type {\n",
       "        vertical-align: middle;\n",
       "    }\n",
       "\n",
       "    .dataframe tbody tr th {\n",
       "        vertical-align: top;\n",
       "    }\n",
       "\n",
       "    .dataframe thead th {\n",
       "        text-align: right;\n",
       "    }\n",
       "</style>\n",
       "<table border=\"1\" class=\"dataframe\">\n",
       "  <thead>\n",
       "    <tr style=\"text-align: right;\">\n",
       "      <th>debt</th>\n",
       "      <th>0</th>\n",
       "      <th>1</th>\n",
       "      <th>pivot_0</th>\n",
       "    </tr>\n",
       "    <tr>\n",
       "      <th>children</th>\n",
       "      <th></th>\n",
       "      <th></th>\n",
       "      <th></th>\n",
       "    </tr>\n",
       "  </thead>\n",
       "  <tbody>\n",
       "    <tr>\n",
       "      <th>0</th>\n",
       "      <td>13028.0</td>\n",
       "      <td>1063.0</td>\n",
       "      <td>8.159349</td>\n",
       "    </tr>\n",
       "    <tr>\n",
       "      <th>1</th>\n",
       "      <td>4410.0</td>\n",
       "      <td>445.0</td>\n",
       "      <td>10.090703</td>\n",
       "    </tr>\n",
       "    <tr>\n",
       "      <th>2</th>\n",
       "      <td>1926.0</td>\n",
       "      <td>202.0</td>\n",
       "      <td>10.488058</td>\n",
       "    </tr>\n",
       "    <tr>\n",
       "      <th>3</th>\n",
       "      <td>303.0</td>\n",
       "      <td>27.0</td>\n",
       "      <td>8.910891</td>\n",
       "    </tr>\n",
       "    <tr>\n",
       "      <th>4</th>\n",
       "      <td>37.0</td>\n",
       "      <td>4.0</td>\n",
       "      <td>10.810811</td>\n",
       "    </tr>\n",
       "    <tr>\n",
       "      <th>5</th>\n",
       "      <td>9.0</td>\n",
       "      <td>NaN</td>\n",
       "      <td>NaN</td>\n",
       "    </tr>\n",
       "  </tbody>\n",
       "</table>\n",
       "</div>"
      ],
      "text/plain": [
       "debt            0       1    pivot_0\n",
       "children                            \n",
       "0         13028.0  1063.0   8.159349\n",
       "1          4410.0   445.0  10.090703\n",
       "2          1926.0   202.0  10.488058\n",
       "3           303.0    27.0   8.910891\n",
       "4            37.0     4.0  10.810811\n",
       "5             9.0     NaN        NaN"
      ]
     },
     "metadata": {},
     "output_type": "display_data"
    }
   ],
   "source": [
    "data_pivot_children = data.pivot_table(index='children', columns='debt', values = 'total_income', aggfunc ='count')\n",
    "data_pivot_children['pivot_0'] = data_pivot_children[1]/data_pivot_children[0]*100\n",
    "\n",
    "print('pivot_0 - % клиентов c задолженностью в зависимсоти от количества детей')\n",
    "display(data_pivot_children)"
   ]
  },
  {
   "cell_type": "markdown",
   "id": "ab6857a9",
   "metadata": {},
   "source": [
    "##### Вывод 1:  По итогам рассчетов выялена минимальная зависимость между количеством детей и возвратом кредита в срок .  У 8,1 %  клиентов без детей есть задолденность по кредиту. У клиентов с детьми этот % немного выше -  от 8,9 до 10,8. Группу с 5-ю детьми нельзя учитывать в расчетах, так как очень маленькая выборка. "
   ]
  },
  {
   "cell_type": "markdown",
   "id": "640d60e2",
   "metadata": {},
   "source": [
    "##### Вопрос 2: Есть ли зависимость между семейным положением и возвратом кредита в срок?\n"
   ]
  },
  {
   "cell_type": "code",
   "execution_count": 40,
   "id": "1a8b53f6",
   "metadata": {},
   "outputs": [
    {
     "name": "stdout",
     "output_type": "stream",
     "text": [
      "Количество клиентов в зависимости от семейного статуса\n"
     ]
    },
    {
     "data": {
      "text/plain": [
       "0    12339\n",
       "1     4151\n",
       "4     2810\n",
       "3     1195\n",
       "2      959\n",
       "Name: family_status_id, dtype: int64"
      ]
     },
     "metadata": {},
     "output_type": "display_data"
    },
    {
     "name": "stdout",
     "output_type": "stream",
     "text": [
      "= = = = = = = = = = = = = = = = = = = = = = = = = = = = = = = = = = = = = = = = = = = = = = = = = = = = = = = = = = = = \n",
      "Количество клиентов c задолженностью в зависимости от семейного статуса\n"
     ]
    },
    {
     "data": {
      "text/html": [
       "<div>\n",
       "<style scoped>\n",
       "    .dataframe tbody tr th:only-of-type {\n",
       "        vertical-align: middle;\n",
       "    }\n",
       "\n",
       "    .dataframe tbody tr th {\n",
       "        vertical-align: top;\n",
       "    }\n",
       "\n",
       "    .dataframe thead th {\n",
       "        text-align: right;\n",
       "    }\n",
       "</style>\n",
       "<table border=\"1\" class=\"dataframe\">\n",
       "  <thead>\n",
       "    <tr style=\"text-align: right;\">\n",
       "      <th></th>\n",
       "      <th>debt</th>\n",
       "    </tr>\n",
       "    <tr>\n",
       "      <th>family_status_id</th>\n",
       "      <th></th>\n",
       "    </tr>\n",
       "  </thead>\n",
       "  <tbody>\n",
       "    <tr>\n",
       "      <th>0</th>\n",
       "      <td>931</td>\n",
       "    </tr>\n",
       "    <tr>\n",
       "      <th>1</th>\n",
       "      <td>388</td>\n",
       "    </tr>\n",
       "    <tr>\n",
       "      <th>2</th>\n",
       "      <td>63</td>\n",
       "    </tr>\n",
       "    <tr>\n",
       "      <th>3</th>\n",
       "      <td>85</td>\n",
       "    </tr>\n",
       "    <tr>\n",
       "      <th>4</th>\n",
       "      <td>274</td>\n",
       "    </tr>\n",
       "  </tbody>\n",
       "</table>\n",
       "</div>"
      ],
      "text/plain": [
       "                  debt\n",
       "family_status_id      \n",
       "0                  931\n",
       "1                  388\n",
       "2                   63\n",
       "3                   85\n",
       "4                  274"
      ]
     },
     "metadata": {},
     "output_type": "display_data"
    },
    {
     "name": "stdout",
     "output_type": "stream",
     "text": [
      "= = = = = = = = = = = = = = = = = = = = = = = = = = = = = = = = = = = = = = = = = = = = = = = = = = = = = = = = = = = = \n",
      "% клиентов c задолженностью в зависимсоти от семейного статуса\n"
     ]
    },
    {
     "data": {
      "text/plain": [
       "0    7.545182\n",
       "1    9.347145\n",
       "2    6.569343\n",
       "3    7.112971\n",
       "4    9.750890\n",
       "dtype: float64"
      ]
     },
     "metadata": {},
     "output_type": "display_data"
    },
    {
     "name": "stdout",
     "output_type": "stream",
     "text": [
      "= = = = = = = = = = = = = = = = = = = = = = = = = = = = = = = = = = = = = = = = = = = = = = = = = = = = = = = = = = = = \n",
      "Расшифровка\n"
     ]
    },
    {
     "data": {
      "text/html": [
       "<div>\n",
       "<style scoped>\n",
       "    .dataframe tbody tr th:only-of-type {\n",
       "        vertical-align: middle;\n",
       "    }\n",
       "\n",
       "    .dataframe tbody tr th {\n",
       "        vertical-align: top;\n",
       "    }\n",
       "\n",
       "    .dataframe thead th {\n",
       "        text-align: right;\n",
       "    }\n",
       "</style>\n",
       "<table border=\"1\" class=\"dataframe\">\n",
       "  <thead>\n",
       "    <tr style=\"text-align: right;\">\n",
       "      <th></th>\n",
       "      <th>family_status</th>\n",
       "      <th>family_status_id</th>\n",
       "    </tr>\n",
       "  </thead>\n",
       "  <tbody>\n",
       "    <tr>\n",
       "      <th>0</th>\n",
       "      <td>женат / замужем</td>\n",
       "      <td>0</td>\n",
       "    </tr>\n",
       "    <tr>\n",
       "      <th>1</th>\n",
       "      <td>гражданский брак</td>\n",
       "      <td>1</td>\n",
       "    </tr>\n",
       "    <tr>\n",
       "      <th>2</th>\n",
       "      <td>вдовец / вдова</td>\n",
       "      <td>2</td>\n",
       "    </tr>\n",
       "    <tr>\n",
       "      <th>3</th>\n",
       "      <td>в разводе</td>\n",
       "      <td>3</td>\n",
       "    </tr>\n",
       "    <tr>\n",
       "      <th>4</th>\n",
       "      <td>Не женат / не замужем</td>\n",
       "      <td>4</td>\n",
       "    </tr>\n",
       "  </tbody>\n",
       "</table>\n",
       "</div>"
      ],
      "text/plain": [
       "           family_status  family_status_id\n",
       "0        женат / замужем                 0\n",
       "1       гражданский брак                 1\n",
       "2         вдовец / вдова                 2\n",
       "3              в разводе                 3\n",
       "4  Не женат / не замужем                 4"
      ]
     },
     "metadata": {},
     "output_type": "display_data"
    }
   ],
   "source": [
    "data_pivot_family = data.pivot_table(index=['family_status_id'], values='debt', aggfunc='sum')\n",
    "\n",
    "family = data['family_status_id'].value_counts()\n",
    "debt_family = data.groupby('family_status_id')['debt'].sum()\n",
    "convers_debt_family = debt_family / family * 100\n",
    "\n",
    "print('Количество клиентов в зависимости от семейного статуса')\n",
    "display(family)\n",
    "print(60*'= ')\n",
    "print('Количество клиентов c задолженностью в зависимости от семейного статуса')\n",
    "display(data_pivot_family)\n",
    "print(60*'= ')\n",
    "print('% клиентов c задолженностью в зависимсоти от семейного статуса')\n",
    "display(convers_debt_family)\n",
    "print(60*'= ')\n",
    "print('Расшифровка')\n",
    "display(famil_dict)"
   ]
  },
  {
   "cell_type": "markdown",
   "id": "0aa0651a",
   "metadata": {},
   "source": [
    "##### Вывод 2: Реже всего задолженность образуется у категории \"вдовец / вдова\" (6,5%).  Те кто женат, либо уже находится в разводе оказываются в задолженности в 7% случаев. Чаще всего просрочка кредита возникает у тех кто не был женат, либо живет гражданским браком(около 9,5%). У категории \"вдовец\" и \"в разводе\" - маленькая выборка. В итоговых выводах эти категории учитываться не будут."
   ]
  },
  {
   "cell_type": "markdown",
   "id": "826a7cdd",
   "metadata": {},
   "source": [
    "##### Вопрос 3 :Есть ли зависимость между уровнем дохода и возвратом кредита в срок?\n"
   ]
  },
  {
   "cell_type": "code",
   "execution_count": 41,
   "id": "8f0b0c90",
   "metadata": {},
   "outputs": [
    {
     "name": "stdout",
     "output_type": "stream",
     "text": [
      "Количество клиентов в зависимости от категории дохода\n"
     ]
    },
    {
     "data": {
      "text/plain": [
       "C    16016\n",
       "B     5041\n",
       "D      350\n",
       "A       25\n",
       "E       22\n",
       "Name: total_income_category, dtype: int64"
      ]
     },
     "metadata": {},
     "output_type": "display_data"
    },
    {
     "name": "stdout",
     "output_type": "stream",
     "text": [
      "= = = = = = = = = = = = = = = = = = = = = = = = = = = = = = = = = = = = = = = = = = = = = = = = = = = = = = = = = = = = \n",
      "Количество клиентов c задолженностью в зависимости от категории дохода\n"
     ]
    },
    {
     "data": {
      "text/html": [
       "<div>\n",
       "<style scoped>\n",
       "    .dataframe tbody tr th:only-of-type {\n",
       "        vertical-align: middle;\n",
       "    }\n",
       "\n",
       "    .dataframe tbody tr th {\n",
       "        vertical-align: top;\n",
       "    }\n",
       "\n",
       "    .dataframe thead th {\n",
       "        text-align: right;\n",
       "    }\n",
       "</style>\n",
       "<table border=\"1\" class=\"dataframe\">\n",
       "  <thead>\n",
       "    <tr style=\"text-align: right;\">\n",
       "      <th></th>\n",
       "      <th>debt</th>\n",
       "    </tr>\n",
       "    <tr>\n",
       "      <th>total_income_category</th>\n",
       "      <th></th>\n",
       "    </tr>\n",
       "  </thead>\n",
       "  <tbody>\n",
       "    <tr>\n",
       "      <th>A</th>\n",
       "      <td>2</td>\n",
       "    </tr>\n",
       "    <tr>\n",
       "      <th>B</th>\n",
       "      <td>356</td>\n",
       "    </tr>\n",
       "    <tr>\n",
       "      <th>C</th>\n",
       "      <td>1360</td>\n",
       "    </tr>\n",
       "    <tr>\n",
       "      <th>D</th>\n",
       "      <td>21</td>\n",
       "    </tr>\n",
       "    <tr>\n",
       "      <th>E</th>\n",
       "      <td>2</td>\n",
       "    </tr>\n",
       "  </tbody>\n",
       "</table>\n",
       "</div>"
      ],
      "text/plain": [
       "                       debt\n",
       "total_income_category      \n",
       "A                         2\n",
       "B                       356\n",
       "C                      1360\n",
       "D                        21\n",
       "E                         2"
      ]
     },
     "metadata": {},
     "output_type": "display_data"
    },
    {
     "name": "stdout",
     "output_type": "stream",
     "text": [
      "= = = = = = = = = = = = = = = = = = = = = = = = = = = = = = = = = = = = = = = = = = = = = = = = = = = = = = = = = = = = \n",
      "% клиентов c задолженностью в зависимости от категории дохода\n"
     ]
    },
    {
     "data": {
      "text/plain": [
       "A    8.000000\n",
       "B    7.062091\n",
       "C    8.491508\n",
       "D    6.000000\n",
       "E    9.090909\n",
       "dtype: float64"
      ]
     },
     "metadata": {},
     "output_type": "display_data"
    },
    {
     "name": "stdout",
     "output_type": "stream",
     "text": [
      "= = = = = = = = = = = = = = = = = = = = = = = = = = = = = = = = = = = = = = = = = = = = = = = = = = = = = = = = = = = = \n"
     ]
    }
   ],
   "source": [
    "data_pivot_income = data.pivot_table(index=['total_income_category'], values='debt', aggfunc='sum')\n",
    "\n",
    "income = data['total_income_category'].value_counts()\n",
    "debt_income = data.groupby('total_income_category')['debt'].sum()\n",
    "convers_debt_income = debt_income / income * 100\n",
    "\n",
    "print('Количество клиентов в зависимости от категории дохода')\n",
    "display(income)\n",
    "print(60*'= ')\n",
    "print('Количество клиентов c задолженностью в зависимости от категории дохода')\n",
    "display(data_pivot_income)\n",
    "print(60*'= ')\n",
    "print('% клиентов c задолженностью в зависимости от категории дохода')\n",
    "display(convers_debt_income)\n",
    "print(60*'= ')"
   ]
  },
  {
   "cell_type": "markdown",
   "id": "9208cbfb",
   "metadata": {},
   "source": [
    "##### Вывод 3:  Только у 6 % клиентов категории D (доход 30001–50000) есть задолженность. У категории B(доход 200001–1000000) и С(доход 50001–200000) он выше - 7 и 8,5% соответственно.  Клиентов категорий A и E - не стоит учитывать в анализе из-за маленькой выборки. Прямой зависимости между уровнем дохода и погашением кредита в срок не выялено."
   ]
  },
  {
   "cell_type": "markdown",
   "id": "f6dde151",
   "metadata": {},
   "source": [
    "##### Вопрос 4 :Как разные цели кредита влияют на его возврат в срок?"
   ]
  },
  {
   "cell_type": "code",
   "execution_count": 42,
   "id": "fe377a82",
   "metadata": {},
   "outputs": [
    {
     "name": "stdout",
     "output_type": "stream",
     "text": [
      "Количество клиентов в зависимости от цели кредита\n"
     ]
    },
    {
     "data": {
      "text/plain": [
       "операции с недвижимостью    10811\n",
       "операции с автомобилем       4306\n",
       "получение образования        4013\n",
       "проведение свадьбы           2324\n",
       "Name: purpose_category, dtype: int64"
      ]
     },
     "metadata": {},
     "output_type": "display_data"
    },
    {
     "name": "stdout",
     "output_type": "stream",
     "text": [
      "= = = = = = = = = = = = = = = = = = = = = = = = = = = = = = = = = = = = = = = = = = = = = = = = = = = = = = = = = = = = \n",
      "Количество клиентов c задолженностью в зависимости от цели кредита\n"
     ]
    },
    {
     "data": {
      "text/html": [
       "<div>\n",
       "<style scoped>\n",
       "    .dataframe tbody tr th:only-of-type {\n",
       "        vertical-align: middle;\n",
       "    }\n",
       "\n",
       "    .dataframe tbody tr th {\n",
       "        vertical-align: top;\n",
       "    }\n",
       "\n",
       "    .dataframe thead th {\n",
       "        text-align: right;\n",
       "    }\n",
       "</style>\n",
       "<table border=\"1\" class=\"dataframe\">\n",
       "  <thead>\n",
       "    <tr style=\"text-align: right;\">\n",
       "      <th></th>\n",
       "      <th>debt</th>\n",
       "    </tr>\n",
       "    <tr>\n",
       "      <th>purpose_category</th>\n",
       "      <th></th>\n",
       "    </tr>\n",
       "  </thead>\n",
       "  <tbody>\n",
       "    <tr>\n",
       "      <th>операции с автомобилем</th>\n",
       "      <td>403</td>\n",
       "    </tr>\n",
       "    <tr>\n",
       "      <th>операции с недвижимостью</th>\n",
       "      <td>782</td>\n",
       "    </tr>\n",
       "    <tr>\n",
       "      <th>получение образования</th>\n",
       "      <td>370</td>\n",
       "    </tr>\n",
       "    <tr>\n",
       "      <th>проведение свадьбы</th>\n",
       "      <td>186</td>\n",
       "    </tr>\n",
       "  </tbody>\n",
       "</table>\n",
       "</div>"
      ],
      "text/plain": [
       "                          debt\n",
       "purpose_category              \n",
       "операции с автомобилем     403\n",
       "операции с недвижимостью   782\n",
       "получение образования      370\n",
       "проведение свадьбы         186"
      ]
     },
     "metadata": {},
     "output_type": "display_data"
    },
    {
     "name": "stdout",
     "output_type": "stream",
     "text": [
      "= = = = = = = = = = = = = = = = = = = = = = = = = = = = = = = = = = = = = = = = = = = = = = = = = = = = = = = = = = = = \n",
      "% клиентов c задолженностью в зависимости от цели кредита\n"
     ]
    },
    {
     "data": {
      "text/plain": [
       "операции с автомобилем      9.359034\n",
       "операции с недвижимостью    7.233373\n",
       "получение образования       9.220035\n",
       "проведение свадьбы          8.003442\n",
       "dtype: float64"
      ]
     },
     "metadata": {},
     "output_type": "display_data"
    },
    {
     "name": "stdout",
     "output_type": "stream",
     "text": [
      "= = = = = = = = = = = = = = = = = = = = = = = = = = = = = = = = = = = = = = = = = = = = = = = = = = = = = = = = = = = = \n"
     ]
    }
   ],
   "source": [
    "data_pivot_purpose = data.pivot_table(index=['purpose_category'], values='debt', aggfunc='sum')\n",
    "\n",
    "purpose = data['purpose_category'].value_counts()\n",
    "debt_purpose = data.groupby('purpose_category')['debt'].sum()\n",
    "convers_debt_purpose = debt_purpose / purpose * 100\n",
    "\n",
    "print('Количество клиентов в зависимости от цели кредита')\n",
    "display(purpose)\n",
    "print(60*'= ')\n",
    "print('Количество клиентов c задолженностью в зависимости от цели кредита')\n",
    "display(data_pivot_purpose)\n",
    "print(60*'= ')\n",
    "print('% клиентов c задолженностью в зависимости от цели кредита')\n",
    "display(convers_debt_purpose)\n",
    "print(60*'= ')"
   ]
  },
  {
   "cell_type": "markdown",
   "id": "28534329",
   "metadata": {},
   "source": [
    "##### Вывод 4: У клиентов с кредитами на операции с автомобилем  и получение образования, чаще образуются задолженности (в среднем у 9%клиентов), чем у тех, кто берет кредит на операции с недвижимостью  и проведение свадьбы(в среднем у 7,5 % клиентов). "
   ]
  },
  {
   "cell_type": "markdown",
   "id": "d7ddd9ba",
   "metadata": {},
   "source": [
    "## Общий вывод:"
   ]
  },
  {
   "cell_type": "markdown",
   "id": "46472f99",
   "metadata": {},
   "source": [
    "- В процессе анализа статистики о платёжеспособности клиентов были обнаружены пропуски в данных клиентов об трудовом стаже и доходе(пропуски обнаружены у 11% клиентов). Пропуски были заполнены медианными значениями трудового стажа и дохода клиентов.\n",
    "\n",
    "- Так же в процессе анализа были обнаружены анамальные значения в таких показателях как : возраст клиента(более чем у 100 клиентов он равен 0), трудовой стаж(минусовые значения и аномально большие значения) и количество детей(минусовые значения и аномально большие значения) и пол клиента(у 1 клиента он неопределен). В процессе предоброботки данных большинство аномалий было устранено.\n",
    "\n",
    "- Так же были обнаружены неявные дубликаты в данных об образовании клиента. Данные приведены к общему виду.\n",
    "\n",
    "- После устранения неявных дубликатов - было найдено 71 стока явных дубликатов. Явные дубликаты удалены.\n",
    "\n",
    "- Мной была проведена категоризация данных в зависимоти от целей кредита и доходов клиента, для упрощения работы с таблицей.\n",
    "\n",
    "Категории целей кредита: операции с автомобилем, операции с недвижимостью, получение образования, проведение свадьбы.\n",
    "\n",
    "Категории дохода клиентов: A,B,C,D,E, где A - клиенты с самым высоким доходом, а E - c самым низким\n",
    "\n",
    "<b>Выводы по анализу зависимости погашения кредита в срок от : количества детей, дохода, семейного положения и целей кредита:</b>\n",
    "1. У клиентов без детей реже возникает задолженность. (8.1% против 8,9-10,8% у клиентов с детьми)\n",
    "2. Клиенты, которые женаты/замужем - реже имеют задолженность, по сравнению с неженатыми/незамужними (7% против 9%)\n",
    "3. Прямой зависимости между уровнем дохода и погашением кредита в срок не выялено.\n",
    "4. У клиентов с кредитами на операции с автомобилем и получение образования, чаще образуются задолженности, чем у тех, кто берет кредит на операции с недвижимостью и проведение свадьбы(9% против 7,5 %). "
   ]
  }
 ],
 "metadata": {
  "ExecuteTimeLog": [
   {
    "duration": 451,
    "start_time": "2022-05-12T12:06:34.227Z"
   },
   {
    "duration": 170,
    "start_time": "2022-05-12T12:07:33.542Z"
   },
   {
    "duration": 60,
    "start_time": "2022-05-12T12:07:43.914Z"
   },
   {
    "duration": 138,
    "start_time": "2022-05-12T12:09:00.908Z"
   },
   {
    "duration": 205,
    "start_time": "2022-05-12T12:10:11.536Z"
   },
   {
    "duration": 78,
    "start_time": "2022-05-12T12:10:19.962Z"
   },
   {
    "duration": 151,
    "start_time": "2022-05-12T12:11:03.223Z"
   },
   {
    "duration": 89,
    "start_time": "2022-05-12T12:11:11.680Z"
   },
   {
    "duration": 93,
    "start_time": "2022-05-12T12:11:23.491Z"
   },
   {
    "duration": 113,
    "start_time": "2022-05-12T12:11:45.937Z"
   },
   {
    "duration": 192,
    "start_time": "2022-05-12T12:12:03.687Z"
   },
   {
    "duration": 1831,
    "start_time": "2022-05-12T12:13:57.240Z"
   },
   {
    "duration": 159,
    "start_time": "2022-05-12T12:13:59.307Z"
   },
   {
    "duration": 139,
    "start_time": "2022-05-12T12:16:21.377Z"
   },
   {
    "duration": 102,
    "start_time": "2022-05-12T12:16:42.029Z"
   },
   {
    "duration": 8,
    "start_time": "2022-05-12T12:23:35.721Z"
   },
   {
    "duration": 7,
    "start_time": "2022-05-12T12:25:15.237Z"
   },
   {
    "duration": 10,
    "start_time": "2022-05-12T12:37:32.870Z"
   },
   {
    "duration": 15,
    "start_time": "2022-05-12T12:37:53.932Z"
   },
   {
    "duration": 19,
    "start_time": "2022-05-12T12:38:11.807Z"
   },
   {
    "duration": 32,
    "start_time": "2022-05-12T12:41:09.124Z"
   },
   {
    "duration": 25,
    "start_time": "2022-05-12T12:41:29.074Z"
   },
   {
    "duration": 23,
    "start_time": "2022-05-12T12:41:36.864Z"
   },
   {
    "duration": 18,
    "start_time": "2022-05-12T12:44:37.741Z"
   },
   {
    "duration": 23,
    "start_time": "2022-05-12T12:49:56.139Z"
   },
   {
    "duration": 26,
    "start_time": "2022-05-12T12:50:25.169Z"
   },
   {
    "duration": 22,
    "start_time": "2022-05-12T12:50:30.230Z"
   },
   {
    "duration": 26,
    "start_time": "2022-05-12T12:51:56.075Z"
   },
   {
    "duration": 26,
    "start_time": "2022-05-12T12:52:13.628Z"
   },
   {
    "duration": 155,
    "start_time": "2022-05-12T12:56:15.975Z"
   },
   {
    "duration": 19,
    "start_time": "2022-05-12T13:01:17.634Z"
   },
   {
    "duration": 21,
    "start_time": "2022-05-12T13:01:57.606Z"
   },
   {
    "duration": 29,
    "start_time": "2022-05-12T13:02:25.241Z"
   },
   {
    "duration": 24,
    "start_time": "2022-05-12T13:03:05.335Z"
   },
   {
    "duration": 19,
    "start_time": "2022-05-12T13:04:42.684Z"
   },
   {
    "duration": 176,
    "start_time": "2022-05-12T13:06:09.122Z"
   },
   {
    "duration": 236,
    "start_time": "2022-05-12T13:07:09.107Z"
   },
   {
    "duration": 205,
    "start_time": "2022-05-12T13:08:04.974Z"
   },
   {
    "duration": 29,
    "start_time": "2022-05-12T13:08:19.916Z"
   },
   {
    "duration": 186,
    "start_time": "2022-05-12T13:08:46.556Z"
   },
   {
    "duration": 29,
    "start_time": "2022-05-12T13:09:54.244Z"
   },
   {
    "duration": 32,
    "start_time": "2022-05-12T13:10:09.124Z"
   },
   {
    "duration": 3,
    "start_time": "2022-05-12T13:15:17.343Z"
   },
   {
    "duration": 168,
    "start_time": "2022-05-12T13:18:40.225Z"
   },
   {
    "duration": 162,
    "start_time": "2022-05-12T13:19:20.231Z"
   },
   {
    "duration": 164,
    "start_time": "2022-05-12T13:19:28.606Z"
   },
   {
    "duration": 16,
    "start_time": "2022-05-12T13:21:15.153Z"
   },
   {
    "duration": 172,
    "start_time": "2022-05-12T13:24:35.110Z"
   },
   {
    "duration": 79,
    "start_time": "2022-05-12T13:25:02.019Z"
   },
   {
    "duration": 68,
    "start_time": "2022-05-12T13:25:13.942Z"
   },
   {
    "duration": 89,
    "start_time": "2022-05-12T13:25:21.209Z"
   },
   {
    "duration": 79,
    "start_time": "2022-05-12T13:25:28.222Z"
   },
   {
    "duration": 176,
    "start_time": "2022-05-12T13:26:25.245Z"
   },
   {
    "duration": 28,
    "start_time": "2022-05-12T13:26:32.223Z"
   },
   {
    "duration": 144,
    "start_time": "2022-05-12T13:28:44.844Z"
   },
   {
    "duration": 59,
    "start_time": "2022-05-12T13:29:01.396Z"
   },
   {
    "duration": 57,
    "start_time": "2022-05-12T13:29:16.274Z"
   },
   {
    "duration": 89,
    "start_time": "2022-05-12T13:29:32.195Z"
   },
   {
    "duration": 7,
    "start_time": "2022-05-12T13:31:23.731Z"
   },
   {
    "duration": 250,
    "start_time": "2022-05-12T13:35:00.972Z"
   },
   {
    "duration": 6,
    "start_time": "2022-05-12T13:36:18.815Z"
   },
   {
    "duration": 44,
    "start_time": "2022-05-12T13:57:57.831Z"
   },
   {
    "duration": 18,
    "start_time": "2022-05-12T13:58:56.559Z"
   },
   {
    "duration": 4,
    "start_time": "2022-05-12T14:05:31.622Z"
   },
   {
    "duration": 159,
    "start_time": "2022-05-12T14:05:41.041Z"
   },
   {
    "duration": 179,
    "start_time": "2022-05-12T14:05:43.972Z"
   },
   {
    "duration": 11,
    "start_time": "2022-05-12T14:19:30.340Z"
   },
   {
    "duration": 18,
    "start_time": "2022-05-12T14:19:39.557Z"
   },
   {
    "duration": 191,
    "start_time": "2022-05-12T14:21:01.491Z"
   },
   {
    "duration": 167,
    "start_time": "2022-05-12T14:21:36.814Z"
   },
   {
    "duration": 172,
    "start_time": "2022-05-12T14:22:51.966Z"
   },
   {
    "duration": 3,
    "start_time": "2022-05-12T14:23:08.893Z"
   },
   {
    "duration": 45,
    "start_time": "2022-05-12T16:45:28.190Z"
   },
   {
    "duration": 425,
    "start_time": "2022-05-12T16:45:38.227Z"
   },
   {
    "duration": 30,
    "start_time": "2022-05-12T16:45:38.654Z"
   },
   {
    "duration": 48,
    "start_time": "2022-05-12T16:45:38.686Z"
   },
   {
    "duration": 35,
    "start_time": "2022-05-12T16:45:38.737Z"
   },
   {
    "duration": 6,
    "start_time": "2022-05-12T16:45:38.774Z"
   },
   {
    "duration": 7,
    "start_time": "2022-05-12T16:45:38.781Z"
   },
   {
    "duration": 13,
    "start_time": "2022-05-12T16:45:38.789Z"
   },
   {
    "duration": 12,
    "start_time": "2022-05-12T16:45:38.804Z"
   },
   {
    "duration": 11,
    "start_time": "2022-05-12T16:45:38.817Z"
   },
   {
    "duration": 83,
    "start_time": "2022-05-12T17:04:47.730Z"
   },
   {
    "duration": 85,
    "start_time": "2022-05-12T17:04:50.506Z"
   },
   {
    "duration": 4,
    "start_time": "2022-05-12T17:06:56.671Z"
   },
   {
    "duration": 6,
    "start_time": "2022-05-12T17:07:14.784Z"
   },
   {
    "duration": 12,
    "start_time": "2022-05-12T17:07:32.812Z"
   },
   {
    "duration": 11,
    "start_time": "2022-05-12T17:07:47.678Z"
   },
   {
    "duration": 11,
    "start_time": "2022-05-12T17:07:49.808Z"
   },
   {
    "duration": 92,
    "start_time": "2022-05-12T17:12:11.079Z"
   },
   {
    "duration": 17,
    "start_time": "2022-05-12T17:14:53.685Z"
   },
   {
    "duration": 33,
    "start_time": "2022-05-12T17:14:56.345Z"
   },
   {
    "duration": 17,
    "start_time": "2022-05-12T17:15:12.817Z"
   },
   {
    "duration": 72,
    "start_time": "2022-05-12T17:15:18.351Z"
   },
   {
    "duration": 21,
    "start_time": "2022-05-12T17:15:18.425Z"
   },
   {
    "duration": 66,
    "start_time": "2022-05-12T17:15:18.448Z"
   },
   {
    "duration": 14,
    "start_time": "2022-05-12T17:15:18.516Z"
   },
   {
    "duration": 5,
    "start_time": "2022-05-12T17:15:18.532Z"
   },
   {
    "duration": 6,
    "start_time": "2022-05-12T17:15:18.538Z"
   },
   {
    "duration": 34,
    "start_time": "2022-05-12T17:15:18.545Z"
   },
   {
    "duration": 11,
    "start_time": "2022-05-12T17:15:18.581Z"
   },
   {
    "duration": 13,
    "start_time": "2022-05-12T17:15:18.593Z"
   },
   {
    "duration": 5,
    "start_time": "2022-05-12T17:15:18.607Z"
   },
   {
    "duration": 58,
    "start_time": "2022-05-12T17:15:18.614Z"
   },
   {
    "duration": 16,
    "start_time": "2022-05-12T17:15:18.673Z"
   },
   {
    "duration": 33,
    "start_time": "2022-05-12T17:16:02.084Z"
   },
   {
    "duration": 17,
    "start_time": "2022-05-12T17:16:09.244Z"
   },
   {
    "duration": 17,
    "start_time": "2022-05-12T17:16:12.128Z"
   },
   {
    "duration": 18,
    "start_time": "2022-05-12T17:21:49.051Z"
   },
   {
    "duration": 15,
    "start_time": "2022-05-12T17:21:53.387Z"
   },
   {
    "duration": 81,
    "start_time": "2022-05-12T17:22:54.591Z"
   },
   {
    "duration": 4,
    "start_time": "2022-05-12T17:25:44.148Z"
   },
   {
    "duration": 33,
    "start_time": "2022-05-12T17:26:48.174Z"
   },
   {
    "duration": 16,
    "start_time": "2022-05-12T17:30:10.809Z"
   },
   {
    "duration": 16,
    "start_time": "2022-05-12T17:30:15.929Z"
   },
   {
    "duration": 6,
    "start_time": "2022-05-12T17:32:54.785Z"
   },
   {
    "duration": 5,
    "start_time": "2022-05-12T17:34:45.261Z"
   },
   {
    "duration": 85,
    "start_time": "2022-05-12T17:35:13.388Z"
   },
   {
    "duration": 5,
    "start_time": "2022-05-12T17:36:07.246Z"
   },
   {
    "duration": 81,
    "start_time": "2022-05-12T17:36:22.564Z"
   },
   {
    "duration": 6,
    "start_time": "2022-05-12T17:37:11.455Z"
   },
   {
    "duration": 7,
    "start_time": "2022-05-12T17:42:00.106Z"
   },
   {
    "duration": 6,
    "start_time": "2022-05-12T17:42:22.152Z"
   },
   {
    "duration": 4,
    "start_time": "2022-05-12T17:48:06.472Z"
   },
   {
    "duration": 56,
    "start_time": "2022-05-13T10:10:07.320Z"
   },
   {
    "duration": 589,
    "start_time": "2022-05-13T10:10:30.529Z"
   },
   {
    "duration": 28,
    "start_time": "2022-05-13T10:10:31.120Z"
   },
   {
    "duration": 71,
    "start_time": "2022-05-13T10:10:31.151Z"
   },
   {
    "duration": 16,
    "start_time": "2022-05-13T10:10:31.225Z"
   },
   {
    "duration": 29,
    "start_time": "2022-05-13T10:10:31.243Z"
   },
   {
    "duration": 20,
    "start_time": "2022-05-13T10:10:31.274Z"
   },
   {
    "duration": 28,
    "start_time": "2022-05-13T10:10:31.296Z"
   },
   {
    "duration": 26,
    "start_time": "2022-05-13T10:10:31.326Z"
   },
   {
    "duration": 41,
    "start_time": "2022-05-13T10:10:31.354Z"
   },
   {
    "duration": 34,
    "start_time": "2022-05-13T10:10:31.398Z"
   },
   {
    "duration": 53,
    "start_time": "2022-05-13T10:10:31.434Z"
   },
   {
    "duration": 24,
    "start_time": "2022-05-13T10:10:31.489Z"
   },
   {
    "duration": 7,
    "start_time": "2022-05-13T10:10:31.515Z"
   },
   {
    "duration": 38,
    "start_time": "2022-05-13T10:10:31.524Z"
   },
   {
    "duration": 19,
    "start_time": "2022-05-13T10:10:31.564Z"
   },
   {
    "duration": 33,
    "start_time": "2022-05-13T10:10:31.586Z"
   },
   {
    "duration": 37,
    "start_time": "2022-05-13T10:10:31.621Z"
   },
   {
    "duration": 36,
    "start_time": "2022-05-13T10:10:31.661Z"
   },
   {
    "duration": 36,
    "start_time": "2022-05-13T10:10:31.700Z"
   },
   {
    "duration": 143,
    "start_time": "2022-05-13T10:10:31.738Z"
   },
   {
    "duration": 132,
    "start_time": "2022-05-13T10:14:13.151Z"
   },
   {
    "duration": 39,
    "start_time": "2022-05-13T10:14:53.730Z"
   },
   {
    "duration": 25,
    "start_time": "2022-05-13T10:15:21.539Z"
   },
   {
    "duration": 45,
    "start_time": "2022-05-13T10:16:28.719Z"
   },
   {
    "duration": 117,
    "start_time": "2022-05-13T10:19:27.489Z"
   },
   {
    "duration": 599,
    "start_time": "2022-05-13T13:23:54.670Z"
   },
   {
    "duration": 24,
    "start_time": "2022-05-13T13:23:55.271Z"
   },
   {
    "duration": 70,
    "start_time": "2022-05-13T13:23:55.297Z"
   },
   {
    "duration": 15,
    "start_time": "2022-05-13T13:23:55.368Z"
   },
   {
    "duration": 5,
    "start_time": "2022-05-13T13:23:55.386Z"
   },
   {
    "duration": 4,
    "start_time": "2022-05-13T13:23:55.393Z"
   },
   {
    "duration": 14,
    "start_time": "2022-05-13T13:23:55.423Z"
   },
   {
    "duration": 53,
    "start_time": "2022-05-13T13:23:55.438Z"
   },
   {
    "duration": 34,
    "start_time": "2022-05-13T13:23:55.493Z"
   },
   {
    "duration": 14,
    "start_time": "2022-05-13T13:23:55.529Z"
   },
   {
    "duration": 7,
    "start_time": "2022-05-13T13:23:55.545Z"
   },
   {
    "duration": 31,
    "start_time": "2022-05-13T13:23:55.553Z"
   },
   {
    "duration": 55,
    "start_time": "2022-05-13T13:23:55.586Z"
   },
   {
    "duration": 7,
    "start_time": "2022-05-13T13:23:55.644Z"
   },
   {
    "duration": 25,
    "start_time": "2022-05-13T13:23:55.653Z"
   },
   {
    "duration": 7,
    "start_time": "2022-05-13T13:23:55.680Z"
   },
   {
    "duration": 35,
    "start_time": "2022-05-13T13:23:55.689Z"
   },
   {
    "duration": 7,
    "start_time": "2022-05-13T13:23:55.726Z"
   },
   {
    "duration": 8,
    "start_time": "2022-05-13T13:23:55.735Z"
   },
   {
    "duration": 93,
    "start_time": "2022-05-13T13:23:55.745Z"
   },
   {
    "duration": 166,
    "start_time": "2022-05-13T13:23:55.840Z"
   },
   {
    "duration": 73,
    "start_time": "2022-05-13T13:37:03.519Z"
   },
   {
    "duration": 7,
    "start_time": "2022-05-13T13:37:24.722Z"
   },
   {
    "duration": 7,
    "start_time": "2022-05-13T13:39:08.211Z"
   },
   {
    "duration": 8,
    "start_time": "2022-05-13T13:39:33.789Z"
   },
   {
    "duration": 7,
    "start_time": "2022-05-13T13:39:42.582Z"
   },
   {
    "duration": 8,
    "start_time": "2022-05-13T13:40:28.109Z"
   },
   {
    "duration": 7,
    "start_time": "2022-05-13T13:40:39.162Z"
   },
   {
    "duration": 8,
    "start_time": "2022-05-13T13:41:06.219Z"
   },
   {
    "duration": 6,
    "start_time": "2022-05-13T13:41:17.962Z"
   },
   {
    "duration": 7,
    "start_time": "2022-05-13T13:42:02.788Z"
   },
   {
    "duration": 6,
    "start_time": "2022-05-13T13:42:24.591Z"
   },
   {
    "duration": 6,
    "start_time": "2022-05-13T13:42:27.476Z"
   },
   {
    "duration": 5,
    "start_time": "2022-05-13T13:43:08.309Z"
   },
   {
    "duration": 8,
    "start_time": "2022-05-13T13:47:30.304Z"
   },
   {
    "duration": 5,
    "start_time": "2022-05-13T13:50:22.413Z"
   },
   {
    "duration": 54,
    "start_time": "2022-05-13T13:53:35.272Z"
   },
   {
    "duration": 96,
    "start_time": "2022-05-13T13:55:41.124Z"
   },
   {
    "duration": 23,
    "start_time": "2022-05-13T13:55:41.222Z"
   },
   {
    "duration": 77,
    "start_time": "2022-05-13T13:55:41.247Z"
   },
   {
    "duration": 13,
    "start_time": "2022-05-13T13:55:41.326Z"
   },
   {
    "duration": 9,
    "start_time": "2022-05-13T13:55:41.341Z"
   },
   {
    "duration": 22,
    "start_time": "2022-05-13T13:55:41.352Z"
   },
   {
    "duration": 37,
    "start_time": "2022-05-13T13:55:41.376Z"
   },
   {
    "duration": 55,
    "start_time": "2022-05-13T13:55:41.415Z"
   },
   {
    "duration": 5,
    "start_time": "2022-05-13T13:55:41.473Z"
   },
   {
    "duration": 16,
    "start_time": "2022-05-13T13:55:41.481Z"
   },
   {
    "duration": 78,
    "start_time": "2022-05-13T13:55:41.499Z"
   },
   {
    "duration": 13,
    "start_time": "2022-05-13T13:55:41.578Z"
   },
   {
    "duration": 6,
    "start_time": "2022-05-13T13:55:41.593Z"
   },
   {
    "duration": 39,
    "start_time": "2022-05-13T13:55:41.601Z"
   },
   {
    "duration": 17,
    "start_time": "2022-05-13T13:55:41.641Z"
   },
   {
    "duration": 7,
    "start_time": "2022-05-13T13:55:41.659Z"
   },
   {
    "duration": 23,
    "start_time": "2022-05-13T13:55:41.668Z"
   },
   {
    "duration": 17,
    "start_time": "2022-05-13T13:55:41.693Z"
   },
   {
    "duration": 22,
    "start_time": "2022-05-13T13:55:41.711Z"
   },
   {
    "duration": 21,
    "start_time": "2022-05-13T13:55:41.735Z"
   },
   {
    "duration": 26,
    "start_time": "2022-05-13T13:55:41.758Z"
   },
   {
    "duration": 54,
    "start_time": "2022-05-13T13:55:41.786Z"
   },
   {
    "duration": 165,
    "start_time": "2022-05-13T13:55:41.842Z"
   },
   {
    "duration": 23,
    "start_time": "2022-05-13T13:55:49.110Z"
   },
   {
    "duration": 85,
    "start_time": "2022-05-13T13:56:09.767Z"
   },
   {
    "duration": 26,
    "start_time": "2022-05-13T13:56:17.145Z"
   },
   {
    "duration": 25,
    "start_time": "2022-05-13T13:56:21.779Z"
   },
   {
    "duration": 83,
    "start_time": "2022-05-13T13:56:37.612Z"
   },
   {
    "duration": 37,
    "start_time": "2022-05-13T13:56:37.697Z"
   },
   {
    "duration": 50,
    "start_time": "2022-05-13T13:56:37.736Z"
   },
   {
    "duration": 40,
    "start_time": "2022-05-13T13:56:37.788Z"
   },
   {
    "duration": 16,
    "start_time": "2022-05-13T13:56:37.831Z"
   },
   {
    "duration": 24,
    "start_time": "2022-05-13T13:56:37.849Z"
   },
   {
    "duration": 33,
    "start_time": "2022-05-13T13:56:37.875Z"
   },
   {
    "duration": 47,
    "start_time": "2022-05-13T13:56:37.910Z"
   },
   {
    "duration": 5,
    "start_time": "2022-05-13T13:56:37.959Z"
   },
   {
    "duration": 6,
    "start_time": "2022-05-13T13:56:37.966Z"
   },
   {
    "duration": 63,
    "start_time": "2022-05-13T13:56:37.974Z"
   },
   {
    "duration": 14,
    "start_time": "2022-05-13T13:56:38.040Z"
   },
   {
    "duration": 7,
    "start_time": "2022-05-13T13:56:38.056Z"
   },
   {
    "duration": 21,
    "start_time": "2022-05-13T13:56:38.066Z"
   },
   {
    "duration": 48,
    "start_time": "2022-05-13T13:56:38.089Z"
   },
   {
    "duration": 5,
    "start_time": "2022-05-13T13:56:38.140Z"
   },
   {
    "duration": 17,
    "start_time": "2022-05-13T13:56:38.147Z"
   },
   {
    "duration": 9,
    "start_time": "2022-05-13T13:56:38.166Z"
   },
   {
    "duration": 6,
    "start_time": "2022-05-13T13:56:38.176Z"
   },
   {
    "duration": 40,
    "start_time": "2022-05-13T13:56:38.183Z"
   },
   {
    "duration": 7,
    "start_time": "2022-05-13T13:56:38.225Z"
   },
   {
    "duration": 43,
    "start_time": "2022-05-13T13:56:38.234Z"
   },
   {
    "duration": 164,
    "start_time": "2022-05-13T13:56:38.278Z"
   },
   {
    "duration": 10,
    "start_time": "2022-05-13T13:57:30.694Z"
   },
   {
    "duration": 10,
    "start_time": "2022-05-13T13:57:41.740Z"
   },
   {
    "duration": 11,
    "start_time": "2022-05-13T13:58:11.059Z"
   },
   {
    "duration": 83,
    "start_time": "2022-05-13T13:58:24.475Z"
   },
   {
    "duration": 10,
    "start_time": "2022-05-13T13:58:24.559Z"
   },
   {
    "duration": 73,
    "start_time": "2022-05-13T13:58:24.571Z"
   },
   {
    "duration": 13,
    "start_time": "2022-05-13T13:58:24.646Z"
   },
   {
    "duration": 21,
    "start_time": "2022-05-13T13:58:24.661Z"
   },
   {
    "duration": 5,
    "start_time": "2022-05-13T13:58:24.684Z"
   },
   {
    "duration": 24,
    "start_time": "2022-05-13T13:58:24.690Z"
   },
   {
    "duration": 56,
    "start_time": "2022-05-13T13:58:24.715Z"
   },
   {
    "duration": 5,
    "start_time": "2022-05-13T13:58:24.773Z"
   },
   {
    "duration": 25,
    "start_time": "2022-05-13T13:58:24.781Z"
   },
   {
    "duration": 59,
    "start_time": "2022-05-13T13:58:24.807Z"
   },
   {
    "duration": 12,
    "start_time": "2022-05-13T13:58:24.867Z"
   },
   {
    "duration": 8,
    "start_time": "2022-05-13T13:58:24.880Z"
   },
   {
    "duration": 45,
    "start_time": "2022-05-13T13:58:24.890Z"
   },
   {
    "duration": 16,
    "start_time": "2022-05-13T13:58:24.937Z"
   },
   {
    "duration": 18,
    "start_time": "2022-05-13T13:58:24.955Z"
   },
   {
    "duration": 25,
    "start_time": "2022-05-13T13:58:24.975Z"
   },
   {
    "duration": 18,
    "start_time": "2022-05-13T13:58:25.002Z"
   },
   {
    "duration": 62,
    "start_time": "2022-05-13T13:58:25.021Z"
   },
   {
    "duration": 9,
    "start_time": "2022-05-13T13:58:25.085Z"
   },
   {
    "duration": 16,
    "start_time": "2022-05-13T13:58:25.095Z"
   },
   {
    "duration": 85,
    "start_time": "2022-05-13T13:58:25.113Z"
   },
   {
    "duration": 162,
    "start_time": "2022-05-13T13:58:25.200Z"
   },
   {
    "duration": 85,
    "start_time": "2022-05-13T13:58:42.572Z"
   },
   {
    "duration": 26,
    "start_time": "2022-05-13T13:58:42.659Z"
   },
   {
    "duration": 77,
    "start_time": "2022-05-13T13:58:42.687Z"
   },
   {
    "duration": 14,
    "start_time": "2022-05-13T13:58:42.767Z"
   },
   {
    "duration": 6,
    "start_time": "2022-05-13T13:58:42.783Z"
   },
   {
    "duration": 36,
    "start_time": "2022-05-13T13:58:42.790Z"
   },
   {
    "duration": 16,
    "start_time": "2022-05-13T13:58:42.827Z"
   },
   {
    "duration": 50,
    "start_time": "2022-05-13T13:58:42.845Z"
   },
   {
    "duration": 27,
    "start_time": "2022-05-13T13:58:42.897Z"
   },
   {
    "duration": 8,
    "start_time": "2022-05-13T13:58:42.927Z"
   },
   {
    "duration": 55,
    "start_time": "2022-05-13T13:58:42.937Z"
   },
   {
    "duration": 35,
    "start_time": "2022-05-13T13:58:42.994Z"
   },
   {
    "duration": 7,
    "start_time": "2022-05-13T13:58:43.031Z"
   },
   {
    "duration": 33,
    "start_time": "2022-05-13T13:58:43.040Z"
   },
   {
    "duration": 50,
    "start_time": "2022-05-13T13:58:43.076Z"
   },
   {
    "duration": 7,
    "start_time": "2022-05-13T13:58:43.128Z"
   },
   {
    "duration": 16,
    "start_time": "2022-05-13T13:58:43.138Z"
   },
   {
    "duration": 10,
    "start_time": "2022-05-13T13:58:43.156Z"
   },
   {
    "duration": 10,
    "start_time": "2022-05-13T13:58:43.167Z"
   },
   {
    "duration": 9,
    "start_time": "2022-05-13T13:58:43.179Z"
   },
   {
    "duration": 37,
    "start_time": "2022-05-13T13:58:43.189Z"
   },
   {
    "duration": 43,
    "start_time": "2022-05-13T13:58:43.227Z"
   },
   {
    "duration": 164,
    "start_time": "2022-05-13T13:58:43.272Z"
   },
   {
    "duration": 29,
    "start_time": "2022-05-13T13:59:23.451Z"
   },
   {
    "duration": 80,
    "start_time": "2022-05-13T13:59:40.234Z"
   },
   {
    "duration": 24,
    "start_time": "2022-05-13T13:59:40.316Z"
   },
   {
    "duration": 52,
    "start_time": "2022-05-13T13:59:40.341Z"
   },
   {
    "duration": 40,
    "start_time": "2022-05-13T13:59:40.395Z"
   },
   {
    "duration": 5,
    "start_time": "2022-05-13T13:59:40.437Z"
   },
   {
    "duration": 4,
    "start_time": "2022-05-13T13:59:40.444Z"
   },
   {
    "duration": 15,
    "start_time": "2022-05-13T13:59:40.450Z"
   },
   {
    "duration": 80,
    "start_time": "2022-05-13T13:59:40.467Z"
   },
   {
    "duration": 6,
    "start_time": "2022-05-13T13:59:40.549Z"
   },
   {
    "duration": 6,
    "start_time": "2022-05-13T13:59:40.557Z"
   },
   {
    "duration": 75,
    "start_time": "2022-05-13T13:59:40.565Z"
   },
   {
    "duration": 15,
    "start_time": "2022-05-13T13:59:40.641Z"
   },
   {
    "duration": 8,
    "start_time": "2022-05-13T13:59:40.657Z"
   },
   {
    "duration": 21,
    "start_time": "2022-05-13T13:59:40.667Z"
   },
   {
    "duration": 45,
    "start_time": "2022-05-13T13:59:40.690Z"
   },
   {
    "duration": 6,
    "start_time": "2022-05-13T13:59:40.737Z"
   },
   {
    "duration": 18,
    "start_time": "2022-05-13T13:59:40.744Z"
   },
   {
    "duration": 8,
    "start_time": "2022-05-13T13:59:40.764Z"
   },
   {
    "duration": 8,
    "start_time": "2022-05-13T13:59:40.773Z"
   },
   {
    "duration": 41,
    "start_time": "2022-05-13T13:59:40.783Z"
   },
   {
    "duration": 8,
    "start_time": "2022-05-13T13:59:40.826Z"
   },
   {
    "duration": 85,
    "start_time": "2022-05-13T13:59:40.837Z"
   },
   {
    "duration": 171,
    "start_time": "2022-05-13T13:59:40.924Z"
   },
   {
    "duration": 49,
    "start_time": "2022-05-13T14:03:40.004Z"
   },
   {
    "duration": 4,
    "start_time": "2022-05-13T14:03:43.917Z"
   },
   {
    "duration": 191,
    "start_time": "2022-05-13T14:04:59.094Z"
   },
   {
    "duration": 4,
    "start_time": "2022-05-13T14:05:10.244Z"
   },
   {
    "duration": 11,
    "start_time": "2022-05-13T14:05:12.068Z"
   },
   {
    "duration": 5,
    "start_time": "2022-05-13T14:08:34.716Z"
   },
   {
    "duration": 4,
    "start_time": "2022-05-13T14:20:48.414Z"
   },
   {
    "duration": 2711,
    "start_time": "2022-05-13T14:31:47.633Z"
   },
   {
    "duration": 2764,
    "start_time": "2022-05-13T14:32:10.330Z"
   },
   {
    "duration": 0,
    "start_time": "2022-05-13T14:32:13.096Z"
   },
   {
    "duration": 2884,
    "start_time": "2022-05-13T14:32:17.197Z"
   },
   {
    "duration": 5,
    "start_time": "2022-05-13T14:33:11.429Z"
   },
   {
    "duration": 4,
    "start_time": "2022-05-13T14:33:16.052Z"
   },
   {
    "duration": 5,
    "start_time": "2022-05-13T14:33:26.341Z"
   },
   {
    "duration": 5,
    "start_time": "2022-05-13T14:33:28.279Z"
   },
   {
    "duration": 11,
    "start_time": "2022-05-13T14:33:54.113Z"
   },
   {
    "duration": 11,
    "start_time": "2022-05-13T14:33:56.599Z"
   },
   {
    "duration": 14,
    "start_time": "2022-05-13T14:34:50.999Z"
   },
   {
    "duration": 12,
    "start_time": "2022-05-13T14:35:06.511Z"
   },
   {
    "duration": 268,
    "start_time": "2022-05-13T14:36:23.999Z"
   },
   {
    "duration": 261,
    "start_time": "2022-05-13T14:40:11.791Z"
   },
   {
    "duration": 14,
    "start_time": "2022-05-13T14:40:37.827Z"
   },
   {
    "duration": 13,
    "start_time": "2022-05-13T14:40:47.325Z"
   },
   {
    "duration": 14,
    "start_time": "2022-05-13T14:40:58.113Z"
   },
   {
    "duration": 3,
    "start_time": "2022-05-13T14:49:22.240Z"
   },
   {
    "duration": 13,
    "start_time": "2022-05-13T14:49:24.149Z"
   },
   {
    "duration": 17,
    "start_time": "2022-05-13T14:49:47.955Z"
   },
   {
    "duration": 30,
    "start_time": "2022-05-13T14:50:19.714Z"
   },
   {
    "duration": 185,
    "start_time": "2022-05-13T14:53:14.271Z"
   },
   {
    "duration": 190,
    "start_time": "2022-05-13T14:54:24.784Z"
   },
   {
    "duration": 10,
    "start_time": "2022-05-13T14:55:22.608Z"
   },
   {
    "duration": 179,
    "start_time": "2022-05-13T14:56:25.952Z"
   },
   {
    "duration": 15,
    "start_time": "2022-05-13T14:56:32.814Z"
   },
   {
    "duration": 6,
    "start_time": "2022-05-13T15:03:32.140Z"
   },
   {
    "duration": 22,
    "start_time": "2022-05-13T15:10:38.531Z"
   },
   {
    "duration": 6,
    "start_time": "2022-05-13T15:10:52.512Z"
   },
   {
    "duration": 20,
    "start_time": "2022-05-13T15:11:41.828Z"
   },
   {
    "duration": 18,
    "start_time": "2022-05-13T15:11:45.217Z"
   },
   {
    "duration": 7,
    "start_time": "2022-05-13T15:25:21.882Z"
   },
   {
    "duration": 5,
    "start_time": "2022-05-13T15:25:39.354Z"
   },
   {
    "duration": 6,
    "start_time": "2022-05-13T15:25:58.961Z"
   },
   {
    "duration": 6,
    "start_time": "2022-05-13T15:26:20.987Z"
   },
   {
    "duration": 7,
    "start_time": "2022-05-13T15:27:47.643Z"
   },
   {
    "duration": 6,
    "start_time": "2022-05-13T15:28:45.446Z"
   },
   {
    "duration": 6,
    "start_time": "2022-05-13T15:29:13.073Z"
   },
   {
    "duration": 7,
    "start_time": "2022-05-13T15:29:23.885Z"
   },
   {
    "duration": 11,
    "start_time": "2022-05-13T15:29:57.885Z"
   },
   {
    "duration": 10,
    "start_time": "2022-05-13T15:30:00.171Z"
   },
   {
    "duration": 6,
    "start_time": "2022-05-13T15:30:07.401Z"
   },
   {
    "duration": 7,
    "start_time": "2022-05-13T15:30:38.717Z"
   },
   {
    "duration": 9,
    "start_time": "2022-05-13T15:30:49.915Z"
   },
   {
    "duration": 12,
    "start_time": "2022-05-13T15:31:43.237Z"
   },
   {
    "duration": 12,
    "start_time": "2022-05-13T15:31:55.518Z"
   },
   {
    "duration": 6,
    "start_time": "2022-05-13T15:36:56.336Z"
   },
   {
    "duration": 4,
    "start_time": "2022-05-13T15:38:02.447Z"
   },
   {
    "duration": 6,
    "start_time": "2022-05-13T15:38:10.704Z"
   },
   {
    "duration": 4,
    "start_time": "2022-05-13T15:38:15.603Z"
   },
   {
    "duration": 6,
    "start_time": "2022-05-13T15:38:18.309Z"
   },
   {
    "duration": 5,
    "start_time": "2022-05-13T15:38:31.791Z"
   },
   {
    "duration": 6,
    "start_time": "2022-05-13T15:38:33.447Z"
   },
   {
    "duration": 84,
    "start_time": "2022-05-13T15:38:56.277Z"
   },
   {
    "duration": 32,
    "start_time": "2022-05-13T15:38:56.363Z"
   },
   {
    "duration": 78,
    "start_time": "2022-05-13T15:38:56.397Z"
   },
   {
    "duration": 15,
    "start_time": "2022-05-13T15:38:56.477Z"
   },
   {
    "duration": 28,
    "start_time": "2022-05-13T15:38:56.494Z"
   },
   {
    "duration": 5,
    "start_time": "2022-05-13T15:38:56.525Z"
   },
   {
    "duration": 20,
    "start_time": "2022-05-13T15:38:56.532Z"
   },
   {
    "duration": 80,
    "start_time": "2022-05-13T15:38:56.554Z"
   },
   {
    "duration": 6,
    "start_time": "2022-05-13T15:38:56.635Z"
   },
   {
    "duration": 7,
    "start_time": "2022-05-13T15:38:56.644Z"
   },
   {
    "duration": 8,
    "start_time": "2022-05-13T15:38:56.653Z"
   },
   {
    "duration": 6,
    "start_time": "2022-05-13T15:38:56.663Z"
   },
   {
    "duration": 9,
    "start_time": "2022-05-13T15:38:56.670Z"
   },
   {
    "duration": 8,
    "start_time": "2022-05-13T15:38:56.681Z"
   },
   {
    "duration": 76,
    "start_time": "2022-05-13T15:38:56.690Z"
   },
   {
    "duration": 5,
    "start_time": "2022-05-13T15:38:56.768Z"
   },
   {
    "duration": 16,
    "start_time": "2022-05-13T15:38:56.774Z"
   },
   {
    "duration": 5,
    "start_time": "2022-05-13T15:38:56.792Z"
   },
   {
    "duration": 40,
    "start_time": "2022-05-13T15:38:56.799Z"
   },
   {
    "duration": 18,
    "start_time": "2022-05-13T15:38:56.841Z"
   },
   {
    "duration": 5,
    "start_time": "2022-05-13T15:38:56.861Z"
   },
   {
    "duration": 19,
    "start_time": "2022-05-13T15:38:56.868Z"
   },
   {
    "duration": 34,
    "start_time": "2022-05-13T15:38:56.890Z"
   },
   {
    "duration": 6,
    "start_time": "2022-05-13T15:38:56.925Z"
   },
   {
    "duration": 8,
    "start_time": "2022-05-13T15:38:56.933Z"
   },
   {
    "duration": 8,
    "start_time": "2022-05-13T15:38:56.943Z"
   },
   {
    "duration": 14,
    "start_time": "2022-05-13T15:38:56.952Z"
   },
   {
    "duration": 10,
    "start_time": "2022-05-13T15:38:56.970Z"
   },
   {
    "duration": 49,
    "start_time": "2022-05-13T15:38:56.982Z"
   },
   {
    "duration": 4,
    "start_time": "2022-05-13T15:38:57.034Z"
   },
   {
    "duration": 15,
    "start_time": "2022-05-13T15:38:57.040Z"
   },
   {
    "duration": 20,
    "start_time": "2022-05-13T15:38:57.057Z"
   },
   {
    "duration": 16,
    "start_time": "2022-05-13T15:38:57.079Z"
   },
   {
    "duration": 37,
    "start_time": "2022-05-13T15:38:57.096Z"
   },
   {
    "duration": 15,
    "start_time": "2022-05-13T15:38:57.135Z"
   },
   {
    "duration": 12,
    "start_time": "2022-05-13T15:38:57.152Z"
   },
   {
    "duration": 4,
    "start_time": "2022-05-13T15:41:15.182Z"
   },
   {
    "duration": 9,
    "start_time": "2022-05-13T15:41:33.197Z"
   },
   {
    "duration": 8,
    "start_time": "2022-05-13T15:42:24.831Z"
   },
   {
    "duration": 9,
    "start_time": "2022-05-13T15:42:28.512Z"
   },
   {
    "duration": 8,
    "start_time": "2022-05-13T15:43:01.950Z"
   },
   {
    "duration": 6,
    "start_time": "2022-05-13T15:44:02.615Z"
   },
   {
    "duration": 10,
    "start_time": "2022-05-13T15:44:46.703Z"
   },
   {
    "duration": 8,
    "start_time": "2022-05-13T15:46:27.143Z"
   },
   {
    "duration": 9,
    "start_time": "2022-05-13T15:46:39.603Z"
   },
   {
    "duration": 9,
    "start_time": "2022-05-13T15:46:57.624Z"
   },
   {
    "duration": 8,
    "start_time": "2022-05-13T15:47:04.509Z"
   },
   {
    "duration": 9,
    "start_time": "2022-05-13T15:47:21.769Z"
   },
   {
    "duration": 9,
    "start_time": "2022-05-13T15:47:47.657Z"
   },
   {
    "duration": 9,
    "start_time": "2022-05-13T15:56:41.711Z"
   },
   {
    "duration": 8,
    "start_time": "2022-05-13T15:57:40.377Z"
   },
   {
    "duration": 12,
    "start_time": "2022-05-13T15:57:43.333Z"
   },
   {
    "duration": 17,
    "start_time": "2022-05-13T16:00:42.793Z"
   },
   {
    "duration": 16,
    "start_time": "2022-05-13T16:01:10.642Z"
   },
   {
    "duration": 22,
    "start_time": "2022-05-13T16:02:03.591Z"
   },
   {
    "duration": 15,
    "start_time": "2022-05-13T16:02:07.285Z"
   },
   {
    "duration": 11,
    "start_time": "2022-05-13T16:02:13.526Z"
   },
   {
    "duration": 24,
    "start_time": "2022-05-13T16:04:05.276Z"
   },
   {
    "duration": 22,
    "start_time": "2022-05-13T16:04:09.379Z"
   },
   {
    "duration": 19,
    "start_time": "2022-05-13T16:05:32.150Z"
   },
   {
    "duration": 17,
    "start_time": "2022-05-13T16:05:42.505Z"
   },
   {
    "duration": 4,
    "start_time": "2022-05-13T16:06:32.599Z"
   },
   {
    "duration": 4,
    "start_time": "2022-05-13T16:06:35.151Z"
   },
   {
    "duration": 4,
    "start_time": "2022-05-13T16:06:45.861Z"
   },
   {
    "duration": 4,
    "start_time": "2022-05-13T16:06:47.831Z"
   },
   {
    "duration": 173,
    "start_time": "2022-05-13T16:06:57.069Z"
   },
   {
    "duration": 5,
    "start_time": "2022-05-13T16:07:08.483Z"
   },
   {
    "duration": 9,
    "start_time": "2022-05-13T16:07:54.255Z"
   },
   {
    "duration": 13,
    "start_time": "2022-05-13T16:08:57.165Z"
   },
   {
    "duration": 8,
    "start_time": "2022-05-13T16:11:01.223Z"
   },
   {
    "duration": 23,
    "start_time": "2022-05-13T16:20:17.511Z"
   },
   {
    "duration": 12,
    "start_time": "2022-05-13T16:21:29.123Z"
   },
   {
    "duration": 18,
    "start_time": "2022-05-13T16:21:32.256Z"
   },
   {
    "duration": 17,
    "start_time": "2022-05-13T16:22:12.890Z"
   },
   {
    "duration": 15,
    "start_time": "2022-05-13T16:22:40.147Z"
   },
   {
    "duration": 20,
    "start_time": "2022-05-13T16:24:48.695Z"
   },
   {
    "duration": 15,
    "start_time": "2022-05-13T16:37:01.475Z"
   },
   {
    "duration": 17,
    "start_time": "2022-05-13T16:38:23.327Z"
   },
   {
    "duration": 20,
    "start_time": "2022-05-13T16:40:43.999Z"
   },
   {
    "duration": 20,
    "start_time": "2022-05-13T16:41:56.581Z"
   },
   {
    "duration": 23,
    "start_time": "2022-05-13T16:42:24.722Z"
   },
   {
    "duration": 21,
    "start_time": "2022-05-13T17:00:01.895Z"
   },
   {
    "duration": 24,
    "start_time": "2022-05-13T17:03:00.157Z"
   },
   {
    "duration": 27,
    "start_time": "2022-05-13T17:03:44.341Z"
   },
   {
    "duration": 28,
    "start_time": "2022-05-13T17:04:16.771Z"
   },
   {
    "duration": 26,
    "start_time": "2022-05-13T17:06:29.056Z"
   },
   {
    "duration": 28,
    "start_time": "2022-05-13T17:09:37.017Z"
   },
   {
    "duration": 33,
    "start_time": "2022-05-13T17:10:52.416Z"
   },
   {
    "duration": 25,
    "start_time": "2022-05-13T17:11:55.375Z"
   },
   {
    "duration": 23,
    "start_time": "2022-05-13T17:13:19.239Z"
   },
   {
    "duration": 27,
    "start_time": "2022-05-13T17:15:56.027Z"
   },
   {
    "duration": 29,
    "start_time": "2022-05-13T17:16:36.718Z"
   },
   {
    "duration": 16,
    "start_time": "2022-05-13T17:21:52.834Z"
   },
   {
    "duration": 16,
    "start_time": "2022-05-13T17:21:56.403Z"
   },
   {
    "duration": 161,
    "start_time": "2022-05-13T17:58:11.675Z"
   },
   {
    "duration": 26,
    "start_time": "2022-05-13T17:58:49.174Z"
   },
   {
    "duration": 146,
    "start_time": "2022-05-13T17:59:46.870Z"
   },
   {
    "duration": 173,
    "start_time": "2022-05-13T18:00:58.989Z"
   },
   {
    "duration": 29,
    "start_time": "2022-05-13T18:02:15.234Z"
   },
   {
    "duration": 28,
    "start_time": "2022-05-13T18:12:03.965Z"
   },
   {
    "duration": 30,
    "start_time": "2022-05-13T18:12:35.455Z"
   },
   {
    "duration": 18,
    "start_time": "2022-05-13T18:13:50.961Z"
   },
   {
    "duration": 19,
    "start_time": "2022-05-13T18:14:46.935Z"
   },
   {
    "duration": 509,
    "start_time": "2022-05-13T18:52:28.849Z"
   },
   {
    "duration": 24,
    "start_time": "2022-05-13T18:52:29.360Z"
   },
   {
    "duration": 70,
    "start_time": "2022-05-13T18:52:29.385Z"
   },
   {
    "duration": 17,
    "start_time": "2022-05-13T18:52:29.456Z"
   },
   {
    "duration": 25,
    "start_time": "2022-05-13T18:52:29.475Z"
   },
   {
    "duration": 5,
    "start_time": "2022-05-13T18:52:29.502Z"
   },
   {
    "duration": 34,
    "start_time": "2022-05-13T18:52:29.509Z"
   },
   {
    "duration": 82,
    "start_time": "2022-05-13T18:52:29.545Z"
   },
   {
    "duration": 6,
    "start_time": "2022-05-13T18:52:29.629Z"
   },
   {
    "duration": 8,
    "start_time": "2022-05-13T18:52:29.637Z"
   },
   {
    "duration": 7,
    "start_time": "2022-05-13T18:52:29.647Z"
   },
   {
    "duration": 5,
    "start_time": "2022-05-13T18:52:29.656Z"
   },
   {
    "duration": 44,
    "start_time": "2022-05-13T18:52:29.663Z"
   },
   {
    "duration": 5,
    "start_time": "2022-05-13T18:52:29.712Z"
   },
   {
    "duration": 91,
    "start_time": "2022-05-13T18:52:29.719Z"
   },
   {
    "duration": 6,
    "start_time": "2022-05-13T18:52:29.812Z"
   },
   {
    "duration": 22,
    "start_time": "2022-05-13T18:52:29.820Z"
   },
   {
    "duration": 5,
    "start_time": "2022-05-13T18:52:29.844Z"
   },
   {
    "duration": 20,
    "start_time": "2022-05-13T18:52:29.851Z"
   },
   {
    "duration": 41,
    "start_time": "2022-05-13T18:52:29.872Z"
   },
   {
    "duration": 7,
    "start_time": "2022-05-13T18:52:29.915Z"
   },
   {
    "duration": 18,
    "start_time": "2022-05-13T18:52:29.924Z"
   },
   {
    "duration": 8,
    "start_time": "2022-05-13T18:52:29.943Z"
   },
   {
    "duration": 8,
    "start_time": "2022-05-13T18:52:29.953Z"
   },
   {
    "duration": 5,
    "start_time": "2022-05-13T18:52:29.962Z"
   },
   {
    "duration": 23,
    "start_time": "2022-05-13T18:52:30.000Z"
   },
   {
    "duration": 33,
    "start_time": "2022-05-13T18:52:30.026Z"
   },
   {
    "duration": 14,
    "start_time": "2022-05-13T18:52:30.061Z"
   },
   {
    "duration": 16,
    "start_time": "2022-05-13T18:52:30.077Z"
   },
   {
    "duration": 4,
    "start_time": "2022-05-13T18:52:30.099Z"
   },
   {
    "duration": 32,
    "start_time": "2022-05-13T18:52:30.105Z"
   },
   {
    "duration": 18,
    "start_time": "2022-05-13T18:52:30.139Z"
   },
   {
    "duration": 22,
    "start_time": "2022-05-13T18:52:30.159Z"
   },
   {
    "duration": 31,
    "start_time": "2022-05-13T18:52:30.183Z"
   },
   {
    "duration": 36,
    "start_time": "2022-05-13T18:52:30.216Z"
   },
   {
    "duration": 50,
    "start_time": "2022-05-13T18:52:30.254Z"
   },
   {
    "duration": 32,
    "start_time": "2022-05-13T18:52:30.306Z"
   },
   {
    "duration": 65,
    "start_time": "2022-05-13T18:52:30.340Z"
   },
   {
    "duration": 566,
    "start_time": "2022-05-13T18:52:56.882Z"
   },
   {
    "duration": 24,
    "start_time": "2022-05-13T18:52:57.450Z"
   },
   {
    "duration": 73,
    "start_time": "2022-05-13T18:52:57.476Z"
   },
   {
    "duration": 13,
    "start_time": "2022-05-13T18:52:57.551Z"
   },
   {
    "duration": 6,
    "start_time": "2022-05-13T18:52:57.565Z"
   },
   {
    "duration": 7,
    "start_time": "2022-05-13T18:52:57.573Z"
   },
   {
    "duration": 20,
    "start_time": "2022-05-13T18:52:57.601Z"
   },
   {
    "duration": 53,
    "start_time": "2022-05-13T18:52:57.623Z"
   },
   {
    "duration": 26,
    "start_time": "2022-05-13T18:52:57.678Z"
   },
   {
    "duration": 9,
    "start_time": "2022-05-13T18:52:57.709Z"
   },
   {
    "duration": 8,
    "start_time": "2022-05-13T18:52:57.720Z"
   },
   {
    "duration": 7,
    "start_time": "2022-05-13T18:52:57.730Z"
   },
   {
    "duration": 7,
    "start_time": "2022-05-13T18:52:57.739Z"
   },
   {
    "duration": 4,
    "start_time": "2022-05-13T18:52:57.748Z"
   },
   {
    "duration": 108,
    "start_time": "2022-05-13T18:52:57.754Z"
   },
   {
    "duration": 4,
    "start_time": "2022-05-13T18:52:57.863Z"
   },
   {
    "duration": 12,
    "start_time": "2022-05-13T18:52:57.869Z"
   },
   {
    "duration": 23,
    "start_time": "2022-05-13T18:52:57.882Z"
   },
   {
    "duration": 27,
    "start_time": "2022-05-13T18:52:57.907Z"
   },
   {
    "duration": 25,
    "start_time": "2022-05-13T18:52:57.935Z"
   },
   {
    "duration": 6,
    "start_time": "2022-05-13T18:52:57.962Z"
   },
   {
    "duration": 57,
    "start_time": "2022-05-13T18:52:57.970Z"
   },
   {
    "duration": 7,
    "start_time": "2022-05-13T18:52:58.029Z"
   },
   {
    "duration": 8,
    "start_time": "2022-05-13T18:52:58.038Z"
   },
   {
    "duration": 8,
    "start_time": "2022-05-13T18:52:58.048Z"
   },
   {
    "duration": 11,
    "start_time": "2022-05-13T18:52:58.058Z"
   },
   {
    "duration": 36,
    "start_time": "2022-05-13T18:52:58.071Z"
   },
   {
    "duration": 26,
    "start_time": "2022-05-13T18:52:58.110Z"
   },
   {
    "duration": 16,
    "start_time": "2022-05-13T18:52:58.138Z"
   },
   {
    "duration": 6,
    "start_time": "2022-05-13T18:52:58.156Z"
   },
   {
    "duration": 18,
    "start_time": "2022-05-13T18:52:58.164Z"
   },
   {
    "duration": 32,
    "start_time": "2022-05-13T18:52:58.184Z"
   },
   {
    "duration": 27,
    "start_time": "2022-05-13T18:52:58.218Z"
   },
   {
    "duration": 23,
    "start_time": "2022-05-13T18:52:58.247Z"
   },
   {
    "duration": 56,
    "start_time": "2022-05-13T18:52:58.272Z"
   },
   {
    "duration": 25,
    "start_time": "2022-05-13T18:52:58.331Z"
   },
   {
    "duration": 58,
    "start_time": "2022-05-13T18:52:58.358Z"
   },
   {
    "duration": 28,
    "start_time": "2022-05-13T18:52:58.418Z"
   },
   {
    "duration": 491,
    "start_time": "2022-05-13T18:57:25.117Z"
   },
   {
    "duration": 29,
    "start_time": "2022-05-13T18:57:25.610Z"
   },
   {
    "duration": 85,
    "start_time": "2022-05-13T18:57:25.641Z"
   },
   {
    "duration": 15,
    "start_time": "2022-05-13T18:57:25.727Z"
   },
   {
    "duration": 5,
    "start_time": "2022-05-13T18:57:25.745Z"
   },
   {
    "duration": 7,
    "start_time": "2022-05-13T18:57:25.752Z"
   },
   {
    "duration": 13,
    "start_time": "2022-05-13T18:57:25.761Z"
   },
   {
    "duration": 54,
    "start_time": "2022-05-13T18:57:25.801Z"
   },
   {
    "duration": 5,
    "start_time": "2022-05-13T18:57:25.856Z"
   },
   {
    "duration": 7,
    "start_time": "2022-05-13T18:57:25.862Z"
   },
   {
    "duration": 8,
    "start_time": "2022-05-13T18:57:25.870Z"
   },
   {
    "duration": 4,
    "start_time": "2022-05-13T18:57:25.900Z"
   },
   {
    "duration": 21,
    "start_time": "2022-05-13T18:57:25.906Z"
   },
   {
    "duration": 4,
    "start_time": "2022-05-13T18:57:25.929Z"
   },
   {
    "duration": 51,
    "start_time": "2022-05-13T18:57:25.935Z"
   },
   {
    "duration": 4,
    "start_time": "2022-05-13T18:57:25.987Z"
   },
   {
    "duration": 25,
    "start_time": "2022-05-13T18:57:25.999Z"
   },
   {
    "duration": 6,
    "start_time": "2022-05-13T18:57:26.025Z"
   },
   {
    "duration": 22,
    "start_time": "2022-05-13T18:57:26.032Z"
   },
   {
    "duration": 15,
    "start_time": "2022-05-13T18:57:26.055Z"
   },
   {
    "duration": 5,
    "start_time": "2022-05-13T18:57:26.071Z"
   },
   {
    "duration": 66,
    "start_time": "2022-05-13T18:57:26.077Z"
   },
   {
    "duration": 7,
    "start_time": "2022-05-13T18:57:26.144Z"
   },
   {
    "duration": 14,
    "start_time": "2022-05-13T18:57:26.152Z"
   },
   {
    "duration": 29,
    "start_time": "2022-05-13T18:57:26.167Z"
   },
   {
    "duration": 18,
    "start_time": "2022-05-13T18:57:26.198Z"
   },
   {
    "duration": 18,
    "start_time": "2022-05-13T18:57:26.218Z"
   },
   {
    "duration": 13,
    "start_time": "2022-05-13T18:57:26.238Z"
   },
   {
    "duration": 19,
    "start_time": "2022-05-13T18:57:26.253Z"
   },
   {
    "duration": 9,
    "start_time": "2022-05-13T18:57:26.274Z"
   },
   {
    "duration": 19,
    "start_time": "2022-05-13T18:57:26.285Z"
   },
   {
    "duration": 15,
    "start_time": "2022-05-13T18:57:26.306Z"
   },
   {
    "duration": 13,
    "start_time": "2022-05-13T18:57:26.322Z"
   },
   {
    "duration": 22,
    "start_time": "2022-05-13T18:57:26.336Z"
   },
   {
    "duration": 30,
    "start_time": "2022-05-13T18:57:26.359Z"
   },
   {
    "duration": 38,
    "start_time": "2022-05-13T18:57:26.390Z"
   },
   {
    "duration": 71,
    "start_time": "2022-05-13T18:57:26.430Z"
   },
   {
    "duration": 33,
    "start_time": "2022-05-13T18:57:26.504Z"
   },
   {
    "duration": 83,
    "start_time": "2022-05-13T21:15:27.848Z"
   },
   {
    "duration": 10,
    "start_time": "2022-05-13T21:15:40.714Z"
   },
   {
    "duration": 10,
    "start_time": "2022-05-13T21:15:59.640Z"
   },
   {
    "duration": 14,
    "start_time": "2022-05-13T21:16:21.181Z"
   },
   {
    "duration": 678,
    "start_time": "2022-05-13T21:16:39.471Z"
   },
   {
    "duration": 52,
    "start_time": "2022-05-13T21:16:40.151Z"
   },
   {
    "duration": 101,
    "start_time": "2022-05-13T21:16:40.205Z"
   },
   {
    "duration": 21,
    "start_time": "2022-05-13T21:16:40.309Z"
   },
   {
    "duration": 11,
    "start_time": "2022-05-13T21:16:40.332Z"
   },
   {
    "duration": 5,
    "start_time": "2022-05-13T21:16:40.345Z"
   },
   {
    "duration": 17,
    "start_time": "2022-05-13T21:16:40.352Z"
   },
   {
    "duration": 87,
    "start_time": "2022-05-13T21:16:40.371Z"
   },
   {
    "duration": 7,
    "start_time": "2022-05-13T21:16:40.461Z"
   },
   {
    "duration": 21,
    "start_time": "2022-05-13T21:16:40.472Z"
   },
   {
    "duration": 28,
    "start_time": "2022-05-13T21:16:40.496Z"
   },
   {
    "duration": 4,
    "start_time": "2022-05-13T21:16:40.527Z"
   },
   {
    "duration": 9,
    "start_time": "2022-05-13T21:16:40.533Z"
   },
   {
    "duration": 5,
    "start_time": "2022-05-13T21:16:40.544Z"
   },
   {
    "duration": 148,
    "start_time": "2022-05-13T21:16:40.551Z"
   },
   {
    "duration": 8,
    "start_time": "2022-05-13T21:16:40.704Z"
   },
   {
    "duration": 18,
    "start_time": "2022-05-13T21:16:40.714Z"
   },
   {
    "duration": 8,
    "start_time": "2022-05-13T21:16:40.734Z"
   },
   {
    "duration": 64,
    "start_time": "2022-05-13T21:16:40.745Z"
   },
   {
    "duration": 25,
    "start_time": "2022-05-13T21:16:40.812Z"
   },
   {
    "duration": 7,
    "start_time": "2022-05-13T21:16:40.839Z"
   },
   {
    "duration": 44,
    "start_time": "2022-05-13T21:16:40.848Z"
   },
   {
    "duration": 29,
    "start_time": "2022-05-13T21:16:40.897Z"
   },
   {
    "duration": 8,
    "start_time": "2022-05-13T21:16:40.928Z"
   },
   {
    "duration": 62,
    "start_time": "2022-05-13T21:16:40.938Z"
   },
   {
    "duration": 10,
    "start_time": "2022-05-13T21:16:41.002Z"
   },
   {
    "duration": 16,
    "start_time": "2022-05-13T21:16:41.015Z"
   },
   {
    "duration": 71,
    "start_time": "2022-05-13T21:16:41.035Z"
   },
   {
    "duration": 32,
    "start_time": "2022-05-13T21:16:41.108Z"
   },
   {
    "duration": 7,
    "start_time": "2022-05-13T21:16:41.185Z"
   },
   {
    "duration": 37,
    "start_time": "2022-05-13T21:16:41.195Z"
   },
   {
    "duration": 59,
    "start_time": "2022-05-13T21:16:41.234Z"
   },
   {
    "duration": 36,
    "start_time": "2022-05-13T21:16:41.296Z"
   },
   {
    "duration": 72,
    "start_time": "2022-05-13T21:16:41.335Z"
   },
   {
    "duration": 37,
    "start_time": "2022-05-13T21:16:41.410Z"
   },
   {
    "duration": 68,
    "start_time": "2022-05-13T21:16:41.449Z"
   },
   {
    "duration": 77,
    "start_time": "2022-05-13T21:16:41.519Z"
   },
   {
    "duration": 45,
    "start_time": "2022-05-13T21:16:41.599Z"
   },
   {
    "duration": 165,
    "start_time": "2022-05-13T21:18:41.243Z"
   },
   {
    "duration": 151,
    "start_time": "2022-05-13T21:19:13.457Z"
   },
   {
    "duration": 7,
    "start_time": "2022-05-13T21:19:35.576Z"
   },
   {
    "duration": 7,
    "start_time": "2022-05-13T21:19:44.627Z"
   },
   {
    "duration": 7,
    "start_time": "2022-05-13T21:20:15.716Z"
   },
   {
    "duration": 8,
    "start_time": "2022-05-13T21:20:50.227Z"
   },
   {
    "duration": 9,
    "start_time": "2022-05-13T21:21:03.435Z"
   },
   {
    "duration": 113,
    "start_time": "2022-05-13T21:21:06.721Z"
   },
   {
    "duration": 68,
    "start_time": "2022-05-13T21:21:06.837Z"
   },
   {
    "duration": 103,
    "start_time": "2022-05-13T21:21:06.908Z"
   },
   {
    "duration": 22,
    "start_time": "2022-05-13T21:21:07.014Z"
   },
   {
    "duration": 10,
    "start_time": "2022-05-13T21:21:07.039Z"
   },
   {
    "duration": 44,
    "start_time": "2022-05-13T21:21:07.051Z"
   },
   {
    "duration": 28,
    "start_time": "2022-05-13T21:21:07.098Z"
   },
   {
    "duration": 89,
    "start_time": "2022-05-13T21:21:07.129Z"
   },
   {
    "duration": 7,
    "start_time": "2022-05-13T21:21:07.221Z"
   },
   {
    "duration": 18,
    "start_time": "2022-05-13T21:21:07.232Z"
   },
   {
    "duration": 7,
    "start_time": "2022-05-13T21:21:07.252Z"
   },
   {
    "duration": 31,
    "start_time": "2022-05-13T21:21:07.261Z"
   },
   {
    "duration": 27,
    "start_time": "2022-05-13T21:21:07.297Z"
   },
   {
    "duration": 9,
    "start_time": "2022-05-13T21:21:07.326Z"
   },
   {
    "duration": 91,
    "start_time": "2022-05-13T21:21:07.337Z"
   },
   {
    "duration": 7,
    "start_time": "2022-05-13T21:21:07.430Z"
   },
   {
    "duration": 17,
    "start_time": "2022-05-13T21:21:07.439Z"
   },
   {
    "duration": 38,
    "start_time": "2022-05-13T21:21:07.458Z"
   },
   {
    "duration": 45,
    "start_time": "2022-05-13T21:21:07.499Z"
   },
   {
    "duration": 25,
    "start_time": "2022-05-13T21:21:07.546Z"
   },
   {
    "duration": 16,
    "start_time": "2022-05-13T21:21:07.573Z"
   },
   {
    "duration": 36,
    "start_time": "2022-05-13T21:21:07.592Z"
   },
   {
    "duration": 6,
    "start_time": "2022-05-13T21:21:07.630Z"
   },
   {
    "duration": 13,
    "start_time": "2022-05-13T21:21:07.638Z"
   },
   {
    "duration": 10,
    "start_time": "2022-05-13T21:21:07.653Z"
   },
   {
    "duration": 10,
    "start_time": "2022-05-13T21:21:07.690Z"
   },
   {
    "duration": 30,
    "start_time": "2022-05-13T21:21:07.702Z"
   },
   {
    "duration": 16,
    "start_time": "2022-05-13T21:21:07.736Z"
   },
   {
    "duration": 37,
    "start_time": "2022-05-13T21:21:07.754Z"
   },
   {
    "duration": 24,
    "start_time": "2022-05-13T21:21:07.793Z"
   },
   {
    "duration": 17,
    "start_time": "2022-05-13T21:21:07.819Z"
   },
   {
    "duration": 22,
    "start_time": "2022-05-13T21:21:07.838Z"
   },
   {
    "duration": 41,
    "start_time": "2022-05-13T21:21:07.863Z"
   },
   {
    "duration": 31,
    "start_time": "2022-05-13T21:21:07.907Z"
   },
   {
    "duration": 32,
    "start_time": "2022-05-13T21:21:07.940Z"
   },
   {
    "duration": 46,
    "start_time": "2022-05-13T21:21:07.990Z"
   },
   {
    "duration": 86,
    "start_time": "2022-05-13T21:21:08.039Z"
   },
   {
    "duration": 70,
    "start_time": "2022-05-13T21:21:08.127Z"
   },
   {
    "duration": 128,
    "start_time": "2022-05-13T21:21:38.580Z"
   },
   {
    "duration": 36,
    "start_time": "2022-05-13T21:21:38.711Z"
   },
   {
    "duration": 109,
    "start_time": "2022-05-13T21:21:38.749Z"
   },
   {
    "duration": 46,
    "start_time": "2022-05-13T21:21:38.862Z"
   },
   {
    "duration": 8,
    "start_time": "2022-05-13T21:21:38.911Z"
   },
   {
    "duration": 11,
    "start_time": "2022-05-13T21:21:38.921Z"
   },
   {
    "duration": 54,
    "start_time": "2022-05-13T21:21:38.934Z"
   },
   {
    "duration": 83,
    "start_time": "2022-05-13T21:21:38.992Z"
   },
   {
    "duration": 12,
    "start_time": "2022-05-13T21:21:39.078Z"
   },
   {
    "duration": 26,
    "start_time": "2022-05-13T21:21:39.095Z"
   },
   {
    "duration": 8,
    "start_time": "2022-05-13T21:21:39.123Z"
   },
   {
    "duration": 5,
    "start_time": "2022-05-13T21:21:39.133Z"
   },
   {
    "duration": 9,
    "start_time": "2022-05-13T21:21:39.140Z"
   },
   {
    "duration": 34,
    "start_time": "2022-05-13T21:21:39.151Z"
   },
   {
    "duration": 101,
    "start_time": "2022-05-13T21:21:39.189Z"
   },
   {
    "duration": 7,
    "start_time": "2022-05-13T21:21:39.293Z"
   },
   {
    "duration": 23,
    "start_time": "2022-05-13T21:21:39.305Z"
   },
   {
    "duration": 8,
    "start_time": "2022-05-13T21:21:39.331Z"
   },
   {
    "duration": 53,
    "start_time": "2022-05-13T21:21:39.341Z"
   },
   {
    "duration": 27,
    "start_time": "2022-05-13T21:21:39.397Z"
   },
   {
    "duration": 8,
    "start_time": "2022-05-13T21:21:39.427Z"
   },
   {
    "duration": 54,
    "start_time": "2022-05-13T21:21:39.437Z"
   },
   {
    "duration": 16,
    "start_time": "2022-05-13T21:21:39.493Z"
   },
   {
    "duration": 8,
    "start_time": "2022-05-13T21:21:39.511Z"
   },
   {
    "duration": 9,
    "start_time": "2022-05-13T21:21:39.521Z"
   },
   {
    "duration": 9,
    "start_time": "2022-05-13T21:21:39.533Z"
   },
   {
    "duration": 62,
    "start_time": "2022-05-13T21:21:39.544Z"
   },
   {
    "duration": 19,
    "start_time": "2022-05-13T21:21:39.610Z"
   },
   {
    "duration": 18,
    "start_time": "2022-05-13T21:21:39.631Z"
   },
   {
    "duration": 6,
    "start_time": "2022-05-13T21:21:39.651Z"
   },
   {
    "duration": 60,
    "start_time": "2022-05-13T21:21:39.659Z"
   },
   {
    "duration": 24,
    "start_time": "2022-05-13T21:21:39.721Z"
   },
   {
    "duration": 22,
    "start_time": "2022-05-13T21:21:39.747Z"
   },
   {
    "duration": 29,
    "start_time": "2022-05-13T21:21:39.771Z"
   },
   {
    "duration": 38,
    "start_time": "2022-05-13T21:21:39.803Z"
   },
   {
    "duration": 101,
    "start_time": "2022-05-13T21:21:39.844Z"
   },
   {
    "duration": 68,
    "start_time": "2022-05-13T21:21:39.947Z"
   },
   {
    "duration": 73,
    "start_time": "2022-05-13T21:21:40.018Z"
   },
   {
    "duration": 46,
    "start_time": "2022-05-13T21:22:27.132Z"
   },
   {
    "duration": 7,
    "start_time": "2022-05-13T21:22:40.960Z"
   },
   {
    "duration": 112,
    "start_time": "2022-05-13T21:22:46.712Z"
   },
   {
    "duration": 86,
    "start_time": "2022-05-13T21:22:46.828Z"
   },
   {
    "duration": 99,
    "start_time": "2022-05-13T21:22:46.916Z"
   },
   {
    "duration": 22,
    "start_time": "2022-05-13T21:22:47.018Z"
   },
   {
    "duration": 14,
    "start_time": "2022-05-13T21:22:47.042Z"
   },
   {
    "duration": 33,
    "start_time": "2022-05-13T21:22:47.058Z"
   },
   {
    "duration": 29,
    "start_time": "2022-05-13T21:22:47.094Z"
   },
   {
    "duration": 90,
    "start_time": "2022-05-13T21:22:47.125Z"
   },
   {
    "duration": 7,
    "start_time": "2022-05-13T21:22:47.217Z"
   },
   {
    "duration": 14,
    "start_time": "2022-05-13T21:22:47.228Z"
   },
   {
    "duration": 12,
    "start_time": "2022-05-13T21:22:47.244Z"
   },
   {
    "duration": 34,
    "start_time": "2022-05-13T21:22:47.258Z"
   },
   {
    "duration": 28,
    "start_time": "2022-05-13T21:22:47.298Z"
   },
   {
    "duration": 4,
    "start_time": "2022-05-13T21:22:47.329Z"
   },
   {
    "duration": 97,
    "start_time": "2022-05-13T21:22:47.335Z"
   },
   {
    "duration": 5,
    "start_time": "2022-05-13T21:22:47.434Z"
   },
   {
    "duration": 17,
    "start_time": "2022-05-13T21:22:47.441Z"
   },
   {
    "duration": 35,
    "start_time": "2022-05-13T21:22:47.460Z"
   },
   {
    "duration": 34,
    "start_time": "2022-05-13T21:22:47.497Z"
   },
   {
    "duration": 51,
    "start_time": "2022-05-13T21:22:47.534Z"
   },
   {
    "duration": 15,
    "start_time": "2022-05-13T21:22:47.587Z"
   },
   {
    "duration": 35,
    "start_time": "2022-05-13T21:22:47.604Z"
   },
   {
    "duration": 7,
    "start_time": "2022-05-13T21:22:47.642Z"
   },
   {
    "duration": 14,
    "start_time": "2022-05-13T21:22:47.651Z"
   },
   {
    "duration": 30,
    "start_time": "2022-05-13T21:22:47.667Z"
   },
   {
    "duration": 22,
    "start_time": "2022-05-13T21:22:47.699Z"
   },
   {
    "duration": 17,
    "start_time": "2022-05-13T21:22:47.723Z"
   },
   {
    "duration": 41,
    "start_time": "2022-05-13T21:22:47.745Z"
   },
   {
    "duration": 24,
    "start_time": "2022-05-13T21:22:47.789Z"
   },
   {
    "duration": 4,
    "start_time": "2022-05-13T21:22:47.815Z"
   },
   {
    "duration": 17,
    "start_time": "2022-05-13T21:22:47.822Z"
   },
   {
    "duration": 22,
    "start_time": "2022-05-13T21:22:47.842Z"
   },
   {
    "duration": 30,
    "start_time": "2022-05-13T21:22:47.888Z"
   },
   {
    "duration": 26,
    "start_time": "2022-05-13T21:22:47.920Z"
   },
   {
    "duration": 60,
    "start_time": "2022-05-13T21:22:47.949Z"
   },
   {
    "duration": 40,
    "start_time": "2022-05-13T21:22:48.012Z"
   },
   {
    "duration": 80,
    "start_time": "2022-05-13T21:22:48.054Z"
   },
   {
    "duration": 70,
    "start_time": "2022-05-13T21:22:48.136Z"
   },
   {
    "duration": 111,
    "start_time": "2022-05-13T21:24:07.914Z"
   },
   {
    "duration": 68,
    "start_time": "2022-05-13T21:24:08.027Z"
   },
   {
    "duration": 105,
    "start_time": "2022-05-13T21:24:08.097Z"
   },
   {
    "duration": 22,
    "start_time": "2022-05-13T21:24:08.206Z"
   },
   {
    "duration": 12,
    "start_time": "2022-05-13T21:24:08.230Z"
   },
   {
    "duration": 0,
    "start_time": "2022-05-13T21:24:08.245Z"
   },
   {
    "duration": 0,
    "start_time": "2022-05-13T21:24:08.246Z"
   },
   {
    "duration": 0,
    "start_time": "2022-05-13T21:24:08.248Z"
   },
   {
    "duration": 0,
    "start_time": "2022-05-13T21:24:08.250Z"
   },
   {
    "duration": 0,
    "start_time": "2022-05-13T21:24:08.251Z"
   },
   {
    "duration": 0,
    "start_time": "2022-05-13T21:24:08.252Z"
   },
   {
    "duration": 0,
    "start_time": "2022-05-13T21:24:08.253Z"
   },
   {
    "duration": 0,
    "start_time": "2022-05-13T21:24:08.288Z"
   },
   {
    "duration": 0,
    "start_time": "2022-05-13T21:24:08.291Z"
   },
   {
    "duration": 0,
    "start_time": "2022-05-13T21:24:08.293Z"
   },
   {
    "duration": 0,
    "start_time": "2022-05-13T21:24:08.295Z"
   },
   {
    "duration": 0,
    "start_time": "2022-05-13T21:24:08.299Z"
   },
   {
    "duration": 0,
    "start_time": "2022-05-13T21:24:08.303Z"
   },
   {
    "duration": 0,
    "start_time": "2022-05-13T21:24:08.307Z"
   },
   {
    "duration": 0,
    "start_time": "2022-05-13T21:24:08.309Z"
   },
   {
    "duration": 0,
    "start_time": "2022-05-13T21:24:08.310Z"
   },
   {
    "duration": 0,
    "start_time": "2022-05-13T21:24:08.313Z"
   },
   {
    "duration": 0,
    "start_time": "2022-05-13T21:24:08.315Z"
   },
   {
    "duration": 0,
    "start_time": "2022-05-13T21:24:08.317Z"
   },
   {
    "duration": 0,
    "start_time": "2022-05-13T21:24:08.318Z"
   },
   {
    "duration": 0,
    "start_time": "2022-05-13T21:24:08.319Z"
   },
   {
    "duration": 0,
    "start_time": "2022-05-13T21:24:08.321Z"
   },
   {
    "duration": 0,
    "start_time": "2022-05-13T21:24:08.322Z"
   },
   {
    "duration": 0,
    "start_time": "2022-05-13T21:24:08.323Z"
   },
   {
    "duration": 0,
    "start_time": "2022-05-13T21:24:08.325Z"
   },
   {
    "duration": 0,
    "start_time": "2022-05-13T21:24:08.326Z"
   },
   {
    "duration": 0,
    "start_time": "2022-05-13T21:24:08.327Z"
   },
   {
    "duration": 0,
    "start_time": "2022-05-13T21:24:08.328Z"
   },
   {
    "duration": 1,
    "start_time": "2022-05-13T21:24:08.329Z"
   },
   {
    "duration": 0,
    "start_time": "2022-05-13T21:24:08.331Z"
   },
   {
    "duration": 0,
    "start_time": "2022-05-13T21:24:08.332Z"
   },
   {
    "duration": 0,
    "start_time": "2022-05-13T21:24:08.389Z"
   },
   {
    "duration": 0,
    "start_time": "2022-05-13T21:24:08.390Z"
   },
   {
    "duration": 12,
    "start_time": "2022-05-13T21:26:02.311Z"
   },
   {
    "duration": 14,
    "start_time": "2022-05-13T21:26:05.168Z"
   },
   {
    "duration": 7,
    "start_time": "2022-05-13T21:26:18.866Z"
   },
   {
    "duration": 366,
    "start_time": "2022-05-13T21:26:44.760Z"
   },
   {
    "duration": 176,
    "start_time": "2022-05-13T21:26:47.375Z"
   },
   {
    "duration": 144,
    "start_time": "2022-05-14T11:06:34.688Z"
   },
   {
    "duration": 63,
    "start_time": "2022-05-14T11:09:12.278Z"
   },
   {
    "duration": 795,
    "start_time": "2022-05-14T11:09:17.801Z"
   },
   {
    "duration": 55,
    "start_time": "2022-05-14T11:09:18.625Z"
   },
   {
    "duration": 125,
    "start_time": "2022-05-14T11:09:18.682Z"
   },
   {
    "duration": 34,
    "start_time": "2022-05-14T11:09:18.812Z"
   },
   {
    "duration": 7,
    "start_time": "2022-05-14T11:09:18.849Z"
   },
   {
    "duration": 8,
    "start_time": "2022-05-14T11:09:18.858Z"
   },
   {
    "duration": 20,
    "start_time": "2022-05-14T11:09:18.868Z"
   },
   {
    "duration": 127,
    "start_time": "2022-05-14T11:09:18.891Z"
   },
   {
    "duration": 10,
    "start_time": "2022-05-14T11:09:19.024Z"
   },
   {
    "duration": 8,
    "start_time": "2022-05-14T11:09:19.037Z"
   },
   {
    "duration": 8,
    "start_time": "2022-05-14T11:09:19.047Z"
   },
   {
    "duration": 16,
    "start_time": "2022-05-14T11:09:19.057Z"
   },
   {
    "duration": 10,
    "start_time": "2022-05-14T11:09:19.075Z"
   },
   {
    "duration": 9,
    "start_time": "2022-05-14T11:09:19.087Z"
   },
   {
    "duration": 77,
    "start_time": "2022-05-14T11:09:19.099Z"
   },
   {
    "duration": 6,
    "start_time": "2022-05-14T11:09:19.178Z"
   },
   {
    "duration": 15,
    "start_time": "2022-05-14T11:09:19.186Z"
   },
   {
    "duration": 8,
    "start_time": "2022-05-14T11:09:19.203Z"
   },
   {
    "duration": 41,
    "start_time": "2022-05-14T11:09:19.213Z"
   },
   {
    "duration": 26,
    "start_time": "2022-05-14T11:09:19.256Z"
   },
   {
    "duration": 7,
    "start_time": "2022-05-14T11:09:19.284Z"
   },
   {
    "duration": 21,
    "start_time": "2022-05-14T11:09:19.293Z"
   },
   {
    "duration": 7,
    "start_time": "2022-05-14T11:09:19.325Z"
   },
   {
    "duration": 9,
    "start_time": "2022-05-14T11:09:19.334Z"
   },
   {
    "duration": 9,
    "start_time": "2022-05-14T11:09:19.345Z"
   },
   {
    "duration": 13,
    "start_time": "2022-05-14T11:09:19.356Z"
   },
   {
    "duration": 19,
    "start_time": "2022-05-14T11:09:19.371Z"
   },
   {
    "duration": 15,
    "start_time": "2022-05-14T11:09:19.395Z"
   },
   {
    "duration": 27,
    "start_time": "2022-05-14T11:09:19.412Z"
   },
   {
    "duration": 6,
    "start_time": "2022-05-14T11:09:19.441Z"
   },
   {
    "duration": 20,
    "start_time": "2022-05-14T11:09:19.449Z"
   },
   {
    "duration": 20,
    "start_time": "2022-05-14T11:09:19.471Z"
   },
   {
    "duration": 20,
    "start_time": "2022-05-14T11:09:19.493Z"
   },
   {
    "duration": 27,
    "start_time": "2022-05-14T11:09:19.516Z"
   },
   {
    "duration": 32,
    "start_time": "2022-05-14T11:09:19.545Z"
   },
   {
    "duration": 50,
    "start_time": "2022-05-14T11:09:19.579Z"
   },
   {
    "duration": 37,
    "start_time": "2022-05-14T11:09:19.631Z"
   },
   {
    "duration": 56,
    "start_time": "2022-05-14T11:09:19.670Z"
   },
   {
    "duration": 29,
    "start_time": "2022-05-14T11:09:47.184Z"
   },
   {
    "duration": 146,
    "start_time": "2022-05-14T11:10:18.392Z"
   },
   {
    "duration": 1190,
    "start_time": "2022-05-14T11:17:09.708Z"
   },
   {
    "duration": 9,
    "start_time": "2022-05-14T11:18:50.829Z"
   },
   {
    "duration": 127,
    "start_time": "2022-05-14T11:23:31.926Z"
   },
   {
    "duration": 21,
    "start_time": "2022-05-14T11:27:21.318Z"
   },
   {
    "duration": 8,
    "start_time": "2022-05-14T11:29:56.911Z"
   },
   {
    "duration": 12,
    "start_time": "2022-05-14T11:30:05.598Z"
   },
   {
    "duration": 28,
    "start_time": "2022-05-14T11:36:48.376Z"
   },
   {
    "duration": 144,
    "start_time": "2022-05-14T11:36:53.675Z"
   },
   {
    "duration": 124,
    "start_time": "2022-05-14T11:37:56.198Z"
   },
   {
    "duration": 30,
    "start_time": "2022-05-14T11:38:22.075Z"
   },
   {
    "duration": 27,
    "start_time": "2022-05-14T11:38:53.873Z"
   },
   {
    "duration": 36,
    "start_time": "2022-05-14T11:39:45.590Z"
   },
   {
    "duration": 30,
    "start_time": "2022-05-14T11:39:47.781Z"
   },
   {
    "duration": 116,
    "start_time": "2022-05-14T11:39:50.949Z"
   },
   {
    "duration": 79,
    "start_time": "2022-05-14T11:39:51.068Z"
   },
   {
    "duration": 98,
    "start_time": "2022-05-14T11:39:51.150Z"
   },
   {
    "duration": 23,
    "start_time": "2022-05-14T11:39:51.251Z"
   },
   {
    "duration": 6,
    "start_time": "2022-05-14T11:39:51.276Z"
   },
   {
    "duration": 8,
    "start_time": "2022-05-14T11:39:51.284Z"
   },
   {
    "duration": 49,
    "start_time": "2022-05-14T11:39:51.294Z"
   },
   {
    "duration": 103,
    "start_time": "2022-05-14T11:39:51.345Z"
   },
   {
    "duration": 7,
    "start_time": "2022-05-14T11:39:51.450Z"
   },
   {
    "duration": 10,
    "start_time": "2022-05-14T11:39:51.461Z"
   },
   {
    "duration": 10,
    "start_time": "2022-05-14T11:39:51.473Z"
   },
   {
    "duration": 39,
    "start_time": "2022-05-14T11:39:51.486Z"
   },
   {
    "duration": 8,
    "start_time": "2022-05-14T11:39:51.527Z"
   },
   {
    "duration": 19,
    "start_time": "2022-05-14T11:39:51.537Z"
   },
   {
    "duration": 85,
    "start_time": "2022-05-14T11:39:51.558Z"
   },
   {
    "duration": 5,
    "start_time": "2022-05-14T11:39:51.646Z"
   },
   {
    "duration": 18,
    "start_time": "2022-05-14T11:39:51.653Z"
   },
   {
    "duration": 12,
    "start_time": "2022-05-14T11:39:51.673Z"
   },
   {
    "duration": 69,
    "start_time": "2022-05-14T11:39:51.687Z"
   },
   {
    "duration": 10,
    "start_time": "2022-05-14T11:39:51.759Z"
   },
   {
    "duration": 64,
    "start_time": "2022-05-14T11:39:51.772Z"
   },
   {
    "duration": 11,
    "start_time": "2022-05-14T11:39:51.838Z"
   },
   {
    "duration": 13,
    "start_time": "2022-05-14T11:39:51.851Z"
   },
   {
    "duration": 9,
    "start_time": "2022-05-14T11:39:51.867Z"
   },
   {
    "duration": 51,
    "start_time": "2022-05-14T11:39:51.878Z"
   },
   {
    "duration": 29,
    "start_time": "2022-05-14T11:39:51.931Z"
   },
   {
    "duration": 31,
    "start_time": "2022-05-14T11:39:51.962Z"
   },
   {
    "duration": 51,
    "start_time": "2022-05-14T11:39:51.997Z"
   },
   {
    "duration": 17,
    "start_time": "2022-05-14T11:39:52.051Z"
   },
   {
    "duration": 16,
    "start_time": "2022-05-14T11:39:52.070Z"
   },
   {
    "duration": 52,
    "start_time": "2022-05-14T11:39:52.089Z"
   },
   {
    "duration": 11,
    "start_time": "2022-05-14T11:39:52.143Z"
   },
   {
    "duration": 26,
    "start_time": "2022-05-14T11:39:52.156Z"
   },
   {
    "duration": 39,
    "start_time": "2022-05-14T11:39:52.185Z"
   },
   {
    "duration": 22,
    "start_time": "2022-05-14T11:39:52.227Z"
   },
   {
    "duration": 23,
    "start_time": "2022-05-14T11:39:52.251Z"
   },
   {
    "duration": 69,
    "start_time": "2022-05-14T11:39:52.276Z"
   },
   {
    "duration": 47,
    "start_time": "2022-05-14T11:39:52.347Z"
   },
   {
    "duration": 40,
    "start_time": "2022-05-14T11:39:52.424Z"
   },
   {
    "duration": 79,
    "start_time": "2022-05-14T11:39:52.466Z"
   },
   {
    "duration": 29,
    "start_time": "2022-05-14T11:40:20.677Z"
   },
   {
    "duration": 27,
    "start_time": "2022-05-14T11:40:29.752Z"
   },
   {
    "duration": 650,
    "start_time": "2022-05-14T12:46:40.547Z"
   },
   {
    "duration": 40,
    "start_time": "2022-05-14T12:46:41.200Z"
   },
   {
    "duration": 108,
    "start_time": "2022-05-14T12:46:41.242Z"
   },
   {
    "duration": 30,
    "start_time": "2022-05-14T12:46:41.354Z"
   },
   {
    "duration": 7,
    "start_time": "2022-05-14T12:46:41.386Z"
   },
   {
    "duration": 7,
    "start_time": "2022-05-14T12:46:41.395Z"
   },
   {
    "duration": 20,
    "start_time": "2022-05-14T12:46:41.404Z"
   },
   {
    "duration": 114,
    "start_time": "2022-05-14T12:46:41.426Z"
   },
   {
    "duration": 10,
    "start_time": "2022-05-14T12:46:41.543Z"
   },
   {
    "duration": 8,
    "start_time": "2022-05-14T12:46:41.582Z"
   },
   {
    "duration": 8,
    "start_time": "2022-05-14T12:46:41.593Z"
   },
   {
    "duration": 5,
    "start_time": "2022-05-14T12:46:41.604Z"
   },
   {
    "duration": 9,
    "start_time": "2022-05-14T12:46:41.612Z"
   },
   {
    "duration": 6,
    "start_time": "2022-05-14T12:46:41.623Z"
   },
   {
    "duration": 75,
    "start_time": "2022-05-14T12:46:41.683Z"
   },
   {
    "duration": 24,
    "start_time": "2022-05-14T12:46:41.761Z"
   },
   {
    "duration": 15,
    "start_time": "2022-05-14T12:46:41.787Z"
   },
   {
    "duration": 7,
    "start_time": "2022-05-14T12:46:41.805Z"
   },
   {
    "duration": 21,
    "start_time": "2022-05-14T12:46:41.815Z"
   },
   {
    "duration": 48,
    "start_time": "2022-05-14T12:46:41.838Z"
   },
   {
    "duration": 21,
    "start_time": "2022-05-14T12:46:41.888Z"
   },
   {
    "duration": 7,
    "start_time": "2022-05-14T12:46:41.911Z"
   },
   {
    "duration": 11,
    "start_time": "2022-05-14T12:46:41.921Z"
   },
   {
    "duration": 50,
    "start_time": "2022-05-14T12:46:41.934Z"
   },
   {
    "duration": 11,
    "start_time": "2022-05-14T12:46:41.986Z"
   },
   {
    "duration": 28,
    "start_time": "2022-05-14T12:46:41.999Z"
   },
   {
    "duration": 77,
    "start_time": "2022-05-14T12:46:42.030Z"
   },
   {
    "duration": 27,
    "start_time": "2022-05-14T12:46:42.114Z"
   },
   {
    "duration": 43,
    "start_time": "2022-05-14T12:46:42.143Z"
   },
   {
    "duration": 18,
    "start_time": "2022-05-14T12:46:42.189Z"
   },
   {
    "duration": 20,
    "start_time": "2022-05-14T12:46:42.210Z"
   },
   {
    "duration": 5,
    "start_time": "2022-05-14T12:46:42.233Z"
   },
   {
    "duration": 50,
    "start_time": "2022-05-14T12:46:42.241Z"
   },
   {
    "duration": 23,
    "start_time": "2022-05-14T12:46:42.294Z"
   },
   {
    "duration": 23,
    "start_time": "2022-05-14T12:46:42.320Z"
   },
   {
    "duration": 55,
    "start_time": "2022-05-14T12:46:42.345Z"
   },
   {
    "duration": 32,
    "start_time": "2022-05-14T12:46:42.402Z"
   },
   {
    "duration": 71,
    "start_time": "2022-05-14T12:46:42.436Z"
   },
   {
    "duration": 73,
    "start_time": "2022-05-14T12:46:42.509Z"
   },
   {
    "duration": 40,
    "start_time": "2022-05-14T12:46:42.584Z"
   },
   {
    "duration": 679,
    "start_time": "2022-05-14T12:48:50.643Z"
   },
   {
    "duration": 37,
    "start_time": "2022-05-14T12:48:51.325Z"
   },
   {
    "duration": 76,
    "start_time": "2022-05-14T12:48:51.383Z"
   },
   {
    "duration": 32,
    "start_time": "2022-05-14T12:48:51.481Z"
   },
   {
    "duration": 9,
    "start_time": "2022-05-14T12:48:51.518Z"
   },
   {
    "duration": 7,
    "start_time": "2022-05-14T12:48:51.530Z"
   },
   {
    "duration": 54,
    "start_time": "2022-05-14T12:48:51.540Z"
   },
   {
    "duration": 100,
    "start_time": "2022-05-14T12:48:51.597Z"
   },
   {
    "duration": 9,
    "start_time": "2022-05-14T12:48:51.699Z"
   },
   {
    "duration": 15,
    "start_time": "2022-05-14T12:48:51.711Z"
   },
   {
    "duration": 14,
    "start_time": "2022-05-14T12:48:51.728Z"
   },
   {
    "duration": 12,
    "start_time": "2022-05-14T12:48:51.744Z"
   },
   {
    "duration": 40,
    "start_time": "2022-05-14T12:48:51.758Z"
   },
   {
    "duration": 6,
    "start_time": "2022-05-14T12:48:51.803Z"
   },
   {
    "duration": 86,
    "start_time": "2022-05-14T12:48:51.814Z"
   },
   {
    "duration": 6,
    "start_time": "2022-05-14T12:48:51.903Z"
   },
   {
    "duration": 22,
    "start_time": "2022-05-14T12:48:51.912Z"
   },
   {
    "duration": 8,
    "start_time": "2022-05-14T12:48:51.936Z"
   },
   {
    "duration": 52,
    "start_time": "2022-05-14T12:48:51.946Z"
   },
   {
    "duration": 8,
    "start_time": "2022-05-14T12:48:52.000Z"
   },
   {
    "duration": 25,
    "start_time": "2022-05-14T12:48:52.011Z"
   },
   {
    "duration": 8,
    "start_time": "2022-05-14T12:48:52.038Z"
   },
   {
    "duration": 13,
    "start_time": "2022-05-14T12:48:52.082Z"
   },
   {
    "duration": 15,
    "start_time": "2022-05-14T12:48:52.097Z"
   },
   {
    "duration": 20,
    "start_time": "2022-05-14T12:48:52.114Z"
   },
   {
    "duration": 46,
    "start_time": "2022-05-14T12:48:52.136Z"
   },
   {
    "duration": 32,
    "start_time": "2022-05-14T12:48:52.184Z"
   },
   {
    "duration": 28,
    "start_time": "2022-05-14T12:48:52.218Z"
   },
   {
    "duration": 47,
    "start_time": "2022-05-14T12:48:52.248Z"
   },
   {
    "duration": 15,
    "start_time": "2022-05-14T12:48:52.298Z"
   },
   {
    "duration": 22,
    "start_time": "2022-05-14T12:48:52.315Z"
   },
   {
    "duration": 45,
    "start_time": "2022-05-14T12:48:52.339Z"
   },
   {
    "duration": 15,
    "start_time": "2022-05-14T12:48:52.386Z"
   },
   {
    "duration": 27,
    "start_time": "2022-05-14T12:48:52.404Z"
   },
   {
    "duration": 57,
    "start_time": "2022-05-14T12:48:52.434Z"
   },
   {
    "duration": 28,
    "start_time": "2022-05-14T12:48:52.493Z"
   },
   {
    "duration": 61,
    "start_time": "2022-05-14T12:48:52.523Z"
   },
   {
    "duration": 43,
    "start_time": "2022-05-14T12:48:52.587Z"
   },
   {
    "duration": 76,
    "start_time": "2022-05-14T12:48:52.632Z"
   },
   {
    "duration": 75,
    "start_time": "2022-05-14T12:48:52.710Z"
   }
  ],
  "kernelspec": {
   "display_name": "Python 3 (ipykernel)",
   "language": "python",
   "name": "python3"
  },
  "language_info": {
   "codemirror_mode": {
    "name": "ipython",
    "version": 3
   },
   "file_extension": ".py",
   "mimetype": "text/x-python",
   "name": "python",
   "nbconvert_exporter": "python",
   "pygments_lexer": "ipython3",
   "version": "3.9.13"
  },
  "toc": {
   "base_numbering": 1,
   "nav_menu": {},
   "number_sections": true,
   "sideBar": true,
   "skip_h1_title": true,
   "title_cell": "Table of Contents",
   "title_sidebar": "Contents",
   "toc_cell": false,
   "toc_position": {},
   "toc_section_display": true,
   "toc_window_display": false
  }
 },
 "nbformat": 4,
 "nbformat_minor": 5
}
