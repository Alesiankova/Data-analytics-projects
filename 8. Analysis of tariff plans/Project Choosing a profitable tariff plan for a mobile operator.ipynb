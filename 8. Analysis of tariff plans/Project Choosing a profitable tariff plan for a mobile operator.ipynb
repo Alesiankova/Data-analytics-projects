{
 "cells": [
  {
   "cell_type": "markdown",
   "metadata": {},
   "source": [
    "## Определение перспективного тарифа для телеком-компании \"Мегалайн\""
   ]
  },
  {
   "cell_type": "markdown",
   "metadata": {
    "id": "e5HZxjhkzn8m"
   },
   "source": [
    "**Описание проекта**\n",
    "\n",
    "Клиентам федерального оператора сотовой связи «Мегалайн» предлагают два тарифных плана: «Смарт» и «Ультра». Для корректировки рекламного бюджета, коммерческий департамент хочет понять, какой тариф приносит больше денег.\n",
    "Ниже - предварительный анализ тарифов на небольшой выборке клиентов(данные 500 пользователей «Мегалайна»: кто они, откуда, каким тарифом пользуются, сколько звонков и сообщений каждый отправил за 2018 год)."
   ]
  },
  {
   "cell_type": "markdown",
   "metadata": {
    "id": "wEsI6vLO0nEf"
   },
   "source": [
    "**Описание тарифов**\n",
    "\n",
    "**Тариф «Смарт»**\n",
    "- Ежемесячная плата: 550 рублей\n",
    "- Включено 500 минут разговора, 50 сообщений и 15 Гб интернет-трафика\n",
    "\n",
    "\n",
    "*Стоимость услуг сверх тарифного пакета:*\n",
    "- минута разговора: 3 рубля\n",
    "- сообщение: 3 рубля\n",
    "- 1 Гб интернет-трафика: 200 рублей\n",
    "\n",
    "\n",
    "**Тариф «Ультра»**\n",
    "- Ежемесячная плата: 1950 рублей\n",
    "- Включено 3000 минут разговора, 1000 сообщений и 30 Гб интернет-трафика\n",
    "\n",
    "*Стоимость услуг сверх тарифного пакета:*\n",
    "- минута разговора: 1 рубль\n",
    "- сообщение: 1 рубль\n",
    "- 1 Гб интернет-трафика: 150 рублей"
   ]
  },
  {
   "cell_type": "markdown",
   "metadata": {},
   "source": [
    "**План проекта:** \n",
    "- Изучение общей информации по датасетам, по которым будет проводиться анализ.\n",
    "- Подготовка данных для дальнейшего анализа, а именно:\n",
    "    - Приведение данных к нужным типам\n",
    "    - Проверка дадасетов на ошибки в данных и исправление их.\n",
    "- Рассчеты по имеющимся данным (для каждого пользователя): \n",
    "    - Количество сделанных звонков и израсходованных минут разговора по месяцам\n",
    "    - Количество отправленных сообщений по месяцам\n",
    "    - Объем израсходованного интернет-трафика по месяцам\n",
    "    - Помесячная выручка с каждого пользователя \n",
    "- Описание поведения клиентов оператора, исходя из выборки:\n",
    "    - Расчет количества минут, сообщений и объёма интернет-трафика, который требуется пользователям каждого тарифа в месяц.\n",
    "    - Расчет среднего количества, дисперсии и стандартного отклонения.\n",
    "    - Визуализация расчетов. \n",
    "    - Сравнение тарифных планов.\n",
    "- Проверка гипотез:\n",
    "    - Гипотеза 1: \"Средняя выручка пользователей тарифов «Ультра» и «Смарт» различаются\"\n",
    "    - Гипотеза 2: \"Средняя выручка пользователей из Москвы отличается от выручки пользователей из других регионов\"\n",
    "- Выводы по проекту\n"
   ]
  },
  {
   "cell_type": "markdown",
   "metadata": {
    "id": "N0-IJjL30fiB"
   },
   "source": [
    "🔹  <font color='blue'><b>    Цель проекта:</b> Проанализировать поведение клиентов на тарифных планах: «Смарт» и «Ультра» и сделать вывод — какой тариф приносит больше денег."
   ]
  },
  {
   "cell_type": "markdown",
   "metadata": {
    "id": "wk8qCmtE1VPU"
   },
   "source": [
    "## Изучение данных"
   ]
  },
  {
   "cell_type": "markdown",
   "metadata": {
    "id": "GW1_Uy7t2I-G"
   },
   "source": [
    "<div class=\"alert alert-info\"><b>Общая информация</b> о таблице <b>calls</b> и обзор первых 5ти строк таблицы</div>"
   ]
  },
  {
   "cell_type": "code",
   "execution_count": 75,
   "metadata": {
    "colab": {
     "base_uri": "https://localhost:8080/",
     "height": 913
    },
    "executionInfo": {
     "elapsed": 1351,
     "status": "ok",
     "timestamp": 1654795681947,
     "user": {
      "displayName": "Дарья Алесенкова",
      "userId": "04509170127932489817"
     },
     "user_tz": -120
    },
    "id": "QijEWiwE2LhQ",
    "outputId": "72d33c5f-e317-407d-d031-ef2325cb1ab9"
   },
   "outputs": [
    {
     "name": "stdout",
     "output_type": "stream",
     "text": [
      "Первые 5 строк датафрейма calls\n"
     ]
    },
    {
     "data": {
      "text/html": [
       "<div>\n",
       "<style scoped>\n",
       "    .dataframe tbody tr th:only-of-type {\n",
       "        vertical-align: middle;\n",
       "    }\n",
       "\n",
       "    .dataframe tbody tr th {\n",
       "        vertical-align: top;\n",
       "    }\n",
       "\n",
       "    .dataframe thead th {\n",
       "        text-align: right;\n",
       "    }\n",
       "</style>\n",
       "<table border=\"1\" class=\"dataframe\">\n",
       "  <thead>\n",
       "    <tr style=\"text-align: right;\">\n",
       "      <th></th>\n",
       "      <th>id</th>\n",
       "      <th>call_date</th>\n",
       "      <th>duration</th>\n",
       "      <th>user_id</th>\n",
       "    </tr>\n",
       "  </thead>\n",
       "  <tbody>\n",
       "    <tr>\n",
       "      <th>0</th>\n",
       "      <td>1000_0</td>\n",
       "      <td>2018-07-25</td>\n",
       "      <td>0.000</td>\n",
       "      <td>1000</td>\n",
       "    </tr>\n",
       "    <tr>\n",
       "      <th>1</th>\n",
       "      <td>1000_1</td>\n",
       "      <td>2018-08-17</td>\n",
       "      <td>0.000</td>\n",
       "      <td>1000</td>\n",
       "    </tr>\n",
       "    <tr>\n",
       "      <th>2</th>\n",
       "      <td>1000_2</td>\n",
       "      <td>2018-06-11</td>\n",
       "      <td>2.850</td>\n",
       "      <td>1000</td>\n",
       "    </tr>\n",
       "    <tr>\n",
       "      <th>3</th>\n",
       "      <td>1000_3</td>\n",
       "      <td>2018-09-21</td>\n",
       "      <td>13.800</td>\n",
       "      <td>1000</td>\n",
       "    </tr>\n",
       "    <tr>\n",
       "      <th>4</th>\n",
       "      <td>1000_4</td>\n",
       "      <td>2018-12-15</td>\n",
       "      <td>5.180</td>\n",
       "      <td>1000</td>\n",
       "    </tr>\n",
       "  </tbody>\n",
       "</table>\n",
       "</div>"
      ],
      "text/plain": [
       "       id   call_date  duration  user_id\n",
       "0  1000_0  2018-07-25     0.000     1000\n",
       "1  1000_1  2018-08-17     0.000     1000\n",
       "2  1000_2  2018-06-11     2.850     1000\n",
       "3  1000_3  2018-09-21    13.800     1000\n",
       "4  1000_4  2018-12-15     5.180     1000"
      ]
     },
     "metadata": {},
     "output_type": "display_data"
    },
    {
     "name": "stdout",
     "output_type": "stream",
     "text": [
      "= = = = = = = = = = = = = = = = = = = = = = = = = = = = = = = = = = = = = = = = = = = = = = = = = = = = = = = = = = = = \n",
      "Общая информация: \n",
      "<class 'pandas.core.frame.DataFrame'>\n",
      "RangeIndex: 202607 entries, 0 to 202606\n",
      "Data columns (total 4 columns):\n",
      " #   Column     Non-Null Count   Dtype  \n",
      "---  ------     --------------   -----  \n",
      " 0   id         202607 non-null  object \n",
      " 1   call_date  202607 non-null  object \n",
      " 2   duration   202607 non-null  float64\n",
      " 3   user_id    202607 non-null  int64  \n",
      "dtypes: float64(1), int64(1), object(2)\n",
      "memory usage: 6.2+ MB\n",
      "= = = = = = = = = = = = = = = = = = = = = = = = = = = = = = = = = = = = = = = = = = = = = = = = = = = = = = = = = = = = \n",
      "Описательная статистика:\n"
     ]
    },
    {
     "data": {
      "text/html": [
       "<div>\n",
       "<style scoped>\n",
       "    .dataframe tbody tr th:only-of-type {\n",
       "        vertical-align: middle;\n",
       "    }\n",
       "\n",
       "    .dataframe tbody tr th {\n",
       "        vertical-align: top;\n",
       "    }\n",
       "\n",
       "    .dataframe thead th {\n",
       "        text-align: right;\n",
       "    }\n",
       "</style>\n",
       "<table border=\"1\" class=\"dataframe\">\n",
       "  <thead>\n",
       "    <tr style=\"text-align: right;\">\n",
       "      <th></th>\n",
       "      <th>id</th>\n",
       "      <th>call_date</th>\n",
       "      <th>duration</th>\n",
       "      <th>user_id</th>\n",
       "    </tr>\n",
       "  </thead>\n",
       "  <tbody>\n",
       "    <tr>\n",
       "      <th>count</th>\n",
       "      <td>202607</td>\n",
       "      <td>202607</td>\n",
       "      <td>202607.000</td>\n",
       "      <td>202607.000</td>\n",
       "    </tr>\n",
       "    <tr>\n",
       "      <th>unique</th>\n",
       "      <td>202607</td>\n",
       "      <td>365</td>\n",
       "      <td>NaN</td>\n",
       "      <td>NaN</td>\n",
       "    </tr>\n",
       "    <tr>\n",
       "      <th>top</th>\n",
       "      <td>1497_138</td>\n",
       "      <td>2018-12-31</td>\n",
       "      <td>NaN</td>\n",
       "      <td>NaN</td>\n",
       "    </tr>\n",
       "    <tr>\n",
       "      <th>freq</th>\n",
       "      <td>1</td>\n",
       "      <td>1435</td>\n",
       "      <td>NaN</td>\n",
       "      <td>NaN</td>\n",
       "    </tr>\n",
       "    <tr>\n",
       "      <th>mean</th>\n",
       "      <td>NaN</td>\n",
       "      <td>NaN</td>\n",
       "      <td>6.756</td>\n",
       "      <td>1253.941</td>\n",
       "    </tr>\n",
       "    <tr>\n",
       "      <th>std</th>\n",
       "      <td>NaN</td>\n",
       "      <td>NaN</td>\n",
       "      <td>5.843</td>\n",
       "      <td>144.723</td>\n",
       "    </tr>\n",
       "    <tr>\n",
       "      <th>min</th>\n",
       "      <td>NaN</td>\n",
       "      <td>NaN</td>\n",
       "      <td>0.000</td>\n",
       "      <td>1000.000</td>\n",
       "    </tr>\n",
       "    <tr>\n",
       "      <th>25%</th>\n",
       "      <td>NaN</td>\n",
       "      <td>NaN</td>\n",
       "      <td>1.300</td>\n",
       "      <td>1126.000</td>\n",
       "    </tr>\n",
       "    <tr>\n",
       "      <th>50%</th>\n",
       "      <td>NaN</td>\n",
       "      <td>NaN</td>\n",
       "      <td>6.000</td>\n",
       "      <td>1260.000</td>\n",
       "    </tr>\n",
       "    <tr>\n",
       "      <th>75%</th>\n",
       "      <td>NaN</td>\n",
       "      <td>NaN</td>\n",
       "      <td>10.700</td>\n",
       "      <td>1379.000</td>\n",
       "    </tr>\n",
       "    <tr>\n",
       "      <th>max</th>\n",
       "      <td>NaN</td>\n",
       "      <td>NaN</td>\n",
       "      <td>38.000</td>\n",
       "      <td>1499.000</td>\n",
       "    </tr>\n",
       "  </tbody>\n",
       "</table>\n",
       "</div>"
      ],
      "text/plain": [
       "              id   call_date   duration    user_id\n",
       "count     202607      202607 202607.000 202607.000\n",
       "unique    202607         365        NaN        NaN\n",
       "top     1497_138  2018-12-31        NaN        NaN\n",
       "freq           1        1435        NaN        NaN\n",
       "mean         NaN         NaN      6.756   1253.941\n",
       "std          NaN         NaN      5.843    144.723\n",
       "min          NaN         NaN      0.000   1000.000\n",
       "25%          NaN         NaN      1.300   1126.000\n",
       "50%          NaN         NaN      6.000   1260.000\n",
       "75%          NaN         NaN     10.700   1379.000\n",
       "max          NaN         NaN     38.000   1499.000"
      ]
     },
     "metadata": {},
     "output_type": "display_data"
    },
    {
     "name": "stdout",
     "output_type": "stream",
     "text": [
      "= = = = = = = = = = = = = = = = = = = = = = = = = = = = = = = = = = = = = = = = = = = = = = = = = = = = = = = = = = = = \n",
      "Полных дубликатов: 0\n",
      "= = = = = = = = = = = = = = = = = = = = = = = = = = = = = = = = = = = = = = = = = = = = = = = = = = = = = = = = = = = = \n"
     ]
    }
   ],
   "source": [
    "import pandas as pd\n",
    "import numpy as np\n",
    "import matplotlib.pyplot as plt\n",
    "from scipy import stats as st\n",
    "import warnings\n",
    "warnings.filterwarnings(\"ignore\")\n",
    "\n",
    "#убираем scientific notation для лучшего восприятия\n",
    "pd.set_option('display.float_format', lambda x: '%.3f' % x)\n",
    "\n",
    "data_calls = pd.read_csv('calls.csv')\n",
    "\n",
    "print('Первые 5 строк датафрейма calls')\n",
    "display(data_calls.head())\n",
    "print(60 * '= ')\n",
    "\n",
    "print('Общая информация: ')\n",
    "data_calls.info()\n",
    "print(60 * '= ')\n",
    "\n",
    "print('Описательная статистика:')\n",
    "display(data_calls.describe(include='all'))\n",
    "print(60 * '= ')\n",
    "\n",
    "print(f'Полных дубликатов: {data_calls.duplicated().sum()}')\n",
    "print(60 * '= ')"
   ]
  },
  {
   "cell_type": "code",
   "execution_count": 76,
   "metadata": {
    "colab": {
     "base_uri": "https://localhost:8080/"
    },
    "executionInfo": {
     "elapsed": 17,
     "status": "ok",
     "timestamp": 1654795681950,
     "user": {
      "displayName": "Дарья Алесенкова",
      "userId": "04509170127932489817"
     },
     "user_tz": -120
    },
    "id": "m9dDfr6zZp-J",
    "outputId": "960b5ac4-9a91-4e5f-ffaa-2b958d0ad89a"
   },
   "outputs": [
    {
     "name": "stdout",
     "output_type": "stream",
     "text": [
      "Количество строк с пропущенными звонками:\n",
      "39613 из 202607\n"
     ]
    }
   ],
   "source": [
    "print('Количество строк с пропущенными звонками:')\n",
    "print(f'{len(data_calls[data_calls[\"duration\"]==0])} из {len(data_calls)}')"
   ]
  },
  {
   "cell_type": "markdown",
   "metadata": {
    "id": "NIDqN_pm6kX8"
   },
   "source": [
    "Промежуточный вывод по таблице calls: \n",
    "- 202 тыс. строк. \n",
    "- пропусков и дубликатов нет\n",
    "- есть звонки с продолжительностью 0 (почти 40тыс из 202тыс)- не будем их удалять, так как это пропущенные звонки.\n",
    "- средняя длительность звонка - 6.7 мин. Медиана - 6 мин.\n",
    "- в столбце call_date - поменять тип данных на datetime64\n",
    "- в столбце duration - округлить значения до минут в большую сторону.(для анализа нам будут нужны минуты)\n"
   ]
  },
  {
   "cell_type": "markdown",
   "metadata": {
    "id": "xQmvS6Xe3Rqi"
   },
   "source": [
    "<div class=\"alert alert-info\"><b>Общая информация</b> о таблице <b>internet</b> и обзор первых 5ти строк таблицы</div>"
   ]
  },
  {
   "cell_type": "code",
   "execution_count": 77,
   "metadata": {
    "colab": {
     "base_uri": "https://localhost:8080/",
     "height": 930
    },
    "executionInfo": {
     "elapsed": 379,
     "status": "ok",
     "timestamp": 1654795682315,
     "user": {
      "displayName": "Дарья Алесенкова",
      "userId": "04509170127932489817"
     },
     "user_tz": -120
    },
    "id": "zz69A2ss3Rqj",
    "outputId": "427147ea-f5b3-4839-92ce-cb8405a4cc0e"
   },
   "outputs": [
    {
     "name": "stdout",
     "output_type": "stream",
     "text": [
      "Первые 5 строк датафрейма internet\n"
     ]
    },
    {
     "data": {
      "text/html": [
       "<div>\n",
       "<style scoped>\n",
       "    .dataframe tbody tr th:only-of-type {\n",
       "        vertical-align: middle;\n",
       "    }\n",
       "\n",
       "    .dataframe tbody tr th {\n",
       "        vertical-align: top;\n",
       "    }\n",
       "\n",
       "    .dataframe thead th {\n",
       "        text-align: right;\n",
       "    }\n",
       "</style>\n",
       "<table border=\"1\" class=\"dataframe\">\n",
       "  <thead>\n",
       "    <tr style=\"text-align: right;\">\n",
       "      <th></th>\n",
       "      <th>id</th>\n",
       "      <th>mb_used</th>\n",
       "      <th>session_date</th>\n",
       "      <th>user_id</th>\n",
       "    </tr>\n",
       "  </thead>\n",
       "  <tbody>\n",
       "    <tr>\n",
       "      <th>0</th>\n",
       "      <td>1000_0</td>\n",
       "      <td>112.950</td>\n",
       "      <td>2018-11-25</td>\n",
       "      <td>1000</td>\n",
       "    </tr>\n",
       "    <tr>\n",
       "      <th>1</th>\n",
       "      <td>1000_1</td>\n",
       "      <td>1052.810</td>\n",
       "      <td>2018-09-07</td>\n",
       "      <td>1000</td>\n",
       "    </tr>\n",
       "    <tr>\n",
       "      <th>2</th>\n",
       "      <td>1000_2</td>\n",
       "      <td>1197.260</td>\n",
       "      <td>2018-06-25</td>\n",
       "      <td>1000</td>\n",
       "    </tr>\n",
       "    <tr>\n",
       "      <th>3</th>\n",
       "      <td>1000_3</td>\n",
       "      <td>550.270</td>\n",
       "      <td>2018-08-22</td>\n",
       "      <td>1000</td>\n",
       "    </tr>\n",
       "    <tr>\n",
       "      <th>4</th>\n",
       "      <td>1000_4</td>\n",
       "      <td>302.560</td>\n",
       "      <td>2018-09-24</td>\n",
       "      <td>1000</td>\n",
       "    </tr>\n",
       "  </tbody>\n",
       "</table>\n",
       "</div>"
      ],
      "text/plain": [
       "       id  mb_used session_date  user_id\n",
       "0  1000_0  112.950   2018-11-25     1000\n",
       "1  1000_1 1052.810   2018-09-07     1000\n",
       "2  1000_2 1197.260   2018-06-25     1000\n",
       "3  1000_3  550.270   2018-08-22     1000\n",
       "4  1000_4  302.560   2018-09-24     1000"
      ]
     },
     "metadata": {},
     "output_type": "display_data"
    },
    {
     "name": "stdout",
     "output_type": "stream",
     "text": [
      "= = = = = = = = = = = = = = = = = = = = = = = = = = = = = = = = = = = = = = = = = = = = = = = = = = = = = = = = = = = = \n",
      "Общая информация: \n",
      "<class 'pandas.core.frame.DataFrame'>\n",
      "Int64Index: 149396 entries, 0 to 149395\n",
      "Data columns (total 4 columns):\n",
      " #   Column        Non-Null Count   Dtype  \n",
      "---  ------        --------------   -----  \n",
      " 0   id            149396 non-null  object \n",
      " 1   mb_used       149396 non-null  float64\n",
      " 2   session_date  149396 non-null  object \n",
      " 3   user_id       149396 non-null  int64  \n",
      "dtypes: float64(1), int64(1), object(2)\n",
      "memory usage: 5.7+ MB\n",
      "= = = = = = = = = = = = = = = = = = = = = = = = = = = = = = = = = = = = = = = = = = = = = = = = = = = = = = = = = = = = \n",
      "Описательная статистика:\n"
     ]
    },
    {
     "data": {
      "text/html": [
       "<div>\n",
       "<style scoped>\n",
       "    .dataframe tbody tr th:only-of-type {\n",
       "        vertical-align: middle;\n",
       "    }\n",
       "\n",
       "    .dataframe tbody tr th {\n",
       "        vertical-align: top;\n",
       "    }\n",
       "\n",
       "    .dataframe thead th {\n",
       "        text-align: right;\n",
       "    }\n",
       "</style>\n",
       "<table border=\"1\" class=\"dataframe\">\n",
       "  <thead>\n",
       "    <tr style=\"text-align: right;\">\n",
       "      <th></th>\n",
       "      <th>id</th>\n",
       "      <th>mb_used</th>\n",
       "      <th>session_date</th>\n",
       "      <th>user_id</th>\n",
       "    </tr>\n",
       "  </thead>\n",
       "  <tbody>\n",
       "    <tr>\n",
       "      <th>count</th>\n",
       "      <td>149396</td>\n",
       "      <td>149396.000</td>\n",
       "      <td>149396</td>\n",
       "      <td>149396.000</td>\n",
       "    </tr>\n",
       "    <tr>\n",
       "      <th>unique</th>\n",
       "      <td>149396</td>\n",
       "      <td>NaN</td>\n",
       "      <td>365</td>\n",
       "      <td>NaN</td>\n",
       "    </tr>\n",
       "    <tr>\n",
       "      <th>top</th>\n",
       "      <td>1174_99</td>\n",
       "      <td>NaN</td>\n",
       "      <td>2018-12-31</td>\n",
       "      <td>NaN</td>\n",
       "    </tr>\n",
       "    <tr>\n",
       "      <th>freq</th>\n",
       "      <td>1</td>\n",
       "      <td>NaN</td>\n",
       "      <td>1057</td>\n",
       "      <td>NaN</td>\n",
       "    </tr>\n",
       "    <tr>\n",
       "      <th>mean</th>\n",
       "      <td>NaN</td>\n",
       "      <td>370.192</td>\n",
       "      <td>NaN</td>\n",
       "      <td>1252.100</td>\n",
       "    </tr>\n",
       "    <tr>\n",
       "      <th>std</th>\n",
       "      <td>NaN</td>\n",
       "      <td>278.301</td>\n",
       "      <td>NaN</td>\n",
       "      <td>144.051</td>\n",
       "    </tr>\n",
       "    <tr>\n",
       "      <th>min</th>\n",
       "      <td>NaN</td>\n",
       "      <td>0.000</td>\n",
       "      <td>NaN</td>\n",
       "      <td>1000.000</td>\n",
       "    </tr>\n",
       "    <tr>\n",
       "      <th>25%</th>\n",
       "      <td>NaN</td>\n",
       "      <td>138.188</td>\n",
       "      <td>NaN</td>\n",
       "      <td>1130.000</td>\n",
       "    </tr>\n",
       "    <tr>\n",
       "      <th>50%</th>\n",
       "      <td>NaN</td>\n",
       "      <td>348.015</td>\n",
       "      <td>NaN</td>\n",
       "      <td>1251.000</td>\n",
       "    </tr>\n",
       "    <tr>\n",
       "      <th>75%</th>\n",
       "      <td>NaN</td>\n",
       "      <td>559.553</td>\n",
       "      <td>NaN</td>\n",
       "      <td>1380.000</td>\n",
       "    </tr>\n",
       "    <tr>\n",
       "      <th>max</th>\n",
       "      <td>NaN</td>\n",
       "      <td>1724.830</td>\n",
       "      <td>NaN</td>\n",
       "      <td>1499.000</td>\n",
       "    </tr>\n",
       "  </tbody>\n",
       "</table>\n",
       "</div>"
      ],
      "text/plain": [
       "             id    mb_used session_date    user_id\n",
       "count    149396 149396.000       149396 149396.000\n",
       "unique   149396        NaN          365        NaN\n",
       "top     1174_99        NaN   2018-12-31        NaN\n",
       "freq          1        NaN         1057        NaN\n",
       "mean        NaN    370.192          NaN   1252.100\n",
       "std         NaN    278.301          NaN    144.051\n",
       "min         NaN      0.000          NaN   1000.000\n",
       "25%         NaN    138.188          NaN   1130.000\n",
       "50%         NaN    348.015          NaN   1251.000\n",
       "75%         NaN    559.553          NaN   1380.000\n",
       "max         NaN   1724.830          NaN   1499.000"
      ]
     },
     "metadata": {},
     "output_type": "display_data"
    },
    {
     "name": "stdout",
     "output_type": "stream",
     "text": [
      "= = = = = = = = = = = = = = = = = = = = = = = = = = = = = = = = = = = = = = = = = = = = = = = = = = = = = = = = = = = = \n",
      "Полных дубликатов: 0\n",
      "= = = = = = = = = = = = = = = = = = = = = = = = = = = = = = = = = = = = = = = = = = = = = = = = = = = = = = = = = = = = \n"
     ]
    }
   ],
   "source": [
    "data_internet = pd.read_csv('internet.csv', index_col=0)\n",
    "print('Первые 5 строк датафрейма internet')\n",
    "display(data_internet.head())\n",
    "print(60 * '= ')\n",
    "\n",
    "print('Общая информация: ')\n",
    "data_internet.info()\n",
    "print(60 * '= ')\n",
    "\n",
    "print('Описательная статистика:')\n",
    "display(data_internet.describe(include='all'))\n",
    "print(60 * '= ')\n",
    "\n",
    "print(f'Полных дубликатов: {data_internet.duplicated().sum()}')\n",
    "print(60 * '= ')"
   ]
  },
  {
   "cell_type": "code",
   "execution_count": 78,
   "metadata": {
    "colab": {
     "base_uri": "https://localhost:8080/"
    },
    "executionInfo": {
     "elapsed": 12,
     "status": "ok",
     "timestamp": 1654795682316,
     "user": {
      "displayName": "Дарья Алесенкова",
      "userId": "04509170127932489817"
     },
     "user_tz": -120
    },
    "id": "hAxwG-moXo1o",
    "outputId": "4af94a74-5780-4137-e0e0-87b73239861d"
   },
   "outputs": [
    {
     "name": "stdout",
     "output_type": "stream",
     "text": [
      "Количество строк с интернет-сессией 0 мб:\n",
      "19598 из 149396\n"
     ]
    }
   ],
   "source": [
    "print('Количество строк с интернет-сессией 0 мб:')\n",
    "print(f'{len(data_internet[data_internet[\"mb_used\"]==0])} из {len(data_internet)}')"
   ]
  },
  {
   "cell_type": "markdown",
   "metadata": {},
   "source": [
    "<div class=\"alert alert-info\"> Смотрим на гистограмму распределения объема интернет-сессий </div>"
   ]
  },
  {
   "cell_type": "code",
   "execution_count": 79,
   "metadata": {
    "scrolled": true
   },
   "outputs": [
    {
     "data": {
      "text/plain": [
       "<AxesSubplot:>"
      ]
     },
     "execution_count": 79,
     "metadata": {},
     "output_type": "execute_result"
    },
    {
     "data": {
      "image/png": "[encoded data removed]",
      "text/plain": [
       "<Figure size 640x480 with 1 Axes>"
      ]
     },
     "metadata": {},
     "output_type": "display_data"
    }
   ],
   "source": [
    "data_internet['mb_used'].hist()"
   ]
  },
  {
   "cell_type": "markdown",
   "metadata": {
    "id": "1yBLtZEx8VDz"
   },
   "source": [
    "Промежуточный вывод по таблице internet: \n",
    "- 150 тыс. строк. \n",
    "- пропусков и дубликатов нет\n",
    "- среднее потребление интернета - 370 мб. Медиана - 348 мб.\n",
    "- почти 20 тыс строк из 150 тыс - с нулевой интернет-сессией. \n",
    "\n",
    "- в столбце session_date - поменять тип данных на datetime64\n",
    "- в столбце mb_used - в следующих шагах округлим значения с большую сторону и переведем мб в гб(для анализа и расчетов нам будут нужны гб)\n",
    "\n",
    "**- распределение интернет-сессий плавное. Выраженных аномалий нет.**"
   ]
  },
  {
   "cell_type": "markdown",
   "metadata": {
    "id": "ssN9dQ6Z3bD1"
   },
   "source": [
    "<div class=\"alert alert-info\"><b>Общая информация</b> о таблице <b>messages</b> и обзор первых 5ти строк таблицы</div>"
   ]
  },
  {
   "cell_type": "code",
   "execution_count": 80,
   "metadata": {
    "colab": {
     "base_uri": "https://localhost:8080/",
     "height": 896
    },
    "executionInfo": {
     "elapsed": 757,
     "status": "ok",
     "timestamp": 1654795683063,
     "user": {
      "displayName": "Дарья Алесенкова",
      "userId": "04509170127932489817"
     },
     "user_tz": -120
    },
    "id": "G-_suNzW3bD2",
    "outputId": "1cfd446e-150f-4942-ea9d-89aa6e03a5d0"
   },
   "outputs": [
    {
     "name": "stdout",
     "output_type": "stream",
     "text": [
      "Первые 5 строк датафрейма messages\n"
     ]
    },
    {
     "data": {
      "text/html": [
       "<div>\n",
       "<style scoped>\n",
       "    .dataframe tbody tr th:only-of-type {\n",
       "        vertical-align: middle;\n",
       "    }\n",
       "\n",
       "    .dataframe tbody tr th {\n",
       "        vertical-align: top;\n",
       "    }\n",
       "\n",
       "    .dataframe thead th {\n",
       "        text-align: right;\n",
       "    }\n",
       "</style>\n",
       "<table border=\"1\" class=\"dataframe\">\n",
       "  <thead>\n",
       "    <tr style=\"text-align: right;\">\n",
       "      <th></th>\n",
       "      <th>id</th>\n",
       "      <th>message_date</th>\n",
       "      <th>user_id</th>\n",
       "    </tr>\n",
       "  </thead>\n",
       "  <tbody>\n",
       "    <tr>\n",
       "      <th>0</th>\n",
       "      <td>1000_0</td>\n",
       "      <td>2018-06-27</td>\n",
       "      <td>1000</td>\n",
       "    </tr>\n",
       "    <tr>\n",
       "      <th>1</th>\n",
       "      <td>1000_1</td>\n",
       "      <td>2018-10-08</td>\n",
       "      <td>1000</td>\n",
       "    </tr>\n",
       "    <tr>\n",
       "      <th>2</th>\n",
       "      <td>1000_2</td>\n",
       "      <td>2018-08-04</td>\n",
       "      <td>1000</td>\n",
       "    </tr>\n",
       "    <tr>\n",
       "      <th>3</th>\n",
       "      <td>1000_3</td>\n",
       "      <td>2018-06-16</td>\n",
       "      <td>1000</td>\n",
       "    </tr>\n",
       "    <tr>\n",
       "      <th>4</th>\n",
       "      <td>1000_4</td>\n",
       "      <td>2018-12-05</td>\n",
       "      <td>1000</td>\n",
       "    </tr>\n",
       "  </tbody>\n",
       "</table>\n",
       "</div>"
      ],
      "text/plain": [
       "       id message_date  user_id\n",
       "0  1000_0   2018-06-27     1000\n",
       "1  1000_1   2018-10-08     1000\n",
       "2  1000_2   2018-08-04     1000\n",
       "3  1000_3   2018-06-16     1000\n",
       "4  1000_4   2018-12-05     1000"
      ]
     },
     "metadata": {},
     "output_type": "display_data"
    },
    {
     "name": "stdout",
     "output_type": "stream",
     "text": [
      "= = = = = = = = = = = = = = = = = = = = = = = = = = = = = = = = = = = = = = = = = = = = = = = = = = = = = = = = = = = = \n",
      "Общая информация: \n",
      "<class 'pandas.core.frame.DataFrame'>\n",
      "RangeIndex: 123036 entries, 0 to 123035\n",
      "Data columns (total 3 columns):\n",
      " #   Column        Non-Null Count   Dtype \n",
      "---  ------        --------------   ----- \n",
      " 0   id            123036 non-null  object\n",
      " 1   message_date  123036 non-null  object\n",
      " 2   user_id       123036 non-null  int64 \n",
      "dtypes: int64(1), object(2)\n",
      "memory usage: 2.8+ MB\n",
      "= = = = = = = = = = = = = = = = = = = = = = = = = = = = = = = = = = = = = = = = = = = = = = = = = = = = = = = = = = = = \n",
      "Описательная статистика:\n"
     ]
    },
    {
     "data": {
      "text/html": [
       "<div>\n",
       "<style scoped>\n",
       "    .dataframe tbody tr th:only-of-type {\n",
       "        vertical-align: middle;\n",
       "    }\n",
       "\n",
       "    .dataframe tbody tr th {\n",
       "        vertical-align: top;\n",
       "    }\n",
       "\n",
       "    .dataframe thead th {\n",
       "        text-align: right;\n",
       "    }\n",
       "</style>\n",
       "<table border=\"1\" class=\"dataframe\">\n",
       "  <thead>\n",
       "    <tr style=\"text-align: right;\">\n",
       "      <th></th>\n",
       "      <th>id</th>\n",
       "      <th>message_date</th>\n",
       "      <th>user_id</th>\n",
       "    </tr>\n",
       "  </thead>\n",
       "  <tbody>\n",
       "    <tr>\n",
       "      <th>count</th>\n",
       "      <td>123036</td>\n",
       "      <td>123036</td>\n",
       "      <td>123036.000</td>\n",
       "    </tr>\n",
       "    <tr>\n",
       "      <th>unique</th>\n",
       "      <td>123036</td>\n",
       "      <td>364</td>\n",
       "      <td>NaN</td>\n",
       "    </tr>\n",
       "    <tr>\n",
       "      <th>top</th>\n",
       "      <td>1174_99</td>\n",
       "      <td>2018-12-31</td>\n",
       "      <td>NaN</td>\n",
       "    </tr>\n",
       "    <tr>\n",
       "      <th>freq</th>\n",
       "      <td>1</td>\n",
       "      <td>859</td>\n",
       "      <td>NaN</td>\n",
       "    </tr>\n",
       "    <tr>\n",
       "      <th>mean</th>\n",
       "      <td>NaN</td>\n",
       "      <td>NaN</td>\n",
       "      <td>1256.989</td>\n",
       "    </tr>\n",
       "    <tr>\n",
       "      <th>std</th>\n",
       "      <td>NaN</td>\n",
       "      <td>NaN</td>\n",
       "      <td>143.524</td>\n",
       "    </tr>\n",
       "    <tr>\n",
       "      <th>min</th>\n",
       "      <td>NaN</td>\n",
       "      <td>NaN</td>\n",
       "      <td>1000.000</td>\n",
       "    </tr>\n",
       "    <tr>\n",
       "      <th>25%</th>\n",
       "      <td>NaN</td>\n",
       "      <td>NaN</td>\n",
       "      <td>1134.000</td>\n",
       "    </tr>\n",
       "    <tr>\n",
       "      <th>50%</th>\n",
       "      <td>NaN</td>\n",
       "      <td>NaN</td>\n",
       "      <td>1271.000</td>\n",
       "    </tr>\n",
       "    <tr>\n",
       "      <th>75%</th>\n",
       "      <td>NaN</td>\n",
       "      <td>NaN</td>\n",
       "      <td>1381.000</td>\n",
       "    </tr>\n",
       "    <tr>\n",
       "      <th>max</th>\n",
       "      <td>NaN</td>\n",
       "      <td>NaN</td>\n",
       "      <td>1499.000</td>\n",
       "    </tr>\n",
       "  </tbody>\n",
       "</table>\n",
       "</div>"
      ],
      "text/plain": [
       "             id message_date    user_id\n",
       "count    123036       123036 123036.000\n",
       "unique   123036          364        NaN\n",
       "top     1174_99   2018-12-31        NaN\n",
       "freq          1          859        NaN\n",
       "mean        NaN          NaN   1256.989\n",
       "std         NaN          NaN    143.524\n",
       "min         NaN          NaN   1000.000\n",
       "25%         NaN          NaN   1134.000\n",
       "50%         NaN          NaN   1271.000\n",
       "75%         NaN          NaN   1381.000\n",
       "max         NaN          NaN   1499.000"
      ]
     },
     "metadata": {},
     "output_type": "display_data"
    },
    {
     "name": "stdout",
     "output_type": "stream",
     "text": [
      "= = = = = = = = = = = = = = = = = = = = = = = = = = = = = = = = = = = = = = = = = = = = = = = = = = = = = = = = = = = = \n",
      "Полных дубликатов: 0\n",
      "= = = = = = = = = = = = = = = = = = = = = = = = = = = = = = = = = = = = = = = = = = = = = = = = = = = = = = = = = = = = \n"
     ]
    }
   ],
   "source": [
    "data_messages = pd.read_csv('messages.csv')#('/content/drive/MyDrive/Colab Notebooks/проект 4/messages.csv')\n",
    "\n",
    "print('Первые 5 строк датафрейма messages')\n",
    "display(data_messages.head())\n",
    "print(60 * '= ')\n",
    "\n",
    "print('Общая информация: ')\n",
    "data_messages.info()\n",
    "print(60 * '= ')\n",
    "\n",
    "print('Описательная статистика:')\n",
    "display(data_messages.describe(include='all'))\n",
    "print(60 * '= ')\n",
    "\n",
    "print(f'Полных дубликатов: {data_messages.duplicated().sum()}')\n",
    "print(60 * '= ')"
   ]
  },
  {
   "cell_type": "markdown",
   "metadata": {
    "id": "hBFGvusy3b1l"
   },
   "source": [
    "Промежуточный вывод по таблице messages: \n",
    "- 123 тыс. строк. \n",
    "- пропусков и дубликатов нет\n",
    "- в столбце message_date - поменять тип данных на datetime64"
   ]
  },
  {
   "cell_type": "markdown",
   "metadata": {
    "id": "ghUw37KH3cxW"
   },
   "source": [
    "<div class=\"alert alert-info\"><b>Общая информация</b> о таблице <b>users</b> и обзор первых 5ти строк таблицы</div>"
   ]
  },
  {
   "cell_type": "code",
   "execution_count": 81,
   "metadata": {
    "colab": {
     "base_uri": "https://localhost:8080/",
     "height": 982
    },
    "executionInfo": {
     "elapsed": 49,
     "status": "ok",
     "timestamp": 1654795683064,
     "user": {
      "displayName": "Дарья Алесенкова",
      "userId": "04509170127932489817"
     },
     "user_tz": -120
    },
    "id": "nHJ8C0m43cxW",
    "outputId": "133c35f1-ddca-4885-f09e-f724430a1870"
   },
   "outputs": [
    {
     "name": "stdout",
     "output_type": "stream",
     "text": [
      "Первые 5 строк датафрейма users\n"
     ]
    },
    {
     "data": {
      "text/html": [
       "<div>\n",
       "<style scoped>\n",
       "    .dataframe tbody tr th:only-of-type {\n",
       "        vertical-align: middle;\n",
       "    }\n",
       "\n",
       "    .dataframe tbody tr th {\n",
       "        vertical-align: top;\n",
       "    }\n",
       "\n",
       "    .dataframe thead th {\n",
       "        text-align: right;\n",
       "    }\n",
       "</style>\n",
       "<table border=\"1\" class=\"dataframe\">\n",
       "  <thead>\n",
       "    <tr style=\"text-align: right;\">\n",
       "      <th></th>\n",
       "      <th>user_id</th>\n",
       "      <th>age</th>\n",
       "      <th>churn_date</th>\n",
       "      <th>city</th>\n",
       "      <th>first_name</th>\n",
       "      <th>last_name</th>\n",
       "      <th>reg_date</th>\n",
       "      <th>tariff</th>\n",
       "    </tr>\n",
       "  </thead>\n",
       "  <tbody>\n",
       "    <tr>\n",
       "      <th>0</th>\n",
       "      <td>1000</td>\n",
       "      <td>52</td>\n",
       "      <td>NaN</td>\n",
       "      <td>Краснодар</td>\n",
       "      <td>Рафаил</td>\n",
       "      <td>Верещагин</td>\n",
       "      <td>2018-05-25</td>\n",
       "      <td>ultra</td>\n",
       "    </tr>\n",
       "    <tr>\n",
       "      <th>1</th>\n",
       "      <td>1001</td>\n",
       "      <td>41</td>\n",
       "      <td>NaN</td>\n",
       "      <td>Москва</td>\n",
       "      <td>Иван</td>\n",
       "      <td>Ежов</td>\n",
       "      <td>2018-11-01</td>\n",
       "      <td>smart</td>\n",
       "    </tr>\n",
       "    <tr>\n",
       "      <th>2</th>\n",
       "      <td>1002</td>\n",
       "      <td>59</td>\n",
       "      <td>NaN</td>\n",
       "      <td>Стерлитамак</td>\n",
       "      <td>Евгений</td>\n",
       "      <td>Абрамович</td>\n",
       "      <td>2018-06-17</td>\n",
       "      <td>smart</td>\n",
       "    </tr>\n",
       "    <tr>\n",
       "      <th>3</th>\n",
       "      <td>1003</td>\n",
       "      <td>23</td>\n",
       "      <td>NaN</td>\n",
       "      <td>Москва</td>\n",
       "      <td>Белла</td>\n",
       "      <td>Белякова</td>\n",
       "      <td>2018-08-17</td>\n",
       "      <td>ultra</td>\n",
       "    </tr>\n",
       "    <tr>\n",
       "      <th>4</th>\n",
       "      <td>1004</td>\n",
       "      <td>68</td>\n",
       "      <td>NaN</td>\n",
       "      <td>Новокузнецк</td>\n",
       "      <td>Татьяна</td>\n",
       "      <td>Авдеенко</td>\n",
       "      <td>2018-05-14</td>\n",
       "      <td>ultra</td>\n",
       "    </tr>\n",
       "  </tbody>\n",
       "</table>\n",
       "</div>"
      ],
      "text/plain": [
       "   user_id  age churn_date         city first_name  last_name    reg_date  \\\n",
       "0     1000   52        NaN    Краснодар     Рафаил  Верещагин  2018-05-25   \n",
       "1     1001   41        NaN       Москва       Иван       Ежов  2018-11-01   \n",
       "2     1002   59        NaN  Стерлитамак    Евгений  Абрамович  2018-06-17   \n",
       "3     1003   23        NaN       Москва      Белла   Белякова  2018-08-17   \n",
       "4     1004   68        NaN  Новокузнецк    Татьяна   Авдеенко  2018-05-14   \n",
       "\n",
       "  tariff  \n",
       "0  ultra  \n",
       "1  smart  \n",
       "2  smart  \n",
       "3  ultra  \n",
       "4  ultra  "
      ]
     },
     "metadata": {},
     "output_type": "display_data"
    },
    {
     "name": "stdout",
     "output_type": "stream",
     "text": [
      "= = = = = = = = = = = = = = = = = = = = = = = = = = = = = = = = = = = = = = = = = = = = = = = = = = = = = = = = = = = = \n",
      "Общая информация: \n",
      "<class 'pandas.core.frame.DataFrame'>\n",
      "RangeIndex: 500 entries, 0 to 499\n",
      "Data columns (total 8 columns):\n",
      " #   Column      Non-Null Count  Dtype \n",
      "---  ------      --------------  ----- \n",
      " 0   user_id     500 non-null    int64 \n",
      " 1   age         500 non-null    int64 \n",
      " 2   churn_date  38 non-null     object\n",
      " 3   city        500 non-null    object\n",
      " 4   first_name  500 non-null    object\n",
      " 5   last_name   500 non-null    object\n",
      " 6   reg_date    500 non-null    object\n",
      " 7   tariff      500 non-null    object\n",
      "dtypes: int64(2), object(6)\n",
      "memory usage: 31.4+ KB\n",
      "= = = = = = = = = = = = = = = = = = = = = = = = = = = = = = = = = = = = = = = = = = = = = = = = = = = = = = = = = = = = \n",
      "Описательная статистика:\n"
     ]
    },
    {
     "data": {
      "text/html": [
       "<div>\n",
       "<style scoped>\n",
       "    .dataframe tbody tr th:only-of-type {\n",
       "        vertical-align: middle;\n",
       "    }\n",
       "\n",
       "    .dataframe tbody tr th {\n",
       "        vertical-align: top;\n",
       "    }\n",
       "\n",
       "    .dataframe thead th {\n",
       "        text-align: right;\n",
       "    }\n",
       "</style>\n",
       "<table border=\"1\" class=\"dataframe\">\n",
       "  <thead>\n",
       "    <tr style=\"text-align: right;\">\n",
       "      <th></th>\n",
       "      <th>user_id</th>\n",
       "      <th>age</th>\n",
       "      <th>churn_date</th>\n",
       "      <th>city</th>\n",
       "      <th>first_name</th>\n",
       "      <th>last_name</th>\n",
       "      <th>reg_date</th>\n",
       "      <th>tariff</th>\n",
       "    </tr>\n",
       "  </thead>\n",
       "  <tbody>\n",
       "    <tr>\n",
       "      <th>count</th>\n",
       "      <td>500.000</td>\n",
       "      <td>500.000</td>\n",
       "      <td>38</td>\n",
       "      <td>500</td>\n",
       "      <td>500</td>\n",
       "      <td>500</td>\n",
       "      <td>500</td>\n",
       "      <td>500</td>\n",
       "    </tr>\n",
       "    <tr>\n",
       "      <th>unique</th>\n",
       "      <td>NaN</td>\n",
       "      <td>NaN</td>\n",
       "      <td>33</td>\n",
       "      <td>76</td>\n",
       "      <td>246</td>\n",
       "      <td>419</td>\n",
       "      <td>270</td>\n",
       "      <td>2</td>\n",
       "    </tr>\n",
       "    <tr>\n",
       "      <th>top</th>\n",
       "      <td>NaN</td>\n",
       "      <td>NaN</td>\n",
       "      <td>2018-12-21</td>\n",
       "      <td>Москва</td>\n",
       "      <td>Радим</td>\n",
       "      <td>Андреенко</td>\n",
       "      <td>2018-05-28</td>\n",
       "      <td>smart</td>\n",
       "    </tr>\n",
       "    <tr>\n",
       "      <th>freq</th>\n",
       "      <td>NaN</td>\n",
       "      <td>NaN</td>\n",
       "      <td>2</td>\n",
       "      <td>99</td>\n",
       "      <td>6</td>\n",
       "      <td>5</td>\n",
       "      <td>8</td>\n",
       "      <td>351</td>\n",
       "    </tr>\n",
       "    <tr>\n",
       "      <th>mean</th>\n",
       "      <td>1249.500</td>\n",
       "      <td>46.588</td>\n",
       "      <td>NaN</td>\n",
       "      <td>NaN</td>\n",
       "      <td>NaN</td>\n",
       "      <td>NaN</td>\n",
       "      <td>NaN</td>\n",
       "      <td>NaN</td>\n",
       "    </tr>\n",
       "    <tr>\n",
       "      <th>std</th>\n",
       "      <td>144.482</td>\n",
       "      <td>16.668</td>\n",
       "      <td>NaN</td>\n",
       "      <td>NaN</td>\n",
       "      <td>NaN</td>\n",
       "      <td>NaN</td>\n",
       "      <td>NaN</td>\n",
       "      <td>NaN</td>\n",
       "    </tr>\n",
       "    <tr>\n",
       "      <th>min</th>\n",
       "      <td>1000.000</td>\n",
       "      <td>18.000</td>\n",
       "      <td>NaN</td>\n",
       "      <td>NaN</td>\n",
       "      <td>NaN</td>\n",
       "      <td>NaN</td>\n",
       "      <td>NaN</td>\n",
       "      <td>NaN</td>\n",
       "    </tr>\n",
       "    <tr>\n",
       "      <th>25%</th>\n",
       "      <td>1124.750</td>\n",
       "      <td>32.000</td>\n",
       "      <td>NaN</td>\n",
       "      <td>NaN</td>\n",
       "      <td>NaN</td>\n",
       "      <td>NaN</td>\n",
       "      <td>NaN</td>\n",
       "      <td>NaN</td>\n",
       "    </tr>\n",
       "    <tr>\n",
       "      <th>50%</th>\n",
       "      <td>1249.500</td>\n",
       "      <td>46.000</td>\n",
       "      <td>NaN</td>\n",
       "      <td>NaN</td>\n",
       "      <td>NaN</td>\n",
       "      <td>NaN</td>\n",
       "      <td>NaN</td>\n",
       "      <td>NaN</td>\n",
       "    </tr>\n",
       "    <tr>\n",
       "      <th>75%</th>\n",
       "      <td>1374.250</td>\n",
       "      <td>62.000</td>\n",
       "      <td>NaN</td>\n",
       "      <td>NaN</td>\n",
       "      <td>NaN</td>\n",
       "      <td>NaN</td>\n",
       "      <td>NaN</td>\n",
       "      <td>NaN</td>\n",
       "    </tr>\n",
       "    <tr>\n",
       "      <th>max</th>\n",
       "      <td>1499.000</td>\n",
       "      <td>75.000</td>\n",
       "      <td>NaN</td>\n",
       "      <td>NaN</td>\n",
       "      <td>NaN</td>\n",
       "      <td>NaN</td>\n",
       "      <td>NaN</td>\n",
       "      <td>NaN</td>\n",
       "    </tr>\n",
       "  </tbody>\n",
       "</table>\n",
       "</div>"
      ],
      "text/plain": [
       "        user_id     age  churn_date    city first_name  last_name    reg_date  \\\n",
       "count   500.000 500.000          38     500        500        500         500   \n",
       "unique      NaN     NaN          33      76        246        419         270   \n",
       "top         NaN     NaN  2018-12-21  Москва      Радим  Андреенко  2018-05-28   \n",
       "freq        NaN     NaN           2      99          6          5           8   \n",
       "mean   1249.500  46.588         NaN     NaN        NaN        NaN         NaN   \n",
       "std     144.482  16.668         NaN     NaN        NaN        NaN         NaN   \n",
       "min    1000.000  18.000         NaN     NaN        NaN        NaN         NaN   \n",
       "25%    1124.750  32.000         NaN     NaN        NaN        NaN         NaN   \n",
       "50%    1249.500  46.000         NaN     NaN        NaN        NaN         NaN   \n",
       "75%    1374.250  62.000         NaN     NaN        NaN        NaN         NaN   \n",
       "max    1499.000  75.000         NaN     NaN        NaN        NaN         NaN   \n",
       "\n",
       "       tariff  \n",
       "count     500  \n",
       "unique      2  \n",
       "top     smart  \n",
       "freq      351  \n",
       "mean      NaN  \n",
       "std       NaN  \n",
       "min       NaN  \n",
       "25%       NaN  \n",
       "50%       NaN  \n",
       "75%       NaN  \n",
       "max       NaN  "
      ]
     },
     "metadata": {},
     "output_type": "display_data"
    },
    {
     "name": "stdout",
     "output_type": "stream",
     "text": [
      "= = = = = = = = = = = = = = = = = = = = = = = = = = = = = = = = = = = = = = = = = = = = = = = = = = = = = = = = = = = = \n",
      "Полных дубликатов: 0\n",
      "= = = = = = = = = = = = = = = = = = = = = = = = = = = = = = = = = = = = = = = = = = = = = = = = = = = = = = = = = = = = \n"
     ]
    }
   ],
   "source": [
    "data_users = pd.read_csv('users.csv')#('/content/drive/MyDrive/Colab Notebooks/проект 4/users.csv')\n",
    "\n",
    "print('Первые 5 строк датафрейма users')\n",
    "display(data_users.head())\n",
    "print(60 * '= ')\n",
    "\n",
    "print('Общая информация: ')\n",
    "data_users.info()\n",
    "print(60 * '= ')\n",
    "\n",
    "print('Описательная статистика:')\n",
    "display(data_users.describe(include='all'))\n",
    "print(60 * '= ')\n",
    "\n",
    "print(f'Полных дубликатов: {data_users.duplicated().sum()}')\n",
    "print(60 * '= ')"
   ]
  },
  {
   "cell_type": "code",
   "execution_count": 82,
   "metadata": {
    "colab": {
     "base_uri": "https://localhost:8080/"
    },
    "executionInfo": {
     "elapsed": 48,
     "status": "ok",
     "timestamp": 1654795683066,
     "user": {
      "displayName": "Дарья Алесенкова",
      "userId": "04509170127932489817"
     },
     "user_tz": -120
    },
    "id": "hF8ypGwzVCfK",
    "outputId": "ec37d323-b8d0-4431-95df-7376b302f4d3"
   },
   "outputs": [
    {
     "name": "stdout",
     "output_type": "stream",
     "text": [
      "Проверка столбца city на неявные дубликаты\n",
      "= = = = = = = = = = = = = = = = = = = = = = = = = = = = = = = = = = = = = = = = = = = = = = = = = = = = = = = = = = = = \n"
     ]
    },
    {
     "data": {
      "text/plain": [
       "array(['Краснодар', 'Москва', 'Стерлитамак', 'Новокузнецк',\n",
       "       'Набережные Челны', 'Ульяновск', 'Челябинск', 'Пермь', 'Тюмень',\n",
       "       'Самара', 'Санкт-Петербург', 'Иваново', 'Чебоксары', 'Омск', 'Уфа',\n",
       "       'Томск', 'Чита', 'Мурманск', 'Петрозаводск', 'Тверь',\n",
       "       'Екатеринбург', 'Махачкала', 'Вологда', 'Череповец', 'Ярославль',\n",
       "       'Сочи', 'Хабаровск', 'Ставрополь', 'Рязань', 'Улан-Удэ', 'Тула',\n",
       "       'Саратов', 'Ростов-на-Дону', 'Казань', 'Иркутск', 'Курск',\n",
       "       'Калуга', 'Якутск', 'Астрахань', 'Химки', 'Владикавказ',\n",
       "       'Волгоград', 'Саранск', 'Ижевск', 'Новосибирск', 'Брянск',\n",
       "       'Тольятти', 'Нижний Тагил', 'Орёл', 'Белгород', 'Воронеж',\n",
       "       'Волжский', 'Курган', 'Барнаул', 'Красноярск', 'Архангельск',\n",
       "       'Липецк', 'Кемерово', 'Киров', 'Сургут', 'Пенза', 'Магнитогорск',\n",
       "       'Нижний Новгород', 'Кострома', 'Владивосток', 'Тамбов', 'Балашиха',\n",
       "       'Севастополь', 'Калининград', 'Оренбург', 'Смоленск',\n",
       "       'Нижневартовск', 'Владимир', 'Новороссийск', 'Грозный', 'Подольск'],\n",
       "      dtype=object)"
      ]
     },
     "execution_count": 82,
     "metadata": {},
     "output_type": "execute_result"
    }
   ],
   "source": [
    "print('Проверка столбца city на неявные дубликаты')\n",
    "print(60 * '= ')\n",
    "data_users['city'].unique()"
   ]
  },
  {
   "cell_type": "markdown",
   "metadata": {
    "id": "JpVDn-8J_NSj"
   },
   "source": [
    "Промежуточный вывод по таблице users: \n",
    "- 500 строк. \n",
    "- дубликатов нет. Пропущенные значения в churn_date говорят о том, что тариф ещё действовал на момент выгрузки данных.\n",
    "- выбросов и неадекватных значений не замечено.\n",
    "- в столбце churn_date и reg_date - поменять тип данных на datetime64\n"
   ]
  },
  {
   "cell_type": "markdown",
   "metadata": {
    "id": "pQvBh8xo3cAD"
   },
   "source": [
    "<div class=\"alert alert-info\"><b>Общая информация</b> о таблице <b>tariffs</b> и обзор первых 5ти строк таблицы</div>"
   ]
  },
  {
   "cell_type": "code",
   "execution_count": 83,
   "metadata": {
    "colab": {
     "base_uri": "https://localhost:8080/",
     "height": 442
    },
    "executionInfo": {
     "elapsed": 45,
     "status": "ok",
     "timestamp": 1654795683068,
     "user": {
      "displayName": "Дарья Алесенкова",
      "userId": "04509170127932489817"
     },
     "user_tz": -120
    },
    "id": "jGav2eAu3cAD",
    "outputId": "561ce903-ed6b-4f5e-f814-deb6da3c46c3"
   },
   "outputs": [
    {
     "name": "stdout",
     "output_type": "stream",
     "text": [
      "Первые 5 строк датафрейма tariffs\n"
     ]
    },
    {
     "data": {
      "text/html": [
       "<div>\n",
       "<style scoped>\n",
       "    .dataframe tbody tr th:only-of-type {\n",
       "        vertical-align: middle;\n",
       "    }\n",
       "\n",
       "    .dataframe tbody tr th {\n",
       "        vertical-align: top;\n",
       "    }\n",
       "\n",
       "    .dataframe thead th {\n",
       "        text-align: right;\n",
       "    }\n",
       "</style>\n",
       "<table border=\"1\" class=\"dataframe\">\n",
       "  <thead>\n",
       "    <tr style=\"text-align: right;\">\n",
       "      <th></th>\n",
       "      <th>messages_included</th>\n",
       "      <th>mb_per_month_included</th>\n",
       "      <th>minutes_included</th>\n",
       "      <th>rub_monthly_fee</th>\n",
       "      <th>rub_per_gb</th>\n",
       "      <th>rub_per_message</th>\n",
       "      <th>rub_per_minute</th>\n",
       "      <th>tariff_name</th>\n",
       "    </tr>\n",
       "  </thead>\n",
       "  <tbody>\n",
       "    <tr>\n",
       "      <th>0</th>\n",
       "      <td>50</td>\n",
       "      <td>15360</td>\n",
       "      <td>500</td>\n",
       "      <td>550</td>\n",
       "      <td>200</td>\n",
       "      <td>3</td>\n",
       "      <td>3</td>\n",
       "      <td>smart</td>\n",
       "    </tr>\n",
       "    <tr>\n",
       "      <th>1</th>\n",
       "      <td>1000</td>\n",
       "      <td>30720</td>\n",
       "      <td>3000</td>\n",
       "      <td>1950</td>\n",
       "      <td>150</td>\n",
       "      <td>1</td>\n",
       "      <td>1</td>\n",
       "      <td>ultra</td>\n",
       "    </tr>\n",
       "  </tbody>\n",
       "</table>\n",
       "</div>"
      ],
      "text/plain": [
       "   messages_included  mb_per_month_included  minutes_included  \\\n",
       "0                 50                  15360               500   \n",
       "1               1000                  30720              3000   \n",
       "\n",
       "   rub_monthly_fee  rub_per_gb  rub_per_message  rub_per_minute tariff_name  \n",
       "0              550         200                3               3       smart  \n",
       "1             1950         150                1               1       ultra  "
      ]
     },
     "metadata": {},
     "output_type": "display_data"
    },
    {
     "name": "stdout",
     "output_type": "stream",
     "text": [
      "= = = = = = = = = = = = = = = = = = = = = = = = = = = = = = = = = = = = = = = = = = = = = = = = = = = = = = = = = = = = \n",
      "Общая информация: \n",
      "<class 'pandas.core.frame.DataFrame'>\n",
      "RangeIndex: 2 entries, 0 to 1\n",
      "Data columns (total 8 columns):\n",
      " #   Column                 Non-Null Count  Dtype \n",
      "---  ------                 --------------  ----- \n",
      " 0   messages_included      2 non-null      int64 \n",
      " 1   mb_per_month_included  2 non-null      int64 \n",
      " 2   minutes_included       2 non-null      int64 \n",
      " 3   rub_monthly_fee        2 non-null      int64 \n",
      " 4   rub_per_gb             2 non-null      int64 \n",
      " 5   rub_per_message        2 non-null      int64 \n",
      " 6   rub_per_minute         2 non-null      int64 \n",
      " 7   tariff_name            2 non-null      object\n",
      "dtypes: int64(7), object(1)\n",
      "memory usage: 256.0+ bytes\n",
      "= = = = = = = = = = = = = = = = = = = = = = = = = = = = = = = = = = = = = = = = = = = = = = = = = = = = = = = = = = = = \n"
     ]
    }
   ],
   "source": [
    "data_tariffs = pd.read_csv('tariffs.csv')#('/content/drive/MyDrive/Colab Notebooks/проект 4/tariffs.csv')\n",
    "\n",
    "print('Первые 5 строк датафрейма tariffs')\n",
    "display(data_tariffs.head())\n",
    "print(60 * '= ')\n",
    "\n",
    "print('Общая информация: ')\n",
    "data_tariffs.info()\n",
    "print(60 * '= ')"
   ]
  },
  {
   "cell_type": "markdown",
   "metadata": {
    "id": "meMixLF8eDcN"
   },
   "source": [
    "Промежуточный вывод по таблице tariffs:\n",
    "- Информация о тарифах. Никаких аномалий не замечено."
   ]
  },
  {
   "cell_type": "markdown",
   "metadata": {
    "id": "50FdY0-m3cn7"
   },
   "source": [
    "## Подготовка данных"
   ]
  },
  {
   "cell_type": "markdown",
   "metadata": {
    "id": "TRkGNbr2df-i"
   },
   "source": [
    "<div class=\"alert alert-info\">Замена типов данных в столбцах с датой на <b>datetime64.</b>(Таблицы: calls, internet, messages, users)</div>"
   ]
  },
  {
   "cell_type": "code",
   "execution_count": 85,
   "metadata": {
    "executionInfo": {
     "elapsed": 41,
     "status": "ok",
     "timestamp": 1654795683069,
     "user": {
      "displayName": "Дарья Алесенкова",
      "userId": "04509170127932489817"
     },
     "user_tz": -120
    },
    "id": "lEdn16RSera7"
   },
   "outputs": [],
   "source": [
    "data_calls['call_date'] = pd.to_datetime(data_calls['call_date'], format='%Y-%m-%d')\n",
    "data_internet['session_date'] = pd.to_datetime(data_internet['session_date'], format='%Y-%m-%d')\n",
    "data_messages['message_date'] = pd.to_datetime(data_messages['message_date'], format='%Y-%m-%d')\n",
    "data_users['churn_date'] = pd.to_datetime(data_users['churn_date'], format='%Y-%m-%d')\n",
    "data_users['reg_date'] = pd.to_datetime(data_users['reg_date'], format='%Y-%m-%d')"
   ]
  },
  {
   "cell_type": "markdown",
   "metadata": {
    "id": "2RGvf9ptfrXY"
   },
   "source": [
    "<div class=\"alert alert-info\">Округление значений до минут в столбце <b>duration(таблица calls)</b></div>"
   ]
  },
  {
   "cell_type": "code",
   "execution_count": 86,
   "metadata": {
    "colab": {
     "base_uri": "https://localhost:8080/",
     "height": 424
    },
    "executionInfo": {
     "elapsed": 43,
     "status": "ok",
     "timestamp": 1654795683071,
     "user": {
      "displayName": "Дарья Алесенкова",
      "userId": "04509170127932489817"
     },
     "user_tz": -120
    },
    "id": "7cwxdB4mhvnU",
    "outputId": "fe95844e-702c-4fca-8724-0af974129580"
   },
   "outputs": [
    {
     "data": {
      "text/html": [
       "<div>\n",
       "<style scoped>\n",
       "    .dataframe tbody tr th:only-of-type {\n",
       "        vertical-align: middle;\n",
       "    }\n",
       "\n",
       "    .dataframe tbody tr th {\n",
       "        vertical-align: top;\n",
       "    }\n",
       "\n",
       "    .dataframe thead th {\n",
       "        text-align: right;\n",
       "    }\n",
       "</style>\n",
       "<table border=\"1\" class=\"dataframe\">\n",
       "  <thead>\n",
       "    <tr style=\"text-align: right;\">\n",
       "      <th></th>\n",
       "      <th>id</th>\n",
       "      <th>call_date</th>\n",
       "      <th>duration</th>\n",
       "      <th>user_id</th>\n",
       "    </tr>\n",
       "  </thead>\n",
       "  <tbody>\n",
       "    <tr>\n",
       "      <th>0</th>\n",
       "      <td>1000_0</td>\n",
       "      <td>2018-07-25</td>\n",
       "      <td>0.000</td>\n",
       "      <td>1000</td>\n",
       "    </tr>\n",
       "    <tr>\n",
       "      <th>1</th>\n",
       "      <td>1000_1</td>\n",
       "      <td>2018-08-17</td>\n",
       "      <td>0.000</td>\n",
       "      <td>1000</td>\n",
       "    </tr>\n",
       "    <tr>\n",
       "      <th>2</th>\n",
       "      <td>1000_2</td>\n",
       "      <td>2018-06-11</td>\n",
       "      <td>3.000</td>\n",
       "      <td>1000</td>\n",
       "    </tr>\n",
       "    <tr>\n",
       "      <th>3</th>\n",
       "      <td>1000_3</td>\n",
       "      <td>2018-09-21</td>\n",
       "      <td>14.000</td>\n",
       "      <td>1000</td>\n",
       "    </tr>\n",
       "    <tr>\n",
       "      <th>4</th>\n",
       "      <td>1000_4</td>\n",
       "      <td>2018-12-15</td>\n",
       "      <td>6.000</td>\n",
       "      <td>1000</td>\n",
       "    </tr>\n",
       "    <tr>\n",
       "      <th>...</th>\n",
       "      <td>...</td>\n",
       "      <td>...</td>\n",
       "      <td>...</td>\n",
       "      <td>...</td>\n",
       "    </tr>\n",
       "    <tr>\n",
       "      <th>202602</th>\n",
       "      <td>1499_215</td>\n",
       "      <td>2018-12-26</td>\n",
       "      <td>1.000</td>\n",
       "      <td>1499</td>\n",
       "    </tr>\n",
       "    <tr>\n",
       "      <th>202603</th>\n",
       "      <td>1499_216</td>\n",
       "      <td>2018-10-18</td>\n",
       "      <td>19.000</td>\n",
       "      <td>1499</td>\n",
       "    </tr>\n",
       "    <tr>\n",
       "      <th>202604</th>\n",
       "      <td>1499_217</td>\n",
       "      <td>2018-11-10</td>\n",
       "      <td>11.000</td>\n",
       "      <td>1499</td>\n",
       "    </tr>\n",
       "    <tr>\n",
       "      <th>202605</th>\n",
       "      <td>1499_218</td>\n",
       "      <td>2018-10-06</td>\n",
       "      <td>5.000</td>\n",
       "      <td>1499</td>\n",
       "    </tr>\n",
       "    <tr>\n",
       "      <th>202606</th>\n",
       "      <td>1499_219</td>\n",
       "      <td>2018-12-14</td>\n",
       "      <td>20.000</td>\n",
       "      <td>1499</td>\n",
       "    </tr>\n",
       "  </tbody>\n",
       "</table>\n",
       "<p>202607 rows × 4 columns</p>\n",
       "</div>"
      ],
      "text/plain": [
       "              id  call_date  duration  user_id\n",
       "0         1000_0 2018-07-25     0.000     1000\n",
       "1         1000_1 2018-08-17     0.000     1000\n",
       "2         1000_2 2018-06-11     3.000     1000\n",
       "3         1000_3 2018-09-21    14.000     1000\n",
       "4         1000_4 2018-12-15     6.000     1000\n",
       "...          ...        ...       ...      ...\n",
       "202602  1499_215 2018-12-26     1.000     1499\n",
       "202603  1499_216 2018-10-18    19.000     1499\n",
       "202604  1499_217 2018-11-10    11.000     1499\n",
       "202605  1499_218 2018-10-06     5.000     1499\n",
       "202606  1499_219 2018-12-14    20.000     1499\n",
       "\n",
       "[202607 rows x 4 columns]"
      ]
     },
     "metadata": {},
     "output_type": "display_data"
    }
   ],
   "source": [
    "data_calls['duration'] = np.ceil(data_calls['duration'])\n",
    "display(data_calls)"
   ]
  },
  {
   "cell_type": "markdown",
   "metadata": {},
   "source": [
    "<div class=\"alert alert-info\">Добавление столца <b>month</b> в таблицы data_calls, data_messages, data_internet</div>"
   ]
  },
  {
   "cell_type": "code",
   "execution_count": 87,
   "metadata": {
    "executionInfo": {
     "elapsed": 38,
     "status": "ok",
     "timestamp": 1654795683074,
     "user": {
      "displayName": "Дарья Алесенкова",
      "userId": "04509170127932489817"
     },
     "user_tz": -120
    },
    "id": "BCHFAkkF9O91"
   },
   "outputs": [],
   "source": [
    "data_calls['month'] = data_calls['call_date'].dt.month\n",
    "data_messages['month'] = data_messages['message_date'].dt.month\n",
    "data_internet['month'] = data_internet['session_date'].dt.month"
   ]
  },
  {
   "cell_type": "markdown",
   "metadata": {},
   "source": [
    "<div class=\"alert alert-info\">Создание сводной таблицы <b>data_calls_pivot</b> в которой видим количество сделанных звонков и израсходованных минут разговора по месяцам</div>"
   ]
  },
  {
   "cell_type": "code",
   "execution_count": 88,
   "metadata": {
    "colab": {
     "base_uri": "https://localhost:8080/",
     "height": 486
    },
    "executionInfo": {
     "elapsed": 40,
     "status": "ok",
     "timestamp": 1654795683076,
     "user": {
      "displayName": "Дарья Алесенкова",
      "userId": "04509170127932489817"
     },
     "user_tz": -120
    },
    "id": "gSTzynSpq03M",
    "outputId": "732afc89-54e8-44cf-adb7-7148a2c4afed"
   },
   "outputs": [
    {
     "data": {
      "text/html": [
       "<div>\n",
       "<style scoped>\n",
       "    .dataframe tbody tr th:only-of-type {\n",
       "        vertical-align: middle;\n",
       "    }\n",
       "\n",
       "    .dataframe tbody tr th {\n",
       "        vertical-align: top;\n",
       "    }\n",
       "\n",
       "    .dataframe thead tr th {\n",
       "        text-align: left;\n",
       "    }\n",
       "\n",
       "    .dataframe thead tr:last-of-type th {\n",
       "        text-align: right;\n",
       "    }\n",
       "</style>\n",
       "<table border=\"1\" class=\"dataframe\">\n",
       "  <thead>\n",
       "    <tr>\n",
       "      <th></th>\n",
       "      <th></th>\n",
       "      <th>sum</th>\n",
       "      <th>count</th>\n",
       "    </tr>\n",
       "    <tr>\n",
       "      <th></th>\n",
       "      <th></th>\n",
       "      <th>duration</th>\n",
       "      <th>duration</th>\n",
       "    </tr>\n",
       "    <tr>\n",
       "      <th>user_id</th>\n",
       "      <th>month</th>\n",
       "      <th></th>\n",
       "      <th></th>\n",
       "    </tr>\n",
       "  </thead>\n",
       "  <tbody>\n",
       "    <tr>\n",
       "      <th rowspan=\"5\" valign=\"top\">1000</th>\n",
       "      <th>5</th>\n",
       "      <td>159.000</td>\n",
       "      <td>22</td>\n",
       "    </tr>\n",
       "    <tr>\n",
       "      <th>6</th>\n",
       "      <td>172.000</td>\n",
       "      <td>43</td>\n",
       "    </tr>\n",
       "    <tr>\n",
       "      <th>7</th>\n",
       "      <td>340.000</td>\n",
       "      <td>47</td>\n",
       "    </tr>\n",
       "    <tr>\n",
       "      <th>8</th>\n",
       "      <td>408.000</td>\n",
       "      <td>52</td>\n",
       "    </tr>\n",
       "    <tr>\n",
       "      <th>9</th>\n",
       "      <td>466.000</td>\n",
       "      <td>58</td>\n",
       "    </tr>\n",
       "    <tr>\n",
       "      <th>...</th>\n",
       "      <th>...</th>\n",
       "      <td>...</td>\n",
       "      <td>...</td>\n",
       "    </tr>\n",
       "    <tr>\n",
       "      <th>1498</th>\n",
       "      <th>10</th>\n",
       "      <td>247.000</td>\n",
       "      <td>41</td>\n",
       "    </tr>\n",
       "    <tr>\n",
       "      <th rowspan=\"4\" valign=\"top\">1499</th>\n",
       "      <th>9</th>\n",
       "      <td>70.000</td>\n",
       "      <td>9</td>\n",
       "    </tr>\n",
       "    <tr>\n",
       "      <th>10</th>\n",
       "      <td>449.000</td>\n",
       "      <td>68</td>\n",
       "    </tr>\n",
       "    <tr>\n",
       "      <th>11</th>\n",
       "      <td>612.000</td>\n",
       "      <td>74</td>\n",
       "    </tr>\n",
       "    <tr>\n",
       "      <th>12</th>\n",
       "      <td>492.000</td>\n",
       "      <td>69</td>\n",
       "    </tr>\n",
       "  </tbody>\n",
       "</table>\n",
       "<p>3174 rows × 2 columns</p>\n",
       "</div>"
      ],
      "text/plain": [
       "                   sum    count\n",
       "              duration duration\n",
       "user_id month                  \n",
       "1000    5      159.000       22\n",
       "        6      172.000       43\n",
       "        7      340.000       47\n",
       "        8      408.000       52\n",
       "        9      466.000       58\n",
       "...                ...      ...\n",
       "1498    10     247.000       41\n",
       "1499    9       70.000        9\n",
       "        10     449.000       68\n",
       "        11     612.000       74\n",
       "        12     492.000       69\n",
       "\n",
       "[3174 rows x 2 columns]"
      ]
     },
     "metadata": {},
     "output_type": "display_data"
    }
   ],
   "source": [
    "data_calls_pivot = data_calls.pivot_table(index = (['user_id','month']), values = 'duration', aggfunc=(['sum','count']))\n",
    "display(data_calls_pivot)"
   ]
  },
  {
   "cell_type": "markdown",
   "metadata": {},
   "source": [
    "<div class=\"alert alert-info\">Создание сводной таблицы <b>data_messages_pivot</b> в которой видим количество отправленных сообщений по месяцам</div>"
   ]
  },
  {
   "cell_type": "code",
   "execution_count": 89,
   "metadata": {
    "colab": {
     "base_uri": "https://localhost:8080/",
     "height": 486
    },
    "executionInfo": {
     "elapsed": 858,
     "status": "ok",
     "timestamp": 1654795683896,
     "user": {
      "displayName": "Дарья Алесенкова",
      "userId": "04509170127932489817"
     },
     "user_tz": -120
    },
    "id": "C9iB5GyQwgO3",
    "outputId": "d1819f10-b0aa-42fe-9be2-524e256a69c0"
   },
   "outputs": [
    {
     "data": {
      "text/html": [
       "<div>\n",
       "<style scoped>\n",
       "    .dataframe tbody tr th:only-of-type {\n",
       "        vertical-align: middle;\n",
       "    }\n",
       "\n",
       "    .dataframe tbody tr th {\n",
       "        vertical-align: top;\n",
       "    }\n",
       "\n",
       "    .dataframe thead tr th {\n",
       "        text-align: left;\n",
       "    }\n",
       "\n",
       "    .dataframe thead tr:last-of-type th {\n",
       "        text-align: right;\n",
       "    }\n",
       "</style>\n",
       "<table border=\"1\" class=\"dataframe\">\n",
       "  <thead>\n",
       "    <tr>\n",
       "      <th></th>\n",
       "      <th></th>\n",
       "      <th>count</th>\n",
       "    </tr>\n",
       "    <tr>\n",
       "      <th></th>\n",
       "      <th></th>\n",
       "      <th>message_date</th>\n",
       "    </tr>\n",
       "    <tr>\n",
       "      <th>user_id</th>\n",
       "      <th>month</th>\n",
       "      <th></th>\n",
       "    </tr>\n",
       "  </thead>\n",
       "  <tbody>\n",
       "    <tr>\n",
       "      <th rowspan=\"5\" valign=\"top\">1000</th>\n",
       "      <th>5</th>\n",
       "      <td>22</td>\n",
       "    </tr>\n",
       "    <tr>\n",
       "      <th>6</th>\n",
       "      <td>60</td>\n",
       "    </tr>\n",
       "    <tr>\n",
       "      <th>7</th>\n",
       "      <td>75</td>\n",
       "    </tr>\n",
       "    <tr>\n",
       "      <th>8</th>\n",
       "      <td>81</td>\n",
       "    </tr>\n",
       "    <tr>\n",
       "      <th>9</th>\n",
       "      <td>57</td>\n",
       "    </tr>\n",
       "    <tr>\n",
       "      <th>...</th>\n",
       "      <th>...</th>\n",
       "      <td>...</td>\n",
       "    </tr>\n",
       "    <tr>\n",
       "      <th>1498</th>\n",
       "      <th>10</th>\n",
       "      <td>42</td>\n",
       "    </tr>\n",
       "    <tr>\n",
       "      <th rowspan=\"4\" valign=\"top\">1499</th>\n",
       "      <th>9</th>\n",
       "      <td>11</td>\n",
       "    </tr>\n",
       "    <tr>\n",
       "      <th>10</th>\n",
       "      <td>48</td>\n",
       "    </tr>\n",
       "    <tr>\n",
       "      <th>11</th>\n",
       "      <td>59</td>\n",
       "    </tr>\n",
       "    <tr>\n",
       "      <th>12</th>\n",
       "      <td>66</td>\n",
       "    </tr>\n",
       "  </tbody>\n",
       "</table>\n",
       "<p>2717 rows × 1 columns</p>\n",
       "</div>"
      ],
      "text/plain": [
       "                     count\n",
       "              message_date\n",
       "user_id month             \n",
       "1000    5               22\n",
       "        6               60\n",
       "        7               75\n",
       "        8               81\n",
       "        9               57\n",
       "...                    ...\n",
       "1498    10              42\n",
       "1499    9               11\n",
       "        10              48\n",
       "        11              59\n",
       "        12              66\n",
       "\n",
       "[2717 rows x 1 columns]"
      ]
     },
     "metadata": {},
     "output_type": "display_data"
    }
   ],
   "source": [
    "data_messages_pivot = data_messages.pivot_table(index = (['user_id','month']), values = 'message_date', aggfunc=['count'])\n",
    "display(data_messages_pivot)"
   ]
  },
  {
   "cell_type": "markdown",
   "metadata": {},
   "source": [
    "<div class=\"alert alert-info\">Создание сводной таблицы <b>data_internet_pivot</b> в которой видим объем израсходованного интернет-трафика по месяцам</div>"
   ]
  },
  {
   "cell_type": "code",
   "execution_count": 90,
   "metadata": {
    "colab": {
     "base_uri": "https://localhost:8080/",
     "height": 486
    },
    "executionInfo": {
     "elapsed": 42,
     "status": "ok",
     "timestamp": 1654795683898,
     "user": {
      "displayName": "Дарья Алесенкова",
      "userId": "04509170127932489817"
     },
     "user_tz": -120
    },
    "id": "qKu8HQuIxL3J",
    "outputId": "641f332c-68ce-4ab8-ad7f-893a9d965908",
    "scrolled": true
   },
   "outputs": [
    {
     "data": {
      "text/html": [
       "<div>\n",
       "<style scoped>\n",
       "    .dataframe tbody tr th:only-of-type {\n",
       "        vertical-align: middle;\n",
       "    }\n",
       "\n",
       "    .dataframe tbody tr th {\n",
       "        vertical-align: top;\n",
       "    }\n",
       "\n",
       "    .dataframe thead tr th {\n",
       "        text-align: left;\n",
       "    }\n",
       "\n",
       "    .dataframe thead tr:last-of-type th {\n",
       "        text-align: right;\n",
       "    }\n",
       "</style>\n",
       "<table border=\"1\" class=\"dataframe\">\n",
       "  <thead>\n",
       "    <tr>\n",
       "      <th></th>\n",
       "      <th></th>\n",
       "      <th>sum</th>\n",
       "    </tr>\n",
       "    <tr>\n",
       "      <th></th>\n",
       "      <th></th>\n",
       "      <th>mb_used</th>\n",
       "    </tr>\n",
       "    <tr>\n",
       "      <th>user_id</th>\n",
       "      <th>month</th>\n",
       "      <th></th>\n",
       "    </tr>\n",
       "  </thead>\n",
       "  <tbody>\n",
       "    <tr>\n",
       "      <th rowspan=\"5\" valign=\"top\">1000</th>\n",
       "      <th>5</th>\n",
       "      <td>2253.490</td>\n",
       "    </tr>\n",
       "    <tr>\n",
       "      <th>6</th>\n",
       "      <td>23233.770</td>\n",
       "    </tr>\n",
       "    <tr>\n",
       "      <th>7</th>\n",
       "      <td>14003.640</td>\n",
       "    </tr>\n",
       "    <tr>\n",
       "      <th>8</th>\n",
       "      <td>14055.930</td>\n",
       "    </tr>\n",
       "    <tr>\n",
       "      <th>9</th>\n",
       "      <td>14568.910</td>\n",
       "    </tr>\n",
       "    <tr>\n",
       "      <th>...</th>\n",
       "      <th>...</th>\n",
       "      <td>...</td>\n",
       "    </tr>\n",
       "    <tr>\n",
       "      <th>1498</th>\n",
       "      <th>10</th>\n",
       "      <td>20579.360</td>\n",
       "    </tr>\n",
       "    <tr>\n",
       "      <th rowspan=\"4\" valign=\"top\">1499</th>\n",
       "      <th>9</th>\n",
       "      <td>1845.750</td>\n",
       "    </tr>\n",
       "    <tr>\n",
       "      <th>10</th>\n",
       "      <td>17788.510</td>\n",
       "    </tr>\n",
       "    <tr>\n",
       "      <th>11</th>\n",
       "      <td>17963.310</td>\n",
       "    </tr>\n",
       "    <tr>\n",
       "      <th>12</th>\n",
       "      <td>13055.580</td>\n",
       "    </tr>\n",
       "  </tbody>\n",
       "</table>\n",
       "<p>3203 rows × 1 columns</p>\n",
       "</div>"
      ],
      "text/plain": [
       "                    sum\n",
       "                mb_used\n",
       "user_id month          \n",
       "1000    5      2253.490\n",
       "        6     23233.770\n",
       "        7     14003.640\n",
       "        8     14055.930\n",
       "        9     14568.910\n",
       "...                 ...\n",
       "1498    10    20579.360\n",
       "1499    9      1845.750\n",
       "        10    17788.510\n",
       "        11    17963.310\n",
       "        12    13055.580\n",
       "\n",
       "[3203 rows x 1 columns]"
      ]
     },
     "metadata": {},
     "output_type": "display_data"
    }
   ],
   "source": [
    "data_internet_pivot = data_internet.pivot_table(index = (['user_id','month']), values = 'mb_used', aggfunc=['sum'])\n",
    "display(data_internet_pivot)"
   ]
  },
  {
   "cell_type": "markdown",
   "metadata": {},
   "source": [
    "<div class=\"alert alert-info\">Создание таблицы <b>data_generous</b> в которой обьединим всю информацию из сводных таблиц: <b>data_calls_pivot, data_messages_pivot, data_internet_pivot</b> </div>"
   ]
  },
  {
   "cell_type": "code",
   "execution_count": 91,
   "metadata": {
    "colab": {
     "base_uri": "https://localhost:8080/",
     "height": 1000
    },
    "executionInfo": {
     "elapsed": 42,
     "status": "ok",
     "timestamp": 1654795683899,
     "user": {
      "displayName": "Дарья Алесенкова",
      "userId": "04509170127932489817"
     },
     "user_tz": -120
    },
    "id": "k3_RwyvrFBrl",
    "outputId": "ce3d1bba-d088-4c9f-85ee-de0c9e63c6ba"
   },
   "outputs": [
    {
     "data": {
      "text/html": [
       "<div>\n",
       "<style scoped>\n",
       "    .dataframe tbody tr th:only-of-type {\n",
       "        vertical-align: middle;\n",
       "    }\n",
       "\n",
       "    .dataframe tbody tr th {\n",
       "        vertical-align: top;\n",
       "    }\n",
       "\n",
       "    .dataframe thead tr th {\n",
       "        text-align: left;\n",
       "    }\n",
       "\n",
       "    .dataframe thead tr:last-of-type th {\n",
       "        text-align: right;\n",
       "    }\n",
       "</style>\n",
       "<table border=\"1\" class=\"dataframe\">\n",
       "  <thead>\n",
       "    <tr>\n",
       "      <th></th>\n",
       "      <th></th>\n",
       "      <th>sum</th>\n",
       "      <th colspan=\"2\" halign=\"left\">count</th>\n",
       "      <th>sum</th>\n",
       "    </tr>\n",
       "    <tr>\n",
       "      <th></th>\n",
       "      <th></th>\n",
       "      <th>duration</th>\n",
       "      <th>duration</th>\n",
       "      <th>message_date</th>\n",
       "      <th>mb_used</th>\n",
       "    </tr>\n",
       "    <tr>\n",
       "      <th>user_id</th>\n",
       "      <th>month</th>\n",
       "      <th></th>\n",
       "      <th></th>\n",
       "      <th></th>\n",
       "      <th></th>\n",
       "    </tr>\n",
       "  </thead>\n",
       "  <tbody>\n",
       "    <tr>\n",
       "      <th rowspan=\"5\" valign=\"top\">1000</th>\n",
       "      <th>5</th>\n",
       "      <td>159.000</td>\n",
       "      <td>22.000</td>\n",
       "      <td>22.000</td>\n",
       "      <td>2253.490</td>\n",
       "    </tr>\n",
       "    <tr>\n",
       "      <th>6</th>\n",
       "      <td>172.000</td>\n",
       "      <td>43.000</td>\n",
       "      <td>60.000</td>\n",
       "      <td>23233.770</td>\n",
       "    </tr>\n",
       "    <tr>\n",
       "      <th>7</th>\n",
       "      <td>340.000</td>\n",
       "      <td>47.000</td>\n",
       "      <td>75.000</td>\n",
       "      <td>14003.640</td>\n",
       "    </tr>\n",
       "    <tr>\n",
       "      <th>8</th>\n",
       "      <td>408.000</td>\n",
       "      <td>52.000</td>\n",
       "      <td>81.000</td>\n",
       "      <td>14055.930</td>\n",
       "    </tr>\n",
       "    <tr>\n",
       "      <th>9</th>\n",
       "      <td>466.000</td>\n",
       "      <td>58.000</td>\n",
       "      <td>57.000</td>\n",
       "      <td>14568.910</td>\n",
       "    </tr>\n",
       "  </tbody>\n",
       "</table>\n",
       "</div>"
      ],
      "text/plain": [
       "                   sum    count                    sum\n",
       "              duration duration message_date   mb_used\n",
       "user_id month                                         \n",
       "1000    5      159.000   22.000       22.000  2253.490\n",
       "        6      172.000   43.000       60.000 23233.770\n",
       "        7      340.000   47.000       75.000 14003.640\n",
       "        8      408.000   52.000       81.000 14055.930\n",
       "        9      466.000   58.000       57.000 14568.910"
      ]
     },
     "metadata": {},
     "output_type": "display_data"
    }
   ],
   "source": [
    "data_generous = data_calls_pivot.merge(data_messages_pivot, on=(['user_id','month']), how='outer')\n",
    "data_generous = data_generous.merge(data_internet_pivot, on=(['user_id','month']), how='outer')\n",
    "\n",
    "display(data_generous.head())"
   ]
  },
  {
   "cell_type": "markdown",
   "metadata": {},
   "source": [
    "<div class=\"alert alert-info\">Скидываем мультииндекс. Переменовываем столбцы для лучшего восприятия. Смотрим, как выгляит таблица </div>"
   ]
  },
  {
   "cell_type": "code",
   "execution_count": 92,
   "metadata": {},
   "outputs": [
    {
     "data": {
      "text/html": [
       "<div>\n",
       "<style scoped>\n",
       "    .dataframe tbody tr th:only-of-type {\n",
       "        vertical-align: middle;\n",
       "    }\n",
       "\n",
       "    .dataframe tbody tr th {\n",
       "        vertical-align: top;\n",
       "    }\n",
       "\n",
       "    .dataframe thead th {\n",
       "        text-align: right;\n",
       "    }\n",
       "</style>\n",
       "<table border=\"1\" class=\"dataframe\">\n",
       "  <thead>\n",
       "    <tr style=\"text-align: right;\">\n",
       "      <th></th>\n",
       "      <th>user_id</th>\n",
       "      <th>month</th>\n",
       "      <th>sum_duration</th>\n",
       "      <th>count_duration</th>\n",
       "      <th>message_count</th>\n",
       "      <th>sum_mb_used</th>\n",
       "    </tr>\n",
       "  </thead>\n",
       "  <tbody>\n",
       "    <tr>\n",
       "      <th>0</th>\n",
       "      <td>1000</td>\n",
       "      <td>5</td>\n",
       "      <td>159.000</td>\n",
       "      <td>22.000</td>\n",
       "      <td>22.000</td>\n",
       "      <td>2253.490</td>\n",
       "    </tr>\n",
       "    <tr>\n",
       "      <th>1</th>\n",
       "      <td>1000</td>\n",
       "      <td>6</td>\n",
       "      <td>172.000</td>\n",
       "      <td>43.000</td>\n",
       "      <td>60.000</td>\n",
       "      <td>23233.770</td>\n",
       "    </tr>\n",
       "    <tr>\n",
       "      <th>2</th>\n",
       "      <td>1000</td>\n",
       "      <td>7</td>\n",
       "      <td>340.000</td>\n",
       "      <td>47.000</td>\n",
       "      <td>75.000</td>\n",
       "      <td>14003.640</td>\n",
       "    </tr>\n",
       "    <tr>\n",
       "      <th>3</th>\n",
       "      <td>1000</td>\n",
       "      <td>8</td>\n",
       "      <td>408.000</td>\n",
       "      <td>52.000</td>\n",
       "      <td>81.000</td>\n",
       "      <td>14055.930</td>\n",
       "    </tr>\n",
       "    <tr>\n",
       "      <th>4</th>\n",
       "      <td>1000</td>\n",
       "      <td>9</td>\n",
       "      <td>466.000</td>\n",
       "      <td>58.000</td>\n",
       "      <td>57.000</td>\n",
       "      <td>14568.910</td>\n",
       "    </tr>\n",
       "  </tbody>\n",
       "</table>\n",
       "</div>"
      ],
      "text/plain": [
       "   user_id  month  sum_duration  count_duration  message_count  sum_mb_used\n",
       "0     1000      5       159.000          22.000         22.000     2253.490\n",
       "1     1000      6       172.000          43.000         60.000    23233.770\n",
       "2     1000      7       340.000          47.000         75.000    14003.640\n",
       "3     1000      8       408.000          52.000         81.000    14055.930\n",
       "4     1000      9       466.000          58.000         57.000    14568.910"
      ]
     },
     "metadata": {},
     "output_type": "display_data"
    }
   ],
   "source": [
    "data_generous = data_generous.reset_index()\n",
    "#data_generous = data_generous.rename(columns={'sum','duration': 'sum_duration'})\n",
    "data_generous.columns = ['user_id', 'month', 'sum_duration', 'count_duration', 'message_count', 'sum_mb_used']\n",
    "display(data_generous.head())"
   ]
  },
  {
   "cell_type": "code",
   "execution_count": 140,
   "metadata": {
    "scrolled": true
   },
   "outputs": [
    {
     "name": "stdout",
     "output_type": "stream",
     "text": [
      "Количество строк ДО обьединения\n",
      "3216\n"
     ]
    }
   ],
   "source": [
    "print('Количество строк ДО обьединения')\n",
    "print(len(data_generous))"
   ]
  },
  {
   "cell_type": "markdown",
   "metadata": {},
   "source": [
    "<div class=\"alert alert-info\">Присоединяем к <b>data_generous</b> таблицу <b>data_users</b> в которой храниться информация о тарифах.  </div>"
   ]
  },
  {
   "cell_type": "code",
   "execution_count": 95,
   "metadata": {
    "scrolled": false
   },
   "outputs": [],
   "source": [
    "data_users_tariff = data_users[['user_id','tariff','city']] #столбец 'city' для анализа по городам в шаге 4.\n",
    "data_generous = data_generous.merge(data_users_tariff, on=(['user_id']), how='outer')"
   ]
  },
  {
   "cell_type": "markdown",
   "metadata": {},
   "source": [
    "<div class=\"alert alert-info\">Присоединяем к <b>data_generous</b> таблицу <b>data_tariffs</b> в которой храниться информация о ценах на тарифы.</div>"
   ]
  },
  {
   "cell_type": "code",
   "execution_count": 96,
   "metadata": {},
   "outputs": [],
   "source": [
    "data_tariffs = data_tariffs.rename(columns={'tariff_name': 'tariff'})\n",
    "data_generous = data_generous.merge(data_tariffs, on=(['tariff']), how='left')"
   ]
  },
  {
   "cell_type": "code",
   "execution_count": 97,
   "metadata": {},
   "outputs": [
    {
     "name": "stdout",
     "output_type": "stream",
     "text": [
      "Количество строк ПОСЛЕ обьединения\n",
      "3216\n"
     ]
    }
   ],
   "source": [
    "print('Количество строк ПОСЛЕ обьединения')\n",
    "print(len(data_generous))"
   ]
  },
  {
   "cell_type": "markdown",
   "metadata": {},
   "source": [
    "<div class=\"alert alert-info\">Округляем столбец <b>sum_mb_used</b> в большую сторону и переводим из МБ в ГБ. Столбец <b>sum_mb_used</b> так же переводим в ГБ. Переменовываем столбцы соответственно. Смотрим на таблицу.</div>"
   ]
  },
  {
   "cell_type": "code",
   "execution_count": 98,
   "metadata": {},
   "outputs": [
    {
     "data": {
      "text/html": [
       "<div>\n",
       "<style scoped>\n",
       "    .dataframe tbody tr th:only-of-type {\n",
       "        vertical-align: middle;\n",
       "    }\n",
       "\n",
       "    .dataframe tbody tr th {\n",
       "        vertical-align: top;\n",
       "    }\n",
       "\n",
       "    .dataframe thead th {\n",
       "        text-align: right;\n",
       "    }\n",
       "</style>\n",
       "<table border=\"1\" class=\"dataframe\">\n",
       "  <thead>\n",
       "    <tr style=\"text-align: right;\">\n",
       "      <th></th>\n",
       "      <th>user_id</th>\n",
       "      <th>month</th>\n",
       "      <th>sum_duration</th>\n",
       "      <th>count_duration</th>\n",
       "      <th>message_count</th>\n",
       "      <th>sum_gb_used</th>\n",
       "      <th>tariff</th>\n",
       "      <th>city</th>\n",
       "      <th>messages_included</th>\n",
       "      <th>gb_per_month_included</th>\n",
       "      <th>minutes_included</th>\n",
       "      <th>rub_monthly_fee</th>\n",
       "      <th>rub_per_gb</th>\n",
       "      <th>rub_per_message</th>\n",
       "      <th>rub_per_minute</th>\n",
       "    </tr>\n",
       "  </thead>\n",
       "  <tbody>\n",
       "    <tr>\n",
       "      <th>0</th>\n",
       "      <td>1000</td>\n",
       "      <td>5.000</td>\n",
       "      <td>159.000</td>\n",
       "      <td>22.000</td>\n",
       "      <td>22.000</td>\n",
       "      <td>3.000</td>\n",
       "      <td>ultra</td>\n",
       "      <td>Краснодар</td>\n",
       "      <td>1000</td>\n",
       "      <td>30.000</td>\n",
       "      <td>3000</td>\n",
       "      <td>1950</td>\n",
       "      <td>150</td>\n",
       "      <td>1</td>\n",
       "      <td>1</td>\n",
       "    </tr>\n",
       "    <tr>\n",
       "      <th>1</th>\n",
       "      <td>1000</td>\n",
       "      <td>6.000</td>\n",
       "      <td>172.000</td>\n",
       "      <td>43.000</td>\n",
       "      <td>60.000</td>\n",
       "      <td>23.000</td>\n",
       "      <td>ultra</td>\n",
       "      <td>Краснодар</td>\n",
       "      <td>1000</td>\n",
       "      <td>30.000</td>\n",
       "      <td>3000</td>\n",
       "      <td>1950</td>\n",
       "      <td>150</td>\n",
       "      <td>1</td>\n",
       "      <td>1</td>\n",
       "    </tr>\n",
       "    <tr>\n",
       "      <th>2</th>\n",
       "      <td>1000</td>\n",
       "      <td>7.000</td>\n",
       "      <td>340.000</td>\n",
       "      <td>47.000</td>\n",
       "      <td>75.000</td>\n",
       "      <td>14.000</td>\n",
       "      <td>ultra</td>\n",
       "      <td>Краснодар</td>\n",
       "      <td>1000</td>\n",
       "      <td>30.000</td>\n",
       "      <td>3000</td>\n",
       "      <td>1950</td>\n",
       "      <td>150</td>\n",
       "      <td>1</td>\n",
       "      <td>1</td>\n",
       "    </tr>\n",
       "    <tr>\n",
       "      <th>3</th>\n",
       "      <td>1000</td>\n",
       "      <td>8.000</td>\n",
       "      <td>408.000</td>\n",
       "      <td>52.000</td>\n",
       "      <td>81.000</td>\n",
       "      <td>14.000</td>\n",
       "      <td>ultra</td>\n",
       "      <td>Краснодар</td>\n",
       "      <td>1000</td>\n",
       "      <td>30.000</td>\n",
       "      <td>3000</td>\n",
       "      <td>1950</td>\n",
       "      <td>150</td>\n",
       "      <td>1</td>\n",
       "      <td>1</td>\n",
       "    </tr>\n",
       "    <tr>\n",
       "      <th>4</th>\n",
       "      <td>1000</td>\n",
       "      <td>9.000</td>\n",
       "      <td>466.000</td>\n",
       "      <td>58.000</td>\n",
       "      <td>57.000</td>\n",
       "      <td>15.000</td>\n",
       "      <td>ultra</td>\n",
       "      <td>Краснодар</td>\n",
       "      <td>1000</td>\n",
       "      <td>30.000</td>\n",
       "      <td>3000</td>\n",
       "      <td>1950</td>\n",
       "      <td>150</td>\n",
       "      <td>1</td>\n",
       "      <td>1</td>\n",
       "    </tr>\n",
       "    <tr>\n",
       "      <th>5</th>\n",
       "      <td>1000</td>\n",
       "      <td>10.000</td>\n",
       "      <td>350.000</td>\n",
       "      <td>57.000</td>\n",
       "      <td>73.000</td>\n",
       "      <td>15.000</td>\n",
       "      <td>ultra</td>\n",
       "      <td>Краснодар</td>\n",
       "      <td>1000</td>\n",
       "      <td>30.000</td>\n",
       "      <td>3000</td>\n",
       "      <td>1950</td>\n",
       "      <td>150</td>\n",
       "      <td>1</td>\n",
       "      <td>1</td>\n",
       "    </tr>\n",
       "    <tr>\n",
       "      <th>6</th>\n",
       "      <td>1000</td>\n",
       "      <td>11.000</td>\n",
       "      <td>338.000</td>\n",
       "      <td>43.000</td>\n",
       "      <td>58.000</td>\n",
       "      <td>15.000</td>\n",
       "      <td>ultra</td>\n",
       "      <td>Краснодар</td>\n",
       "      <td>1000</td>\n",
       "      <td>30.000</td>\n",
       "      <td>3000</td>\n",
       "      <td>1950</td>\n",
       "      <td>150</td>\n",
       "      <td>1</td>\n",
       "      <td>1</td>\n",
       "    </tr>\n",
       "    <tr>\n",
       "      <th>7</th>\n",
       "      <td>1000</td>\n",
       "      <td>12.000</td>\n",
       "      <td>333.000</td>\n",
       "      <td>46.000</td>\n",
       "      <td>70.000</td>\n",
       "      <td>10.000</td>\n",
       "      <td>ultra</td>\n",
       "      <td>Краснодар</td>\n",
       "      <td>1000</td>\n",
       "      <td>30.000</td>\n",
       "      <td>3000</td>\n",
       "      <td>1950</td>\n",
       "      <td>150</td>\n",
       "      <td>1</td>\n",
       "      <td>1</td>\n",
       "    </tr>\n",
       "    <tr>\n",
       "      <th>8</th>\n",
       "      <td>1001</td>\n",
       "      <td>11.000</td>\n",
       "      <td>430.000</td>\n",
       "      <td>59.000</td>\n",
       "      <td>NaN</td>\n",
       "      <td>18.000</td>\n",
       "      <td>smart</td>\n",
       "      <td>Москва</td>\n",
       "      <td>50</td>\n",
       "      <td>15.000</td>\n",
       "      <td>500</td>\n",
       "      <td>550</td>\n",
       "      <td>200</td>\n",
       "      <td>3</td>\n",
       "      <td>3</td>\n",
       "    </tr>\n",
       "    <tr>\n",
       "      <th>9</th>\n",
       "      <td>1001</td>\n",
       "      <td>12.000</td>\n",
       "      <td>414.000</td>\n",
       "      <td>63.000</td>\n",
       "      <td>NaN</td>\n",
       "      <td>14.000</td>\n",
       "      <td>smart</td>\n",
       "      <td>Москва</td>\n",
       "      <td>50</td>\n",
       "      <td>15.000</td>\n",
       "      <td>500</td>\n",
       "      <td>550</td>\n",
       "      <td>200</td>\n",
       "      <td>3</td>\n",
       "      <td>3</td>\n",
       "    </tr>\n",
       "  </tbody>\n",
       "</table>\n",
       "</div>"
      ],
      "text/plain": [
       "   user_id  month  sum_duration  count_duration  message_count  sum_gb_used  \\\n",
       "0     1000  5.000       159.000          22.000         22.000        3.000   \n",
       "1     1000  6.000       172.000          43.000         60.000       23.000   \n",
       "2     1000  7.000       340.000          47.000         75.000       14.000   \n",
       "3     1000  8.000       408.000          52.000         81.000       14.000   \n",
       "4     1000  9.000       466.000          58.000         57.000       15.000   \n",
       "5     1000 10.000       350.000          57.000         73.000       15.000   \n",
       "6     1000 11.000       338.000          43.000         58.000       15.000   \n",
       "7     1000 12.000       333.000          46.000         70.000       10.000   \n",
       "8     1001 11.000       430.000          59.000            NaN       18.000   \n",
       "9     1001 12.000       414.000          63.000            NaN       14.000   \n",
       "\n",
       "  tariff       city  messages_included  gb_per_month_included  \\\n",
       "0  ultra  Краснодар               1000                 30.000   \n",
       "1  ultra  Краснодар               1000                 30.000   \n",
       "2  ultra  Краснодар               1000                 30.000   \n",
       "3  ultra  Краснодар               1000                 30.000   \n",
       "4  ultra  Краснодар               1000                 30.000   \n",
       "5  ultra  Краснодар               1000                 30.000   \n",
       "6  ultra  Краснодар               1000                 30.000   \n",
       "7  ultra  Краснодар               1000                 30.000   \n",
       "8  smart     Москва                 50                 15.000   \n",
       "9  smart     Москва                 50                 15.000   \n",
       "\n",
       "   minutes_included  rub_monthly_fee  rub_per_gb  rub_per_message  \\\n",
       "0              3000             1950         150                1   \n",
       "1              3000             1950         150                1   \n",
       "2              3000             1950         150                1   \n",
       "3              3000             1950         150                1   \n",
       "4              3000             1950         150                1   \n",
       "5              3000             1950         150                1   \n",
       "6              3000             1950         150                1   \n",
       "7              3000             1950         150                1   \n",
       "8               500              550         200                3   \n",
       "9               500              550         200                3   \n",
       "\n",
       "   rub_per_minute  \n",
       "0               1  \n",
       "1               1  \n",
       "2               1  \n",
       "3               1  \n",
       "4               1  \n",
       "5               1  \n",
       "6               1  \n",
       "7               1  \n",
       "8               3  \n",
       "9               3  "
      ]
     },
     "metadata": {},
     "output_type": "display_data"
    }
   ],
   "source": [
    "data_generous['sum_mb_used'] = np.ceil(data_generous['sum_mb_used'] / 1024)\n",
    "data_generous['mb_per_month_included'] = data_generous['mb_per_month_included'] / 1024\n",
    "data_generous = data_generous.rename(columns={'sum_mb_used': 'sum_gb_used', 'mb_per_month_included': 'gb_per_month_included'})\n",
    "\n",
    "display(data_generous.head(10))"
   ]
  },
  {
   "cell_type": "markdown",
   "metadata": {},
   "source": [
    "<div class=\"alert alert-info\">Проверим количество пропусков в столбцах после обьединения таблиц</div>"
   ]
  },
  {
   "cell_type": "code",
   "execution_count": 99,
   "metadata": {
    "scrolled": true
   },
   "outputs": [
    {
     "data": {
      "text/plain": [
       "user_id                    0\n",
       "month                      2\n",
       "sum_duration              42\n",
       "count_duration            42\n",
       "message_count            499\n",
       "sum_gb_used               13\n",
       "tariff                     0\n",
       "city                       0\n",
       "messages_included          0\n",
       "gb_per_month_included      0\n",
       "minutes_included           0\n",
       "rub_monthly_fee            0\n",
       "rub_per_gb                 0\n",
       "rub_per_message            0\n",
       "rub_per_minute             0\n",
       "dtype: int64"
      ]
     },
     "execution_count": 99,
     "metadata": {},
     "output_type": "execute_result"
    }
   ],
   "source": [
    "data_generous.isna().sum()"
   ]
  },
  {
   "cell_type": "markdown",
   "metadata": {},
   "source": [
    "<div class=\"alert alert-info\">Изучим подробнее абонентов с пропусками в столбце 'month'</div>"
   ]
  },
  {
   "cell_type": "code",
   "execution_count": 100,
   "metadata": {
    "scrolled": false
   },
   "outputs": [
    {
     "data": {
      "text/html": [
       "<div>\n",
       "<style scoped>\n",
       "    .dataframe tbody tr th:only-of-type {\n",
       "        vertical-align: middle;\n",
       "    }\n",
       "\n",
       "    .dataframe tbody tr th {\n",
       "        vertical-align: top;\n",
       "    }\n",
       "\n",
       "    .dataframe thead th {\n",
       "        text-align: right;\n",
       "    }\n",
       "</style>\n",
       "<table border=\"1\" class=\"dataframe\">\n",
       "  <thead>\n",
       "    <tr style=\"text-align: right;\">\n",
       "      <th></th>\n",
       "      <th>user_id</th>\n",
       "      <th>month</th>\n",
       "      <th>sum_duration</th>\n",
       "      <th>count_duration</th>\n",
       "      <th>message_count</th>\n",
       "      <th>sum_gb_used</th>\n",
       "      <th>tariff</th>\n",
       "      <th>city</th>\n",
       "      <th>messages_included</th>\n",
       "      <th>gb_per_month_included</th>\n",
       "      <th>minutes_included</th>\n",
       "      <th>rub_monthly_fee</th>\n",
       "      <th>rub_per_gb</th>\n",
       "      <th>rub_per_message</th>\n",
       "      <th>rub_per_minute</th>\n",
       "    </tr>\n",
       "  </thead>\n",
       "  <tbody>\n",
       "    <tr>\n",
       "      <th>3214</th>\n",
       "      <td>1128</td>\n",
       "      <td>NaN</td>\n",
       "      <td>NaN</td>\n",
       "      <td>NaN</td>\n",
       "      <td>NaN</td>\n",
       "      <td>NaN</td>\n",
       "      <td>ultra</td>\n",
       "      <td>Волжский</td>\n",
       "      <td>1000</td>\n",
       "      <td>30.000</td>\n",
       "      <td>3000</td>\n",
       "      <td>1950</td>\n",
       "      <td>150</td>\n",
       "      <td>1</td>\n",
       "      <td>1</td>\n",
       "    </tr>\n",
       "    <tr>\n",
       "      <th>3215</th>\n",
       "      <td>1371</td>\n",
       "      <td>NaN</td>\n",
       "      <td>NaN</td>\n",
       "      <td>NaN</td>\n",
       "      <td>NaN</td>\n",
       "      <td>NaN</td>\n",
       "      <td>smart</td>\n",
       "      <td>Омск</td>\n",
       "      <td>50</td>\n",
       "      <td>15.000</td>\n",
       "      <td>500</td>\n",
       "      <td>550</td>\n",
       "      <td>200</td>\n",
       "      <td>3</td>\n",
       "      <td>3</td>\n",
       "    </tr>\n",
       "  </tbody>\n",
       "</table>\n",
       "</div>"
      ],
      "text/plain": [
       "      user_id  month  sum_duration  count_duration  message_count  \\\n",
       "3214     1128    NaN           NaN             NaN            NaN   \n",
       "3215     1371    NaN           NaN             NaN            NaN   \n",
       "\n",
       "      sum_gb_used tariff      city  messages_included  gb_per_month_included  \\\n",
       "3214          NaN  ultra  Волжский               1000                 30.000   \n",
       "3215          NaN  smart      Омск                 50                 15.000   \n",
       "\n",
       "      minutes_included  rub_monthly_fee  rub_per_gb  rub_per_message  \\\n",
       "3214              3000             1950         150                1   \n",
       "3215               500              550         200                3   \n",
       "\n",
       "      rub_per_minute  \n",
       "3214               1  \n",
       "3215               3  "
      ]
     },
     "execution_count": 100,
     "metadata": {},
     "output_type": "execute_result"
    }
   ],
   "source": [
    "data_generous[data_generous['month'].isna()]"
   ]
  },
  {
   "cell_type": "code",
   "execution_count": 101,
   "metadata": {},
   "outputs": [
    {
     "data": {
      "text/html": [
       "<div>\n",
       "<style scoped>\n",
       "    .dataframe tbody tr th:only-of-type {\n",
       "        vertical-align: middle;\n",
       "    }\n",
       "\n",
       "    .dataframe tbody tr th {\n",
       "        vertical-align: top;\n",
       "    }\n",
       "\n",
       "    .dataframe thead th {\n",
       "        text-align: right;\n",
       "    }\n",
       "</style>\n",
       "<table border=\"1\" class=\"dataframe\">\n",
       "  <thead>\n",
       "    <tr style=\"text-align: right;\">\n",
       "      <th></th>\n",
       "      <th>user_id</th>\n",
       "      <th>age</th>\n",
       "      <th>churn_date</th>\n",
       "      <th>city</th>\n",
       "      <th>first_name</th>\n",
       "      <th>last_name</th>\n",
       "      <th>reg_date</th>\n",
       "      <th>tariff</th>\n",
       "    </tr>\n",
       "  </thead>\n",
       "  <tbody>\n",
       "    <tr>\n",
       "      <th>128</th>\n",
       "      <td>1128</td>\n",
       "      <td>51</td>\n",
       "      <td>2018-12-23</td>\n",
       "      <td>Волжский</td>\n",
       "      <td>Ксения</td>\n",
       "      <td>Агаева</td>\n",
       "      <td>2018-12-15</td>\n",
       "      <td>ultra</td>\n",
       "    </tr>\n",
       "  </tbody>\n",
       "</table>\n",
       "</div>"
      ],
      "text/plain": [
       "     user_id  age churn_date      city first_name last_name   reg_date tariff\n",
       "128     1128   51 2018-12-23  Волжский     Ксения    Агаева 2018-12-15  ultra"
      ]
     },
     "metadata": {},
     "output_type": "display_data"
    },
    {
     "data": {
      "text/html": [
       "<div>\n",
       "<style scoped>\n",
       "    .dataframe tbody tr th:only-of-type {\n",
       "        vertical-align: middle;\n",
       "    }\n",
       "\n",
       "    .dataframe tbody tr th {\n",
       "        vertical-align: top;\n",
       "    }\n",
       "\n",
       "    .dataframe thead th {\n",
       "        text-align: right;\n",
       "    }\n",
       "</style>\n",
       "<table border=\"1\" class=\"dataframe\">\n",
       "  <thead>\n",
       "    <tr style=\"text-align: right;\">\n",
       "      <th></th>\n",
       "      <th>user_id</th>\n",
       "      <th>age</th>\n",
       "      <th>churn_date</th>\n",
       "      <th>city</th>\n",
       "      <th>first_name</th>\n",
       "      <th>last_name</th>\n",
       "      <th>reg_date</th>\n",
       "      <th>tariff</th>\n",
       "    </tr>\n",
       "  </thead>\n",
       "  <tbody>\n",
       "    <tr>\n",
       "      <th>371</th>\n",
       "      <td>1371</td>\n",
       "      <td>50</td>\n",
       "      <td>2018-12-30</td>\n",
       "      <td>Омск</td>\n",
       "      <td>Ириней</td>\n",
       "      <td>Трофимов</td>\n",
       "      <td>2018-12-25</td>\n",
       "      <td>smart</td>\n",
       "    </tr>\n",
       "  </tbody>\n",
       "</table>\n",
       "</div>"
      ],
      "text/plain": [
       "     user_id  age churn_date  city first_name last_name   reg_date tariff\n",
       "371     1371   50 2018-12-30  Омск     Ириней  Трофимов 2018-12-25  smart"
      ]
     },
     "metadata": {},
     "output_type": "display_data"
    }
   ],
   "source": [
    "display(data_users[data_users['user_id']== 1128])\n",
    "display(data_users[data_users['user_id']== 1371])"
   ]
  },
  {
   "cell_type": "markdown",
   "metadata": {},
   "source": [
    "**Видим 2 абонента, которые подключили ТП в декабре и отключили через 5 и 8 дней. За тарифный план они оплатили, так что заменим их на последний месяц года - 12ый.**"
   ]
  },
  {
   "cell_type": "code",
   "execution_count": 102,
   "metadata": {},
   "outputs": [],
   "source": [
    "data_generous['month'] = data_generous['month'].fillna(12)"
   ]
  },
  {
   "cell_type": "markdown",
   "metadata": {},
   "source": [
    "<div class=\"alert alert-info\">Пропуски в sum_duration, count_duration, message_count и sum_gb_used заполним \"0\"</div>"
   ]
  },
  {
   "cell_type": "code",
   "execution_count": 103,
   "metadata": {},
   "outputs": [],
   "source": [
    "data_generous['sum_duration'] = data_generous['sum_duration'].fillna(0)\n",
    "data_generous['count_duration'] = data_generous['count_duration'].fillna(0)\n",
    "data_generous['message_count'] = data_generous['message_count'].fillna(0)\n",
    "data_generous['sum_gb_used'] = data_generous['sum_gb_used'].fillna(0)"
   ]
  },
  {
   "cell_type": "markdown",
   "metadata": {},
   "source": [
    "<div class=\"alert alert-info\">Проверка на пропуски после их заполнения</div>"
   ]
  },
  {
   "cell_type": "code",
   "execution_count": 104,
   "metadata": {
    "scrolled": false
   },
   "outputs": [
    {
     "data": {
      "text/plain": [
       "user_id                  0\n",
       "month                    0\n",
       "sum_duration             0\n",
       "count_duration           0\n",
       "message_count            0\n",
       "sum_gb_used              0\n",
       "tariff                   0\n",
       "city                     0\n",
       "messages_included        0\n",
       "gb_per_month_included    0\n",
       "minutes_included         0\n",
       "rub_monthly_fee          0\n",
       "rub_per_gb               0\n",
       "rub_per_message          0\n",
       "rub_per_minute           0\n",
       "dtype: int64"
      ]
     },
     "execution_count": 104,
     "metadata": {},
     "output_type": "execute_result"
    }
   ],
   "source": [
    "data_generous.isna().sum()"
   ]
  },
  {
   "cell_type": "markdown",
   "metadata": {},
   "source": [
    "<div class=\"alert alert-info\">Добавляем столбец <b>revenue</b> в котором считаем помесячную выручку с каждого пользователя с учетом стоимости тарифа и перерасхода минут, смс и гб</div>"
   ]
  },
  {
   "cell_type": "code",
   "execution_count": 105,
   "metadata": {
    "colab": {
     "base_uri": "https://localhost:8080/",
     "height": 427
    },
    "executionInfo": {
     "elapsed": 43,
     "status": "ok",
     "timestamp": 1654795683902,
     "user": {
      "displayName": "Дарья Алесенкова",
      "userId": "04509170127932489817"
     },
     "user_tz": -120
    },
    "id": "-YL3ojCJ9cXG",
    "outputId": "ae5d06b0-0786-4836-99e4-cc816c15fc52",
    "scrolled": true
   },
   "outputs": [],
   "source": [
    "def revenue_func(row):  \n",
    "    pay_for_calls = 0\n",
    "    pay_for_masseges = 0\n",
    "    pay_for_internet = 0\n",
    "    if row['tariff'] == 'ultra':\n",
    "        if row['sum_duration'] > row['minutes_included']:\n",
    "            pay_for_calls = (row['sum_duration'] - row['minutes_included']) * row['rub_per_minute']\n",
    "        if row['message_count'] > row['messages_included']:\n",
    "            pay_for_masseges = (row['message_count'] - row['messages_included']) * row['rub_per_message']\n",
    "        if row['sum_gb_used'] > row['gb_per_month_included']:\n",
    "            pay_for_internet = (row['sum_gb_used'] - row['gb_per_month_included']) * row['rub_per_gb']\n",
    "            \n",
    "        return row['rub_monthly_fee'] + pay_for_internet + pay_for_masseges + pay_for_calls\n",
    "    \n",
    "    else:\n",
    "        if row['sum_duration'] > row['minutes_included']:\n",
    "            pay_for_calls = (row['sum_duration'] - row['minutes_included']) * row['rub_per_minute']\n",
    "        if row['message_count'] > row['messages_included']:\n",
    "            pay_for_masseges = (row['message_count'] - row['messages_included']) * row['rub_per_message']\n",
    "        if row['sum_gb_used'] > row['gb_per_month_included']:\n",
    "            pay_for_internet = (row['sum_gb_used'] - row['gb_per_month_included']) * row['rub_per_gb']\n",
    "        \n",
    "        return row['rub_monthly_fee'] + pay_for_internet + pay_for_masseges + pay_for_calls  \n",
    "\n",
    "data_generous['revenue'] = data_generous.apply(revenue_func, axis=1)"
   ]
  },
  {
   "cell_type": "markdown",
   "metadata": {},
   "source": [
    "<div class=\"alert alert-info\">Смотрим на итоговую таблицу со столбцом выручки(revenue) по каждому абоненту</div>"
   ]
  },
  {
   "cell_type": "code",
   "execution_count": 106,
   "metadata": {},
   "outputs": [
    {
     "data": {
      "text/html": [
       "<div>\n",
       "<style scoped>\n",
       "    .dataframe tbody tr th:only-of-type {\n",
       "        vertical-align: middle;\n",
       "    }\n",
       "\n",
       "    .dataframe tbody tr th {\n",
       "        vertical-align: top;\n",
       "    }\n",
       "\n",
       "    .dataframe thead th {\n",
       "        text-align: right;\n",
       "    }\n",
       "</style>\n",
       "<table border=\"1\" class=\"dataframe\">\n",
       "  <thead>\n",
       "    <tr style=\"text-align: right;\">\n",
       "      <th></th>\n",
       "      <th>user_id</th>\n",
       "      <th>month</th>\n",
       "      <th>sum_duration</th>\n",
       "      <th>count_duration</th>\n",
       "      <th>message_count</th>\n",
       "      <th>sum_gb_used</th>\n",
       "      <th>tariff</th>\n",
       "      <th>city</th>\n",
       "      <th>messages_included</th>\n",
       "      <th>gb_per_month_included</th>\n",
       "      <th>minutes_included</th>\n",
       "      <th>rub_monthly_fee</th>\n",
       "      <th>rub_per_gb</th>\n",
       "      <th>rub_per_message</th>\n",
       "      <th>rub_per_minute</th>\n",
       "      <th>revenue</th>\n",
       "    </tr>\n",
       "  </thead>\n",
       "  <tbody>\n",
       "    <tr>\n",
       "      <th>0</th>\n",
       "      <td>1000</td>\n",
       "      <td>5.000</td>\n",
       "      <td>159.000</td>\n",
       "      <td>22.000</td>\n",
       "      <td>22.000</td>\n",
       "      <td>3.000</td>\n",
       "      <td>ultra</td>\n",
       "      <td>Краснодар</td>\n",
       "      <td>1000</td>\n",
       "      <td>30.000</td>\n",
       "      <td>3000</td>\n",
       "      <td>1950</td>\n",
       "      <td>150</td>\n",
       "      <td>1</td>\n",
       "      <td>1</td>\n",
       "      <td>1950.000</td>\n",
       "    </tr>\n",
       "    <tr>\n",
       "      <th>1</th>\n",
       "      <td>1000</td>\n",
       "      <td>6.000</td>\n",
       "      <td>172.000</td>\n",
       "      <td>43.000</td>\n",
       "      <td>60.000</td>\n",
       "      <td>23.000</td>\n",
       "      <td>ultra</td>\n",
       "      <td>Краснодар</td>\n",
       "      <td>1000</td>\n",
       "      <td>30.000</td>\n",
       "      <td>3000</td>\n",
       "      <td>1950</td>\n",
       "      <td>150</td>\n",
       "      <td>1</td>\n",
       "      <td>1</td>\n",
       "      <td>1950.000</td>\n",
       "    </tr>\n",
       "    <tr>\n",
       "      <th>2</th>\n",
       "      <td>1000</td>\n",
       "      <td>7.000</td>\n",
       "      <td>340.000</td>\n",
       "      <td>47.000</td>\n",
       "      <td>75.000</td>\n",
       "      <td>14.000</td>\n",
       "      <td>ultra</td>\n",
       "      <td>Краснодар</td>\n",
       "      <td>1000</td>\n",
       "      <td>30.000</td>\n",
       "      <td>3000</td>\n",
       "      <td>1950</td>\n",
       "      <td>150</td>\n",
       "      <td>1</td>\n",
       "      <td>1</td>\n",
       "      <td>1950.000</td>\n",
       "    </tr>\n",
       "    <tr>\n",
       "      <th>3</th>\n",
       "      <td>1000</td>\n",
       "      <td>8.000</td>\n",
       "      <td>408.000</td>\n",
       "      <td>52.000</td>\n",
       "      <td>81.000</td>\n",
       "      <td>14.000</td>\n",
       "      <td>ultra</td>\n",
       "      <td>Краснодар</td>\n",
       "      <td>1000</td>\n",
       "      <td>30.000</td>\n",
       "      <td>3000</td>\n",
       "      <td>1950</td>\n",
       "      <td>150</td>\n",
       "      <td>1</td>\n",
       "      <td>1</td>\n",
       "      <td>1950.000</td>\n",
       "    </tr>\n",
       "    <tr>\n",
       "      <th>4</th>\n",
       "      <td>1000</td>\n",
       "      <td>9.000</td>\n",
       "      <td>466.000</td>\n",
       "      <td>58.000</td>\n",
       "      <td>57.000</td>\n",
       "      <td>15.000</td>\n",
       "      <td>ultra</td>\n",
       "      <td>Краснодар</td>\n",
       "      <td>1000</td>\n",
       "      <td>30.000</td>\n",
       "      <td>3000</td>\n",
       "      <td>1950</td>\n",
       "      <td>150</td>\n",
       "      <td>1</td>\n",
       "      <td>1</td>\n",
       "      <td>1950.000</td>\n",
       "    </tr>\n",
       "    <tr>\n",
       "      <th>5</th>\n",
       "      <td>1000</td>\n",
       "      <td>10.000</td>\n",
       "      <td>350.000</td>\n",
       "      <td>57.000</td>\n",
       "      <td>73.000</td>\n",
       "      <td>15.000</td>\n",
       "      <td>ultra</td>\n",
       "      <td>Краснодар</td>\n",
       "      <td>1000</td>\n",
       "      <td>30.000</td>\n",
       "      <td>3000</td>\n",
       "      <td>1950</td>\n",
       "      <td>150</td>\n",
       "      <td>1</td>\n",
       "      <td>1</td>\n",
       "      <td>1950.000</td>\n",
       "    </tr>\n",
       "    <tr>\n",
       "      <th>6</th>\n",
       "      <td>1000</td>\n",
       "      <td>11.000</td>\n",
       "      <td>338.000</td>\n",
       "      <td>43.000</td>\n",
       "      <td>58.000</td>\n",
       "      <td>15.000</td>\n",
       "      <td>ultra</td>\n",
       "      <td>Краснодар</td>\n",
       "      <td>1000</td>\n",
       "      <td>30.000</td>\n",
       "      <td>3000</td>\n",
       "      <td>1950</td>\n",
       "      <td>150</td>\n",
       "      <td>1</td>\n",
       "      <td>1</td>\n",
       "      <td>1950.000</td>\n",
       "    </tr>\n",
       "    <tr>\n",
       "      <th>7</th>\n",
       "      <td>1000</td>\n",
       "      <td>12.000</td>\n",
       "      <td>333.000</td>\n",
       "      <td>46.000</td>\n",
       "      <td>70.000</td>\n",
       "      <td>10.000</td>\n",
       "      <td>ultra</td>\n",
       "      <td>Краснодар</td>\n",
       "      <td>1000</td>\n",
       "      <td>30.000</td>\n",
       "      <td>3000</td>\n",
       "      <td>1950</td>\n",
       "      <td>150</td>\n",
       "      <td>1</td>\n",
       "      <td>1</td>\n",
       "      <td>1950.000</td>\n",
       "    </tr>\n",
       "    <tr>\n",
       "      <th>8</th>\n",
       "      <td>1001</td>\n",
       "      <td>11.000</td>\n",
       "      <td>430.000</td>\n",
       "      <td>59.000</td>\n",
       "      <td>0.000</td>\n",
       "      <td>18.000</td>\n",
       "      <td>smart</td>\n",
       "      <td>Москва</td>\n",
       "      <td>50</td>\n",
       "      <td>15.000</td>\n",
       "      <td>500</td>\n",
       "      <td>550</td>\n",
       "      <td>200</td>\n",
       "      <td>3</td>\n",
       "      <td>3</td>\n",
       "      <td>1150.000</td>\n",
       "    </tr>\n",
       "    <tr>\n",
       "      <th>9</th>\n",
       "      <td>1001</td>\n",
       "      <td>12.000</td>\n",
       "      <td>414.000</td>\n",
       "      <td>63.000</td>\n",
       "      <td>0.000</td>\n",
       "      <td>14.000</td>\n",
       "      <td>smart</td>\n",
       "      <td>Москва</td>\n",
       "      <td>50</td>\n",
       "      <td>15.000</td>\n",
       "      <td>500</td>\n",
       "      <td>550</td>\n",
       "      <td>200</td>\n",
       "      <td>3</td>\n",
       "      <td>3</td>\n",
       "      <td>550.000</td>\n",
       "    </tr>\n",
       "  </tbody>\n",
       "</table>\n",
       "</div>"
      ],
      "text/plain": [
       "   user_id  month  sum_duration  count_duration  message_count  sum_gb_used  \\\n",
       "0     1000  5.000       159.000          22.000         22.000        3.000   \n",
       "1     1000  6.000       172.000          43.000         60.000       23.000   \n",
       "2     1000  7.000       340.000          47.000         75.000       14.000   \n",
       "3     1000  8.000       408.000          52.000         81.000       14.000   \n",
       "4     1000  9.000       466.000          58.000         57.000       15.000   \n",
       "5     1000 10.000       350.000          57.000         73.000       15.000   \n",
       "6     1000 11.000       338.000          43.000         58.000       15.000   \n",
       "7     1000 12.000       333.000          46.000         70.000       10.000   \n",
       "8     1001 11.000       430.000          59.000          0.000       18.000   \n",
       "9     1001 12.000       414.000          63.000          0.000       14.000   \n",
       "\n",
       "  tariff       city  messages_included  gb_per_month_included  \\\n",
       "0  ultra  Краснодар               1000                 30.000   \n",
       "1  ultra  Краснодар               1000                 30.000   \n",
       "2  ultra  Краснодар               1000                 30.000   \n",
       "3  ultra  Краснодар               1000                 30.000   \n",
       "4  ultra  Краснодар               1000                 30.000   \n",
       "5  ultra  Краснодар               1000                 30.000   \n",
       "6  ultra  Краснодар               1000                 30.000   \n",
       "7  ultra  Краснодар               1000                 30.000   \n",
       "8  smart     Москва                 50                 15.000   \n",
       "9  smart     Москва                 50                 15.000   \n",
       "\n",
       "   minutes_included  rub_monthly_fee  rub_per_gb  rub_per_message  \\\n",
       "0              3000             1950         150                1   \n",
       "1              3000             1950         150                1   \n",
       "2              3000             1950         150                1   \n",
       "3              3000             1950         150                1   \n",
       "4              3000             1950         150                1   \n",
       "5              3000             1950         150                1   \n",
       "6              3000             1950         150                1   \n",
       "7              3000             1950         150                1   \n",
       "8               500              550         200                3   \n",
       "9               500              550         200                3   \n",
       "\n",
       "   rub_per_minute  revenue  \n",
       "0               1 1950.000  \n",
       "1               1 1950.000  \n",
       "2               1 1950.000  \n",
       "3               1 1950.000  \n",
       "4               1 1950.000  \n",
       "5               1 1950.000  \n",
       "6               1 1950.000  \n",
       "7               1 1950.000  \n",
       "8               3 1150.000  \n",
       "9               3  550.000  "
      ]
     },
     "metadata": {},
     "output_type": "display_data"
    }
   ],
   "source": [
    "display(data_generous.head(10))"
   ]
  },
  {
   "cell_type": "markdown",
   "metadata": {},
   "source": [
    "## Анализ данных"
   ]
  },
  {
   "cell_type": "markdown",
   "metadata": {},
   "source": [
    "<div class=\"alert alert-info\"> Перед анализом посмотрим остались ли у нас ячейки с интернет трафиком = 0(sum_gb_used) и количеством минут = 0(sum_duration) после группировки по месяцам.</div>"
   ]
  },
  {
   "cell_type": "code",
   "execution_count": 108,
   "metadata": {},
   "outputs": [
    {
     "name": "stdout",
     "output_type": "stream",
     "text": [
      "Всего абонентов в базе с тарифом SMART:\n",
      "2230\n",
      "Количество абонентов с трафиком \"0\" за месяц на тарифе SMART\n",
      "3\n",
      "Количество абонентов с сумарным количеством минут - \"0\" за месяц на тарифе SMART\n",
      "9\n",
      "============================================================\n",
      "Всего абонентов в базе с тарифом ULTRA:\n",
      "986\n",
      "Количество абонентов с трафиком \"0\" за месяц на тарифе ULTRA\n",
      "12\n",
      "Количество абонентов с сумарным количеством минут - \"0\" за месяц на тарифе ULTRA\n",
      "39\n"
     ]
    }
   ],
   "source": [
    "print('Всего абонентов в базе с тарифом SMART:')\n",
    "print(len(data_generous[data_generous['tariff'] == 'smart']))\n",
    "print('Количество абонентов с трафиком \"0\" за месяц на тарифе SMART')\n",
    "print(len(data_generous[data_generous['sum_gb_used'] == 0][data_generous['tariff'] == 'smart']))\n",
    "print('Количество абонентов с сумарным количеством минут - \"0\" за месяц на тарифе SMART')\n",
    "print(len(data_generous[data_generous['sum_duration'] == 0][data_generous['tariff'] == 'smart']))\n",
    "\n",
    "print(60*'=')\n",
    "\n",
    "print('Всего абонентов в базе с тарифом ULTRA:')\n",
    "print(len(data_generous[data_generous['tariff'] == 'ultra']))\n",
    "print('Количество абонентов с трафиком \"0\" за месяц на тарифе ULTRA')\n",
    "print(len(data_generous[data_generous['sum_gb_used'] == 0][data_generous['tariff'] == 'ultra']))\n",
    "print('Количество абонентов с сумарным количеством минут - \"0\" за месяц на тарифе ULTRA')\n",
    "print(len(data_generous[data_generous['sum_duration'] == 0][data_generous['tariff'] == 'ultra']))"
   ]
  },
  {
   "cell_type": "markdown",
   "metadata": {},
   "source": [
    "Как видим - нулевых ячеек практически не осталось. "
   ]
  },
  {
   "cell_type": "markdown",
   "metadata": {},
   "source": [
    "<div class=\"alert alert-info\"> Строим сводную таблицу, чтобы понять сколько минут разговора, сколько сообщений и какой объём интернет-трафика требуется пользователям каждого тарифа в месяц. Считаем среднее количество, медиану, дисперсию и стандартное отклонение для этих показателей.</div>"
   ]
  },
  {
   "cell_type": "code",
   "execution_count": 109,
   "metadata": {
    "colab": {
     "base_uri": "https://localhost:8080/",
     "height": 239
    },
    "executionInfo": {
     "elapsed": 43,
     "status": "ok",
     "timestamp": 1654795683903,
     "user": {
      "displayName": "Дарья Алесенкова",
      "userId": "04509170127932489817"
     },
     "user_tz": -120
    },
    "id": "Y0exJrXJvGGK",
    "outputId": "bf42e55f-af7b-4554-c5d2-404dbc3b2732",
    "scrolled": true
   },
   "outputs": [
    {
     "data": {
      "text/html": [
       "<style  type=\"text/css\" >\n",
       "</style><table id=\"T_6fa6d_\" ><thead>    <tr>        <th class=\"blank level0\" ></th>        <th class=\"col_heading level0 col0\" colspan=\"4\">mean</th>        <th class=\"col_heading level0 col4\" colspan=\"4\">median</th>        <th class=\"col_heading level0 col8\" colspan=\"4\">var</th>        <th class=\"col_heading level0 col12\" colspan=\"4\">std</th>    </tr>    <tr>        <th class=\"blank level1\" ></th>        <th class=\"col_heading level1 col0\" >message_count</th>        <th class=\"col_heading level1 col1\" >revenue</th>        <th class=\"col_heading level1 col2\" >sum_duration</th>        <th class=\"col_heading level1 col3\" >sum_gb_used</th>        <th class=\"col_heading level1 col4\" >message_count</th>        <th class=\"col_heading level1 col5\" >revenue</th>        <th class=\"col_heading level1 col6\" >sum_duration</th>        <th class=\"col_heading level1 col7\" >sum_gb_used</th>        <th class=\"col_heading level1 col8\" >message_count</th>        <th class=\"col_heading level1 col9\" >revenue</th>        <th class=\"col_heading level1 col10\" >sum_duration</th>        <th class=\"col_heading level1 col11\" >sum_gb_used</th>        <th class=\"col_heading level1 col12\" >message_count</th>        <th class=\"col_heading level1 col13\" >revenue</th>        <th class=\"col_heading level1 col14\" >sum_duration</th>        <th class=\"col_heading level1 col15\" >sum_gb_used</th>    </tr>    <tr>        <th class=\"index_name level0\" >tariff</th>        <th class=\"blank\" ></th>        <th class=\"blank\" ></th>        <th class=\"blank\" ></th>        <th class=\"blank\" ></th>        <th class=\"blank\" ></th>        <th class=\"blank\" ></th>        <th class=\"blank\" ></th>        <th class=\"blank\" ></th>        <th class=\"blank\" ></th>        <th class=\"blank\" ></th>        <th class=\"blank\" ></th>        <th class=\"blank\" ></th>        <th class=\"blank\" ></th>        <th class=\"blank\" ></th>        <th class=\"blank\" ></th>        <th class=\"blank\" ></th>    </tr></thead><tbody>\n",
       "                <tr>\n",
       "                        <th id=\"T_6fa6d_level0_row0\" class=\"row_heading level0 row0\" >smart</th>\n",
       "                        <td id=\"T_6fa6d_row0_col0\" class=\"data row0 col0\" >33.4</td>\n",
       "                        <td id=\"T_6fa6d_row0_col1\" class=\"data row0 col1\" >1,289.6</td>\n",
       "                        <td id=\"T_6fa6d_row0_col2\" class=\"data row0 col2\" >417.7</td>\n",
       "                        <td id=\"T_6fa6d_row0_col3\" class=\"data row0 col3\" >16.3</td>\n",
       "                        <td id=\"T_6fa6d_row0_col4\" class=\"data row0 col4\" >28.0</td>\n",
       "                        <td id=\"T_6fa6d_row0_col5\" class=\"data row0 col5\" >1,021.0</td>\n",
       "                        <td id=\"T_6fa6d_row0_col6\" class=\"data row0 col6\" >421.5</td>\n",
       "                        <td id=\"T_6fa6d_row0_col7\" class=\"data row0 col7\" >17.0</td>\n",
       "                        <td id=\"T_6fa6d_row0_col8\" class=\"data row0 col8\" >797.0</td>\n",
       "                        <td id=\"T_6fa6d_row0_col9\" class=\"data row0 col9\" >669,730.8</td>\n",
       "                        <td id=\"T_6fa6d_row0_col10\" class=\"data row0 col10\" >36,281.4</td>\n",
       "                        <td id=\"T_6fa6d_row0_col11\" class=\"data row0 col11\" >33.1</td>\n",
       "                        <td id=\"T_6fa6d_row0_col12\" class=\"data row0 col12\" >28.2</td>\n",
       "                        <td id=\"T_6fa6d_row0_col13\" class=\"data row0 col13\" >818.4</td>\n",
       "                        <td id=\"T_6fa6d_row0_col14\" class=\"data row0 col14\" >190.5</td>\n",
       "                        <td id=\"T_6fa6d_row0_col15\" class=\"data row0 col15\" >5.8</td>\n",
       "            </tr>\n",
       "            <tr>\n",
       "                        <th id=\"T_6fa6d_level0_row1\" class=\"row_heading level0 row1\" >ultra</th>\n",
       "                        <td id=\"T_6fa6d_row1_col0\" class=\"data row1 col0\" >49.3</td>\n",
       "                        <td id=\"T_6fa6d_row1_col1\" class=\"data row1 col1\" >2,070.0</td>\n",
       "                        <td id=\"T_6fa6d_row1_col2\" class=\"data row1 col2\" >526.1</td>\n",
       "                        <td id=\"T_6fa6d_row1_col3\" class=\"data row1 col3\" >19.5</td>\n",
       "                        <td id=\"T_6fa6d_row1_col4\" class=\"data row1 col4\" >38.0</td>\n",
       "                        <td id=\"T_6fa6d_row1_col5\" class=\"data row1 col5\" >1,950.0</td>\n",
       "                        <td id=\"T_6fa6d_row1_col6\" class=\"data row1 col6\" >518.0</td>\n",
       "                        <td id=\"T_6fa6d_row1_col7\" class=\"data row1 col7\" >19.0</td>\n",
       "                        <td id=\"T_6fa6d_row1_col8\" class=\"data row1 col8\" >2,285.4</td>\n",
       "                        <td id=\"T_6fa6d_row1_col9\" class=\"data row1 col9\" >141,387.7</td>\n",
       "                        <td id=\"T_6fa6d_row1_col10\" class=\"data row1 col10\" >101,052.5</td>\n",
       "                        <td id=\"T_6fa6d_row1_col11\" class=\"data row1 col11\" >97.4</td>\n",
       "                        <td id=\"T_6fa6d_row1_col12\" class=\"data row1 col12\" >47.8</td>\n",
       "                        <td id=\"T_6fa6d_row1_col13\" class=\"data row1 col13\" >376.0</td>\n",
       "                        <td id=\"T_6fa6d_row1_col14\" class=\"data row1 col14\" >317.9</td>\n",
       "                        <td id=\"T_6fa6d_row1_col15\" class=\"data row1 col15\" >9.9</td>\n",
       "            </tr>\n",
       "    </tbody></table>"
      ],
      "text/plain": [
       "<pandas.io.formats.style.Styler at 0x25b89d89a00>"
      ]
     },
     "metadata": {},
     "output_type": "display_data"
    }
   ],
   "source": [
    "data_generous_pivot = data_generous.pivot_table(index = 'tariff',\n",
    "                                                values = (['sum_duration','message_count','sum_gb_used', 'revenue']),\n",
    "                                                aggfunc=(['mean','median','var','std'])\n",
    "                                               ).style.format(\"{:,.1f}\")\n",
    "\n",
    "# display(data_generous_pivot.round(1))\n",
    "display(data_generous_pivot)"
   ]
  },
  {
   "cell_type": "markdown",
   "metadata": {},
   "source": [
    "**Промежуточный вывод:**\n",
    "\n",
    "**Минуты**\n",
    "- **На тарифе smart абонены укладываются в свои включенные 500 минут(420 мин в среднем).**\n",
    "- Среднее и медиана практически не отличаются, значит распределение должно быть нормальным, а не скошенным. \n",
    "- Стандартное отклонение 190. А значит все что выше 420+190*3 - можно считать выбросами. Таких значений всего 7 из 2229. Расчеты ниже.\n",
    "\n",
    "\n",
    "- **На тарифе ultra абоненты тратят не намного больше минут, чем на smart - 545 из 3000, которые включены в тариф.** \n",
    "- Среднее чуть больше медианы, а значит распределение будет немного скошенным вправо.\n",
    "- Стандартное отклонение 307. А значит все что выше 545+307*3 - можно считать выбросами. Таких значений всего 2 из 985. Расчеты ниже.\n",
    "\n",
    "**Интернет**\n",
    "- **На тарифе smart абонены используют в среднем 16,3 гб интернета при включенных 15гб**. \n",
    "- Медиана выше среднего( 17гб против 16,3 гб), а значит график будет немного скошен влево.\n",
    "- Стандартное отклонение 5,7 гб. А значит все что выше 16,3+5,7*3 - можно считать выбросами. Таких значений всего 8 из 2229. Расчеты ниже.\n",
    "\n",
    "\n",
    "- **На тарифе ultra абонены используют в среднем 19,7 гб интернета при включенных 30гб**. \n",
    "- Медиана немного ниже среднего(19гб против 19,7 гб), а значит график будет немного скошен вправо.\n",
    "- Стандартное отклонение 9,7 гб. А значит все что выше 19,7+9,7*3 - можно считать выбросами. Таких значений всего 1 из 985. Расчеты ниже.\n",
    "\n",
    "**СМС**\n",
    "- **На тарифе smart абонены используют в среднем 39 СМС при включенных 50 СМС.**\n",
    "- Медиана ниже среднего(34 против 39), а значит график будет скошен вправо.\n",
    "- Стандартное отклонение 27 смс. А значит все что выше 39+27*3 - можно считать выбросами. Таких значений всего 11 из 2229. Расчеты ниже.\n",
    "\n",
    "\n",
    "- **На тарифе ultra абонены используют в среднем 61 СМС при включенных 1000 СМС.**\n",
    "- Медиана ниже среднего(51 против 61), а значит график будет скошен вправо.\n",
    "- Стандартное отклонение 46 смс. А значит все что выше 61+46*3 - можно считать выбросами. Таких значений всего 4 из 985. Расчеты ниже.\n",
    "\n",
    "**Выручка**\n",
    "- **На тарифе smart средняя выручка по абоненту почти 1300руб, при абоненской плате 550руб**\n",
    "- Медиана весомо ниже среднего(1020 против 1300), а значит график будет скошен вправо.\n",
    "- Стандартное отклонение 818 руб. А значит все что выше 1300+818*3 - можно считать выбросами. Таких значений 25 из 2229. Расчеты ниже.\n",
    "\n",
    "\n",
    "- **На тарифе ultra средняя выручка по абоненту почти 2070руб, при абоненской плате 1950**\n",
    "- Медиана так же ниже среднего(2070 против 1950), а значит график будет скошен вправо.\n",
    "- Стандартное отклонение намного меньше чем у тарифа smart - 376руб. А значит все что выше 2070+376*3 - можно считать выбросами. Таких значений 34 из 985. Расчеты ниже.\n",
    "\n",
    "***Так как распределение не везде \"нормальное\" - правило трех сигм не везде работает. Он выбрасов избавляться не будем, а просто имеем ввиду выбивающиеся значения.***\n"
   ]
  },
  {
   "cell_type": "markdown",
   "metadata": {},
   "source": [
    "<div class=\"alert alert-info\"> Считаем выбросы по правилу трех сигм </div>"
   ]
  },
  {
   "cell_type": "code",
   "execution_count": 110,
   "metadata": {},
   "outputs": [
    {
     "name": "stdout",
     "output_type": "stream",
     "text": [
      "Выбросы по правилу трех сигм:\n",
      "Минуты на тарифе Smart:\n",
      "7\n",
      "Минуты на тарифе Ultra:\n",
      "2\n",
      "Интернет на тарифе Smart:\n",
      "8\n",
      "Интернет на тарифе Ultra:\n",
      "1\n",
      "СМС на тарифе Smart:\n",
      "11\n",
      "СМС на тарифе Ultra:\n",
      "4\n",
      "Выручка на тарифе Smart:\n",
      "25\n",
      "Выручка на тарифе Ultra:\n",
      "34\n"
     ]
    }
   ],
   "source": [
    "print('Выбросы по правилу трех сигм:')\n",
    "print('Минуты на тарифе Smart:')\n",
    "print(len(data_generous[data_generous['sum_duration'] > (420+190*3)][data_generous['tariff'] == 'smart']))\n",
    "print('Минуты на тарифе Ultra:')\n",
    "print(len(data_generous[data_generous['sum_duration'] > (545+307*3)][data_generous['tariff'] == 'ultra']))\n",
    "print('Интернет на тарифе Smart:')\n",
    "print(len(data_generous[data_generous['sum_gb_used'] > (16.3+5.7*3)][data_generous['tariff'] == 'smart']))\n",
    "print('Интернет на тарифе Ultra:')\n",
    "print(len(data_generous[data_generous['sum_gb_used'] > (19.7+9.7*3)][data_generous['tariff'] == 'ultra']))\n",
    "print('СМС на тарифе Smart:')\n",
    "print(len(data_generous[data_generous['message_count'] > (39+27*3)][data_generous['tariff'] == 'smart']))\n",
    "print('СМС на тарифе Ultra:')\n",
    "print(len(data_generous[data_generous['message_count'] > (61+46*3)][data_generous['tariff'] == 'ultra']))\n",
    "print('Выручка на тарифе Smart:')\n",
    "print(len(data_generous[data_generous['revenue'] > (1300+818*3)][data_generous['tariff'] == 'smart']))\n",
    "print('Выручка на тарифе Ultra:')\n",
    "print(len(data_generous[data_generous['revenue'] > (2070+376*3)][data_generous['tariff'] == 'ultra']))"
   ]
  },
  {
   "cell_type": "markdown",
   "metadata": {},
   "source": [
    "<div class=\"alert alert-info\"> Рассмотрим на гистограмме <b>распределение потребления минут на тарифе SMART</b> </div>"
   ]
  },
  {
   "cell_type": "code",
   "execution_count": 111,
   "metadata": {
    "colab": {
     "base_uri": "https://localhost:8080/",
     "height": 282
    },
    "executionInfo": {
     "elapsed": 43,
     "status": "ok",
     "timestamp": 1654795683904,
     "user": {
      "displayName": "Дарья Алесенкова",
      "userId": "04509170127932489817"
     },
     "user_tz": -120
    },
    "id": "pa5RKGDMKgCv",
    "outputId": "0044f0e6-5b54-44f2-a4cb-528c01ee8701"
   },
   "outputs": [
    {
     "data": {
      "image/png": "[encoded data removed]",
      "text/plain": [
       "<Figure size 640x480 with 1 Axes>"
      ]
     },
     "metadata": {},
     "output_type": "display_data"
    }
   ],
   "source": [
    "ax = data_generous[data_generous['tariff']=='smart']['sum_duration'].hist(range=(0, 1000))\n",
    "\n",
    "ax.set_title('Распределение потребления минут на тарифе SMART')\n",
    "ax.set_xlabel('sum of minutes')\n",
    "ax.set_ylabel('number of people')\n",
    "\n",
    "plt.show()"
   ]
  },
  {
   "cell_type": "markdown",
   "metadata": {},
   "source": [
    "Нормальное распределение"
   ]
  },
  {
   "cell_type": "markdown",
   "metadata": {},
   "source": [
    "<div class=\"alert alert-info\"> Рассмотрим на гистограмме <b>распределение потребления минут на тарифе ULTRA</b> </div>"
   ]
  },
  {
   "cell_type": "code",
   "execution_count": 112,
   "metadata": {
    "colab": {
     "base_uri": "https://localhost:8080/",
     "height": 282
    },
    "executionInfo": {
     "elapsed": 733,
     "status": "ok",
     "timestamp": 1654795684600,
     "user": {
      "displayName": "Дарья Алесенкова",
      "userId": "04509170127932489817"
     },
     "user_tz": -120
    },
    "id": "t-8KyO0xJHlU",
    "outputId": "64cc6007-43d2-4fd9-f744-18270d8fe8d1"
   },
   "outputs": [
    {
     "data": {
      "image/png": "[encoded data removed]",
      "text/plain": [
       "<Figure size 640x480 with 1 Axes>"
      ]
     },
     "metadata": {},
     "output_type": "display_data"
    }
   ],
   "source": [
    "ax = data_generous[data_generous['tariff']=='ultra']['sum_duration'].hist(range=(0, 1400))\n",
    "\n",
    "ax.set_title('Распределение потребления минут на тарифе ULTRA')\n",
    "ax.set_ylabel('number of people')\n",
    "ax.set_xlabel('sum of minutes')\n",
    "\n",
    "plt.show()"
   ]
  },
  {
   "cell_type": "markdown",
   "metadata": {},
   "source": [
    "Распределение немного скошенно вправо"
   ]
  },
  {
   "cell_type": "code",
   "execution_count": 113,
   "metadata": {},
   "outputs": [
    {
     "data": {
      "text/plain": [
       "mean     526.089\n",
       "median   518.000\n",
       "Name: sum_duration, dtype: float64"
      ]
     },
     "execution_count": 113,
     "metadata": {},
     "output_type": "execute_result"
    }
   ],
   "source": [
    "# check\n",
    "data_generous[data_generous['tariff']=='ultra']['sum_duration'].agg(['mean', 'median'])"
   ]
  },
  {
   "cell_type": "markdown",
   "metadata": {},
   "source": [
    "<div class=\"alert alert-info\"> Сравление гистограмм <b>распределения потребления минут на тарифах SMART ULTRA</b> </div>"
   ]
  },
  {
   "cell_type": "code",
   "execution_count": 114,
   "metadata": {
    "colab": {
     "base_uri": "https://localhost:8080/",
     "height": 282
    },
    "executionInfo": {
     "elapsed": 29,
     "status": "ok",
     "timestamp": 1654795684601,
     "user": {
      "displayName": "Дарья Алесенкова",
      "userId": "04509170127932489817"
     },
     "user_tz": -120
    },
    "id": "ZGSkpgPnR3V9",
    "outputId": "2e70a0c7-3923-48e0-9c7b-3fd78c1efc33",
    "scrolled": true
   },
   "outputs": [
    {
     "data": {
      "text/plain": [
       "<AxesSubplot:ylabel='Frequency'>"
      ]
     },
     "execution_count": 114,
     "metadata": {},
     "output_type": "execute_result"
    },
    {
     "data": {
      "image/png": "[encoded data removed]",
      "text/plain": [
       "<Figure size 640x480 with 1 Axes>"
      ]
     },
     "metadata": {},
     "output_type": "display_data"
    }
   ],
   "source": [
    "data_generous[data_generous['tariff']=='smart']['sum_duration'].plot(\n",
    "    kind ='hist',\n",
    "    grid=True,\n",
    "    label='smart',\n",
    "    legend=True,\n",
    "    alpha = 0.6\n",
    ")\n",
    "data_generous[data_generous['tariff']=='ultra']['sum_duration'].plot(\n",
    "    kind ='hist',\n",
    "    grid=True,\n",
    "    label='ultra',\n",
    "    legend=True,\n",
    "    alpha = 0.6\n",
    ")\n"
   ]
  },
  {
   "cell_type": "markdown",
   "metadata": {},
   "source": [
    "Распределение минут немного отличается. На тарифе ULTRA пользователи тратят чуть больше минут. Подробнее описано выше."
   ]
  },
  {
   "cell_type": "markdown",
   "metadata": {},
   "source": [
    "<div class=\"alert alert-info\"> Сравление графиков <b> потребления минут на тарифах SMART и ULTRA по месяцам\n",
    "   </b> </div>"
   ]
  },
  {
   "cell_type": "code",
   "execution_count": 115,
   "metadata": {
    "colab": {
     "base_uri": "https://localhost:8080/",
     "height": 296
    },
    "executionInfo": {
     "elapsed": 919,
     "status": "ok",
     "timestamp": 1654795685501,
     "user": {
      "displayName": "Дарья Алесенкова",
      "userId": "04509170127932489817"
     },
     "user_tz": -120
    },
    "id": "_7VgH7B41ms9",
    "outputId": "2e94a045-f280-47e5-c695-191f12166e5a",
    "scrolled": false
   },
   "outputs": [
    {
     "data": {
      "text/plain": [
       "<AxesSubplot:xlabel='month'>"
      ]
     },
     "execution_count": 115,
     "metadata": {},
     "output_type": "execute_result"
    },
    {
     "data": {
      "image/png": "[encoded data removed]",
      "text/plain": [
       "<Figure size 640x480 with 1 Axes>"
      ]
     },
     "metadata": {},
     "output_type": "display_data"
    }
   ],
   "source": [
    "smart_min = data_generous[data_generous['tariff']=='smart'].groupby('month')['sum_duration'].mean()\n",
    "ultra_min = data_generous[data_generous['tariff']=='ultra'].groupby('month')['sum_duration'].mean()\n",
    "\n",
    "smart_min.plot(\n",
    "    x='month',\n",
    "    grid=True,\n",
    "    label='smart',\n",
    "    legend=True\n",
    ") \n",
    "\n",
    "ultra_min.plot(\n",
    "    x='month',\n",
    "    grid=True,\n",
    "    label='ultra',\n",
    "    legend=True\n",
    ")"
   ]
  },
  {
   "cell_type": "markdown",
   "metadata": {},
   "source": [
    "Отчетливо видим, что потребление минут на тарифе ultra выше.\n",
    "\n",
    "Количество минут потребляемых пользователями по месяцам ростет на обоих тарифах. Вероятнее всего это потому что приходят новые пользователи и они подключаются не всегда в начале месяца. Поэтому в момент подключения их минуты занижены, зато в следующем месяце они уже засчитаны полностью. Так с ростом абонентов растут и средние минуты."
   ]
  },
  {
   "cell_type": "markdown",
   "metadata": {},
   "source": [
    "<div class=\"alert alert-info\"> Рассмотрим на гистограмме <b>распределение потребления ГБ на тарифе SMART</b> </div>"
   ]
  },
  {
   "cell_type": "code",
   "execution_count": 116,
   "metadata": {
    "colab": {
     "base_uri": "https://localhost:8080/",
     "height": 282
    },
    "executionInfo": {
     "elapsed": 25,
     "status": "ok",
     "timestamp": 1654795685502,
     "user": {
      "displayName": "Дарья Алесенкова",
      "userId": "04509170127932489817"
     },
     "user_tz": -120
    },
    "id": "thLfSaaHKscM",
    "outputId": "028f194c-da8e-40c7-924f-b8697fd99fe0",
    "scrolled": true
   },
   "outputs": [
    {
     "data": {
      "text/plain": [
       "<AxesSubplot:>"
      ]
     },
     "execution_count": 116,
     "metadata": {},
     "output_type": "execute_result"
    },
    {
     "data": {
      "image/png": "[encoded data removed]",
      "text/plain": [
       "<Figure size 640x480 with 1 Axes>"
      ]
     },
     "metadata": {},
     "output_type": "display_data"
    }
   ],
   "source": [
    "data_generous[data_generous['tariff']=='smart']['sum_gb_used'].hist(bins = 15)\n"
   ]
  },
  {
   "cell_type": "markdown",
   "metadata": {},
   "source": [
    "Распределение немного скошенно влево"
   ]
  },
  {
   "cell_type": "markdown",
   "metadata": {},
   "source": [
    "<div class=\"alert alert-info\"> Рассмотрим на гистограмме <b>распределение потребления ГБ на тарифе ULTRA</b> </div>"
   ]
  },
  {
   "cell_type": "code",
   "execution_count": 117,
   "metadata": {
    "colab": {
     "base_uri": "https://localhost:8080/",
     "height": 285
    },
    "executionInfo": {
     "elapsed": 23,
     "status": "ok",
     "timestamp": 1654795685503,
     "user": {
      "displayName": "Дарья Алесенкова",
      "userId": "04509170127932489817"
     },
     "user_tz": -120
    },
    "id": "DHe2kF8UKs-B",
    "outputId": "a5ac1a32-a637-4ade-cea3-4c050f0b2142"
   },
   "outputs": [
    {
     "data": {
      "text/plain": [
       "<AxesSubplot:>"
      ]
     },
     "execution_count": 117,
     "metadata": {},
     "output_type": "execute_result"
    },
    {
     "data": {
      "image/png": "[encoded data removed]",
      "text/plain": [
       "<Figure size 640x480 with 1 Axes>"
      ]
     },
     "metadata": {},
     "output_type": "display_data"
    }
   ],
   "source": [
    "data_generous[data_generous['tariff']=='ultra']['sum_gb_used'].hist(bins = 15)"
   ]
  },
  {
   "cell_type": "markdown",
   "metadata": {},
   "source": [
    "Распределение немного скошенно вправо"
   ]
  },
  {
   "cell_type": "markdown",
   "metadata": {},
   "source": [
    "<div class=\"alert alert-info\"> Сравление гистограмм <b>распределения потребления ГБ на тарифах SMART ULTRA</b> </div>"
   ]
  },
  {
   "cell_type": "code",
   "execution_count": 118,
   "metadata": {
    "colab": {
     "base_uri": "https://localhost:8080/",
     "height": 282
    },
    "executionInfo": {
     "elapsed": 21,
     "status": "ok",
     "timestamp": 1654795685505,
     "user": {
      "displayName": "Дарья Алесенкова",
      "userId": "04509170127932489817"
     },
     "user_tz": -120
    },
    "id": "4OqeoQFkQ-OJ",
    "outputId": "5851d4a3-19e1-4519-a295-68f4d3e6276e",
    "scrolled": true
   },
   "outputs": [
    {
     "data": {
      "text/plain": [
       "<AxesSubplot:ylabel='Frequency'>"
      ]
     },
     "execution_count": 118,
     "metadata": {},
     "output_type": "execute_result"
    },
    {
     "data": {
      "image/png": "[encoded data removed]",
      "text/plain": [
       "<Figure size 640x480 with 1 Axes>"
      ]
     },
     "metadata": {},
     "output_type": "display_data"
    }
   ],
   "source": [
    "data_generous[data_generous['tariff']=='smart']['sum_gb_used'].plot(\n",
    "    kind ='hist',\n",
    "    grid=True,\n",
    "    label='smart',\n",
    "    legend=True,\n",
    "    alpha = 0.6\n",
    ")\n",
    "data_generous[data_generous['tariff']=='ultra']['sum_gb_used'].plot(\n",
    "    kind ='hist',\n",
    "    grid=True,\n",
    "    label='ultra',\n",
    "    legend=True,\n",
    "    alpha = 0.6\n",
    ")\n",
    "\n"
   ]
  },
  {
   "cell_type": "markdown",
   "metadata": {},
   "source": [
    "Распределение ГБ также немного отличается. На тарифе ULTRA пользователи тратят чуть больше ГБ. Подробнее описано выше."
   ]
  },
  {
   "cell_type": "markdown",
   "metadata": {},
   "source": [
    "<div class=\"alert alert-info\"> Сравление графиков <b> потребления ГБ на тарифах SMART и ULTRA по месяцам\n",
    "   </b> </div>"
   ]
  },
  {
   "cell_type": "code",
   "execution_count": 119,
   "metadata": {
    "colab": {
     "base_uri": "https://localhost:8080/",
     "height": 296
    },
    "executionInfo": {
     "elapsed": 529,
     "status": "ok",
     "timestamp": 1654795686016,
     "user": {
      "displayName": "Дарья Алесенкова",
      "userId": "04509170127932489817"
     },
     "user_tz": -120
    },
    "id": "fOg2CqhY2Bzp",
    "outputId": "97c61cd2-1df6-482c-befd-4a3f98810aee",
    "scrolled": true
   },
   "outputs": [
    {
     "data": {
      "text/plain": [
       "<AxesSubplot:xlabel='month'>"
      ]
     },
     "execution_count": 119,
     "metadata": {},
     "output_type": "execute_result"
    },
    {
     "data": {
      "image/png": "[encoded data removed]",
      "text/plain": [
       "<Figure size 640x480 with 1 Axes>"
      ]
     },
     "metadata": {},
     "output_type": "display_data"
    }
   ],
   "source": [
    "smart_gb = data_generous[data_generous['tariff']=='smart'].groupby('month')['sum_gb_used'].mean()\n",
    "ultra_gb = data_generous[data_generous['tariff']=='ultra'].groupby('month')['sum_gb_used'].mean()\n",
    "\n",
    "\n",
    "smart_gb.plot(\n",
    "    x='month',\n",
    "    grid=True,\n",
    "    label='smart',\n",
    "    legend=True,\n",
    ") \n",
    "ultra_gb.plot(\n",
    "    x='month',\n",
    "    grid=True,\n",
    "    label='ultra',\n",
    "    legend=True,\n",
    ")\n"
   ]
  },
  {
   "cell_type": "markdown",
   "metadata": {},
   "source": [
    "Отчетливо видим, что потребление минут на тарифе ultra выше.\n",
    "\n",
    "Такая же тенденция роста по месяцам, как и в минутах, по тем же причинам."
   ]
  },
  {
   "cell_type": "markdown",
   "metadata": {},
   "source": [
    "<div class=\"alert alert-info\"> Рассмотрим на гистограмме <b>распределение потребления СМС на тарифе SMART\n",
    "   </b> </div>"
   ]
  },
  {
   "cell_type": "code",
   "execution_count": 120,
   "metadata": {
    "colab": {
     "base_uri": "https://localhost:8080/",
     "height": 282
    },
    "executionInfo": {
     "elapsed": 719,
     "status": "ok",
     "timestamp": 1654795686728,
     "user": {
      "displayName": "Дарья Алесенкова",
      "userId": "04509170127932489817"
     },
     "user_tz": -120
    },
    "id": "mJ2STIw0K20M",
    "outputId": "1eb34e42-0a99-4606-9903-2198539ed766",
    "scrolled": false
   },
   "outputs": [
    {
     "data": {
      "text/plain": [
       "<AxesSubplot:>"
      ]
     },
     "execution_count": 120,
     "metadata": {},
     "output_type": "execute_result"
    },
    {
     "data": {
      "image/png": "[encoded data removed]",
      "text/plain": [
       "<Figure size 640x480 with 1 Axes>"
      ]
     },
     "metadata": {},
     "output_type": "display_data"
    }
   ],
   "source": [
    "data_generous[data_generous['tariff']=='smart']['message_count'].hist()"
   ]
  },
  {
   "cell_type": "markdown",
   "metadata": {},
   "source": [
    "Распределение скошенно вправо, что говорит о том, что большое количество людей вообще не отправляет СМС"
   ]
  },
  {
   "cell_type": "markdown",
   "metadata": {},
   "source": [
    "<div class=\"alert alert-info\"> Рассмотрим на гистограмме <b>распределение потребления СМС на тарифе ULTRA</b> </div>"
   ]
  },
  {
   "cell_type": "code",
   "execution_count": 121,
   "metadata": {
    "colab": {
     "base_uri": "https://localhost:8080/",
     "height": 283
    },
    "executionInfo": {
     "elapsed": 21,
     "status": "ok",
     "timestamp": 1654795686729,
     "user": {
      "displayName": "Дарья Алесенкова",
      "userId": "04509170127932489817"
     },
     "user_tz": -120
    },
    "id": "yuoAWW3-K29d",
    "outputId": "6fbf41ab-6724-453f-de4c-38d603b6780e",
    "scrolled": true
   },
   "outputs": [
    {
     "data": {
      "text/plain": [
       "<AxesSubplot:>"
      ]
     },
     "execution_count": 121,
     "metadata": {},
     "output_type": "execute_result"
    },
    {
     "data": {
      "image/png": "[encoded data removed]",
      "text/plain": [
       "<Figure size 640x480 with 1 Axes>"
      ]
     },
     "metadata": {},
     "output_type": "display_data"
    }
   ],
   "source": [
    "data_generous[data_generous['tariff']=='ultra']['message_count'].hist()"
   ]
  },
  {
   "cell_type": "markdown",
   "metadata": {},
   "source": [
    "Распределение скошенно вправо. Причина та же."
   ]
  },
  {
   "cell_type": "markdown",
   "metadata": {},
   "source": [
    "<div class=\"alert alert-info\"> Сравление гистограмм <b>распределения потребления СМС на тарифах SMART ULTRA</b> </div>"
   ]
  },
  {
   "cell_type": "code",
   "execution_count": 122,
   "metadata": {
    "colab": {
     "base_uri": "https://localhost:8080/",
     "height": 282
    },
    "executionInfo": {
     "elapsed": 20,
     "status": "ok",
     "timestamp": 1654795686732,
     "user": {
      "displayName": "Дарья Алесенкова",
      "userId": "04509170127932489817"
     },
     "user_tz": -120
    },
    "id": "8ANVhrhbOui9",
    "outputId": "0f86f969-a166-482a-9e75-1bc690d36f7e"
   },
   "outputs": [
    {
     "data": {
      "text/plain": [
       "<AxesSubplot:ylabel='Frequency'>"
      ]
     },
     "execution_count": 122,
     "metadata": {},
     "output_type": "execute_result"
    },
    {
     "data": {
      "image/png": "[encoded data removed]",
      "text/plain": [
       "<Figure size 640x480 with 1 Axes>"
      ]
     },
     "metadata": {},
     "output_type": "display_data"
    }
   ],
   "source": [
    "data_generous[data_generous['tariff']=='smart']['message_count'].plot(\n",
    "    kind ='hist',\n",
    "    grid=True,\n",
    "    label='smart',\n",
    "    legend=True,\n",
    "    alpha = 0.6\n",
    ")\n",
    "data_generous[data_generous['tariff']=='ultra']['message_count'].plot(\n",
    "    kind ='hist',\n",
    "    grid=True,\n",
    "    label='ultra',\n",
    "    legend=True,\n",
    "    alpha = 0.6\n",
    ")"
   ]
  },
  {
   "cell_type": "markdown",
   "metadata": {},
   "source": [
    "Распределение СМС на тарифе ULTRA скошено вправо чуть сильнее. Пользователи тратят больше СМС, чем на тарифе Smart"
   ]
  },
  {
   "cell_type": "markdown",
   "metadata": {},
   "source": [
    "<div class=\"alert alert-info\"> Сравление графиков <b> потребления СМС на тарифах SMART и ULTRA по месяцам\n",
    "   </b> </div>"
   ]
  },
  {
   "cell_type": "code",
   "execution_count": 123,
   "metadata": {
    "colab": {
     "base_uri": "https://localhost:8080/",
     "height": 296
    },
    "executionInfo": {
     "elapsed": 521,
     "status": "ok",
     "timestamp": 1654795687237,
     "user": {
      "displayName": "Дарья Алесенкова",
      "userId": "04509170127932489817"
     },
     "user_tz": -120
    },
    "id": "18xjQSon2DM9",
    "outputId": "0935976d-ac5d-40d5-8d26-82116ab0c964",
    "scrolled": true
   },
   "outputs": [
    {
     "data": {
      "text/plain": [
       "<AxesSubplot:xlabel='month'>"
      ]
     },
     "execution_count": 123,
     "metadata": {},
     "output_type": "execute_result"
    },
    {
     "data": {
      "image/png": "[encoded data removed]",
      "text/plain": [
       "<Figure size 640x480 with 1 Axes>"
      ]
     },
     "metadata": {},
     "output_type": "display_data"
    }
   ],
   "source": [
    "smart_sms = data_generous[data_generous['tariff']=='smart'].groupby('month')['message_count'].mean()\n",
    "ultra_sms = data_generous[data_generous['tariff']=='ultra'].groupby('month')['message_count'].mean()\n",
    "\n",
    "\n",
    "smart_sms.plot(\n",
    "    x='month',\n",
    "    grid=True,\n",
    "    label='smart',\n",
    "    legend=True,\n",
    "\n",
    ") \n",
    "ultra_sms.plot(\n",
    "    x='month',\n",
    "    grid=True,\n",
    "    label='ultra',\n",
    "    legend=True,\n",
    ")"
   ]
  },
  {
   "cell_type": "markdown",
   "metadata": {},
   "source": [
    "<div class=\"alert alert-info\"> Рассмотрим на гистограмме <b>распределение выручки на тарифе SMART</b> </div>"
   ]
  },
  {
   "cell_type": "code",
   "execution_count": 124,
   "metadata": {
    "scrolled": true
   },
   "outputs": [
    {
     "data": {
      "text/plain": [
       "<AxesSubplot:>"
      ]
     },
     "execution_count": 124,
     "metadata": {},
     "output_type": "execute_result"
    },
    {
     "data": {
      "image/png": "[encoded data removed]",
      "text/plain": [
       "<Figure size 640x480 with 1 Axes>"
      ]
     },
     "metadata": {},
     "output_type": "display_data"
    }
   ],
   "source": [
    "data_generous[data_generous['tariff']=='smart']['revenue'].hist(range=(550, 4000))"
   ]
  },
  {
   "cell_type": "markdown",
   "metadata": {},
   "source": [
    "Распределение скошенно вправо. Большое количество значений равно абоненской плате - 550р, что говорит о том, что значительная часть абонентов укладывается в ГБ,МИН и СМС которые включены в тариф **(25%)**. Расчет ниже."
   ]
  },
  {
   "cell_type": "code",
   "execution_count": 125,
   "metadata": {},
   "outputs": [
    {
     "name": "stdout",
     "output_type": "stream",
     "text": [
      "Количество месяцев, в которые абоненты оплачивали только абоненскую плату на тарифе Smart:\n",
      "568\n",
      "============================================================\n",
      "Доля месяцев, в которые было достаточно того, что включено в тариф:\n",
      "0.2547085201793722\n"
     ]
    }
   ],
   "source": [
    "print('Количество месяцев, в которые абоненты оплачивали только абоненскую плату на тарифе Smart:')\n",
    "print(len(data_generous[data_generous['revenue'] == 550][data_generous['tariff'] == 'smart']))\n",
    "print(60*'=')\n",
    "print('Доля месяцев, в которые было достаточно того, что включено в тариф:')\n",
    "print(len(data_generous[data_generous['revenue'] == 550][data_generous['tariff'] == 'smart']) / len(data_generous[data_generous['tariff'] == 'smart']))"
   ]
  },
  {
   "cell_type": "markdown",
   "metadata": {},
   "source": [
    "<div class=\"alert alert-info\"> Рассмотрим на гистограмме <b>распределение выручки на тарифе ULTRA</b> </div>"
   ]
  },
  {
   "cell_type": "code",
   "execution_count": 126,
   "metadata": {
    "scrolled": true
   },
   "outputs": [
    {
     "data": {
      "text/plain": [
       "<AxesSubplot:>"
      ]
     },
     "execution_count": 126,
     "metadata": {},
     "output_type": "execute_result"
    },
    {
     "data": {
      "image/png": "[encoded data removed]",
      "text/plain": [
       "<Figure size 640x480 with 1 Axes>"
      ]
     },
     "metadata": {},
     "output_type": "display_data"
    }
   ],
   "source": [
    "data_generous[data_generous['tariff']=='ultra']['revenue'].hist(range=(1950, 4000))"
   ]
  },
  {
   "cell_type": "markdown",
   "metadata": {},
   "source": [
    "Распределение скошенно вправо.  Большое количество значений равно абоненской плате - 1950р, что говорит о том, что бОльшая абонентов укладывается в ГБ,МИН и СМС которые включены в тариф **(86%)**. Расчет ниже."
   ]
  },
  {
   "cell_type": "code",
   "execution_count": 127,
   "metadata": {},
   "outputs": [
    {
     "name": "stdout",
     "output_type": "stream",
     "text": [
      "Количество абонентов, которые оплачивают только абоненскую плату на тарифе Ultra:\n",
      "852\n",
      "============================================================\n",
      "Доля тех, кому достаточно того что включено в тариф:\n",
      "0.8640973630831643\n"
     ]
    }
   ],
   "source": [
    "print('Количество абонентов, которые оплачивают только абоненскую плату на тарифе Ultra:')\n",
    "print(len(data_generous[data_generous['revenue'] == 1950][data_generous['tariff'] == 'ultra']))\n",
    "print(60*'=')\n",
    "print('Доля тех, кому достаточно того что включено в тариф:')\n",
    "print(len(data_generous[data_generous['revenue'] == 1950][data_generous['tariff'] == 'ultra']) / len(data_generous[data_generous['tariff'] == 'ultra']))"
   ]
  },
  {
   "cell_type": "markdown",
   "metadata": {},
   "source": [
    "<div class=\"alert alert-info\"> Сравление гистограмм <b>распределения выручки на тарифах SMART ULTRA</b> </div>"
   ]
  },
  {
   "cell_type": "code",
   "execution_count": 128,
   "metadata": {
    "scrolled": true
   },
   "outputs": [
    {
     "data": {
      "text/plain": [
       "<AxesSubplot:ylabel='Frequency'>"
      ]
     },
     "execution_count": 128,
     "metadata": {},
     "output_type": "execute_result"
    },
    {
     "data": {
      "image/png": "[encoded data removed]",
      "text/plain": [
       "<Figure size 640x480 with 1 Axes>"
      ]
     },
     "metadata": {},
     "output_type": "display_data"
    }
   ],
   "source": [
    "data_generous[data_generous['tariff']=='smart']['revenue'].plot(\n",
    "    kind ='hist',\n",
    "    grid=True,\n",
    "    label='smart',\n",
    "    legend=True,\n",
    "    alpha = 0.6\n",
    ")\n",
    "data_generous[data_generous['tariff']=='ultra']['revenue'].plot(\n",
    "    kind ='hist',\n",
    "    grid=True,\n",
    "    label='ultra',\n",
    "    legend=True,\n",
    "    alpha = 0.6\n",
    ")"
   ]
  },
  {
   "cell_type": "markdown",
   "metadata": {},
   "source": [
    "Распределение выручки у тарифа Smart более плавное, так как только 25% абонентов укладываются в ГБ,МИН и СМС предоставленные их тарифным планом. Остальные доплачивают."
   ]
  },
  {
   "cell_type": "markdown",
   "metadata": {},
   "source": [
    "<div class=\"alert alert-info\"> Сравление графиков <b> выручки на тарифах SMART и ULTRA по месяцам\n",
    "   </b> </div>"
   ]
  },
  {
   "cell_type": "code",
   "execution_count": 129,
   "metadata": {
    "scrolled": true
   },
   "outputs": [
    {
     "data": {
      "text/plain": [
       "<AxesSubplot:xlabel='month'>"
      ]
     },
     "execution_count": 129,
     "metadata": {},
     "output_type": "execute_result"
    },
    {
     "data": {
      "image/png": "[encoded data removed]",
      "text/plain": [
       "<Figure size 640x480 with 1 Axes>"
      ]
     },
     "metadata": {},
     "output_type": "display_data"
    }
   ],
   "source": [
    "smart_revenue = data_generous[data_generous['tariff']=='smart'].groupby('month')['revenue'].mean()\n",
    "ultra_revenue = data_generous[data_generous['tariff']=='ultra'].groupby('month')['revenue'].mean()\n",
    "\n",
    "\n",
    "smart_revenue.plot(\n",
    "    x='month',\n",
    "    grid=True,\n",
    "    label='smart',\n",
    "    legend=True,\n",
    "\n",
    ") \n",
    "ultra_revenue.plot(\n",
    "    x='month',\n",
    "    grid=True,\n",
    "    label='ultra',\n",
    "    legend=True,\n",
    ")"
   ]
  },
  {
   "cell_type": "markdown",
   "metadata": {},
   "source": [
    "График тарифа Ultra более ровный по причине того что 86% абонов оплачивают только тарифный план. в тарифе Smart выручка зависит от сверх потребления ГБ, МИН и СМС, а оно в свою очередь зависит от того, когда(в начале месяца, середине или конце) абонент подключил себе тарифный план. Поэтому с подключением новых абонентов график ростет."
   ]
  },
  {
   "cell_type": "markdown",
   "metadata": {
    "id": "wfq0G_ZPLWz5"
   },
   "source": [
    "## Проверка гипотез\n"
   ]
  },
  {
   "cell_type": "markdown",
   "metadata": {},
   "source": [
    "<div class=\"alert alert-info\"> Проверяем гипотезу : <b> \"Средние выручки пользователей тарифов «Ультра» и «Смарт» различаются\". </b>\n",
    "    \n",
    "<b>Нулевая гипотеза H₀</b> - выручки пользователей тарифов «Ультра» и «Смарт» НЕ различаются.\n",
    "    \n",
    "<b>Альтернативная гипотеза H₁</b>  - выручки пользователей тарифов «Ультра» и «Смарт» различаются. \n",
    "   </div>"
   ]
  },
  {
   "cell_type": "code",
   "execution_count": 130,
   "metadata": {
    "colab": {
     "base_uri": "https://localhost:8080/"
    },
    "executionInfo": {
     "elapsed": 20,
     "status": "ok",
     "timestamp": 1654795687239,
     "user": {
      "displayName": "Дарья Алесенкова",
      "userId": "04509170127932489817"
     },
     "user_tz": -120
    },
    "id": "0gdngwOcLvRu",
    "outputId": "2162ca9f-7ce7-4eb2-df4f-cbaebf34f976",
    "scrolled": true
   },
   "outputs": [
    {
     "name": "stdout",
     "output_type": "stream",
     "text": [
      "p-значение:  1.927011394420941e-250\n",
      "Отвергаем нулевую гипотезу\n"
     ]
    }
   ],
   "source": [
    "smart_revenue = data_generous[data_generous['tariff']=='smart']['revenue']\n",
    "ultra_revenue = data_generous[data_generous['tariff']=='ultra']['revenue']\n",
    "\n",
    "\n",
    "alpha = .05 # критический уровень статистической значимости\n",
    "\n",
    "results = st.ttest_ind(\n",
    "    smart_revenue, \n",
    "    ultra_revenue, equal_var = False)\n",
    "\n",
    "print('p-значение: ', results.pvalue)\n",
    "\n",
    "if results.pvalue < alpha:\n",
    "    print(\"Отвергаем нулевую гипотезу\")\n",
    "else:\n",
    "    print(\"Не получилось отвергнуть нулевую гипотезу\") \n"
   ]
  },
  {
   "cell_type": "markdown",
   "metadata": {},
   "source": [
    "**Вывод:**   \n",
    "\n",
    "- Отвергли нулевую гепотезу H₀. \n",
    "- Оставили альтернативную H₁ о том, что средние выручки пользователей тарифов «Ультра» и «Смарт» различаются."
   ]
  },
  {
   "cell_type": "markdown",
   "metadata": {},
   "source": [
    "<div class=\"alert alert-info\"> Проверяем гипотезу : <b> \"Средняя выручка пользователей из Москвы отличается от выручки пользователей из других регионов.\". </b>\n",
    "    \n",
    "<b>Нулевая гипотеза H₀</b> - Средняя выручка пользователей из Москвы НЕ отличается от выручки пользователей из других регионов.\n",
    "    \n",
    "<b>Альтернативная гипотеза H₁</b>  - Средняя выручка пользователей из Москвы ОТЛИЧАЕТСЯ от выручки пользователей из других регионов. \n",
    "   </div>"
   ]
  },
  {
   "cell_type": "code",
   "execution_count": 131,
   "metadata": {
    "colab": {
     "base_uri": "https://localhost:8080/"
    },
    "executionInfo": {
     "elapsed": 244,
     "status": "ok",
     "timestamp": 1654795956905,
     "user": {
      "displayName": "Дарья Алесенкова",
      "userId": "04509170127932489817"
     },
     "user_tz": -120
    },
    "id": "VfOfUNg1Lz-t",
    "outputId": "df7e4db8-1351-44b2-dab2-0d94726c92e5"
   },
   "outputs": [
    {
     "name": "stdout",
     "output_type": "stream",
     "text": [
      "p-значение:  0.5216952110000279\n",
      "Не получилось отвергнуть нулевую гипотезу\n"
     ]
    }
   ],
   "source": [
    "moskow_revenue = data_generous[data_generous['city']=='Москва']['revenue']\n",
    "not_moskow_revenue = data_generous[data_generous['city']!='Москва']['revenue']\n",
    "\n",
    "alpha = .05 # критический уровень статистической значимости\n",
    "\n",
    "results = st.ttest_ind(\n",
    "    moskow_revenue, \n",
    "    not_moskow_revenue, equal_var = False)\n",
    "\n",
    "print('p-значение: ', results.pvalue)\n",
    "\n",
    "if results.pvalue < alpha:\n",
    "    print(\"Отвергаем нулевую гипотезу\")\n",
    "else:\n",
    "    print(\"Не получилось отвергнуть нулевую гипотезу\") "
   ]
  },
  {
   "cell_type": "markdown",
   "metadata": {},
   "source": [
    "**Вывод:**\n",
    "- Полученное значение p-value говорит о том, что хотя выручка пользователей из Москвы и выручка из других городов и неодинакова, с вероятностью в 52% такое различие можно получить случайно. Это явно слишком большая вероятность, чтобы делать вывод о значимом различии между средней выручкой.\n",
    "\n",
    "- Не получилось отвергнуть нулевую гипотезу H₀ о том, что выручка пользователей из Москвы НЕ отличается от выручки пользователей из других регионов."
   ]
  },
  {
   "cell_type": "markdown",
   "metadata": {},
   "source": [
    "## Общий вывод"
   ]
  },
  {
   "cell_type": "markdown",
   "metadata": {},
   "source": [
    "**1. Общая информация о датасете:**\n",
    "    \n",
    "**Таблица calls:**\n",
    "\n",
    "- 202 тыс. строк.\n",
    "- пропусков и дубликатов нет\n",
    "- есть звонки с продолжительностью 0 (почти 40тыс из 202тыс)- не будем их удалять, так как это пропущенные звонки.\n",
    "- средняя длительность звонка - 6.7 мин. Медиана - 6 мин.\n",
    "- в столбце call_date - поменять тип данных на datetime64\n",
    "- в столбце duration - округлить значения до минут в большую сторону.(для анализа нам будут нужны минуты)\n",
    "    \n",
    "**Таблицаа internet:**\n",
    "\n",
    "- 150 тыс. строк.\n",
    "- пропусков и дубликатов нет\n",
    "- среднее потребление интернета - 370 мб. Медиана - 348 мб.\n",
    "- почти 20 тыс строк из 150 тыс - с нулевой интернет-сессией.\n",
    "- в столбце session_date - поменять тип данных на datetime64\n",
    "- в столбце mb_used - в следующих шагах округлим значения с большую сторону и переведем мб в гб(для анализа и расчетов нам будут нужны гб)    \n",
    "\n",
    "**Таблица messages:**\n",
    "\n",
    "- 123 тыс. строк.\n",
    "- пропусков и дубликатов нет\n",
    "- в столбце message_date - поменять тип данных на datetime64\n",
    "\n",
    "**Таблица users:**\n",
    "\n",
    "- 500 строк.\n",
    "- дубликатов нет. Пропущенные значения в churn_date говорят о том, что тариф ещё действовал на момент выгрузки данных.\n",
    "- выбросов и неадекватных значений не замечено.\n",
    "- в столбце churn_date и reg_date - поменять тип данных на datetime64\n",
    "\n",
    "**Таблица tariffs:**\n",
    "\n",
    "- Информация о тарифах. Никаких аномалий не замечено.\n",
    "\n",
    "\n",
    "**2. Была проведена подготовка данных для дальнейшего анализа:**\n",
    "    \n",
    "- Замена типов данных в столбцах с датой на datetime64.(Таблицы: calls, internet, messages, users)\n",
    "- Округление значений до минут в столбце duration(таблица calls)\n",
    "- Добавление столца month в таблицы data_calls, data_messages, data_internet\n",
    "- Создание большой сводной таблицы data_generous, которая содержит информацию о тарифах и потреблении МИН, ГБ и СМС по месяцам по каждому абоненту из выборки.\n",
    "- Добавление к таблице столбца revenue, где была рассчитана выручка по каждому абоненту в зависимости от его тарифного плана и потребления МИН, ГБ и СМС.\n",
    "\n",
    "**3. Был проведен АНАЛИЗ ДАННЫХ и сделаны выводы:**\n",
    "\n",
    "\n",
    "**Минуты**\n",
    "- **На тарифе smart абонены укладываются в свои включенные 500 минут(420 мин в среднем).**\n",
    "- Среднее и медиана практически не отличаются, значит распределение должно быть нормальным, а не скошенным. \n",
    "- Стандартное отклонение 190. А значит все что выше 420+190*3 - можно считать выбросами. Таких значений всего 7 из 2229.\n",
    "\n",
    "\n",
    "- **На тарифе ultra абоненты тратят не намного больше минут, чем на smart - 545 из 3000, которые включены в тариф.** \n",
    "- Среднее чуть больше медианы, а значит распределение будет немного скошенным вправо.\n",
    "- Стандартное отклонение 307. А значит все что выше 545+307*3 - можно считать выбросами. Таких значений всего 2 из 985.\n",
    "\n",
    "**Интернет**\n",
    "- **На тарифе smart абонены используют в среднем 16,3 гб интернета при включенных 15гб**. \n",
    "- Медиана выше среднего( 17гб против 16,3 гб), а значит график будет немного скошен влево.\n",
    "- Стандартное отклонение 5,7 гб. А значит все что выше 16,3+5,7*3 - можно считать выбросами. Таких значений всего 8 из 2229. \n",
    "\n",
    "\n",
    "- **На тарифе ultra абонены используют в среднем 19,7 гб интернета при включенных 30гб**. \n",
    "- Медиана немного ниже среднего(19гб против 19,7 гб), а значит график будет немного скошен вправо.\n",
    "- Стандартное отклонение 9,7 гб. А значит все что выше 19,7+9,7*3 - можно считать выбросами. Таких значений всего 1 из 985. \n",
    "\n",
    "**СМС**\n",
    "- **На тарифе smart абонены используют в среднем 39 СМС при включенных 50 СМС.**\n",
    "- Медиана ниже среднего(34 против 39), а значит график будет скошен вправо.\n",
    "- Стандартное отклонение 27 смс. А значит все что выше 39+27*3 - можно считать выбросами. Таких значений всего 11 из 2229. \n",
    "\n",
    "\n",
    "- **На тарифе ultra абонены используют в среднем 61 СМС при включенных 1000 СМС.**\n",
    "- Медиана ниже среднего(51 против 61), а значит график будет скошен вправо.\n",
    "- Стандартное отклонение 46 смс. А значит все что выше 61+46*3 - можно считать выбросами. Таких значений всего 4 из 985.\n",
    "\n",
    "**Выручка**\n",
    "- **На тарифе smart средняя выручка по абоненту почти 1300руб, при абоненской плате 550руб**\n",
    "- Медиана весомо ниже среднего(1020 против 1300), а значит график будет скошен вправо.\n",
    "- Стандартное отклонение 818 руб. А значит все что выше 1300+818*3 - можно считать выбросами. Таких значений 25 из 2229. \n",
    "- Количество абонентов, которые оплачивают только абоненскую плату на тарифе Smart: 567\n",
    "- **Доля тех, кому достаточно того что включено в тариф: 25%**\n",
    "\n",
    "\n",
    "- **На тарифе ultra средняя выручка по абоненту почти 2070руб, при абоненской плате 1950**\n",
    "- Медиана так же ниже среднего(2070 против 1950), а значит график будет скошен вправо.\n",
    "- Стандартное отклонение намного меньше чем у тарифа smart - 376руб. А значит все что выше 2070+376*3 - можно считать выбросами. Таких значений 34 из 985.\n",
    "- Количество абонентов, которые оплачивают только абоненскую плату на тарифе Ultra: 851\n",
    "- **Доля тех, кому достаточно того что включено в тариф: 86%**\n",
    "\n",
    "**Так как распределение не везде \"нормальное\" - правило трех сигм не везде работает. Он выбрасов избавляться не будем, а просто имеем ввиду выбивающиеся значения.**\n",
    "\n",
    "\n",
    "**Итог анализа:** \n",
    "Потребление МИНУТ, СМС и ИНТЕРНЕТА на тарифе ULTRA не намного превышает потребление на тарифе SMART. И подавляющего большинства далеко от границ того, что включено в тариф. При этом выручка абонентов ultra намного выше 2070руб против 1300руб на тарифе smart. **Для компании тариф ULTRA более выгоден.**\n",
    "\n",
    "\n",
    "**4. Была проведена проверка двух гипотез:**\n",
    "- **Гипотеза о том, что средние выручки пользователей тарифов «Ультра» и «Смарт» различаются - ПРИНИМАЕТСЯ** (так как была отвергнута гипотеза о том, что средние выручки пользователей тарифов «Ультра» и «Смарт» НЕ различаются.)\n",
    "- **Гипотеза о том, что средняя выручка пользователей из Москвы отличается от выручки пользователей из других регионов - ОТВЕРГАЕТСЯ** (так как гипотиза о том, что средняя выручка пользователей из Москвы НЕ отличается от выручки пользователей из других регионов не была отвергнута)."
   ]
  }
 ],
 "metadata": {
  "ExecuteTimeLog": [
   {
    "duration": 1521,
    "start_time": "2022-06-10T15:29:22.094Z"
   },
   {
    "duration": 8,
    "start_time": "2022-06-10T15:29:23.617Z"
   },
   {
    "duration": 424,
    "start_time": "2022-06-10T15:29:23.628Z"
   },
   {
    "duration": 7,
    "start_time": "2022-06-10T15:29:24.054Z"
   },
   {
    "duration": 353,
    "start_time": "2022-06-10T15:29:24.064Z"
   },
   {
    "duration": 82,
    "start_time": "2022-06-10T15:29:24.419Z"
   },
   {
    "duration": 17,
    "start_time": "2022-06-10T15:29:24.502Z"
   },
   {
    "duration": 35,
    "start_time": "2022-06-10T15:29:24.521Z"
   },
   {
    "duration": 101,
    "start_time": "2022-06-10T15:29:24.558Z"
   },
   {
    "duration": 15,
    "start_time": "2022-06-10T15:29:24.662Z"
   },
   {
    "duration": 75,
    "start_time": "2022-06-10T15:29:24.681Z"
   },
   {
    "duration": 88,
    "start_time": "2022-06-10T15:29:24.758Z"
   },
   {
    "duration": 33,
    "start_time": "2022-06-10T15:29:24.848Z"
   },
   {
    "duration": 43,
    "start_time": "2022-06-10T15:29:24.885Z"
   },
   {
    "duration": 39,
    "start_time": "2022-06-10T15:29:24.930Z"
   },
   {
    "duration": 12,
    "start_time": "2022-06-10T15:29:24.973Z"
   },
   {
    "duration": 26,
    "start_time": "2022-06-10T15:29:24.987Z"
   },
   {
    "duration": 20,
    "start_time": "2022-06-10T15:29:25.015Z"
   },
   {
    "duration": 41,
    "start_time": "2022-06-10T15:29:25.036Z"
   },
   {
    "duration": 135,
    "start_time": "2022-06-10T15:29:25.080Z"
   },
   {
    "duration": 13,
    "start_time": "2022-06-10T15:29:25.217Z"
   },
   {
    "duration": 41,
    "start_time": "2022-06-10T15:29:25.232Z"
   },
   {
    "duration": 48,
    "start_time": "2022-06-10T15:29:25.276Z"
   },
   {
    "duration": 37,
    "start_time": "2022-06-10T15:29:25.325Z"
   },
   {
    "duration": 386,
    "start_time": "2022-06-10T15:29:25.364Z"
   },
   {
    "duration": 182,
    "start_time": "2022-06-10T15:29:25.752Z"
   },
   {
    "duration": 220,
    "start_time": "2022-06-10T15:29:25.935Z"
   },
   {
    "duration": 181,
    "start_time": "2022-06-10T15:29:26.159Z"
   },
   {
    "duration": 150,
    "start_time": "2022-06-10T15:29:26.342Z"
   },
   {
    "duration": 141,
    "start_time": "2022-06-10T15:29:26.495Z"
   },
   {
    "duration": 211,
    "start_time": "2022-06-10T15:29:26.638Z"
   },
   {
    "duration": 164,
    "start_time": "2022-06-10T15:29:26.851Z"
   },
   {
    "duration": 165,
    "start_time": "2022-06-10T15:29:27.017Z"
   },
   {
    "duration": 161,
    "start_time": "2022-06-10T15:29:27.186Z"
   },
   {
    "duration": 247,
    "start_time": "2022-06-10T15:29:27.349Z"
   },
   {
    "duration": 270,
    "start_time": "2022-06-10T15:29:27.598Z"
   },
   {
    "duration": 150,
    "start_time": "2022-06-10T15:29:27.870Z"
   },
   {
    "duration": 10,
    "start_time": "2022-06-10T15:29:28.022Z"
   },
   {
    "duration": 130,
    "start_time": "2022-06-10T15:29:28.034Z"
   },
   {
    "duration": 21,
    "start_time": "2022-06-10T15:29:28.168Z"
   },
   {
    "duration": 195,
    "start_time": "2022-06-10T15:29:28.190Z"
   },
   {
    "duration": 200,
    "start_time": "2022-06-10T15:29:28.388Z"
   },
   {
    "duration": 10,
    "start_time": "2022-06-10T15:29:28.590Z"
   },
   {
    "duration": 10,
    "start_time": "2022-06-10T15:29:28.602Z"
   },
   {
    "duration": 45,
    "start_time": "2022-06-10T20:22:30.732Z"
   },
   {
    "duration": 1379,
    "start_time": "2022-06-10T20:22:36.812Z"
   },
   {
    "duration": 9,
    "start_time": "2022-06-10T20:22:38.193Z"
   },
   {
    "duration": 866,
    "start_time": "2022-06-10T20:22:38.204Z"
   },
   {
    "duration": 6,
    "start_time": "2022-06-10T20:22:39.072Z"
   },
   {
    "duration": 695,
    "start_time": "2022-06-10T20:22:39.080Z"
   },
   {
    "duration": 92,
    "start_time": "2022-06-10T20:22:39.777Z"
   },
   {
    "duration": 5,
    "start_time": "2022-06-10T20:22:39.871Z"
   },
   {
    "duration": 75,
    "start_time": "2022-06-10T20:22:39.878Z"
   },
   {
    "duration": 79,
    "start_time": "2022-06-10T20:22:39.955Z"
   },
   {
    "duration": 23,
    "start_time": "2022-06-10T20:22:40.035Z"
   },
   {
    "duration": 51,
    "start_time": "2022-06-10T20:22:40.060Z"
   },
   {
    "duration": 82,
    "start_time": "2022-06-10T20:22:40.113Z"
   },
   {
    "duration": 26,
    "start_time": "2022-06-10T20:22:40.197Z"
   },
   {
    "duration": 52,
    "start_time": "2022-06-10T20:22:40.226Z"
   },
   {
    "duration": 32,
    "start_time": "2022-06-10T20:22:40.280Z"
   },
   {
    "duration": 10,
    "start_time": "2022-06-10T20:22:40.313Z"
   },
   {
    "duration": 28,
    "start_time": "2022-06-10T20:22:40.325Z"
   },
   {
    "duration": 7,
    "start_time": "2022-06-10T20:22:40.355Z"
   },
   {
    "duration": 15,
    "start_time": "2022-06-10T20:22:40.363Z"
   },
   {
    "duration": 101,
    "start_time": "2022-06-10T20:22:40.380Z"
   },
   {
    "duration": 0,
    "start_time": "2022-06-10T20:22:40.483Z"
   },
   {
    "duration": 0,
    "start_time": "2022-06-10T20:22:40.484Z"
   },
   {
    "duration": 0,
    "start_time": "2022-06-10T20:22:40.486Z"
   },
   {
    "duration": 0,
    "start_time": "2022-06-10T20:22:40.486Z"
   },
   {
    "duration": 0,
    "start_time": "2022-06-10T20:22:40.487Z"
   },
   {
    "duration": 0,
    "start_time": "2022-06-10T20:22:40.488Z"
   },
   {
    "duration": 0,
    "start_time": "2022-06-10T20:22:40.489Z"
   },
   {
    "duration": 0,
    "start_time": "2022-06-10T20:22:40.490Z"
   },
   {
    "duration": 0,
    "start_time": "2022-06-10T20:22:40.491Z"
   },
   {
    "duration": 0,
    "start_time": "2022-06-10T20:22:40.492Z"
   },
   {
    "duration": 0,
    "start_time": "2022-06-10T20:22:40.494Z"
   },
   {
    "duration": 0,
    "start_time": "2022-06-10T20:22:40.494Z"
   },
   {
    "duration": 0,
    "start_time": "2022-06-10T20:22:40.495Z"
   },
   {
    "duration": 0,
    "start_time": "2022-06-10T20:22:40.497Z"
   },
   {
    "duration": 0,
    "start_time": "2022-06-10T20:22:40.498Z"
   },
   {
    "duration": 0,
    "start_time": "2022-06-10T20:22:40.499Z"
   },
   {
    "duration": 0,
    "start_time": "2022-06-10T20:22:40.500Z"
   },
   {
    "duration": 0,
    "start_time": "2022-06-10T20:22:40.501Z"
   },
   {
    "duration": 0,
    "start_time": "2022-06-10T20:22:40.502Z"
   },
   {
    "duration": 0,
    "start_time": "2022-06-10T20:22:40.503Z"
   },
   {
    "duration": 0,
    "start_time": "2022-06-10T20:22:40.504Z"
   },
   {
    "duration": 0,
    "start_time": "2022-06-10T20:22:40.505Z"
   },
   {
    "duration": 0,
    "start_time": "2022-06-10T20:22:40.506Z"
   },
   {
    "duration": 0,
    "start_time": "2022-06-10T20:22:40.507Z"
   },
   {
    "duration": 0,
    "start_time": "2022-06-10T20:22:40.509Z"
   },
   {
    "duration": 13,
    "start_time": "2022-06-10T20:22:58.125Z"
   },
   {
    "duration": 89,
    "start_time": "2022-06-10T20:25:27.834Z"
   },
   {
    "duration": 12,
    "start_time": "2022-06-10T20:25:33.874Z"
   },
   {
    "duration": 5,
    "start_time": "2022-06-10T20:25:40.795Z"
   },
   {
    "duration": 16,
    "start_time": "2022-06-10T20:26:22.684Z"
   },
   {
    "duration": 36,
    "start_time": "2022-06-10T20:26:37.365Z"
   },
   {
    "duration": 1329,
    "start_time": "2022-06-10T20:27:28.423Z"
   },
   {
    "duration": 8,
    "start_time": "2022-06-10T20:27:29.754Z"
   },
   {
    "duration": 343,
    "start_time": "2022-06-10T20:27:29.764Z"
   },
   {
    "duration": 7,
    "start_time": "2022-06-10T20:27:30.109Z"
   },
   {
    "duration": 263,
    "start_time": "2022-06-10T20:27:30.117Z"
   },
   {
    "duration": 74,
    "start_time": "2022-06-10T20:27:30.382Z"
   },
   {
    "duration": 4,
    "start_time": "2022-06-10T20:27:30.458Z"
   },
   {
    "duration": 50,
    "start_time": "2022-06-10T20:27:30.463Z"
   },
   {
    "duration": 67,
    "start_time": "2022-06-10T20:27:30.514Z"
   },
   {
    "duration": 12,
    "start_time": "2022-06-10T20:27:30.584Z"
   },
   {
    "duration": 94,
    "start_time": "2022-06-10T20:27:30.597Z"
   },
   {
    "duration": 60,
    "start_time": "2022-06-10T20:27:30.693Z"
   },
   {
    "duration": 24,
    "start_time": "2022-06-10T20:27:30.755Z"
   },
   {
    "duration": 32,
    "start_time": "2022-06-10T20:27:30.780Z"
   },
   {
    "duration": 39,
    "start_time": "2022-06-10T20:27:30.814Z"
   },
   {
    "duration": 10,
    "start_time": "2022-06-10T20:27:30.854Z"
   },
   {
    "duration": 55,
    "start_time": "2022-06-10T20:27:30.865Z"
   },
   {
    "duration": 21,
    "start_time": "2022-06-10T20:27:30.922Z"
   },
   {
    "duration": 34,
    "start_time": "2022-06-10T20:27:30.944Z"
   },
   {
    "duration": 48,
    "start_time": "2022-06-10T20:27:30.980Z"
   },
   {
    "duration": 92,
    "start_time": "2022-06-10T20:27:31.030Z"
   },
   {
    "duration": 12,
    "start_time": "2022-06-10T20:27:31.124Z"
   },
   {
    "duration": 39,
    "start_time": "2022-06-10T20:27:31.138Z"
   },
   {
    "duration": 31,
    "start_time": "2022-06-10T20:27:31.179Z"
   },
   {
    "duration": 73,
    "start_time": "2022-06-10T20:27:31.212Z"
   },
   {
    "duration": 21,
    "start_time": "2022-06-10T20:27:31.287Z"
   },
   {
    "duration": 562,
    "start_time": "2022-06-10T20:27:31.310Z"
   },
   {
    "duration": 157,
    "start_time": "2022-06-10T20:27:31.876Z"
   },
   {
    "duration": 195,
    "start_time": "2022-06-10T20:27:32.035Z"
   },
   {
    "duration": 152,
    "start_time": "2022-06-10T20:27:32.231Z"
   },
   {
    "duration": 137,
    "start_time": "2022-06-10T20:27:32.384Z"
   },
   {
    "duration": 158,
    "start_time": "2022-06-10T20:27:32.522Z"
   },
   {
    "duration": 183,
    "start_time": "2022-06-10T20:27:32.681Z"
   },
   {
    "duration": 156,
    "start_time": "2022-06-10T20:27:32.866Z"
   },
   {
    "duration": 156,
    "start_time": "2022-06-10T20:27:33.024Z"
   },
   {
    "duration": 225,
    "start_time": "2022-06-10T20:27:33.181Z"
   },
   {
    "duration": 190,
    "start_time": "2022-06-10T20:27:33.407Z"
   },
   {
    "duration": 155,
    "start_time": "2022-06-10T20:27:33.599Z"
   },
   {
    "duration": 137,
    "start_time": "2022-06-10T20:27:33.755Z"
   },
   {
    "duration": 9,
    "start_time": "2022-06-10T20:27:33.893Z"
   },
   {
    "duration": 131,
    "start_time": "2022-06-10T20:27:33.904Z"
   },
   {
    "duration": 21,
    "start_time": "2022-06-10T20:27:34.037Z"
   },
   {
    "duration": 209,
    "start_time": "2022-06-10T20:27:34.060Z"
   },
   {
    "duration": 178,
    "start_time": "2022-06-10T20:27:34.271Z"
   },
   {
    "duration": 8,
    "start_time": "2022-06-10T20:27:34.452Z"
   },
   {
    "duration": 7,
    "start_time": "2022-06-10T20:27:34.461Z"
   },
   {
    "duration": 10,
    "start_time": "2022-06-10T20:31:07.877Z"
   },
   {
    "duration": 3,
    "start_time": "2022-06-10T20:42:51.210Z"
   },
   {
    "duration": 655,
    "start_time": "2022-06-10T20:43:02.467Z"
   },
   {
    "duration": 4,
    "start_time": "2022-06-10T20:43:03.144Z"
   },
   {
    "duration": 158,
    "start_time": "2022-06-10T20:43:05.842Z"
   },
   {
    "duration": 1479,
    "start_time": "2022-06-10T20:43:25.499Z"
   },
   {
    "duration": 153,
    "start_time": "2022-06-10T20:43:36.284Z"
   },
   {
    "duration": 51,
    "start_time": "2022-06-10T20:43:42.675Z"
   },
   {
    "duration": 1293,
    "start_time": "2022-06-10T20:43:49.495Z"
   },
   {
    "duration": 7,
    "start_time": "2022-06-10T20:43:50.790Z"
   },
   {
    "duration": 339,
    "start_time": "2022-06-10T20:43:50.799Z"
   },
   {
    "duration": 16,
    "start_time": "2022-06-10T20:43:51.140Z"
   },
   {
    "duration": 249,
    "start_time": "2022-06-10T20:43:51.157Z"
   },
   {
    "duration": 73,
    "start_time": "2022-06-10T20:43:51.408Z"
   },
   {
    "duration": 4,
    "start_time": "2022-06-10T20:43:51.483Z"
   },
   {
    "duration": 29,
    "start_time": "2022-06-10T20:43:51.488Z"
   },
   {
    "duration": 78,
    "start_time": "2022-06-10T20:43:51.518Z"
   },
   {
    "duration": 11,
    "start_time": "2022-06-10T20:43:51.599Z"
   },
   {
    "duration": 58,
    "start_time": "2022-06-10T20:43:51.612Z"
   },
   {
    "duration": 54,
    "start_time": "2022-06-10T20:43:51.672Z"
   },
   {
    "duration": 36,
    "start_time": "2022-06-10T20:43:51.727Z"
   },
   {
    "duration": 26,
    "start_time": "2022-06-10T20:43:51.765Z"
   },
   {
    "duration": 30,
    "start_time": "2022-06-10T20:43:51.792Z"
   },
   {
    "duration": 9,
    "start_time": "2022-06-10T20:43:51.823Z"
   },
   {
    "duration": 24,
    "start_time": "2022-06-10T20:43:51.833Z"
   },
   {
    "duration": 8,
    "start_time": "2022-06-10T20:43:51.859Z"
   },
   {
    "duration": 18,
    "start_time": "2022-06-10T20:43:51.869Z"
   },
   {
    "duration": 11,
    "start_time": "2022-06-10T20:43:51.888Z"
   },
   {
    "duration": 108,
    "start_time": "2022-06-10T20:43:51.900Z"
   },
   {
    "duration": 13,
    "start_time": "2022-06-10T20:43:52.010Z"
   },
   {
    "duration": 7,
    "start_time": "2022-06-10T20:43:52.024Z"
   },
   {
    "duration": 29,
    "start_time": "2022-06-10T20:43:52.033Z"
   },
   {
    "duration": 35,
    "start_time": "2022-06-10T20:43:52.063Z"
   },
   {
    "duration": 21,
    "start_time": "2022-06-10T20:43:52.099Z"
   },
   {
    "duration": 347,
    "start_time": "2022-06-10T20:43:52.122Z"
   },
   {
    "duration": 189,
    "start_time": "2022-06-10T20:43:52.473Z"
   },
   {
    "duration": 9,
    "start_time": "2022-06-10T20:43:52.664Z"
   },
   {
    "duration": 196,
    "start_time": "2022-06-10T20:43:52.675Z"
   },
   {
    "duration": 157,
    "start_time": "2022-06-10T20:43:52.873Z"
   },
   {
    "duration": 137,
    "start_time": "2022-06-10T20:43:53.032Z"
   },
   {
    "duration": 140,
    "start_time": "2022-06-10T20:43:53.171Z"
   },
   {
    "duration": 176,
    "start_time": "2022-06-10T20:43:53.313Z"
   },
   {
    "duration": 154,
    "start_time": "2022-06-10T20:43:53.490Z"
   },
   {
    "duration": 146,
    "start_time": "2022-06-10T20:43:53.651Z"
   },
   {
    "duration": 139,
    "start_time": "2022-06-10T20:43:53.798Z"
   },
   {
    "duration": 204,
    "start_time": "2022-06-10T20:43:53.939Z"
   },
   {
    "duration": 231,
    "start_time": "2022-06-10T20:43:54.145Z"
   },
   {
    "duration": 137,
    "start_time": "2022-06-10T20:43:54.378Z"
   },
   {
    "duration": 10,
    "start_time": "2022-06-10T20:43:54.516Z"
   },
   {
    "duration": 125,
    "start_time": "2022-06-10T20:43:54.527Z"
   },
   {
    "duration": 10,
    "start_time": "2022-06-10T20:43:54.653Z"
   },
   {
    "duration": 184,
    "start_time": "2022-06-10T20:43:54.664Z"
   },
   {
    "duration": 176,
    "start_time": "2022-06-10T20:43:54.852Z"
   },
   {
    "duration": 8,
    "start_time": "2022-06-10T20:43:55.030Z"
   },
   {
    "duration": 8,
    "start_time": "2022-06-10T20:43:55.052Z"
   },
   {
    "duration": 6,
    "start_time": "2022-06-10T20:43:55.062Z"
   },
   {
    "duration": 55,
    "start_time": "2022-06-10T20:43:55.070Z"
   },
   {
    "duration": 4,
    "start_time": "2022-06-10T20:43:55.127Z"
   },
   {
    "duration": 1358,
    "start_time": "2022-06-10T20:43:55.132Z"
   },
   {
    "duration": 182,
    "start_time": "2022-06-10T20:43:56.492Z"
   },
   {
    "duration": 183,
    "start_time": "2022-06-10T20:43:56.676Z"
   },
   {
    "duration": 273,
    "start_time": "2022-06-10T20:43:56.860Z"
   },
   {
    "duration": 50,
    "start_time": "2022-06-10T20:43:57.135Z"
   },
   {
    "duration": 10,
    "start_time": "2022-06-10T20:45:17.519Z"
   },
   {
    "duration": 1454,
    "start_time": "2022-06-10T20:45:40.022Z"
   },
   {
    "duration": 9,
    "start_time": "2022-06-10T20:45:41.479Z"
   },
   {
    "duration": 362,
    "start_time": "2022-06-10T20:45:41.490Z"
   },
   {
    "duration": 7,
    "start_time": "2022-06-10T20:45:41.854Z"
   },
   {
    "duration": 262,
    "start_time": "2022-06-10T20:45:41.863Z"
   },
   {
    "duration": 70,
    "start_time": "2022-06-10T20:45:42.127Z"
   },
   {
    "duration": 5,
    "start_time": "2022-06-10T20:45:42.199Z"
   },
   {
    "duration": 29,
    "start_time": "2022-06-10T20:45:42.205Z"
   },
   {
    "duration": 72,
    "start_time": "2022-06-10T20:45:42.235Z"
   },
   {
    "duration": 11,
    "start_time": "2022-06-10T20:45:42.310Z"
   },
   {
    "duration": 59,
    "start_time": "2022-06-10T20:45:42.322Z"
   },
   {
    "duration": 54,
    "start_time": "2022-06-10T20:45:42.383Z"
   },
   {
    "duration": 33,
    "start_time": "2022-06-10T20:45:42.439Z"
   },
   {
    "duration": 32,
    "start_time": "2022-06-10T20:45:42.473Z"
   },
   {
    "duration": 46,
    "start_time": "2022-06-10T20:45:42.507Z"
   },
   {
    "duration": 13,
    "start_time": "2022-06-10T20:45:42.555Z"
   },
   {
    "duration": 8,
    "start_time": "2022-06-10T20:45:42.570Z"
   },
   {
    "duration": 7,
    "start_time": "2022-06-10T20:45:42.580Z"
   },
   {
    "duration": 19,
    "start_time": "2022-06-10T20:45:42.589Z"
   },
   {
    "duration": 11,
    "start_time": "2022-06-10T20:45:42.609Z"
   },
   {
    "duration": 118,
    "start_time": "2022-06-10T20:45:42.621Z"
   },
   {
    "duration": 20,
    "start_time": "2022-06-10T20:45:42.740Z"
   },
   {
    "duration": 6,
    "start_time": "2022-06-10T20:45:42.761Z"
   },
   {
    "duration": 19,
    "start_time": "2022-06-10T20:45:42.769Z"
   },
   {
    "duration": 35,
    "start_time": "2022-06-10T20:45:42.789Z"
   },
   {
    "duration": 40,
    "start_time": "2022-06-10T20:45:42.825Z"
   },
   {
    "duration": 333,
    "start_time": "2022-06-10T20:45:42.867Z"
   },
   {
    "duration": 141,
    "start_time": "2022-06-10T20:45:43.203Z"
   },
   {
    "duration": 10,
    "start_time": "2022-06-10T20:45:43.346Z"
   },
   {
    "duration": 187,
    "start_time": "2022-06-10T20:45:43.357Z"
   },
   {
    "duration": 151,
    "start_time": "2022-06-10T20:45:43.546Z"
   },
   {
    "duration": 139,
    "start_time": "2022-06-10T20:45:43.698Z"
   },
   {
    "duration": 131,
    "start_time": "2022-06-10T20:45:43.838Z"
   },
   {
    "duration": 181,
    "start_time": "2022-06-10T20:45:43.971Z"
   },
   {
    "duration": 159,
    "start_time": "2022-06-10T20:45:44.153Z"
   },
   {
    "duration": 141,
    "start_time": "2022-06-10T20:45:44.313Z"
   },
   {
    "duration": 132,
    "start_time": "2022-06-10T20:45:44.455Z"
   },
   {
    "duration": 186,
    "start_time": "2022-06-10T20:45:44.588Z"
   },
   {
    "duration": 225,
    "start_time": "2022-06-10T20:45:44.775Z"
   },
   {
    "duration": 131,
    "start_time": "2022-06-10T20:45:45.002Z"
   },
   {
    "duration": 21,
    "start_time": "2022-06-10T20:45:45.135Z"
   },
   {
    "duration": 156,
    "start_time": "2022-06-10T20:45:45.157Z"
   },
   {
    "duration": 11,
    "start_time": "2022-06-10T20:45:45.315Z"
   },
   {
    "duration": 198,
    "start_time": "2022-06-10T20:45:45.328Z"
   },
   {
    "duration": 166,
    "start_time": "2022-06-10T20:45:45.527Z"
   },
   {
    "duration": 8,
    "start_time": "2022-06-10T20:45:45.694Z"
   },
   {
    "duration": 23,
    "start_time": "2022-06-10T20:45:45.704Z"
   },
   {
    "duration": 54,
    "start_time": "2022-06-10T20:45:45.728Z"
   },
   {
    "duration": 3,
    "start_time": "2022-06-10T20:45:45.784Z"
   },
   {
    "duration": 1422,
    "start_time": "2022-06-10T20:45:45.788Z"
   },
   {
    "duration": 171,
    "start_time": "2022-06-10T20:45:47.212Z"
   },
   {
    "duration": 182,
    "start_time": "2022-06-10T20:45:47.385Z"
   },
   {
    "duration": 266,
    "start_time": "2022-06-10T20:45:47.569Z"
   },
   {
    "duration": 51,
    "start_time": "2022-06-10T20:45:47.837Z"
   },
   {
    "duration": 1670,
    "start_time": "2022-06-14T15:02:38.168Z"
   },
   {
    "duration": 9,
    "start_time": "2022-06-14T15:02:39.842Z"
   },
   {
    "duration": 550,
    "start_time": "2022-06-14T15:02:39.852Z"
   },
   {
    "duration": 6,
    "start_time": "2022-06-14T15:02:40.404Z"
   },
   {
    "duration": 201,
    "start_time": "2022-06-14T15:02:40.411Z"
   },
   {
    "duration": 516,
    "start_time": "2022-06-14T15:02:40.613Z"
   },
   {
    "duration": 105,
    "start_time": "2022-06-14T15:02:41.131Z"
   },
   {
    "duration": 7,
    "start_time": "2022-06-14T15:02:41.238Z"
   },
   {
    "duration": 108,
    "start_time": "2022-06-14T15:02:41.247Z"
   },
   {
    "duration": 22,
    "start_time": "2022-06-14T15:02:41.356Z"
   },
   {
    "duration": 97,
    "start_time": "2022-06-14T15:02:41.380Z"
   },
   {
    "duration": 15,
    "start_time": "2022-06-14T15:02:41.479Z"
   },
   {
    "duration": 71,
    "start_time": "2022-06-14T15:02:41.496Z"
   },
   {
    "duration": 86,
    "start_time": "2022-06-14T15:02:41.570Z"
   },
   {
    "duration": 30,
    "start_time": "2022-06-14T15:02:41.658Z"
   },
   {
    "duration": 52,
    "start_time": "2022-06-14T15:02:41.690Z"
   },
   {
    "duration": 47,
    "start_time": "2022-06-14T15:02:41.744Z"
   },
   {
    "duration": 10,
    "start_time": "2022-06-14T15:02:41.793Z"
   },
   {
    "duration": 3,
    "start_time": "2022-06-14T15:02:41.805Z"
   },
   {
    "duration": 12,
    "start_time": "2022-06-14T15:02:41.810Z"
   },
   {
    "duration": 21,
    "start_time": "2022-06-14T15:02:41.826Z"
   },
   {
    "duration": 9,
    "start_time": "2022-06-14T15:02:41.849Z"
   },
   {
    "duration": 32,
    "start_time": "2022-06-14T15:02:41.859Z"
   },
   {
    "duration": 7,
    "start_time": "2022-06-14T15:02:41.892Z"
   },
   {
    "duration": 15,
    "start_time": "2022-06-14T15:02:41.901Z"
   },
   {
    "duration": 22,
    "start_time": "2022-06-14T15:02:41.918Z"
   },
   {
    "duration": 15,
    "start_time": "2022-06-14T15:02:41.942Z"
   },
   {
    "duration": 11,
    "start_time": "2022-06-14T15:02:41.959Z"
   },
   {
    "duration": 32,
    "start_time": "2022-06-14T15:02:41.971Z"
   },
   {
    "duration": 146,
    "start_time": "2022-06-14T15:02:42.005Z"
   },
   {
    "duration": 13,
    "start_time": "2022-06-14T15:02:42.153Z"
   },
   {
    "duration": 11,
    "start_time": "2022-06-14T15:02:42.168Z"
   },
   {
    "duration": 35,
    "start_time": "2022-06-14T15:02:42.181Z"
   },
   {
    "duration": 87,
    "start_time": "2022-06-14T15:02:42.217Z"
   },
   {
    "duration": 25,
    "start_time": "2022-06-14T15:02:42.305Z"
   },
   {
    "duration": 161,
    "start_time": "2022-06-14T15:02:42.332Z"
   },
   {
    "duration": 181,
    "start_time": "2022-06-14T15:02:42.494Z"
   },
   {
    "duration": 7,
    "start_time": "2022-06-14T15:02:42.677Z"
   },
   {
    "duration": 237,
    "start_time": "2022-06-14T15:02:42.686Z"
   },
   {
    "duration": 329,
    "start_time": "2022-06-14T15:02:42.926Z"
   },
   {
    "duration": 312,
    "start_time": "2022-06-14T15:02:43.261Z"
   },
   {
    "duration": 318,
    "start_time": "2022-06-14T15:02:43.630Z"
   },
   {
    "duration": 407,
    "start_time": "2022-06-14T15:02:43.950Z"
   },
   {
    "duration": 685,
    "start_time": "2022-06-14T15:02:44.359Z"
   },
   {
    "duration": 257,
    "start_time": "2022-06-14T15:02:45.046Z"
   },
   {
    "duration": 155,
    "start_time": "2022-06-14T15:02:45.305Z"
   },
   {
    "duration": 201,
    "start_time": "2022-06-14T15:02:45.461Z"
   },
   {
    "duration": 157,
    "start_time": "2022-06-14T15:02:45.663Z"
   },
   {
    "duration": 144,
    "start_time": "2022-06-14T15:02:45.822Z"
   },
   {
    "duration": 9,
    "start_time": "2022-06-14T15:02:45.968Z"
   },
   {
    "duration": 135,
    "start_time": "2022-06-14T15:02:45.978Z"
   },
   {
    "duration": 23,
    "start_time": "2022-06-14T15:02:46.115Z"
   },
   {
    "duration": 201,
    "start_time": "2022-06-14T15:02:46.141Z"
   },
   {
    "duration": 185,
    "start_time": "2022-06-14T15:02:46.344Z"
   },
   {
    "duration": 11,
    "start_time": "2022-06-14T15:02:46.531Z"
   },
   {
    "duration": 39,
    "start_time": "2022-06-14T15:02:46.544Z"
   },
   {
    "duration": 80,
    "start_time": "2022-06-14T15:02:46.585Z"
   },
   {
    "duration": 3,
    "start_time": "2022-06-14T15:02:46.666Z"
   },
   {
    "duration": 1577,
    "start_time": "2022-06-14T15:02:46.671Z"
   },
   {
    "duration": 225,
    "start_time": "2022-06-14T15:02:48.250Z"
   },
   {
    "duration": 276,
    "start_time": "2022-06-14T15:02:48.477Z"
   },
   {
    "duration": 226,
    "start_time": "2022-06-14T15:02:48.755Z"
   },
   {
    "duration": 68,
    "start_time": "2022-06-14T15:02:48.983Z"
   },
   {
    "duration": 14,
    "start_time": "2022-06-14T15:05:08.402Z"
   },
   {
    "duration": 456,
    "start_time": "2022-06-14T15:10:33.205Z"
   },
   {
    "duration": 44,
    "start_time": "2022-06-14T15:10:44.214Z"
   },
   {
    "duration": 33,
    "start_time": "2022-06-14T15:10:52.455Z"
   },
   {
    "duration": 42,
    "start_time": "2022-06-14T15:11:34.705Z"
   },
   {
    "duration": 7,
    "start_time": "2022-06-14T15:12:56.187Z"
   },
   {
    "duration": 1679,
    "start_time": "2022-06-14T15:16:17.658Z"
   },
   {
    "duration": 9,
    "start_time": "2022-06-14T15:16:19.339Z"
   },
   {
    "duration": 400,
    "start_time": "2022-06-14T15:16:19.350Z"
   },
   {
    "duration": 7,
    "start_time": "2022-06-14T15:16:19.752Z"
   },
   {
    "duration": 198,
    "start_time": "2022-06-14T15:16:19.760Z"
   },
   {
    "duration": 323,
    "start_time": "2022-06-14T15:16:19.960Z"
   },
   {
    "duration": 71,
    "start_time": "2022-06-14T15:16:20.285Z"
   },
   {
    "duration": 6,
    "start_time": "2022-06-14T15:16:20.358Z"
   },
   {
    "duration": 42,
    "start_time": "2022-06-14T15:16:20.366Z"
   },
   {
    "duration": 34,
    "start_time": "2022-06-14T15:16:20.410Z"
   },
   {
    "duration": 92,
    "start_time": "2022-06-14T15:16:20.446Z"
   },
   {
    "duration": 14,
    "start_time": "2022-06-14T15:16:20.542Z"
   },
   {
    "duration": 59,
    "start_time": "2022-06-14T15:16:20.558Z"
   },
   {
    "duration": 65,
    "start_time": "2022-06-14T15:16:20.625Z"
   },
   {
    "duration": 48,
    "start_time": "2022-06-14T15:16:20.692Z"
   },
   {
    "duration": 32,
    "start_time": "2022-06-14T15:16:20.744Z"
   },
   {
    "duration": 32,
    "start_time": "2022-06-14T15:16:20.779Z"
   },
   {
    "duration": 30,
    "start_time": "2022-06-14T15:16:20.813Z"
   },
   {
    "duration": 37,
    "start_time": "2022-06-14T15:16:20.845Z"
   },
   {
    "duration": 5,
    "start_time": "2022-06-14T15:16:20.884Z"
   },
   {
    "duration": 19,
    "start_time": "2022-06-14T15:16:20.891Z"
   },
   {
    "duration": 17,
    "start_time": "2022-06-14T15:16:20.912Z"
   },
   {
    "duration": 19,
    "start_time": "2022-06-14T15:16:20.930Z"
   },
   {
    "duration": 43,
    "start_time": "2022-06-14T15:16:20.951Z"
   },
   {
    "duration": 8,
    "start_time": "2022-06-14T15:16:20.996Z"
   },
   {
    "duration": 15,
    "start_time": "2022-06-14T15:16:21.006Z"
   },
   {
    "duration": 29,
    "start_time": "2022-06-14T15:16:21.022Z"
   },
   {
    "duration": 10,
    "start_time": "2022-06-14T15:16:21.056Z"
   },
   {
    "duration": 15,
    "start_time": "2022-06-14T15:16:21.067Z"
   },
   {
    "duration": 17,
    "start_time": "2022-06-14T15:16:21.084Z"
   },
   {
    "duration": 117,
    "start_time": "2022-06-14T15:16:21.103Z"
   },
   {
    "duration": 20,
    "start_time": "2022-06-14T15:16:21.221Z"
   },
   {
    "duration": 27,
    "start_time": "2022-06-14T15:16:21.242Z"
   },
   {
    "duration": 20,
    "start_time": "2022-06-14T15:16:21.271Z"
   },
   {
    "duration": 74,
    "start_time": "2022-06-14T15:16:21.293Z"
   },
   {
    "duration": 27,
    "start_time": "2022-06-14T15:16:21.370Z"
   },
   {
    "duration": 175,
    "start_time": "2022-06-14T15:16:21.399Z"
   },
   {
    "duration": 183,
    "start_time": "2022-06-14T15:16:21.576Z"
   },
   {
    "duration": 10,
    "start_time": "2022-06-14T15:16:21.761Z"
   },
   {
    "duration": 234,
    "start_time": "2022-06-14T15:16:21.773Z"
   },
   {
    "duration": 243,
    "start_time": "2022-06-14T15:16:22.009Z"
   },
   {
    "duration": 151,
    "start_time": "2022-06-14T15:16:22.253Z"
   },
   {
    "duration": 163,
    "start_time": "2022-06-14T15:16:22.406Z"
   },
   {
    "duration": 203,
    "start_time": "2022-06-14T15:16:22.571Z"
   },
   {
    "duration": 271,
    "start_time": "2022-06-14T15:16:22.777Z"
   },
   {
    "duration": 156,
    "start_time": "2022-06-14T15:16:23.049Z"
   },
   {
    "duration": 166,
    "start_time": "2022-06-14T15:16:23.207Z"
   },
   {
    "duration": 221,
    "start_time": "2022-06-14T15:16:23.375Z"
   },
   {
    "duration": 161,
    "start_time": "2022-06-14T15:16:23.598Z"
   },
   {
    "duration": 148,
    "start_time": "2022-06-14T15:16:23.761Z"
   },
   {
    "duration": 19,
    "start_time": "2022-06-14T15:16:23.911Z"
   },
   {
    "duration": 140,
    "start_time": "2022-06-14T15:16:23.933Z"
   },
   {
    "duration": 11,
    "start_time": "2022-06-14T15:16:24.074Z"
   },
   {
    "duration": 249,
    "start_time": "2022-06-14T15:16:24.087Z"
   },
   {
    "duration": 215,
    "start_time": "2022-06-14T15:16:24.341Z"
   },
   {
    "duration": 12,
    "start_time": "2022-06-14T15:16:24.558Z"
   },
   {
    "duration": 16,
    "start_time": "2022-06-14T15:16:24.572Z"
   },
   {
    "duration": 12,
    "start_time": "2022-06-14T15:16:24.590Z"
   },
   {
    "duration": 110,
    "start_time": "2022-06-14T15:16:24.604Z"
   },
   {
    "duration": 7,
    "start_time": "2022-06-14T15:16:24.716Z"
   },
   {
    "duration": 1624,
    "start_time": "2022-06-14T15:16:24.725Z"
   },
   {
    "duration": 407,
    "start_time": "2022-06-14T15:16:26.351Z"
   },
   {
    "duration": 410,
    "start_time": "2022-06-14T15:16:26.760Z"
   },
   {
    "duration": 567,
    "start_time": "2022-06-14T15:16:27.171Z"
   },
   {
    "duration": 106,
    "start_time": "2022-06-14T15:16:27.741Z"
   },
   {
    "duration": 50,
    "start_time": "2022-06-14T16:20:49.330Z"
   },
   {
    "duration": 3,
    "start_time": "2022-06-14T16:22:20.901Z"
   },
   {
    "duration": 3,
    "start_time": "2022-06-14T16:26:38.930Z"
   },
   {
    "duration": 30,
    "start_time": "2022-06-14T16:28:17.844Z"
   },
   {
    "duration": 39,
    "start_time": "2022-06-14T16:28:19.840Z"
   },
   {
    "duration": 2014,
    "start_time": "2022-06-14T16:35:40.289Z"
   },
   {
    "duration": 8,
    "start_time": "2022-06-14T16:35:42.306Z"
   },
   {
    "duration": 540,
    "start_time": "2022-06-14T16:35:42.315Z"
   },
   {
    "duration": 6,
    "start_time": "2022-06-14T16:35:42.858Z"
   },
   {
    "duration": 156,
    "start_time": "2022-06-14T16:35:42.866Z"
   },
   {
    "duration": 265,
    "start_time": "2022-06-14T16:35:43.023Z"
   },
   {
    "duration": 95,
    "start_time": "2022-06-14T16:35:43.294Z"
   },
   {
    "duration": 5,
    "start_time": "2022-06-14T16:35:43.391Z"
   },
   {
    "duration": 62,
    "start_time": "2022-06-14T16:35:43.398Z"
   },
   {
    "duration": 16,
    "start_time": "2022-06-14T16:35:43.463Z"
   },
   {
    "duration": 68,
    "start_time": "2022-06-14T16:35:43.481Z"
   },
   {
    "duration": 12,
    "start_time": "2022-06-14T16:35:43.550Z"
   },
   {
    "duration": 58,
    "start_time": "2022-06-14T16:35:43.563Z"
   },
   {
    "duration": 51,
    "start_time": "2022-06-14T16:35:43.622Z"
   },
   {
    "duration": 28,
    "start_time": "2022-06-14T16:35:43.675Z"
   },
   {
    "duration": 25,
    "start_time": "2022-06-14T16:35:43.705Z"
   },
   {
    "duration": 28,
    "start_time": "2022-06-14T16:35:43.732Z"
   },
   {
    "duration": 8,
    "start_time": "2022-06-14T16:35:43.761Z"
   },
   {
    "duration": 36,
    "start_time": "2022-06-14T16:35:43.771Z"
   },
   {
    "duration": 3,
    "start_time": "2022-06-14T16:35:43.809Z"
   },
   {
    "duration": 24,
    "start_time": "2022-06-14T16:35:43.814Z"
   },
   {
    "duration": 6,
    "start_time": "2022-06-14T16:35:43.840Z"
   },
   {
    "duration": 6,
    "start_time": "2022-06-14T16:35:43.847Z"
   },
   {
    "duration": 22,
    "start_time": "2022-06-14T16:35:43.854Z"
   },
   {
    "duration": 19,
    "start_time": "2022-06-14T16:35:43.877Z"
   },
   {
    "duration": 11,
    "start_time": "2022-06-14T16:35:43.897Z"
   },
   {
    "duration": 15,
    "start_time": "2022-06-14T16:35:43.909Z"
   },
   {
    "duration": 3,
    "start_time": "2022-06-14T16:35:43.927Z"
   },
   {
    "duration": 6,
    "start_time": "2022-06-14T16:35:43.932Z"
   },
   {
    "duration": 6,
    "start_time": "2022-06-14T16:35:43.939Z"
   },
   {
    "duration": 95,
    "start_time": "2022-06-14T16:35:43.946Z"
   },
   {
    "duration": 0,
    "start_time": "2022-06-14T16:35:44.043Z"
   },
   {
    "duration": 0,
    "start_time": "2022-06-14T16:35:44.044Z"
   },
   {
    "duration": 0,
    "start_time": "2022-06-14T16:35:44.045Z"
   },
   {
    "duration": 0,
    "start_time": "2022-06-14T16:35:44.046Z"
   },
   {
    "duration": 0,
    "start_time": "2022-06-14T16:35:44.047Z"
   },
   {
    "duration": 0,
    "start_time": "2022-06-14T16:35:44.049Z"
   },
   {
    "duration": 0,
    "start_time": "2022-06-14T16:35:44.049Z"
   },
   {
    "duration": 0,
    "start_time": "2022-06-14T16:35:44.050Z"
   },
   {
    "duration": 0,
    "start_time": "2022-06-14T16:35:44.051Z"
   },
   {
    "duration": 0,
    "start_time": "2022-06-14T16:35:44.052Z"
   },
   {
    "duration": 0,
    "start_time": "2022-06-14T16:35:44.053Z"
   },
   {
    "duration": 0,
    "start_time": "2022-06-14T16:35:44.054Z"
   },
   {
    "duration": 0,
    "start_time": "2022-06-14T16:35:44.055Z"
   },
   {
    "duration": 0,
    "start_time": "2022-06-14T16:35:44.057Z"
   },
   {
    "duration": 0,
    "start_time": "2022-06-14T16:35:44.057Z"
   },
   {
    "duration": 0,
    "start_time": "2022-06-14T16:35:44.058Z"
   },
   {
    "duration": 0,
    "start_time": "2022-06-14T16:35:44.094Z"
   },
   {
    "duration": 0,
    "start_time": "2022-06-14T16:35:44.095Z"
   },
   {
    "duration": 0,
    "start_time": "2022-06-14T16:35:44.096Z"
   },
   {
    "duration": 0,
    "start_time": "2022-06-14T16:35:44.097Z"
   },
   {
    "duration": 0,
    "start_time": "2022-06-14T16:35:44.098Z"
   },
   {
    "duration": 1,
    "start_time": "2022-06-14T16:35:44.098Z"
   },
   {
    "duration": 0,
    "start_time": "2022-06-14T16:35:44.100Z"
   },
   {
    "duration": 0,
    "start_time": "2022-06-14T16:35:44.100Z"
   },
   {
    "duration": 0,
    "start_time": "2022-06-14T16:35:44.101Z"
   },
   {
    "duration": 0,
    "start_time": "2022-06-14T16:35:44.102Z"
   },
   {
    "duration": 0,
    "start_time": "2022-06-14T16:35:44.103Z"
   },
   {
    "duration": 0,
    "start_time": "2022-06-14T16:35:44.104Z"
   },
   {
    "duration": 0,
    "start_time": "2022-06-14T16:35:44.105Z"
   },
   {
    "duration": 0,
    "start_time": "2022-06-14T16:35:44.106Z"
   },
   {
    "duration": 0,
    "start_time": "2022-06-14T16:35:44.107Z"
   },
   {
    "duration": 0,
    "start_time": "2022-06-14T16:35:44.108Z"
   },
   {
    "duration": 0,
    "start_time": "2022-06-14T16:35:44.109Z"
   },
   {
    "duration": 0,
    "start_time": "2022-06-14T16:35:44.110Z"
   },
   {
    "duration": 116,
    "start_time": "2022-06-14T16:38:42.683Z"
   },
   {
    "duration": 444,
    "start_time": "2022-06-14T16:38:49.552Z"
   },
   {
    "duration": 7,
    "start_time": "2022-06-14T16:38:49.999Z"
   },
   {
    "duration": 311,
    "start_time": "2022-06-14T16:38:50.008Z"
   },
   {
    "duration": 6,
    "start_time": "2022-06-14T16:38:50.321Z"
   },
   {
    "duration": 138,
    "start_time": "2022-06-14T16:38:50.328Z"
   },
   {
    "duration": 217,
    "start_time": "2022-06-14T16:38:50.468Z"
   },
   {
    "duration": 73,
    "start_time": "2022-06-14T16:38:50.687Z"
   },
   {
    "duration": 5,
    "start_time": "2022-06-14T16:38:50.762Z"
   },
   {
    "duration": 30,
    "start_time": "2022-06-14T16:38:50.769Z"
   },
   {
    "duration": 16,
    "start_time": "2022-06-14T16:38:50.801Z"
   },
   {
    "duration": 64,
    "start_time": "2022-06-14T16:38:50.818Z"
   },
   {
    "duration": 19,
    "start_time": "2022-06-14T16:38:50.883Z"
   },
   {
    "duration": 43,
    "start_time": "2022-06-14T16:38:50.904Z"
   },
   {
    "duration": 56,
    "start_time": "2022-06-14T16:38:50.948Z"
   },
   {
    "duration": 21,
    "start_time": "2022-06-14T16:38:51.005Z"
   },
   {
    "duration": 25,
    "start_time": "2022-06-14T16:38:51.028Z"
   },
   {
    "duration": 47,
    "start_time": "2022-06-14T16:38:51.055Z"
   },
   {
    "duration": 8,
    "start_time": "2022-06-14T16:38:51.103Z"
   },
   {
    "duration": 11,
    "start_time": "2022-06-14T16:38:51.112Z"
   },
   {
    "duration": 3,
    "start_time": "2022-06-14T16:38:51.124Z"
   },
   {
    "duration": 8,
    "start_time": "2022-06-14T16:38:51.128Z"
   },
   {
    "duration": 5,
    "start_time": "2022-06-14T16:38:51.137Z"
   },
   {
    "duration": 5,
    "start_time": "2022-06-14T16:38:51.144Z"
   },
   {
    "duration": 16,
    "start_time": "2022-06-14T16:38:51.150Z"
   },
   {
    "duration": 7,
    "start_time": "2022-06-14T16:38:51.194Z"
   },
   {
    "duration": 12,
    "start_time": "2022-06-14T16:38:51.202Z"
   },
   {
    "duration": 16,
    "start_time": "2022-06-14T16:38:51.215Z"
   },
   {
    "duration": 2,
    "start_time": "2022-06-14T16:38:51.234Z"
   },
   {
    "duration": 9,
    "start_time": "2022-06-14T16:38:51.238Z"
   },
   {
    "duration": 12,
    "start_time": "2022-06-14T16:38:51.249Z"
   },
   {
    "duration": 116,
    "start_time": "2022-06-14T16:38:51.263Z"
   },
   {
    "duration": 14,
    "start_time": "2022-06-14T16:38:51.381Z"
   },
   {
    "duration": 4,
    "start_time": "2022-06-14T16:38:51.396Z"
   },
   {
    "duration": 16,
    "start_time": "2022-06-14T16:38:51.401Z"
   },
   {
    "duration": 77,
    "start_time": "2022-06-14T16:38:51.418Z"
   },
   {
    "duration": 19,
    "start_time": "2022-06-14T16:38:51.496Z"
   },
   {
    "duration": 122,
    "start_time": "2022-06-14T16:38:51.516Z"
   },
   {
    "duration": 143,
    "start_time": "2022-06-14T16:38:51.639Z"
   },
   {
    "duration": 11,
    "start_time": "2022-06-14T16:38:51.784Z"
   },
   {
    "duration": 175,
    "start_time": "2022-06-14T16:38:51.796Z"
   },
   {
    "duration": 164,
    "start_time": "2022-06-14T16:38:51.973Z"
   },
   {
    "duration": 126,
    "start_time": "2022-06-14T16:38:52.138Z"
   },
   {
    "duration": 182,
    "start_time": "2022-06-14T16:38:52.266Z"
   },
   {
    "duration": 160,
    "start_time": "2022-06-14T16:38:52.450Z"
   },
   {
    "duration": 139,
    "start_time": "2022-06-14T16:38:52.612Z"
   },
   {
    "duration": 128,
    "start_time": "2022-06-14T16:38:52.752Z"
   },
   {
    "duration": 122,
    "start_time": "2022-06-14T16:38:52.881Z"
   },
   {
    "duration": 182,
    "start_time": "2022-06-14T16:38:53.004Z"
   },
   {
    "duration": 139,
    "start_time": "2022-06-14T16:38:53.188Z"
   },
   {
    "duration": 123,
    "start_time": "2022-06-14T16:38:53.329Z"
   },
   {
    "duration": 9,
    "start_time": "2022-06-14T16:38:53.454Z"
   },
   {
    "duration": 107,
    "start_time": "2022-06-14T16:38:53.465Z"
   },
   {
    "duration": 23,
    "start_time": "2022-06-14T16:38:53.574Z"
   },
   {
    "duration": 178,
    "start_time": "2022-06-14T16:38:53.598Z"
   },
   {
    "duration": 158,
    "start_time": "2022-06-14T16:38:53.778Z"
   },
   {
    "duration": 7,
    "start_time": "2022-06-14T16:38:53.938Z"
   },
   {
    "duration": 10,
    "start_time": "2022-06-14T16:38:53.946Z"
   },
   {
    "duration": 6,
    "start_time": "2022-06-14T16:38:53.957Z"
   },
   {
    "duration": 142,
    "start_time": "2022-06-14T16:38:53.964Z"
   },
   {
    "duration": 2,
    "start_time": "2022-06-14T16:38:54.108Z"
   },
   {
    "duration": 1394,
    "start_time": "2022-06-14T16:38:54.112Z"
   },
   {
    "duration": 162,
    "start_time": "2022-06-14T16:38:55.508Z"
   },
   {
    "duration": 160,
    "start_time": "2022-06-14T16:38:55.672Z"
   },
   {
    "duration": 156,
    "start_time": "2022-06-14T16:38:55.833Z"
   },
   {
    "duration": 56,
    "start_time": "2022-06-14T16:38:55.990Z"
   }
  ],
  "kernelspec": {
   "display_name": "Python 3 (ipykernel)",
   "language": "python",
   "name": "python3"
  },
  "language_info": {
   "codemirror_mode": {
    "name": "ipython",
    "version": 3
   },
   "file_extension": ".py",
   "mimetype": "text/x-python",
   "name": "python",
   "nbconvert_exporter": "python",
   "pygments_lexer": "ipython3",
   "version": "3.9.13"
  },
  "toc": {
   "base_numbering": 1,
   "nav_menu": {},
   "number_sections": true,
   "sideBar": true,
   "skip_h1_title": true,
   "title_cell": "Table of Contents",
   "title_sidebar": "Contents",
   "toc_cell": false,
   "toc_position": {
    "height": "calc(100% - 180px)",
    "left": "10px",
    "top": "150px",
    "width": "227.4px"
   },
   "toc_section_display": true,
   "toc_window_display": true
  }
 },
 "nbformat": 4,
 "nbformat_minor": 2
}
