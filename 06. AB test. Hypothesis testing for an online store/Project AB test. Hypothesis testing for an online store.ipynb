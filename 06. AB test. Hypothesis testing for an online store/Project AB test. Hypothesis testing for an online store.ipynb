{
 "cells": [
  {
   "cell_type": "markdown",
   "metadata": {},
   "source": [
    "## Приоритизация гипотез и анализ A/B-теста для крупного интернет магазина"
   ]
  },
  {
   "cell_type": "markdown",
   "metadata": {},
   "source": [
    "**Описание проекта**\n",
    "\n",
    "   Для крупного интернет-магазина вместе с отделом маркетинга был подготовлен список гипотез для увеличения выручки.\n",
    "\n",
    "В ходе проекта:\n",
    "- были приоритизированы 9 гипотез для увеличения выручки.\n",
    "- запущен A/B-тест\n",
    "- проанализированы результаты A/B-теста\n",
    "\n",
    "**Цель проекта:** Приоритизировать гипотезы, запустить A/B-тест и принять решение по результатам теста.\n",
    "\n",
    "\n",
    "**План проекта:**\n",
    "1. Приоритизация гипотез\n",
    "- Загрузка данных и подготовка их к приоритизации гипотез \n",
    "- Приоритизация гипотез методами ICE и RICE\n",
    "2. Анализ результатов A/B-теста из файлов orders и visitors:\n",
    "- Загрузка данных и подготовка их к анализу результатов A/B-теста\n",
    "- График кумулятивной выручки по группам.\n",
    "- График кумулятивного среднего чека по группам.\n",
    "- График относительного изменения кумулятивного среднего чека группы B к группе A. \n",
    "- График кумулятивной конверсии по группам. \n",
    "- График относительного изменения кумулятивной конверсии группы B к группе A. С\n",
    "- Точечный график количества заказов по пользователям. \n",
    "- 95-й и 99-й перцентили количества заказов на пользователя. Граница для определения аномальных пользователей.\n",
    "- Точечный график стоимостей заказов. \n",
    "- 95-й и 99-й перцентили стоимости заказов. Граница для определения аномальных заказов.\n",
    "- Статистическая значимость различий в конверсии между группами по «сырым» данным. \n",
    "- Статистическая значимость различий в среднем чеке заказа между группами по «сырым» данным. \n",
    "- Статистическая значимость различий в конверсии между группами по «очищенным» данным. \n",
    "- Статистическая значимость различий в среднем чеке заказа между группами по «очищенным» данным. \n",
    "- Выводы и предположения по всем графикам.\n",
    "3. Выводы и решения по результатам теста"
   ]
  },
  {
   "cell_type": "markdown",
   "metadata": {},
   "source": [
    "# 1. Приоритизация гипотез\n"
   ]
  },
  {
   "cell_type": "markdown",
   "metadata": {
    "id": "GW1_Uy7t2I-G"
   },
   "source": [
    "<div class=\"alert alert-info\">Загрузка данных и подготовка их к анализу</div>"
   ]
  },
  {
   "cell_type": "code",
   "execution_count": 1,
   "metadata": {
    "scrolled": true
   },
   "outputs": [
    {
     "name": "stdout",
     "output_type": "stream",
     "text": [
      "<class 'pandas.core.frame.DataFrame'>\n",
      "RangeIndex: 9 entries, 0 to 8\n",
      "Data columns (total 5 columns):\n",
      " #   Column      Non-Null Count  Dtype \n",
      "---  ------      --------------  ----- \n",
      " 0   hypothesis  9 non-null      object\n",
      " 1   reach       9 non-null      int64 \n",
      " 2   impact      9 non-null      int64 \n",
      " 3   confidence  9 non-null      int64 \n",
      " 4   efforts     9 non-null      int64 \n",
      "dtypes: int64(4), object(1)\n",
      "memory usage: 488.0+ bytes\n"
     ]
    },
    {
     "data": {
      "text/html": [
       "<div>\n",
       "<style scoped>\n",
       "    .dataframe tbody tr th:only-of-type {\n",
       "        vertical-align: middle;\n",
       "    }\n",
       "\n",
       "    .dataframe tbody tr th {\n",
       "        vertical-align: top;\n",
       "    }\n",
       "\n",
       "    .dataframe thead th {\n",
       "        text-align: right;\n",
       "    }\n",
       "</style>\n",
       "<table border=\"1\" class=\"dataframe\">\n",
       "  <thead>\n",
       "    <tr style=\"text-align: right;\">\n",
       "      <th></th>\n",
       "      <th>hypothesis</th>\n",
       "      <th>reach</th>\n",
       "      <th>impact</th>\n",
       "      <th>confidence</th>\n",
       "      <th>efforts</th>\n",
       "    </tr>\n",
       "  </thead>\n",
       "  <tbody>\n",
       "    <tr>\n",
       "      <th>0</th>\n",
       "      <td>Добавить два новых канала привлечения трафика,...</td>\n",
       "      <td>3</td>\n",
       "      <td>10</td>\n",
       "      <td>8</td>\n",
       "      <td>6</td>\n",
       "    </tr>\n",
       "    <tr>\n",
       "      <th>1</th>\n",
       "      <td>Запустить собственную службу доставки, что сок...</td>\n",
       "      <td>2</td>\n",
       "      <td>5</td>\n",
       "      <td>4</td>\n",
       "      <td>10</td>\n",
       "    </tr>\n",
       "    <tr>\n",
       "      <th>2</th>\n",
       "      <td>Добавить блоки рекомендаций товаров на сайт ин...</td>\n",
       "      <td>8</td>\n",
       "      <td>3</td>\n",
       "      <td>7</td>\n",
       "      <td>3</td>\n",
       "    </tr>\n",
       "    <tr>\n",
       "      <th>3</th>\n",
       "      <td>Изменить структура категорий, что увеличит кон...</td>\n",
       "      <td>8</td>\n",
       "      <td>3</td>\n",
       "      <td>3</td>\n",
       "      <td>8</td>\n",
       "    </tr>\n",
       "    <tr>\n",
       "      <th>4</th>\n",
       "      <td>Изменить цвет фона главной страницы, чтобы уве...</td>\n",
       "      <td>3</td>\n",
       "      <td>1</td>\n",
       "      <td>1</td>\n",
       "      <td>1</td>\n",
       "    </tr>\n",
       "    <tr>\n",
       "      <th>5</th>\n",
       "      <td>Добавить страницу отзывов клиентов о магазине,...</td>\n",
       "      <td>3</td>\n",
       "      <td>2</td>\n",
       "      <td>2</td>\n",
       "      <td>3</td>\n",
       "    </tr>\n",
       "    <tr>\n",
       "      <th>6</th>\n",
       "      <td>Показать на главной странице баннеры с актуаль...</td>\n",
       "      <td>5</td>\n",
       "      <td>3</td>\n",
       "      <td>8</td>\n",
       "      <td>3</td>\n",
       "    </tr>\n",
       "    <tr>\n",
       "      <th>7</th>\n",
       "      <td>Добавить форму подписки на все основные страни...</td>\n",
       "      <td>10</td>\n",
       "      <td>7</td>\n",
       "      <td>8</td>\n",
       "      <td>5</td>\n",
       "    </tr>\n",
       "    <tr>\n",
       "      <th>8</th>\n",
       "      <td>Запустить акцию, дающую скидку на товар в день...</td>\n",
       "      <td>1</td>\n",
       "      <td>9</td>\n",
       "      <td>9</td>\n",
       "      <td>5</td>\n",
       "    </tr>\n",
       "  </tbody>\n",
       "</table>\n",
       "</div>"
      ],
      "text/plain": [
       "                                          hypothesis  reach  impact  \\\n",
       "0  Добавить два новых канала привлечения трафика,...      3      10   \n",
       "1  Запустить собственную службу доставки, что сок...      2       5   \n",
       "2  Добавить блоки рекомендаций товаров на сайт ин...      8       3   \n",
       "3  Изменить структура категорий, что увеличит кон...      8       3   \n",
       "4  Изменить цвет фона главной страницы, чтобы уве...      3       1   \n",
       "5  Добавить страницу отзывов клиентов о магазине,...      3       2   \n",
       "6  Показать на главной странице баннеры с актуаль...      5       3   \n",
       "7  Добавить форму подписки на все основные страни...     10       7   \n",
       "8  Запустить акцию, дающую скидку на товар в день...      1       9   \n",
       "\n",
       "   confidence  efforts  \n",
       "0           8        6  \n",
       "1           4       10  \n",
       "2           7        3  \n",
       "3           3        8  \n",
       "4           1        1  \n",
       "5           2        3  \n",
       "6           8        3  \n",
       "7           8        5  \n",
       "8           9        5  "
      ]
     },
     "execution_count": 1,
     "metadata": {},
     "output_type": "execute_result"
    }
   ],
   "source": [
    "import pandas as pd\n",
    "\n",
    "df = pd.read_csv('hypothesis.csv')\n",
    "\n",
    "df.columns = df.columns.str.lower() #приведение имен столбцов к единому виду\n",
    "df.info()\n",
    "df"
   ]
  },
  {
   "cell_type": "markdown",
   "metadata": {},
   "source": [
    "**Промежуточный вывод:** \n",
    "- формат всех столбцов верный\n",
    "- пропусков нет\n",
    "- названия столбцов привели к общему виду"
   ]
  },
  {
   "cell_type": "markdown",
   "metadata": {},
   "source": [
    "<div class=\"alert alert-info\">Приоритизация гипотез <b>способом ICE</b></div>"
   ]
  },
  {
   "cell_type": "code",
   "execution_count": 2,
   "metadata": {
    "scrolled": true
   },
   "outputs": [
    {
     "data": {
      "text/html": [
       "<div>\n",
       "<style scoped>\n",
       "    .dataframe tbody tr th:only-of-type {\n",
       "        vertical-align: middle;\n",
       "    }\n",
       "\n",
       "    .dataframe tbody tr th {\n",
       "        vertical-align: top;\n",
       "    }\n",
       "\n",
       "    .dataframe thead th {\n",
       "        text-align: right;\n",
       "    }\n",
       "</style>\n",
       "<table border=\"1\" class=\"dataframe\">\n",
       "  <thead>\n",
       "    <tr style=\"text-align: right;\">\n",
       "      <th></th>\n",
       "      <th>hypothesis</th>\n",
       "      <th>ICE</th>\n",
       "    </tr>\n",
       "  </thead>\n",
       "  <tbody>\n",
       "    <tr>\n",
       "      <th>8</th>\n",
       "      <td>Запустить акцию, дающую скидку на товар в день рождения</td>\n",
       "      <td>16.20</td>\n",
       "    </tr>\n",
       "    <tr>\n",
       "      <th>0</th>\n",
       "      <td>Добавить два новых канала привлечения трафика, что позволит привлекать на 30% больше пользователей</td>\n",
       "      <td>13.33</td>\n",
       "    </tr>\n",
       "    <tr>\n",
       "      <th>7</th>\n",
       "      <td>Добавить форму подписки на все основные страницы, чтобы собрать базу клиентов для email-рассылок</td>\n",
       "      <td>11.20</td>\n",
       "    </tr>\n",
       "    <tr>\n",
       "      <th>6</th>\n",
       "      <td>Показать на главной странице баннеры с актуальными акциями и распродажами, чтобы увеличить конверсию</td>\n",
       "      <td>8.00</td>\n",
       "    </tr>\n",
       "    <tr>\n",
       "      <th>2</th>\n",
       "      <td>Добавить блоки рекомендаций товаров на сайт интернет магазина, чтобы повысить конверсию и средний чек заказа</td>\n",
       "      <td>7.00</td>\n",
       "    </tr>\n",
       "    <tr>\n",
       "      <th>1</th>\n",
       "      <td>Запустить собственную службу доставки, что сократит срок доставки заказов</td>\n",
       "      <td>2.00</td>\n",
       "    </tr>\n",
       "    <tr>\n",
       "      <th>5</th>\n",
       "      <td>Добавить страницу отзывов клиентов о магазине, что позволит увеличить количество заказов</td>\n",
       "      <td>1.33</td>\n",
       "    </tr>\n",
       "    <tr>\n",
       "      <th>3</th>\n",
       "      <td>Изменить структура категорий, что увеличит конверсию, т.к. пользователи быстрее найдут нужный товар</td>\n",
       "      <td>1.12</td>\n",
       "    </tr>\n",
       "    <tr>\n",
       "      <th>4</th>\n",
       "      <td>Изменить цвет фона главной страницы, чтобы увеличить вовлеченность пользователей</td>\n",
       "      <td>1.00</td>\n",
       "    </tr>\n",
       "  </tbody>\n",
       "</table>\n",
       "</div>"
      ],
      "text/plain": [
       "                                                                                                     hypothesis  \\\n",
       "8  Запустить акцию, дающую скидку на товар в день рождения                                                        \n",
       "0  Добавить два новых канала привлечения трафика, что позволит привлекать на 30% больше пользователей             \n",
       "7  Добавить форму подписки на все основные страницы, чтобы собрать базу клиентов для email-рассылок               \n",
       "6  Показать на главной странице баннеры с актуальными акциями и распродажами, чтобы увеличить конверсию           \n",
       "2  Добавить блоки рекомендаций товаров на сайт интернет магазина, чтобы повысить конверсию и средний чек заказа   \n",
       "1  Запустить собственную службу доставки, что сократит срок доставки заказов                                      \n",
       "5  Добавить страницу отзывов клиентов о магазине, что позволит увеличить количество заказов                       \n",
       "3  Изменить структура категорий, что увеличит конверсию, т.к. пользователи быстрее найдут нужный товар            \n",
       "4  Изменить цвет фона главной страницы, чтобы увеличить вовлеченность пользователей                               \n",
       "\n",
       "     ICE  \n",
       "8  16.20  \n",
       "0  13.33  \n",
       "7  11.20  \n",
       "6  8.00   \n",
       "2  7.00   \n",
       "1  2.00   \n",
       "5  1.33   \n",
       "3  1.12   \n",
       "4  1.00   "
      ]
     },
     "metadata": {},
     "output_type": "display_data"
    }
   ],
   "source": [
    "df['ICE'] = (df['impact'] * df['confidence']) / df['efforts']\n",
    "\n",
    "pd.set_option('display.max_colwidth', 0)\n",
    "display(round(df[['hypothesis','ICE']].sort_values(by='ICE', ascending=False),2))"
   ]
  },
  {
   "cell_type": "markdown",
   "metadata": {},
   "source": [
    "**Промежуточный вывод по приоритизации гипотез способом ICE:** \n",
    "- Самая приоритетной оказалась гипотиза номер 8. \n",
    "- Чуть менее приоритетными гипотизы 0 и 7."
   ]
  },
  {
   "cell_type": "markdown",
   "metadata": {},
   "source": [
    "<div class=\"alert alert-info\">Приоритизация гипотез <b>способом RICE</b></div>"
   ]
  },
  {
   "cell_type": "code",
   "execution_count": 3,
   "metadata": {},
   "outputs": [
    {
     "data": {
      "text/html": [
       "<div>\n",
       "<style scoped>\n",
       "    .dataframe tbody tr th:only-of-type {\n",
       "        vertical-align: middle;\n",
       "    }\n",
       "\n",
       "    .dataframe tbody tr th {\n",
       "        vertical-align: top;\n",
       "    }\n",
       "\n",
       "    .dataframe thead th {\n",
       "        text-align: right;\n",
       "    }\n",
       "</style>\n",
       "<table border=\"1\" class=\"dataframe\">\n",
       "  <thead>\n",
       "    <tr style=\"text-align: right;\">\n",
       "      <th></th>\n",
       "      <th>hypothesis</th>\n",
       "      <th>RICE</th>\n",
       "    </tr>\n",
       "  </thead>\n",
       "  <tbody>\n",
       "    <tr>\n",
       "      <th>7</th>\n",
       "      <td>Добавить форму подписки на все основные страницы, чтобы собрать базу клиентов для email-рассылок</td>\n",
       "      <td>112.0</td>\n",
       "    </tr>\n",
       "    <tr>\n",
       "      <th>2</th>\n",
       "      <td>Добавить блоки рекомендаций товаров на сайт интернет магазина, чтобы повысить конверсию и средний чек заказа</td>\n",
       "      <td>56.0</td>\n",
       "    </tr>\n",
       "    <tr>\n",
       "      <th>0</th>\n",
       "      <td>Добавить два новых канала привлечения трафика, что позволит привлекать на 30% больше пользователей</td>\n",
       "      <td>40.0</td>\n",
       "    </tr>\n",
       "    <tr>\n",
       "      <th>6</th>\n",
       "      <td>Показать на главной странице баннеры с актуальными акциями и распродажами, чтобы увеличить конверсию</td>\n",
       "      <td>40.0</td>\n",
       "    </tr>\n",
       "    <tr>\n",
       "      <th>8</th>\n",
       "      <td>Запустить акцию, дающую скидку на товар в день рождения</td>\n",
       "      <td>16.2</td>\n",
       "    </tr>\n",
       "    <tr>\n",
       "      <th>3</th>\n",
       "      <td>Изменить структура категорий, что увеличит конверсию, т.к. пользователи быстрее найдут нужный товар</td>\n",
       "      <td>9.0</td>\n",
       "    </tr>\n",
       "    <tr>\n",
       "      <th>1</th>\n",
       "      <td>Запустить собственную службу доставки, что сократит срок доставки заказов</td>\n",
       "      <td>4.0</td>\n",
       "    </tr>\n",
       "    <tr>\n",
       "      <th>5</th>\n",
       "      <td>Добавить страницу отзывов клиентов о магазине, что позволит увеличить количество заказов</td>\n",
       "      <td>4.0</td>\n",
       "    </tr>\n",
       "    <tr>\n",
       "      <th>4</th>\n",
       "      <td>Изменить цвет фона главной страницы, чтобы увеличить вовлеченность пользователей</td>\n",
       "      <td>3.0</td>\n",
       "    </tr>\n",
       "  </tbody>\n",
       "</table>\n",
       "</div>"
      ],
      "text/plain": [
       "                                                                                                     hypothesis  \\\n",
       "7  Добавить форму подписки на все основные страницы, чтобы собрать базу клиентов для email-рассылок               \n",
       "2  Добавить блоки рекомендаций товаров на сайт интернет магазина, чтобы повысить конверсию и средний чек заказа   \n",
       "0  Добавить два новых канала привлечения трафика, что позволит привлекать на 30% больше пользователей             \n",
       "6  Показать на главной странице баннеры с актуальными акциями и распродажами, чтобы увеличить конверсию           \n",
       "8  Запустить акцию, дающую скидку на товар в день рождения                                                        \n",
       "3  Изменить структура категорий, что увеличит конверсию, т.к. пользователи быстрее найдут нужный товар            \n",
       "1  Запустить собственную службу доставки, что сократит срок доставки заказов                                      \n",
       "5  Добавить страницу отзывов клиентов о магазине, что позволит увеличить количество заказов                       \n",
       "4  Изменить цвет фона главной страницы, чтобы увеличить вовлеченность пользователей                               \n",
       "\n",
       "    RICE  \n",
       "7  112.0  \n",
       "2  56.0   \n",
       "0  40.0   \n",
       "6  40.0   \n",
       "8  16.2   \n",
       "3  9.0    \n",
       "1  4.0    \n",
       "5  4.0    \n",
       "4  3.0    "
      ]
     },
     "metadata": {},
     "output_type": "display_data"
    }
   ],
   "source": [
    "df['RICE'] = (df['reach'] * df['impact'] * df['confidence']) / df['efforts']\n",
    "\n",
    "display(df[['hypothesis','RICE']].sort_values(by='RICE', ascending=False))"
   ]
  },
  {
   "cell_type": "markdown",
   "metadata": {},
   "source": [
    "**Промежуточный вывод по приоритизации гипотез способом RICE:** \n",
    "- Самая приоритетной оказалась гипотиза номер 7. (при приоритизации способом ICE - она была 3ей в списке)\n",
    "- Чуть менее приоритетными гипотизы 2 и 0."
   ]
  },
  {
   "cell_type": "markdown",
   "metadata": {},
   "source": [
    "<div class=\"alert alert-info\">Выведем результаты сразу двух фреймворков на одной таблице</div>"
   ]
  },
  {
   "cell_type": "code",
   "execution_count": 4,
   "metadata": {
    "scrolled": true
   },
   "outputs": [
    {
     "data": {
      "text/html": [
       "<div>\n",
       "<style scoped>\n",
       "    .dataframe tbody tr th:only-of-type {\n",
       "        vertical-align: middle;\n",
       "    }\n",
       "\n",
       "    .dataframe tbody tr th {\n",
       "        vertical-align: top;\n",
       "    }\n",
       "\n",
       "    .dataframe thead th {\n",
       "        text-align: right;\n",
       "    }\n",
       "</style>\n",
       "<table border=\"1\" class=\"dataframe\">\n",
       "  <thead>\n",
       "    <tr style=\"text-align: right;\">\n",
       "      <th></th>\n",
       "      <th>hypothesis</th>\n",
       "      <th>ICE</th>\n",
       "      <th>RICE</th>\n",
       "    </tr>\n",
       "  </thead>\n",
       "  <tbody>\n",
       "    <tr>\n",
       "      <th>7</th>\n",
       "      <td>Добавить форму подписки на все основные страницы, чтобы собрать базу клиентов для email-рассылок</td>\n",
       "      <td>11.20</td>\n",
       "      <td>112.0</td>\n",
       "    </tr>\n",
       "    <tr>\n",
       "      <th>2</th>\n",
       "      <td>Добавить блоки рекомендаций товаров на сайт интернет магазина, чтобы повысить конверсию и средний чек заказа</td>\n",
       "      <td>7.00</td>\n",
       "      <td>56.0</td>\n",
       "    </tr>\n",
       "    <tr>\n",
       "      <th>0</th>\n",
       "      <td>Добавить два новых канала привлечения трафика, что позволит привлекать на 30% больше пользователей</td>\n",
       "      <td>13.33</td>\n",
       "      <td>40.0</td>\n",
       "    </tr>\n",
       "    <tr>\n",
       "      <th>6</th>\n",
       "      <td>Показать на главной странице баннеры с актуальными акциями и распродажами, чтобы увеличить конверсию</td>\n",
       "      <td>8.00</td>\n",
       "      <td>40.0</td>\n",
       "    </tr>\n",
       "    <tr>\n",
       "      <th>8</th>\n",
       "      <td>Запустить акцию, дающую скидку на товар в день рождения</td>\n",
       "      <td>16.20</td>\n",
       "      <td>16.2</td>\n",
       "    </tr>\n",
       "    <tr>\n",
       "      <th>3</th>\n",
       "      <td>Изменить структура категорий, что увеличит конверсию, т.к. пользователи быстрее найдут нужный товар</td>\n",
       "      <td>1.12</td>\n",
       "      <td>9.0</td>\n",
       "    </tr>\n",
       "    <tr>\n",
       "      <th>1</th>\n",
       "      <td>Запустить собственную службу доставки, что сократит срок доставки заказов</td>\n",
       "      <td>2.00</td>\n",
       "      <td>4.0</td>\n",
       "    </tr>\n",
       "    <tr>\n",
       "      <th>5</th>\n",
       "      <td>Добавить страницу отзывов клиентов о магазине, что позволит увеличить количество заказов</td>\n",
       "      <td>1.33</td>\n",
       "      <td>4.0</td>\n",
       "    </tr>\n",
       "    <tr>\n",
       "      <th>4</th>\n",
       "      <td>Изменить цвет фона главной страницы, чтобы увеличить вовлеченность пользователей</td>\n",
       "      <td>1.00</td>\n",
       "      <td>3.0</td>\n",
       "    </tr>\n",
       "  </tbody>\n",
       "</table>\n",
       "</div>"
      ],
      "text/plain": [
       "                                                                                                     hypothesis  \\\n",
       "7  Добавить форму подписки на все основные страницы, чтобы собрать базу клиентов для email-рассылок               \n",
       "2  Добавить блоки рекомендаций товаров на сайт интернет магазина, чтобы повысить конверсию и средний чек заказа   \n",
       "0  Добавить два новых канала привлечения трафика, что позволит привлекать на 30% больше пользователей             \n",
       "6  Показать на главной странице баннеры с актуальными акциями и распродажами, чтобы увеличить конверсию           \n",
       "8  Запустить акцию, дающую скидку на товар в день рождения                                                        \n",
       "3  Изменить структура категорий, что увеличит конверсию, т.к. пользователи быстрее найдут нужный товар            \n",
       "1  Запустить собственную службу доставки, что сократит срок доставки заказов                                      \n",
       "5  Добавить страницу отзывов клиентов о магазине, что позволит увеличить количество заказов                       \n",
       "4  Изменить цвет фона главной страницы, чтобы увеличить вовлеченность пользователей                               \n",
       "\n",
       "     ICE   RICE  \n",
       "7  11.20  112.0  \n",
       "2  7.00   56.0   \n",
       "0  13.33  40.0   \n",
       "6  8.00   40.0   \n",
       "8  16.20  16.2   \n",
       "3  1.12   9.0    \n",
       "1  2.00   4.0    \n",
       "5  1.33   4.0    \n",
       "4  1.00   3.0    "
      ]
     },
     "metadata": {},
     "output_type": "display_data"
    }
   ],
   "source": [
    "display(round(df[['hypothesis','ICE','RICE']].sort_values(by='RICE', ascending=False),2))"
   ]
  },
  {
   "cell_type": "markdown",
   "metadata": {},
   "source": [
    "**Вывод по приоритезации гипотез:**\n",
    "- Самыми приоритетными гипотизами выявлеными способом ICE оказались гипотизы № 8, 0 и 7.\n",
    "- Самыми приоритетными гипотизами выявлеными способом RICE оказались гипотизы № 7, 2 и 0.\n",
    "- В методе RICE(в отличии от метода ICE) учитывается параметр reach(количество пользователей которых затронет изменение), который у гипотез 7 и 2 очень высокий, а у гипотезы 8 очень низкий, что обьясняет отличия в приоритезации у этих методов."
   ]
  },
  {
   "cell_type": "markdown",
   "metadata": {},
   "source": [
    "# 2. Анализ A/B-теста"
   ]
  },
  {
   "cell_type": "markdown",
   "metadata": {
    "id": "GW1_Uy7t2I-G"
   },
   "source": [
    "<div class=\"alert alert-info\">Загрузка данных и подготовка их к анализу</div>"
   ]
  },
  {
   "cell_type": "code",
   "execution_count": 5,
   "metadata": {
    "scrolled": true
   },
   "outputs": [
    {
     "name": "stdout",
     "output_type": "stream",
     "text": [
      "Таблица orders\n"
     ]
    },
    {
     "data": {
      "text/html": [
       "<div>\n",
       "<style scoped>\n",
       "    .dataframe tbody tr th:only-of-type {\n",
       "        vertical-align: middle;\n",
       "    }\n",
       "\n",
       "    .dataframe tbody tr th {\n",
       "        vertical-align: top;\n",
       "    }\n",
       "\n",
       "    .dataframe thead th {\n",
       "        text-align: right;\n",
       "    }\n",
       "</style>\n",
       "<table border=\"1\" class=\"dataframe\">\n",
       "  <thead>\n",
       "    <tr style=\"text-align: right;\">\n",
       "      <th></th>\n",
       "      <th>orderId</th>\n",
       "      <th>userId</th>\n",
       "      <th>date</th>\n",
       "      <th>revenue</th>\n",
       "      <th>group</th>\n",
       "    </tr>\n",
       "  </thead>\n",
       "  <tbody>\n",
       "    <tr>\n",
       "      <th>0</th>\n",
       "      <td>3667963787</td>\n",
       "      <td>3312258926</td>\n",
       "      <td>2019-08-15</td>\n",
       "      <td>1650</td>\n",
       "      <td>B</td>\n",
       "    </tr>\n",
       "    <tr>\n",
       "      <th>1</th>\n",
       "      <td>2804400009</td>\n",
       "      <td>3642806036</td>\n",
       "      <td>2019-08-15</td>\n",
       "      <td>730</td>\n",
       "      <td>B</td>\n",
       "    </tr>\n",
       "    <tr>\n",
       "      <th>2</th>\n",
       "      <td>2961555356</td>\n",
       "      <td>4069496402</td>\n",
       "      <td>2019-08-15</td>\n",
       "      <td>400</td>\n",
       "      <td>A</td>\n",
       "    </tr>\n",
       "    <tr>\n",
       "      <th>3</th>\n",
       "      <td>3797467345</td>\n",
       "      <td>1196621759</td>\n",
       "      <td>2019-08-15</td>\n",
       "      <td>9759</td>\n",
       "      <td>B</td>\n",
       "    </tr>\n",
       "    <tr>\n",
       "      <th>4</th>\n",
       "      <td>2282983706</td>\n",
       "      <td>2322279887</td>\n",
       "      <td>2019-08-15</td>\n",
       "      <td>2308</td>\n",
       "      <td>B</td>\n",
       "    </tr>\n",
       "  </tbody>\n",
       "</table>\n",
       "</div>"
      ],
      "text/plain": [
       "      orderId      userId       date  revenue group\n",
       "0  3667963787  3312258926 2019-08-15  1650     B   \n",
       "1  2804400009  3642806036 2019-08-15  730      B   \n",
       "2  2961555356  4069496402 2019-08-15  400      A   \n",
       "3  3797467345  1196621759 2019-08-15  9759     B   \n",
       "4  2282983706  2322279887 2019-08-15  2308     B   "
      ]
     },
     "metadata": {},
     "output_type": "display_data"
    },
    {
     "name": "stdout",
     "output_type": "stream",
     "text": [
      "<class 'pandas.core.frame.DataFrame'>\n",
      "RangeIndex: 1197 entries, 0 to 1196\n",
      "Data columns (total 5 columns):\n",
      " #   Column   Non-Null Count  Dtype         \n",
      "---  ------   --------------  -----         \n",
      " 0   orderId  1197 non-null   int64         \n",
      " 1   userId   1197 non-null   int64         \n",
      " 2   date     1197 non-null   datetime64[ns]\n",
      " 3   revenue  1197 non-null   int64         \n",
      " 4   group    1197 non-null   object        \n",
      "dtypes: datetime64[ns](1), int64(3), object(1)\n",
      "memory usage: 46.9+ KB\n",
      "Количество полных дубликатов:\n",
      "0\n",
      "=-=-=-=-=-=-=-=-=-=-=-=-=-=-=-=-=-=-=-=-=-=-=-=-=-=-=-=-=-=-=-=-=-=-=-=-=-=-=-=-=-=-=-=-=-=-=-=-=-=-=-=-=-=-=-=-=-=-=-=-\n",
      "Таблица visitors\n"
     ]
    },
    {
     "data": {
      "text/html": [
       "<div>\n",
       "<style scoped>\n",
       "    .dataframe tbody tr th:only-of-type {\n",
       "        vertical-align: middle;\n",
       "    }\n",
       "\n",
       "    .dataframe tbody tr th {\n",
       "        vertical-align: top;\n",
       "    }\n",
       "\n",
       "    .dataframe thead th {\n",
       "        text-align: right;\n",
       "    }\n",
       "</style>\n",
       "<table border=\"1\" class=\"dataframe\">\n",
       "  <thead>\n",
       "    <tr style=\"text-align: right;\">\n",
       "      <th></th>\n",
       "      <th>date</th>\n",
       "      <th>group</th>\n",
       "      <th>visitors</th>\n",
       "    </tr>\n",
       "  </thead>\n",
       "  <tbody>\n",
       "    <tr>\n",
       "      <th>0</th>\n",
       "      <td>2019-08-01</td>\n",
       "      <td>A</td>\n",
       "      <td>719</td>\n",
       "    </tr>\n",
       "    <tr>\n",
       "      <th>1</th>\n",
       "      <td>2019-08-02</td>\n",
       "      <td>A</td>\n",
       "      <td>619</td>\n",
       "    </tr>\n",
       "    <tr>\n",
       "      <th>2</th>\n",
       "      <td>2019-08-03</td>\n",
       "      <td>A</td>\n",
       "      <td>507</td>\n",
       "    </tr>\n",
       "    <tr>\n",
       "      <th>3</th>\n",
       "      <td>2019-08-04</td>\n",
       "      <td>A</td>\n",
       "      <td>717</td>\n",
       "    </tr>\n",
       "    <tr>\n",
       "      <th>4</th>\n",
       "      <td>2019-08-05</td>\n",
       "      <td>A</td>\n",
       "      <td>756</td>\n",
       "    </tr>\n",
       "  </tbody>\n",
       "</table>\n",
       "</div>"
      ],
      "text/plain": [
       "        date group  visitors\n",
       "0 2019-08-01  A     719     \n",
       "1 2019-08-02  A     619     \n",
       "2 2019-08-03  A     507     \n",
       "3 2019-08-04  A     717     \n",
       "4 2019-08-05  A     756     "
      ]
     },
     "metadata": {},
     "output_type": "display_data"
    },
    {
     "name": "stdout",
     "output_type": "stream",
     "text": [
      "<class 'pandas.core.frame.DataFrame'>\n",
      "RangeIndex: 62 entries, 0 to 61\n",
      "Data columns (total 3 columns):\n",
      " #   Column    Non-Null Count  Dtype         \n",
      "---  ------    --------------  -----         \n",
      " 0   date      62 non-null     datetime64[ns]\n",
      " 1   group     62 non-null     object        \n",
      " 2   visitors  62 non-null     int64         \n",
      "dtypes: datetime64[ns](1), int64(1), object(1)\n",
      "memory usage: 1.6+ KB\n",
      "Количество полных дубликатов:\n",
      "0\n"
     ]
    }
   ],
   "source": [
    "import pandas as pd\n",
    "import scipy.stats as stats\n",
    "import datetime as dt\n",
    "import numpy as np\n",
    "import matplotlib.pyplot as plt\n",
    "\n",
    "visitors = pd.read_csv('visitors.csv')\n",
    "visitors['date'] = visitors['date'].map(lambda x: dt.datetime.strptime(x, '%Y-%m-%d'))\n",
    "\n",
    "orders = pd.read_csv('orders.csv')\n",
    "orders['date'] = orders['date'].map(lambda x: dt.datetime.strptime(x, '%Y-%m-%d'))\n",
    "\n",
    "orders.columns = ['orderId','userId','date','revenue','group'] \n",
    "\n",
    "print('Таблица orders')\n",
    "display(orders.head(5))\n",
    "orders.info()\n",
    "print('Количество полных дубликатов:')\n",
    "print(orders.duplicated().sum())\n",
    "print(60*'=-')\n",
    "\n",
    "print('Таблица visitors')\n",
    "display(visitors.head(5))\n",
    "visitors.info()\n",
    "print('Количество полных дубликатов:')\n",
    "print(visitors.duplicated().sum())"
   ]
  },
  {
   "cell_type": "markdown",
   "metadata": {},
   "source": [
    "**Промежуточный вывод:** \n",
    "- формат столбцов c датой привели к верному формату\n",
    "- пропусков нет\n",
    "- названия столбцов соответствуют общему виду\n",
    "- полных дубликатов нет"
   ]
  },
  {
   "cell_type": "markdown",
   "metadata": {
    "id": "GW1_Uy7t2I-G"
   },
   "source": [
    "<div class=\"alert alert-info\">Распределение данных по группам А и Б</div>"
   ]
  },
  {
   "cell_type": "code",
   "execution_count": 6,
   "metadata": {},
   "outputs": [
    {
     "data": {
      "text/html": [
       "<div>\n",
       "<style scoped>\n",
       "    .dataframe tbody tr th:only-of-type {\n",
       "        vertical-align: middle;\n",
       "    }\n",
       "\n",
       "    .dataframe tbody tr th {\n",
       "        vertical-align: top;\n",
       "    }\n",
       "\n",
       "    .dataframe thead th {\n",
       "        text-align: right;\n",
       "    }\n",
       "</style>\n",
       "<table border=\"1\" class=\"dataframe\">\n",
       "  <thead>\n",
       "    <tr style=\"text-align: right;\">\n",
       "      <th></th>\n",
       "      <th>group</th>\n",
       "      <th>order_count</th>\n",
       "      <th>userId_nunique</th>\n",
       "      <th>revenue_sum</th>\n",
       "    </tr>\n",
       "  </thead>\n",
       "  <tbody>\n",
       "    <tr>\n",
       "      <th>0</th>\n",
       "      <td>A</td>\n",
       "      <td>557</td>\n",
       "      <td>503</td>\n",
       "      <td>4084803</td>\n",
       "    </tr>\n",
       "    <tr>\n",
       "      <th>1</th>\n",
       "      <td>B</td>\n",
       "      <td>640</td>\n",
       "      <td>586</td>\n",
       "      <td>5907760</td>\n",
       "    </tr>\n",
       "  </tbody>\n",
       "</table>\n",
       "</div>"
      ],
      "text/plain": [
       "  group  order_count  userId_nunique  revenue_sum\n",
       "0  A     557          503             4084803    \n",
       "1  B     640          586             5907760    "
      ]
     },
     "metadata": {},
     "output_type": "display_data"
    },
    {
     "name": "stdout",
     "output_type": "stream",
     "text": [
      "Количество уникальных пользователей в тесте : 1031\n",
      "Количество уникальных пользователей в тесте при делении на группы : 1089\n",
      "Количество пересечений уникальных пользователей в группах А и Б 58\n"
     ]
    }
   ],
   "source": [
    "a = orders.groupby('group').agg({'orderId' : 'count', 'userId' : 'nunique', 'revenue' : 'sum'}).reset_index()\n",
    "a.columns = ['group', 'order_count', 'userId_nunique', 'revenue_sum']\n",
    "display(a)\n",
    "print(f'Количество уникальных пользователей в тесте : {orders.userId.nunique()}')\n",
    "print(f'Количество уникальных пользователей в тесте при делении на группы : {a.userId_nunique.sum()}')\n",
    "\n",
    "c = list(set(orders.query('group == \"A\"')['userId']) & set(orders.query('group == \"B\"')['userId']))\n",
    "print(f'Количество пересечений уникальных пользователей в группах А и Б {len(c)}')"
   ]
  },
  {
   "cell_type": "markdown",
   "metadata": {},
   "source": [
    "**Промежуточный вывод:** \n",
    "\n",
    "- Группы распределены не совсем равномерно по количеству уникальных пользователей\n",
    "- Есть 58 пересечений уникальных пользователей между группами А и Б. Это небольшое количество от общего числа пользователей. \n",
    "- Удалить мы их не можем, так как не сможем их идентифицировать в таблице visitors. Поэтому оставляем. "
   ]
  },
  {
   "cell_type": "markdown",
   "metadata": {
    "id": "GW1_Uy7t2I-G"
   },
   "source": [
    "<div class=\"alert alert-info\">Объявляем переменную <b>cumulativeData</b> которая будет содержать <b>агрегированные кумулятивные по дням данные о заказах и посетителях</b></div>"
   ]
  },
  {
   "cell_type": "code",
   "execution_count": 7,
   "metadata": {},
   "outputs": [
    {
     "name": "stdout",
     "output_type": "stream",
     "text": [
      "        date group  orders  buyers  revenue  visitors\n",
      "0 2019-08-01  A     24      20      148579   719     \n",
      "1 2019-08-01  B     21      20      101217   713     \n",
      "2 2019-08-02  A     44      38      242401   1338    \n",
      "3 2019-08-02  B     45      43      266748   1294    \n",
      "4 2019-08-03  A     68      62      354874   1845    \n"
     ]
    }
   ],
   "source": [
    "# создаем массив уникальных пар значений дат и групп теста\n",
    "datesGroups = orders[['date','group']].drop_duplicates() \n",
    "\n",
    "# # получаем агрегированные кумулятивные по дням данные о заказах \n",
    "ordersAggregated = datesGroups.apply(\n",
    "    lambda x: orders[np.logical_and(orders['date'] <= x['date'],orders['group'] == x['group'])].agg(\n",
    "        {'date' : 'max',\n",
    "         'group' : 'max',\n",
    "         'orderId' : 'nunique',\n",
    "         'userId' : 'nunique',\n",
    "         'revenue' : 'sum'}\n",
    "    ),axis=1).sort_values(\n",
    "    by=['date','group']\n",
    ") \n",
    "\n",
    "# получаем агрегированные кумулятивные по дням данные о посетителях\n",
    "visitorsAggregated = datesGroups.apply(\n",
    "    lambda x: visitors[np.logical_and(\n",
    "        visitors['date'] <= x['date'],\n",
    "        visitors['group'] == x['group']\n",
    "    )].agg(\n",
    "        {'date' : 'max',\n",
    "         'group' : 'max',\n",
    "         'visitors' : 'sum'}\n",
    "    ), axis=1).sort_values(by=['date','group'])\n",
    "\n",
    "# объединяем кумулятивные данные в одной таблице и присваиваем ее столбцам понятные названия\n",
    "cumulativeData = ordersAggregated.merge(visitorsAggregated, left_on=['date', 'group'], right_on=['date', 'group'])\n",
    "cumulativeData.columns = ['date', 'group', 'orders', 'buyers', 'revenue', 'visitors']\n",
    "\n",
    "print(cumulativeData.head(5)) "
   ]
  },
  {
   "cell_type": "markdown",
   "metadata": {
    "id": "GW1_Uy7t2I-G"
   },
   "source": [
    "<div class=\"alert alert-info\"><b>График кумулятивной выручки</b> по дням и группам A/B-тестирования</div>"
   ]
  },
  {
   "cell_type": "code",
   "execution_count": 8,
   "metadata": {
    "scrolled": false
   },
   "outputs": [
    {
     "data": {
      "text/plain": [
       "''"
      ]
     },
     "execution_count": 8,
     "metadata": {},
     "output_type": "execute_result"
    },
    {
     "data": {
      "image/png": "[encoded data removed]",
      "text/plain": [
       "<Figure size 800x500 with 1 Axes>"
      ]
     },
     "metadata": {},
     "output_type": "display_data"
    }
   ],
   "source": [
    "# датафрейм с кумулятивным количеством заказов и кумулятивной выручкой по дням в группе А\n",
    "cumulativeRevenueA = cumulativeData[cumulativeData['group']=='A'][['date','revenue', 'orders']]\n",
    "\n",
    "# датафрейм с кумулятивным количеством заказов и кумулятивной выручкой по дням в группе B\n",
    "cumulativeRevenueB = cumulativeData[cumulativeData['group']=='B'][['date','revenue', 'orders']]\n",
    "\n",
    "plt.figure(figsize=(8, 5))\n",
    "\n",
    "# Строим график выручки группы А\n",
    "plt.plot(cumulativeRevenueA['date'], cumulativeRevenueA['revenue'], label='A')\n",
    "\n",
    "# Строим график выручки группы B\n",
    "plt.plot(cumulativeRevenueB['date'], cumulativeRevenueB['revenue'], label='B')\n",
    "\n",
    "plt.title('График кумулятивной выручки по дням')\n",
    "plt.xlabel('date')\n",
    "plt.ylabel('revenue')\n",
    "plt.xticks(rotation=45, horizontalalignment='right')\n",
    "plt.legend() \n",
    "\n",
    ";"
   ]
  },
  {
   "cell_type": "markdown",
   "metadata": {},
   "source": [
    "**Промежуточный вывод:**\n",
    "- До середины месяца выручка у двух групп растет практически равномерно.\n",
    "- В середине месяца в группе B график резко растет. Это может сигнализировать о всплесках числа заказов, либо о появлении очень дорогих заказов в выборке. \n",
    "- Далее графии так же показывают одинаковый плавный рост."
   ]
  },
  {
   "cell_type": "markdown",
   "metadata": {
    "id": "GW1_Uy7t2I-G"
   },
   "source": [
    "<div class=\"alert alert-info\"><b>График кумулятивного среднего чека</b> по дням и группам A/B-тестирования</div>"
   ]
  },
  {
   "cell_type": "code",
   "execution_count": 9,
   "metadata": {},
   "outputs": [
    {
     "data": {
      "image/png": "[encoded data removed]",
      "text/plain": [
       "<Figure size 800x500 with 1 Axes>"
      ]
     },
     "metadata": {},
     "output_type": "display_data"
    }
   ],
   "source": [
    "plt.figure(figsize=(8, 5))\n",
    "\n",
    "plt.plot(cumulativeRevenueA['date'], cumulativeRevenueA['revenue']/cumulativeRevenueA['orders'], label='A')\n",
    "plt.plot(cumulativeRevenueB['date'], cumulativeRevenueB['revenue']/cumulativeRevenueB['orders'], label='B')\n",
    "\n",
    "plt.title('График кумулятивного среднего чека по дням')\n",
    "plt.xlabel('date')\n",
    "plt.ylabel('средний чек')\n",
    "plt.xticks(rotation=45, horizontalalignment='right')\n",
    "plt.legend();"
   ]
  },
  {
   "cell_type": "markdown",
   "metadata": {},
   "source": [
    "**Промежуточный вывод:**\n",
    "- до середины месяца графики неравномерны из-за недостатка данных, но находятся в пределах 7,5тыс. \n",
    "- в середине месяца в группу B видимо попали крупные заказы(возможно 1 очень крупный заказ) - резкий всплеск на графике. Теперь группе В нужно больше данных, чтобы прийти к реальному среднему чеку и установиться на его уровне."
   ]
  },
  {
   "cell_type": "markdown",
   "metadata": {
    "id": "GW1_Uy7t2I-G"
   },
   "source": [
    "<div class=\"alert alert-info\"><b>График относительного изменения кумулятивного среднего чека </b> группы B к группе A.</div>"
   ]
  },
  {
   "cell_type": "code",
   "execution_count": 10,
   "metadata": {},
   "outputs": [
    {
     "data": {
      "text/plain": [
       "''"
      ]
     },
     "execution_count": 10,
     "metadata": {},
     "output_type": "execute_result"
    },
    {
     "data": {
      "image/png": "[encoded data removed]",
      "text/plain": [
       "<Figure size 800x500 with 1 Axes>"
      ]
     },
     "metadata": {},
     "output_type": "display_data"
    }
   ],
   "source": [
    "# собираем данные в одном датафрейме\n",
    "mergedCumulativeRevenue = cumulativeRevenueA.merge(cumulativeRevenueB, left_on='date', right_on='date', how='left', suffixes=['A', 'B'])\n",
    "\n",
    "plt.figure(figsize=(8, 5))\n",
    "\n",
    "# cтроим отношение средних чеков\n",
    "plt.plot(mergedCumulativeRevenue['date'], (mergedCumulativeRevenue['revenueB']/mergedCumulativeRevenue['ordersB'])/(mergedCumulativeRevenue['revenueA']/mergedCumulativeRevenue['ordersA'])-1)\n",
    "\n",
    "# добавляем ось X\n",
    "plt.axhline(y=0, color='black', linestyle='--') \n",
    "\n",
    "plt.title('График относительного изменения кумулятивного среднего чека группы B к группе A.')\n",
    "plt.xlabel('date')\n",
    "plt.ylabel('отношение средних чеков')\n",
    "plt.xticks(rotation=45, horizontalalignment='right')\n",
    "\n",
    ";"
   ]
  },
  {
   "cell_type": "markdown",
   "metadata": {},
   "source": [
    "**Промежуточный вывод:**\n",
    "- видим резкий скачок в сердине месяца, как и на предыдущих графиках. Группа В явно выигрывает группу А, но вероятнее всего это произошло из-за выбросов(крупных заказов в середине месяца)."
   ]
  },
  {
   "cell_type": "markdown",
   "metadata": {
    "id": "GW1_Uy7t2I-G"
   },
   "source": [
    "<div class=\"alert alert-info\"><b>График кумулятивной конверсии</b> по группам</div>"
   ]
  },
  {
   "cell_type": "code",
   "execution_count": 11,
   "metadata": {},
   "outputs": [
    {
     "data": {
      "text/plain": [
       "''"
      ]
     },
     "execution_count": 11,
     "metadata": {},
     "output_type": "execute_result"
    },
    {
     "data": {
      "image/png": "[encoded data removed]",
      "text/plain": [
       "<Figure size 800x500 with 1 Axes>"
      ]
     },
     "metadata": {},
     "output_type": "display_data"
    }
   ],
   "source": [
    "# считаем кумулятивную конверсию\n",
    "cumulativeData['conversion'] = cumulativeData['orders']/cumulativeData['visitors']\n",
    "\n",
    "# отделяем данные по группе A\n",
    "cumulativeDataA = cumulativeData[cumulativeData['group']=='A']\n",
    "\n",
    "# отделяем данные по группе B\n",
    "cumulativeDataB = cumulativeData[cumulativeData['group']=='B']\n",
    "\n",
    "plt.figure(figsize=(8, 5))\n",
    "\n",
    "# строим графики\n",
    "plt.plot(cumulativeDataA['date'], cumulativeDataA['conversion'], label='A')\n",
    "plt.plot(cumulativeDataB['date'], cumulativeDataB['conversion'], label='B')\n",
    "\n",
    "plt.title('График кумулятивной конверсии')\n",
    "plt.xlabel('date')\n",
    "plt.ylabel('conversion')\n",
    "plt.xticks(rotation=45, horizontalalignment='right')\n",
    "plt.legend()\n",
    "\n",
    "plt.legend()\n",
    "\n",
    "# задаем масштаб осей\n",
    "plt.axis([dt.datetime(2019, 8, 1), dt.datetime(2019, 9, 1), 0, 0.05]) \n",
    "\n",
    ";"
   ]
  },
  {
   "cell_type": "markdown",
   "metadata": {},
   "source": [
    "**Промежуточный вывод:**\n",
    "- график кумулятивной конверсии стабилизировался к середине месяца и показывает, что пользователи группы В конвертируются в покупателей стабильно чаще. "
   ]
  },
  {
   "cell_type": "markdown",
   "metadata": {
    "id": "GW1_Uy7t2I-G"
   },
   "source": [
    "<div class=\"alert alert-info\"><b>График относительного изменения кумулятивной конверсии</b> группы B к группе A.</div>"
   ]
  },
  {
   "cell_type": "code",
   "execution_count": 12,
   "metadata": {},
   "outputs": [
    {
     "data": {
      "text/plain": [
       "''"
      ]
     },
     "execution_count": 12,
     "metadata": {},
     "output_type": "execute_result"
    },
    {
     "data": {
      "image/png": "[encoded data removed]",
      "text/plain": [
       "<Figure size 800x500 with 1 Axes>"
      ]
     },
     "metadata": {},
     "output_type": "display_data"
    }
   ],
   "source": [
    "mergedCumulativeConversions = cumulativeDataA[['date','conversion']].merge(cumulativeDataB[['date','conversion']], left_on='date', right_on='date', how='left', suffixes=['A', 'B'])\n",
    "\n",
    "plt.figure(figsize=(8, 5))\n",
    "plt.plot(mergedCumulativeConversions['date'], mergedCumulativeConversions['conversionB']/mergedCumulativeConversions['conversionA']-1, label=\"Относительный прирост конверсии группы B относительно группы A\")\n",
    "\n",
    "plt.axhline(y=0, color='black', linestyle='--')\n",
    "plt.axhline(y=-0.1, color='grey', linestyle='--')\n",
    "plt.axis([dt.datetime(2019, 8, 1), dt.datetime(2019, 9, 1), -0.4, 0.4]) \n",
    "\n",
    "plt.title('График относительного изменения кумулятивной конверсии группы B к группе A.')\n",
    "plt.xlabel('date')\n",
    "plt.ylabel('относительный прирост конверсии')\n",
    "plt.xticks(rotation=45, horizontalalignment='right')\n",
    ";"
   ]
  },
  {
   "cell_type": "markdown",
   "metadata": {},
   "source": [
    "**Промежуточный вывод:**\n",
    "- уже после первой недели группа B явно лидирует по отношению к группе А. График еще не стабилизировался, но определенно точно группа B конвертируется в покупателей лучше. \n",
    "\n",
    "*возможно, после анализы аномалий, картина изменится."
   ]
  },
  {
   "cell_type": "markdown",
   "metadata": {
    "id": "GW1_Uy7t2I-G"
   },
   "source": [
    "<div class=\"alert alert-info\"><b>Точечный график количества заказов по пользователям.</b></div>"
   ]
  },
  {
   "cell_type": "code",
   "execution_count": 13,
   "metadata": {
    "scrolled": false
   },
   "outputs": [
    {
     "name": "stdout",
     "output_type": "stream",
     "text": [
      "          userId  orders\n",
      "1023  4256040402  11    \n",
      "591   2458001652  11    \n",
      "569   2378935119  9     \n",
      "487   2038680547  8     \n",
      "44    199603092   5     \n",
      "744   3062433592  5     \n",
      "55    237748145   5     \n",
      "917   3803269165  5     \n",
      "299   1230306981  5     \n",
      "897   3717692402  5     \n"
     ]
    },
    {
     "data": {
      "text/plain": [
       "''"
      ]
     },
     "execution_count": 13,
     "metadata": {},
     "output_type": "execute_result"
    },
    {
     "data": {
      "image/png": "[encoded data removed]",
      "text/plain": [
       "<Figure size 800x500 with 1 Axes>"
      ]
     },
     "metadata": {},
     "output_type": "display_data"
    }
   ],
   "source": [
    "ordersByUsers = (\n",
    "    orders.groupby('userId', as_index=False)\n",
    "    .agg({'orderId': 'nunique'})\n",
    ")\n",
    "\n",
    "ordersByUsers.columns = ['userId', 'orders']\n",
    "\n",
    "print(ordersByUsers.sort_values(by='orders', ascending=False).head(10)) \n",
    "\n",
    "plt.figure(figsize=(8, 5))\n",
    "x_values = pd.Series(range(0,len(ordersByUsers)))\n",
    "\n",
    "plt.scatter(x_values, ordersByUsers['orders']) \n",
    "plt.title('Точечный график количества заказов по пользователям')\n",
    "plt.xlabel('user_Id')\n",
    "plt.ylabel('orders')\n",
    "\n",
    ";"
   ]
  },
  {
   "cell_type": "markdown",
   "metadata": {},
   "source": [
    "**Промежуточный вывод:**\n",
    "- по графику видим, что чаще всего покупатели делают до 2ух заказов. Хотя и в таблице и на графике видим цифры до 11ти.\n",
    "- посмотрим 95-й и 99-й перцентили\n"
   ]
  },
  {
   "cell_type": "markdown",
   "metadata": {
    "id": "GW1_Uy7t2I-G"
   },
   "source": [
    "<div class=\"alert alert-info\"><b>95-й и 99-й перцентили количества заказов на пользователя.</b></div>"
   ]
  },
  {
   "cell_type": "code",
   "execution_count": 14,
   "metadata": {},
   "outputs": [
    {
     "name": "stdout",
     "output_type": "stream",
     "text": [
      "[1. 2. 4.]\n"
     ]
    }
   ],
   "source": [
    "print(np.percentile(ordersByUsers['orders'], [90, 95, 99])) "
   ]
  },
  {
   "cell_type": "markdown",
   "metadata": {},
   "source": [
    "**Промежуточный вывод:**\n",
    "- всего 5% покупателей делают более 2ух заказов\n",
    "- и всего 1 % больше 4ех закатов\n",
    "- будем считать всех кто делает более 2ух заказов - аномалиями"
   ]
  },
  {
   "cell_type": "markdown",
   "metadata": {
    "id": "GW1_Uy7t2I-G"
   },
   "source": [
    "<div class=\"alert alert-info\"><b>Точечный график стоимостей заказов.</b></div>"
   ]
  },
  {
   "cell_type": "code",
   "execution_count": 15,
   "metadata": {
    "scrolled": false
   },
   "outputs": [
    {
     "data": {
      "text/plain": [
       "''"
      ]
     },
     "execution_count": 15,
     "metadata": {},
     "output_type": "execute_result"
    },
    {
     "data": {
      "image/png": "[encoded data removed]",
      "text/plain": [
       "<Figure size 800x500 with 1 Axes>"
      ]
     },
     "metadata": {},
     "output_type": "display_data"
    }
   ],
   "source": [
    "plt.figure(figsize=(8, 5))\n",
    "x_values = pd.Series(range(0,len(orders['revenue'])))\n",
    "plt.scatter(x_values, orders['revenue']) \n",
    "plt.title('Точечный график стоимостей заказов')\n",
    "plt.xlabel('user_Id')\n",
    "plt.ylabel('revenue')\n",
    "\n",
    ";"
   ]
  },
  {
   "cell_type": "markdown",
   "metadata": {},
   "source": [
    "**Промежуточный вывод:**\n",
    "- Из-за двух выбросов график стал неинформативным. Давай сделаем еще один график без выбросов."
   ]
  },
  {
   "cell_type": "markdown",
   "metadata": {
    "id": "GW1_Uy7t2I-G"
   },
   "source": [
    "<div class=\"alert alert-info\"><b>Точечный график стоимостей заказов с лимитом в 60тыс.</b></div>"
   ]
  },
  {
   "cell_type": "code",
   "execution_count": 16,
   "metadata": {},
   "outputs": [
    {
     "data": {
      "text/plain": [
       "''"
      ]
     },
     "execution_count": 16,
     "metadata": {},
     "output_type": "execute_result"
    },
    {
     "data": {
      "image/png": "[encoded data removed]",
      "text/plain": [
       "<Figure size 800x500 with 1 Axes>"
      ]
     },
     "metadata": {},
     "output_type": "display_data"
    }
   ],
   "source": [
    "plt.figure(figsize=(8, 5))\n",
    "x_values = pd.Series(range(0,len(orders['revenue'])))\n",
    "plt.scatter(x_values, orders['revenue']) \n",
    "plt.ylim(0,60000)\n",
    "plt.title('Точечный график стоимостей заказов до 60тыс.')\n",
    "plt.xlabel('user_Id')\n",
    "plt.ylabel('revenue')\n",
    "\n",
    ";"
   ]
  },
  {
   "cell_type": "markdown",
   "metadata": {},
   "source": [
    "**Промежуточный вывод:**\n",
    "- выбросов много. Основная масса стоимостей заказов колеблеться до отметки 20.тыс\n",
    "* проверим это 95-ым и 99-ым перцентилями"
   ]
  },
  {
   "cell_type": "markdown",
   "metadata": {
    "id": "GW1_Uy7t2I-G"
   },
   "source": [
    "<div class=\"alert alert-info\"><b>95-й и 99-й перцентили стоимости заказов на пользователя.</b></div>"
   ]
  },
  {
   "cell_type": "code",
   "execution_count": 17,
   "metadata": {
    "scrolled": true
   },
   "outputs": [
    {
     "name": "stdout",
     "output_type": "stream",
     "text": [
      "[28000.  58233.2]\n"
     ]
    }
   ],
   "source": [
    "print(np.percentile(orders['revenue'], [95, 99]))"
   ]
  },
  {
   "cell_type": "markdown",
   "metadata": {},
   "source": [
    "**Промежуточный вывод:**\n",
    "- всего 5% покупателей делают заказы на сумму более 28тыс\n",
    "- и всего 1 % больше 58тыс\n",
    "- будем считать всех кто делает заказы на сумму более 28тыс - аномалиями"
   ]
  },
  {
   "cell_type": "markdown",
   "metadata": {},
   "source": [
    "<div class=\"alert alert-info\">Объявление переменных <b>sampleA и sampleB</b> в которых пользователям из разных групп будет соответствовать количество заказов</div>"
   ]
  },
  {
   "cell_type": "code",
   "execution_count": 18,
   "metadata": {},
   "outputs": [
    {
     "data": {
      "text/html": [
       "<div>\n",
       "<style scoped>\n",
       "    .dataframe tbody tr th:only-of-type {\n",
       "        vertical-align: middle;\n",
       "    }\n",
       "\n",
       "    .dataframe tbody tr th {\n",
       "        vertical-align: top;\n",
       "    }\n",
       "\n",
       "    .dataframe thead th {\n",
       "        text-align: right;\n",
       "    }\n",
       "</style>\n",
       "<table border=\"1\" class=\"dataframe\">\n",
       "  <thead>\n",
       "    <tr style=\"text-align: right;\">\n",
       "      <th></th>\n",
       "      <th>date</th>\n",
       "      <th>group</th>\n",
       "      <th>visitors</th>\n",
       "    </tr>\n",
       "  </thead>\n",
       "  <tbody>\n",
       "    <tr>\n",
       "      <th>0</th>\n",
       "      <td>2019-08-01</td>\n",
       "      <td>A</td>\n",
       "      <td>719</td>\n",
       "    </tr>\n",
       "    <tr>\n",
       "      <th>1</th>\n",
       "      <td>2019-08-02</td>\n",
       "      <td>A</td>\n",
       "      <td>619</td>\n",
       "    </tr>\n",
       "    <tr>\n",
       "      <th>2</th>\n",
       "      <td>2019-08-03</td>\n",
       "      <td>A</td>\n",
       "      <td>507</td>\n",
       "    </tr>\n",
       "    <tr>\n",
       "      <th>3</th>\n",
       "      <td>2019-08-04</td>\n",
       "      <td>A</td>\n",
       "      <td>717</td>\n",
       "    </tr>\n",
       "    <tr>\n",
       "      <th>4</th>\n",
       "      <td>2019-08-05</td>\n",
       "      <td>A</td>\n",
       "      <td>756</td>\n",
       "    </tr>\n",
       "    <tr>\n",
       "      <th>...</th>\n",
       "      <td>...</td>\n",
       "      <td>...</td>\n",
       "      <td>...</td>\n",
       "    </tr>\n",
       "    <tr>\n",
       "      <th>57</th>\n",
       "      <td>2019-08-27</td>\n",
       "      <td>B</td>\n",
       "      <td>720</td>\n",
       "    </tr>\n",
       "    <tr>\n",
       "      <th>58</th>\n",
       "      <td>2019-08-28</td>\n",
       "      <td>B</td>\n",
       "      <td>654</td>\n",
       "    </tr>\n",
       "    <tr>\n",
       "      <th>59</th>\n",
       "      <td>2019-08-29</td>\n",
       "      <td>B</td>\n",
       "      <td>531</td>\n",
       "    </tr>\n",
       "    <tr>\n",
       "      <th>60</th>\n",
       "      <td>2019-08-30</td>\n",
       "      <td>B</td>\n",
       "      <td>490</td>\n",
       "    </tr>\n",
       "    <tr>\n",
       "      <th>61</th>\n",
       "      <td>2019-08-31</td>\n",
       "      <td>B</td>\n",
       "      <td>718</td>\n",
       "    </tr>\n",
       "  </tbody>\n",
       "</table>\n",
       "<p>62 rows × 3 columns</p>\n",
       "</div>"
      ],
      "text/plain": [
       "         date group  visitors\n",
       "0  2019-08-01  A     719     \n",
       "1  2019-08-02  A     619     \n",
       "2  2019-08-03  A     507     \n",
       "3  2019-08-04  A     717     \n",
       "4  2019-08-05  A     756     \n",
       "..        ... ..     ...     \n",
       "57 2019-08-27  B     720     \n",
       "58 2019-08-28  B     654     \n",
       "59 2019-08-29  B     531     \n",
       "60 2019-08-30  B     490     \n",
       "61 2019-08-31  B     718     \n",
       "\n",
       "[62 rows x 3 columns]"
      ]
     },
     "execution_count": 18,
     "metadata": {},
     "output_type": "execute_result"
    }
   ],
   "source": [
    "visitors"
   ]
  },
  {
   "cell_type": "code",
   "execution_count": 19,
   "metadata": {},
   "outputs": [
    {
     "data": {
      "text/plain": [
       "array([1, 4, 2, 3, 5, 7, 0], dtype=int64)"
      ]
     },
     "metadata": {},
     "output_type": "display_data"
    },
    {
     "data": {
      "text/plain": [
       "array([1, 3, 2, 5, 6, 4, 0], dtype=int64)"
      ]
     },
     "metadata": {},
     "output_type": "display_data"
    }
   ],
   "source": [
    "ordersByUsersA = (\n",
    "    orders[orders['group'] == 'A']\n",
    "    .groupby('userId', as_index=False)\n",
    "    .agg({'orderId': pd.Series.nunique})\n",
    ")\n",
    "ordersByUsersA.columns = ['userId', 'orders']\n",
    "\n",
    "ordersByUsersB = (\n",
    "    orders[orders['group'] == 'B']\n",
    "    .groupby('userId', as_index=False)\n",
    "    .agg({'orderId': pd.Series.nunique})\n",
    ")\n",
    "ordersByUsersB.columns = ['userId', 'orders'] \n",
    "\n",
    "sampleA = pd.concat([ordersByUsersA['orders'],\n",
    "                     pd.Series(0, \n",
    "                               index=np.arange(visitors[visitors['group']=='A']['visitors'].sum() - \n",
    "                                               len(ordersByUsersA['orders'])), \n",
    "                               name='orders')],\n",
    "                    axis=0)\n",
    "\n",
    "sampleB = pd.concat([ordersByUsersB['orders'],\n",
    "                     pd.Series(0, \n",
    "                               index=np.arange(visitors[visitors['group']=='B']['visitors'].sum() - \n",
    "                                               len(ordersByUsersB['orders'])), \n",
    "                               name='orders')],\n",
    "                    axis=0)\n",
    "\n",
    "\n",
    "display(sampleA.unique()) #проверим какие варианты количества заказов есть в группе А\n",
    "display(sampleB.unique()) #проверим какие варианты количества заказов есть в группе В"
   ]
  },
  {
   "cell_type": "markdown",
   "metadata": {
    "id": "GW1_Uy7t2I-G"
   },
   "source": [
    "<div class=\"alert alert-info\"><b>Статистическая значимость различий в конверсии</b> между группами по <b>«сырым»</b> данным.</div>"
   ]
  },
  {
   "cell_type": "markdown",
   "metadata": {},
   "source": [
    "- **Гипотеза Н0** - Статистически значимых различий в конверсии заказов между группами А и Б НЕТ.\n",
    "\n",
    "- **Гипотеза Н1** - Статистически значимое различие в конверсии заказов между группами А и Б ЕСТЬ.\n",
    "\n",
    "- **alpha** устанавливаем на уровне 5%\n",
    "\n",
    "\n",
    "- проверяем эту и следующие гипотезы методом **Манна-Уитни.**"
   ]
  },
  {
   "cell_type": "code",
   "execution_count": 20,
   "metadata": {},
   "outputs": [
    {
     "name": "stdout",
     "output_type": "stream",
     "text": [
      "0.017 p-value\n",
      "0.138 относительный прирост среднего числа заказов группы B\n"
     ]
    }
   ],
   "source": [
    "print(\"{0:.3f} p-value\".format(stats.mannwhitneyu(sampleA, sampleB)[1]))\n",
    "print(\"{0:.3f} относительный прирост среднего числа заказов группы B\".format(sampleB.mean() / sampleA.mean() - 1))"
   ]
  },
  {
   "cell_type": "markdown",
   "metadata": {},
   "source": [
    "**Промежуточный вывод:**\n",
    "- По «сырым» данным **различия в среднем числе заказов групп A и B - ЕСТЬ**.\n",
    "- Первое число — p-value = 0.017 меньше 0.05. Значит, нулевую гипотезу о том, что статистически значимых различий в конверсии заказов между группами нет,  отвергаем. \n",
    "- Относительный выйгрыш группы B равен 13.8% — второе число в выводе."
   ]
  },
  {
   "cell_type": "markdown",
   "metadata": {
    "id": "GW1_Uy7t2I-G"
   },
   "source": [
    "<div class=\"alert alert-info\"><b>Статистическая значимость различий в среднем чеке</b> между группами по <b>«сырым»</b> данным.</div>"
   ]
  },
  {
   "cell_type": "markdown",
   "metadata": {},
   "source": [
    "- **Гипотеза Н0** - Статистически значимых различий в среднем чеке между группами А и Б НЕТ.\n",
    "\n",
    "- **Гипотеза Н1** - Статистически значимое различие в среднем чеке между группами А и Б ЕСТЬ.\n",
    "\n",
    "- **alpha** устанавливаем на уровне 5%"
   ]
  },
  {
   "cell_type": "code",
   "execution_count": 21,
   "metadata": {},
   "outputs": [
    {
     "name": "stdout",
     "output_type": "stream",
     "text": [
      "0.729 p-value\n",
      "0.259 относительный прирост среднего чека группы B\n"
     ]
    }
   ],
   "source": [
    "print('{0:.3f} p-value'.format(stats.mannwhitneyu(orders[orders['group']=='A']['revenue'], orders[orders['group']=='B']['revenue'])[1]))\n",
    "print('{0:.3f} относительный прирост среднего чека группы B'.format(orders[orders['group']=='B']['revenue'].mean()/orders[orders['group']=='A']['revenue'].mean()-1)) "
   ]
  },
  {
   "cell_type": "markdown",
   "metadata": {},
   "source": [
    "**Промежуточный вывод:**\n",
    "- P-value значительно больше 0.05. Значит, причин отвергать нулевую гипотезу и считать, что в среднем чеке есть различия, нет.\n",
    "- Средний чек группы B значительно выше среднего чека группы A. Но наблюдаемое превышение среднего чека группы В на 25,9% не является значимым, получено случайно."
   ]
  },
  {
   "cell_type": "markdown",
   "metadata": {
    "id": "GW1_Uy7t2I-G"
   },
   "source": [
    "<div class=\"alert alert-info\">Узнаем, сколько всего аномальных пользователей</div>"
   ]
  },
  {
   "cell_type": "markdown",
   "metadata": {},
   "source": [
    "Напомним, что аномальными пользователями мы считаем тех:\n",
    "- кто делает больше 2ух заказов\n",
    "- у кого стоимость заказа более 28тыс"
   ]
  },
  {
   "cell_type": "code",
   "execution_count": 22,
   "metadata": {
    "scrolled": true
   },
   "outputs": [
    {
     "name": "stdout",
     "output_type": "stream",
     "text": [
      "1099    148427295\n",
      "18      199603092\n",
      "928     204675465\n",
      "23      237748145\n",
      "37      249864742\n",
      "Name: userId, dtype: int64\n",
      "=-=-=-=-=-=-=-=-=-=-=-=-=-=-=-=-=-=-=-=-=-=-=-=-=-=-=-=-=-=-=-=-=-=-=-=-=-=-=-=-=-=-=-=-=-=-=-=-=-=-=-=-=-=-=-=-=-=-=-=-\n",
      "Всего аномальных пользователей : 74\n"
     ]
    }
   ],
   "source": [
    "abnormal_orders = 2\n",
    "abnormal_revenue = 28000\n",
    "\n",
    "usersWithManyOrders = pd.concat(\n",
    "    [\n",
    "        ordersByUsersA[ordersByUsersA['orders'] > abnormal_orders]['userId'],\n",
    "        ordersByUsersB[ordersByUsersB['orders'] > abnormal_orders]['userId'],\n",
    "    ],\n",
    "    axis=0,\n",
    ")\n",
    "usersWithExpensiveOrders = orders[orders['revenue'] > abnormal_revenue]['userId']\n",
    "abnormalUsers = (\n",
    "    pd.concat([usersWithManyOrders, usersWithExpensiveOrders], axis=0)\n",
    "    .drop_duplicates()\n",
    "    .sort_values()\n",
    ")\n",
    "print(abnormalUsers.head(5))\n",
    "print(60*'=-')\n",
    "print(f'Всего аномальных пользователей : {abnormalUsers.shape[0]}') "
   ]
  },
  {
   "cell_type": "markdown",
   "metadata": {
    "id": "GW1_Uy7t2I-G"
   },
   "source": [
    "<div class=\"alert alert-info\">Для расчета статистической значимости различий по очищенным данным - подготовим выборки количества заказов по пользователям по группам теста:</div>"
   ]
  },
  {
   "cell_type": "code",
   "execution_count": 23,
   "metadata": {},
   "outputs": [],
   "source": [
    "sampleAFiltered = pd.concat(\n",
    "    [\n",
    "        ordersByUsersA[\n",
    "            np.logical_not(ordersByUsersA['userId'].isin(abnormalUsers))\n",
    "        ]['orders'],\n",
    "        pd.Series(\n",
    "            0,\n",
    "            index=np.arange(visitors[visitors['group']=='A']['visitors'].sum() - \n",
    "                                               len(ordersByUsersA['orders'])), \n",
    "            name='orders',\n",
    "        ),\n",
    "    ],\n",
    "    axis=0,\n",
    ")\n",
    "\n",
    "sampleBFiltered = pd.concat(\n",
    "    [\n",
    "        ordersByUsersB[\n",
    "            np.logical_not(ordersByUsersB['userId'].isin(abnormalUsers))\n",
    "        ]['orders'],\n",
    "        pd.Series(\n",
    "            0,\n",
    "            index=np.arange(visitors[visitors['group']=='B']['visitors'].sum()- len(ordersByUsersB['orders'])\n",
    "            ),\n",
    "            name='orders',\n",
    "        ),\n",
    "    ],\n",
    "    axis=0,\n",
    ") "
   ]
  },
  {
   "cell_type": "markdown",
   "metadata": {
    "id": "GW1_Uy7t2I-G"
   },
   "source": [
    "<div class=\"alert alert-info\"><b>Статистическая значимость различий в конверсии</b> между группами по <b>«очищенным»</b> данным.</div>"
   ]
  },
  {
   "cell_type": "markdown",
   "metadata": {},
   "source": [
    "- **Гипотеза Н0** - Статистически значимых различий в конверсии между группами А и Б НЕТ.\n",
    "\n",
    "- **Гипотеза Н1** - Статистически значимое различие в конверсии между группами А и Б ЕСТЬ.\n",
    "\n",
    "- **alpha** устанавливаем на уровне 5%"
   ]
  },
  {
   "cell_type": "code",
   "execution_count": 24,
   "metadata": {},
   "outputs": [
    {
     "name": "stdout",
     "output_type": "stream",
     "text": [
      "0.013 p-value\n",
      "0.173 относительный прирост в конверсии группы B\n"
     ]
    }
   ],
   "source": [
    "print('{0:.3f} p-value'.format(stats.mannwhitneyu(sampleAFiltered, sampleBFiltered)[1]))\n",
    "print('{0:.3f} относительный прирост в конверсии группы B'.format(sampleBFiltered.mean()/sampleAFiltered.mean()-1)) "
   ]
  },
  {
   "cell_type": "markdown",
   "metadata": {},
   "source": [
    "**Промежуточный вывод:**\n",
    "- По «очищенным» данным **различия в среднем числе заказов групп A и B - всё также ЕСТЬ**.\n",
    "- Первое число — p-value = 0.013 меньше 0.05. Значит, нулевую гипотезу о том, что статистически значимых различий в конверсии заказов между группами нет,  отвергаем. \n",
    "- Относительный выйгрыш группы B равен 17.3% — выше, чем результат без очистки аномалий."
   ]
  },
  {
   "cell_type": "markdown",
   "metadata": {
    "id": "GW1_Uy7t2I-G"
   },
   "source": [
    "<div class=\"alert alert-info\"><b>Статистическая значимость различий в среднем чеке</b> между группами по <b>«очищенным»</b> данным.</div>"
   ]
  },
  {
   "cell_type": "markdown",
   "metadata": {},
   "source": [
    "- **Гипотеза Н0** - Статистически значимых различий в среднем чеке между группами А и Б НЕТ.\n",
    "\n",
    "- **Гипотеза Н1** - Статистически значимое различие в среднем чеке между группами А и Б ЕСТЬ.\n",
    "\n",
    "- **alpha** устанавливаем на уровне 5%"
   ]
  },
  {
   "cell_type": "code",
   "execution_count": 25,
   "metadata": {},
   "outputs": [
    {
     "name": "stdout",
     "output_type": "stream",
     "text": [
      "0.738 p-value\n",
      "-0.020 относительный прирост среднего чека группы B\n"
     ]
    }
   ],
   "source": [
    "print(\n",
    "    '{0:.3f} p-value'.format(\n",
    "        stats.mannwhitneyu(\n",
    "            orders[\n",
    "                np.logical_and(\n",
    "                    orders['group'] == 'A',\n",
    "                    np.logical_not(orders['userId'].isin(abnormalUsers)),\n",
    "                )\n",
    "            ]['revenue'],\n",
    "            orders[\n",
    "                np.logical_and(\n",
    "                    orders['group'] == 'B',\n",
    "                    np.logical_not(orders['userId'].isin(abnormalUsers)),\n",
    "                )\n",
    "            ]['revenue'],\n",
    "        )[1]\n",
    "    )\n",
    ")\n",
    "\n",
    "print(\n",
    "    \"{0:.3f} относительный прирост среднего чека группы B\".format(\n",
    "        orders[\n",
    "            np.logical_and(\n",
    "                orders['group'] == 'B',\n",
    "                np.logical_not(orders['userId'].isin(abnormalUsers)),\n",
    "            )\n",
    "        ]['revenue'].mean()\n",
    "        / orders[\n",
    "            np.logical_and(\n",
    "                orders['group'] == 'A',\n",
    "                np.logical_not(orders['userId'].isin(abnormalUsers)),\n",
    "            )\n",
    "        ]['revenue'].mean()\n",
    "        - 1\n",
    "    )\n",
    ") "
   ]
  },
  {
   "cell_type": "markdown",
   "metadata": {},
   "source": [
    "**Промежуточный вывод:**\n",
    "- P-value 0.738, что значительно больше 0.05. Как и в тесте с аномалиями причин отвергать нулевую гипотезу и считать, что в среднем чеке есть различия, нет.\n",
    "- **Относительный выйгрыш группы B после очистки аномалий снизился до -2%. Хотя в тесте с \"сырыми данными\" был равен 25.9%!**"
   ]
  },
  {
   "cell_type": "markdown",
   "metadata": {},
   "source": [
    "# Вывод"
   ]
  },
  {
   "cell_type": "markdown",
   "metadata": {},
   "source": [
    "**Имеющиеся факты:**\n",
    "1. ЕСТЬ статистически значимое различие по конверсии заказов между группами как по «сырым», так и по данным после фильтрации аномалий!\n",
    "2. Статистически значимого различия по среднему чеку между группами НЕТ. Ни по «сырым», ни по данным после фильтрации аномалий;\n",
    "Относительный выйгрыш группы B по среднему чеку после очистки аномалий снизился до -2%. Хотя в тесте с \"сырыми данными\" был равен 25.9%!\n",
    "3. График различия конверсии между группами сообщает, что результаты группы B стабильно лучше группы A.\n",
    "4. График различия среднего чека пока не очень стабилен, но уже можно сделать вывод, что если не брать в расчет выбросы - средние чеки групп А и B практически равны(В показывает -2% относительно группы А при анализе без аномалий, но с другой стороны возможно аномально большие покупки сделаны, как раз из-за внесения изменений)\n",
    "\n",
    "**Выводы по тесту:**\n",
    "- Исходя из обнаруженных фактов, тест следует признать успешным. **Группа В показала лучшие результаты, чем группа А.**\n",
    "- Есть статистически зачимое различие в конверсии. \n",
    "- По среднему чеку статистически значимого различия нет, а относительное получено случайно, чтобы влиять на решение о продолжении теста. \n",
    "- Продолжать смысла нет, потому как вероятность, что при имеющихся данных сегмент А на самом деле лучше сегмента В — практически нулевая."
   ]
  }
 ],
 "metadata": {
  "ExecuteTimeLog": [
   {
    "duration": 474,
    "start_time": "2022-08-30T21:02:55.173Z"
   },
   {
    "duration": 41,
    "start_time": "2022-08-30T21:03:22.034Z"
   },
   {
    "duration": 38,
    "start_time": "2022-08-30T21:03:42.620Z"
   },
   {
    "duration": 34,
    "start_time": "2022-08-30T21:04:39.243Z"
   },
   {
    "duration": 35,
    "start_time": "2022-08-30T21:04:48.024Z"
   },
   {
    "duration": 38,
    "start_time": "2022-08-30T21:04:50.823Z"
   },
   {
    "duration": 39,
    "start_time": "2022-08-30T21:06:39.596Z"
   },
   {
    "duration": 10,
    "start_time": "2022-08-30T21:10:03.987Z"
   },
   {
    "duration": 19,
    "start_time": "2022-08-30T21:10:54.582Z"
   },
   {
    "duration": 9,
    "start_time": "2022-08-30T21:11:11.041Z"
   },
   {
    "duration": 43,
    "start_time": "2022-08-30T21:14:59.719Z"
   },
   {
    "duration": 10,
    "start_time": "2022-08-30T21:15:52.717Z"
   },
   {
    "duration": 49,
    "start_time": "2022-08-30T21:18:17.948Z"
   },
   {
    "duration": 802,
    "start_time": "2022-08-30T21:32:43.779Z"
   },
   {
    "duration": 227,
    "start_time": "2022-08-30T21:32:55.008Z"
   },
   {
    "duration": 47,
    "start_time": "2022-08-30T21:33:07.635Z"
   },
   {
    "duration": 3,
    "start_time": "2022-08-30T21:33:16.119Z"
   },
   {
    "duration": 170,
    "start_time": "2022-08-30T21:33:30.670Z"
   },
   {
    "duration": 70,
    "start_time": "2022-08-30T21:33:59.810Z"
   },
   {
    "duration": 81,
    "start_time": "2022-08-30T21:34:16.153Z"
   },
   {
    "duration": 83,
    "start_time": "2022-08-30T21:36:18.488Z"
   },
   {
    "duration": 85,
    "start_time": "2022-08-30T21:37:06.999Z"
   },
   {
    "duration": 316,
    "start_time": "2022-08-30T21:37:24.638Z"
   },
   {
    "duration": 96,
    "start_time": "2022-08-30T21:37:40.674Z"
   },
   {
    "duration": 117,
    "start_time": "2022-08-30T21:37:55.826Z"
   },
   {
    "duration": 103,
    "start_time": "2022-08-30T21:38:15.473Z"
   },
   {
    "duration": 126,
    "start_time": "2022-08-30T21:39:49.045Z"
   },
   {
    "duration": 39,
    "start_time": "2022-08-30T21:53:37.552Z"
   },
   {
    "duration": 25,
    "start_time": "2022-08-30T21:54:03.506Z"
   },
   {
    "duration": 100,
    "start_time": "2022-08-30T21:57:47.641Z"
   },
   {
    "duration": 167,
    "start_time": "2022-08-30T21:57:53.999Z"
   },
   {
    "duration": 49,
    "start_time": "2022-08-30T21:59:26.359Z"
   },
   {
    "duration": 92,
    "start_time": "2022-08-30T22:04:06.544Z"
   },
   {
    "duration": 60,
    "start_time": "2022-08-30T22:04:18.942Z"
   },
   {
    "duration": 41,
    "start_time": "2022-08-30T22:04:42.596Z"
   },
   {
    "duration": 180,
    "start_time": "2022-08-30T22:05:11.825Z"
   },
   {
    "duration": 202,
    "start_time": "2022-08-30T22:05:25.224Z"
   },
   {
    "duration": 169,
    "start_time": "2022-08-30T22:05:48.745Z"
   },
   {
    "duration": 259,
    "start_time": "2022-08-30T22:08:23.732Z"
   },
   {
    "duration": 275,
    "start_time": "2022-08-30T22:08:43.115Z"
   },
   {
    "duration": 294,
    "start_time": "2022-08-30T22:09:27.294Z"
   },
   {
    "duration": 329,
    "start_time": "2022-08-30T22:16:36.387Z"
   },
   {
    "duration": 533,
    "start_time": "2022-08-30T22:17:17.598Z"
   },
   {
    "duration": 247,
    "start_time": "2022-08-30T22:18:45.676Z"
   },
   {
    "duration": 223,
    "start_time": "2022-08-30T22:21:36.588Z"
   },
   {
    "duration": 335,
    "start_time": "2022-08-30T22:22:49.287Z"
   },
   {
    "duration": 268,
    "start_time": "2022-08-30T22:22:52.221Z"
   },
   {
    "duration": 193,
    "start_time": "2022-08-30T22:23:54.708Z"
   },
   {
    "duration": 177,
    "start_time": "2022-08-30T22:28:27.403Z"
   },
   {
    "duration": 174,
    "start_time": "2022-08-30T22:28:52.213Z"
   },
   {
    "duration": 250,
    "start_time": "2022-08-30T22:29:02.603Z"
   },
   {
    "duration": 194,
    "start_time": "2022-08-30T22:29:30.453Z"
   },
   {
    "duration": 225,
    "start_time": "2022-08-30T22:29:56.257Z"
   },
   {
    "duration": 181,
    "start_time": "2022-08-30T22:30:31.400Z"
   },
   {
    "duration": 210,
    "start_time": "2022-08-30T22:31:09.423Z"
   },
   {
    "duration": 207,
    "start_time": "2022-08-30T22:31:11.182Z"
   },
   {
    "duration": 160,
    "start_time": "2022-08-30T22:32:21.552Z"
   },
   {
    "duration": 305,
    "start_time": "2022-08-30T22:35:06.638Z"
   },
   {
    "duration": 347,
    "start_time": "2022-08-30T22:36:14.587Z"
   },
   {
    "duration": 283,
    "start_time": "2022-08-30T22:36:39.159Z"
   },
   {
    "duration": 325,
    "start_time": "2022-08-30T22:37:46.990Z"
   },
   {
    "duration": 368,
    "start_time": "2022-08-30T22:38:13.265Z"
   },
   {
    "duration": 740,
    "start_time": "2022-08-30T22:41:42.613Z"
   },
   {
    "duration": 114,
    "start_time": "2022-08-30T22:44:48.953Z"
   },
   {
    "duration": 5,
    "start_time": "2022-08-30T22:47:14.844Z"
   },
   {
    "duration": 4,
    "start_time": "2022-08-30T22:48:07.240Z"
   },
   {
    "duration": 4,
    "start_time": "2022-08-30T22:48:34.429Z"
   },
   {
    "duration": 8,
    "start_time": "2022-08-30T22:52:27.682Z"
   },
   {
    "duration": 12,
    "start_time": "2022-08-30T22:53:56.186Z"
   },
   {
    "duration": 125,
    "start_time": "2022-08-30T22:54:11.286Z"
   },
   {
    "duration": 4,
    "start_time": "2022-08-30T22:54:42.810Z"
   },
   {
    "duration": 3,
    "start_time": "2022-08-30T23:03:27.450Z"
   },
   {
    "duration": 490,
    "start_time": "2022-08-30T23:08:06.957Z"
   },
   {
    "duration": 449,
    "start_time": "2022-08-30T23:08:32.811Z"
   },
   {
    "duration": 9,
    "start_time": "2022-08-30T23:09:39.991Z"
   },
   {
    "duration": 21,
    "start_time": "2022-08-30T23:10:58.354Z"
   },
   {
    "duration": 434,
    "start_time": "2022-08-30T23:22:48.783Z"
   },
   {
    "duration": 489,
    "start_time": "2022-08-30T23:23:11.282Z"
   },
   {
    "duration": 210,
    "start_time": "2022-08-30T23:23:32.882Z"
   },
   {
    "duration": 261,
    "start_time": "2022-08-30T23:23:41.871Z"
   },
   {
    "duration": 40,
    "start_time": "2022-08-30T23:28:35.193Z"
   },
   {
    "duration": 805,
    "start_time": "2022-08-30T23:28:35.235Z"
   },
   {
    "duration": 0,
    "start_time": "2022-08-30T23:28:36.043Z"
   },
   {
    "duration": 1,
    "start_time": "2022-08-30T23:28:36.044Z"
   },
   {
    "duration": 0,
    "start_time": "2022-08-30T23:28:36.046Z"
   },
   {
    "duration": 0,
    "start_time": "2022-08-30T23:28:36.047Z"
   },
   {
    "duration": 0,
    "start_time": "2022-08-30T23:28:36.049Z"
   },
   {
    "duration": 0,
    "start_time": "2022-08-30T23:28:36.050Z"
   },
   {
    "duration": 0,
    "start_time": "2022-08-30T23:28:36.051Z"
   },
   {
    "duration": 0,
    "start_time": "2022-08-30T23:28:36.053Z"
   },
   {
    "duration": 0,
    "start_time": "2022-08-30T23:28:36.055Z"
   },
   {
    "duration": 0,
    "start_time": "2022-08-30T23:28:36.056Z"
   },
   {
    "duration": 0,
    "start_time": "2022-08-30T23:28:36.057Z"
   },
   {
    "duration": 0,
    "start_time": "2022-08-30T23:28:36.059Z"
   },
   {
    "duration": 0,
    "start_time": "2022-08-30T23:28:36.060Z"
   },
   {
    "duration": 0,
    "start_time": "2022-08-30T23:28:36.061Z"
   },
   {
    "duration": 0,
    "start_time": "2022-08-30T23:28:36.063Z"
   },
   {
    "duration": 0,
    "start_time": "2022-08-30T23:28:36.064Z"
   },
   {
    "duration": 11,
    "start_time": "2022-08-30T23:28:57.591Z"
   },
   {
    "duration": 42,
    "start_time": "2022-08-30T23:29:03.161Z"
   },
   {
    "duration": 9,
    "start_time": "2022-08-30T23:29:03.204Z"
   },
   {
    "duration": 14,
    "start_time": "2022-08-30T23:29:03.214Z"
   },
   {
    "duration": 92,
    "start_time": "2022-08-30T23:29:03.230Z"
   },
   {
    "duration": 297,
    "start_time": "2022-08-30T23:29:03.324Z"
   },
   {
    "duration": 195,
    "start_time": "2022-08-30T23:29:03.622Z"
   },
   {
    "duration": 184,
    "start_time": "2022-08-30T23:29:03.819Z"
   },
   {
    "duration": 285,
    "start_time": "2022-08-30T23:29:04.006Z"
   },
   {
    "duration": 180,
    "start_time": "2022-08-30T23:29:04.292Z"
   },
   {
    "duration": 298,
    "start_time": "2022-08-30T23:29:04.474Z"
   },
   {
    "duration": 126,
    "start_time": "2022-08-30T23:29:04.774Z"
   },
   {
    "duration": 4,
    "start_time": "2022-08-30T23:29:04.902Z"
   },
   {
    "duration": 145,
    "start_time": "2022-08-30T23:29:04.908Z"
   },
   {
    "duration": 4,
    "start_time": "2022-08-30T23:29:05.055Z"
   },
   {
    "duration": 232,
    "start_time": "2022-08-30T23:29:05.060Z"
   },
   {
    "duration": 254,
    "start_time": "2022-08-30T23:29:05.294Z"
   },
   {
    "duration": 24,
    "start_time": "2022-08-30T23:29:05.549Z"
   },
   {
    "duration": 20,
    "start_time": "2022-08-30T23:29:05.575Z"
   },
   {
    "duration": 250,
    "start_time": "2022-08-30T23:30:59.260Z"
   },
   {
    "duration": 251,
    "start_time": "2022-08-30T23:31:57.255Z"
   },
   {
    "duration": 260,
    "start_time": "2022-08-30T23:32:04.063Z"
   },
   {
    "duration": 264,
    "start_time": "2022-08-30T23:32:13.223Z"
   },
   {
    "duration": 248,
    "start_time": "2022-08-30T23:32:20.239Z"
   },
   {
    "duration": 239,
    "start_time": "2022-08-30T23:32:34.875Z"
   },
   {
    "duration": 10,
    "start_time": "2022-08-30T23:34:58.506Z"
   },
   {
    "duration": 8,
    "start_time": "2022-08-30T23:38:58.320Z"
   },
   {
    "duration": 22,
    "start_time": "2022-08-30T23:39:19.886Z"
   },
   {
    "duration": 13,
    "start_time": "2022-08-30T23:39:55.880Z"
   },
   {
    "duration": 44,
    "start_time": "2022-08-30T23:41:36.240Z"
   },
   {
    "duration": 10,
    "start_time": "2022-08-30T23:41:36.286Z"
   },
   {
    "duration": 23,
    "start_time": "2022-08-30T23:41:36.298Z"
   },
   {
    "duration": 95,
    "start_time": "2022-08-30T23:41:36.323Z"
   },
   {
    "duration": 292,
    "start_time": "2022-08-30T23:41:36.420Z"
   },
   {
    "duration": 183,
    "start_time": "2022-08-30T23:41:36.714Z"
   },
   {
    "duration": 235,
    "start_time": "2022-08-30T23:41:37.011Z"
   },
   {
    "duration": 296,
    "start_time": "2022-08-30T23:41:39.793Z"
   },
   {
    "duration": 167,
    "start_time": "2022-08-30T23:41:40.091Z"
   },
   {
    "duration": 320,
    "start_time": "2022-08-30T23:41:40.260Z"
   },
   {
    "duration": 122,
    "start_time": "2022-08-30T23:41:40.586Z"
   },
   {
    "duration": 4,
    "start_time": "2022-08-30T23:41:40.710Z"
   },
   {
    "duration": 135,
    "start_time": "2022-08-30T23:41:40.715Z"
   },
   {
    "duration": 4,
    "start_time": "2022-08-30T23:41:40.852Z"
   },
   {
    "duration": 224,
    "start_time": "2022-08-30T23:41:40.868Z"
   },
   {
    "duration": 250,
    "start_time": "2022-08-30T23:41:41.094Z"
   },
   {
    "duration": 21,
    "start_time": "2022-08-30T23:41:41.346Z"
   },
   {
    "duration": 10,
    "start_time": "2022-08-30T23:41:43.141Z"
   },
   {
    "duration": 9,
    "start_time": "2022-08-30T23:41:43.153Z"
   },
   {
    "duration": 7,
    "start_time": "2022-08-30T23:41:43.488Z"
   },
   {
    "duration": 24,
    "start_time": "2022-08-30T23:41:43.497Z"
   },
   {
    "duration": 12,
    "start_time": "2022-08-30T23:41:43.523Z"
   },
   {
    "duration": 1432,
    "start_time": "2022-08-31T16:06:44.724Z"
   },
   {
    "duration": 102,
    "start_time": "2022-08-31T16:07:45.979Z"
   },
   {
    "duration": 106,
    "start_time": "2022-08-31T16:28:06.838Z"
   },
   {
    "duration": 10,
    "start_time": "2022-08-31T16:28:10.525Z"
   },
   {
    "duration": 70,
    "start_time": "2022-08-31T16:28:14.692Z"
   },
   {
    "duration": 9,
    "start_time": "2022-08-31T16:28:14.763Z"
   },
   {
    "duration": 7,
    "start_time": "2022-08-31T16:28:14.773Z"
   },
   {
    "duration": 96,
    "start_time": "2022-08-31T16:28:14.781Z"
   },
   {
    "duration": 299,
    "start_time": "2022-08-31T16:28:14.879Z"
   },
   {
    "duration": 361,
    "start_time": "2022-08-31T16:28:15.179Z"
   },
   {
    "duration": 168,
    "start_time": "2022-08-31T16:28:15.543Z"
   },
   {
    "duration": 302,
    "start_time": "2022-08-31T16:28:15.713Z"
   },
   {
    "duration": 179,
    "start_time": "2022-08-31T16:28:16.016Z"
   },
   {
    "duration": 291,
    "start_time": "2022-08-31T16:28:16.197Z"
   },
   {
    "duration": 110,
    "start_time": "2022-08-31T16:28:16.497Z"
   },
   {
    "duration": 4,
    "start_time": "2022-08-31T16:28:16.609Z"
   },
   {
    "duration": 125,
    "start_time": "2022-08-31T16:28:16.616Z"
   },
   {
    "duration": 4,
    "start_time": "2022-08-31T16:28:16.743Z"
   },
   {
    "duration": 230,
    "start_time": "2022-08-31T16:28:16.749Z"
   },
   {
    "duration": 271,
    "start_time": "2022-08-31T16:28:16.981Z"
   },
   {
    "duration": 22,
    "start_time": "2022-08-31T16:28:17.254Z"
   },
   {
    "duration": 23,
    "start_time": "2022-08-31T16:28:17.277Z"
   },
   {
    "duration": 9,
    "start_time": "2022-08-31T16:28:17.301Z"
   },
   {
    "duration": 6,
    "start_time": "2022-08-31T16:28:17.312Z"
   },
   {
    "duration": 20,
    "start_time": "2022-08-31T16:28:17.320Z"
   },
   {
    "duration": 13,
    "start_time": "2022-08-31T16:28:17.342Z"
   },
   {
    "duration": 111,
    "start_time": "2022-08-31T16:38:29.618Z"
   },
   {
    "duration": 106,
    "start_time": "2022-08-31T16:38:48.220Z"
   },
   {
    "duration": 106,
    "start_time": "2022-08-31T16:39:07.768Z"
   },
   {
    "duration": 4,
    "start_time": "2022-08-31T16:42:41.354Z"
   },
   {
    "duration": 4,
    "start_time": "2022-08-31T16:42:52.822Z"
   },
   {
    "duration": 9,
    "start_time": "2022-08-31T16:45:07.830Z"
   },
   {
    "duration": 61,
    "start_time": "2022-08-31T16:50:44.469Z"
   },
   {
    "duration": 20,
    "start_time": "2022-08-31T16:53:52.908Z"
   },
   {
    "duration": 20,
    "start_time": "2022-08-31T16:57:07.625Z"
   },
   {
    "duration": 25,
    "start_time": "2022-08-31T16:57:32.736Z"
   },
   {
    "duration": 20,
    "start_time": "2022-08-31T16:57:40.159Z"
   },
   {
    "duration": 10,
    "start_time": "2022-08-31T17:03:16.954Z"
   },
   {
    "duration": 8,
    "start_time": "2022-08-31T17:03:59.142Z"
   },
   {
    "duration": 8,
    "start_time": "2022-08-31T17:04:24.721Z"
   },
   {
    "duration": 56,
    "start_time": "2022-08-31T17:08:44.536Z"
   },
   {
    "duration": 155,
    "start_time": "2022-08-31T17:11:56.883Z"
   },
   {
    "duration": 22,
    "start_time": "2022-08-31T17:13:20.614Z"
   },
   {
    "duration": 18,
    "start_time": "2022-08-31T17:14:05.457Z"
   },
   {
    "duration": 13,
    "start_time": "2022-08-31T17:14:13.766Z"
   },
   {
    "duration": 59,
    "start_time": "2022-08-31T17:14:33.982Z"
   },
   {
    "duration": 13,
    "start_time": "2022-08-31T17:14:38.311Z"
   },
   {
    "duration": 15,
    "start_time": "2022-08-31T17:14:50.316Z"
   },
   {
    "duration": 45,
    "start_time": "2022-08-31T17:15:13.449Z"
   },
   {
    "duration": 9,
    "start_time": "2022-08-31T17:15:13.496Z"
   },
   {
    "duration": 12,
    "start_time": "2022-08-31T17:15:13.506Z"
   },
   {
    "duration": 87,
    "start_time": "2022-08-31T17:15:13.520Z"
   },
   {
    "duration": 275,
    "start_time": "2022-08-31T17:15:13.609Z"
   },
   {
    "duration": 180,
    "start_time": "2022-08-31T17:15:13.886Z"
   },
   {
    "duration": 153,
    "start_time": "2022-08-31T17:15:14.067Z"
   },
   {
    "duration": 279,
    "start_time": "2022-08-31T17:15:14.222Z"
   },
   {
    "duration": 185,
    "start_time": "2022-08-31T17:15:14.503Z"
   },
   {
    "duration": 310,
    "start_time": "2022-08-31T17:15:14.690Z"
   },
   {
    "duration": 118,
    "start_time": "2022-08-31T17:15:15.004Z"
   },
   {
    "duration": 5,
    "start_time": "2022-08-31T17:15:15.124Z"
   },
   {
    "duration": 141,
    "start_time": "2022-08-31T17:15:15.130Z"
   },
   {
    "duration": 5,
    "start_time": "2022-08-31T17:15:15.272Z"
   },
   {
    "duration": 211,
    "start_time": "2022-08-31T17:15:15.278Z"
   },
   {
    "duration": 251,
    "start_time": "2022-08-31T17:15:15.491Z"
   },
   {
    "duration": 20,
    "start_time": "2022-08-31T17:15:15.743Z"
   },
   {
    "duration": 9,
    "start_time": "2022-08-31T17:15:15.764Z"
   },
   {
    "duration": 25,
    "start_time": "2022-08-31T17:15:15.774Z"
   },
   {
    "duration": 7,
    "start_time": "2022-08-31T17:15:15.801Z"
   },
   {
    "duration": 21,
    "start_time": "2022-08-31T17:15:15.809Z"
   },
   {
    "duration": 13,
    "start_time": "2022-08-31T17:15:15.831Z"
   },
   {
    "duration": 19,
    "start_time": "2022-08-31T17:16:22.746Z"
   },
   {
    "duration": 37,
    "start_time": "2022-08-31T17:16:46.177Z"
   },
   {
    "duration": 8,
    "start_time": "2022-08-31T17:16:46.216Z"
   },
   {
    "duration": 8,
    "start_time": "2022-08-31T17:16:46.225Z"
   },
   {
    "duration": 86,
    "start_time": "2022-08-31T17:16:46.235Z"
   },
   {
    "duration": 275,
    "start_time": "2022-08-31T17:16:46.323Z"
   },
   {
    "duration": 170,
    "start_time": "2022-08-31T17:16:46.599Z"
   },
   {
    "duration": 165,
    "start_time": "2022-08-31T17:16:46.771Z"
   },
   {
    "duration": 319,
    "start_time": "2022-08-31T17:16:46.939Z"
   },
   {
    "duration": 159,
    "start_time": "2022-08-31T17:16:47.259Z"
   },
   {
    "duration": 272,
    "start_time": "2022-08-31T17:16:47.420Z"
   },
   {
    "duration": 125,
    "start_time": "2022-08-31T17:16:47.693Z"
   },
   {
    "duration": 4,
    "start_time": "2022-08-31T17:16:47.819Z"
   },
   {
    "duration": 134,
    "start_time": "2022-08-31T17:16:47.825Z"
   },
   {
    "duration": 9,
    "start_time": "2022-08-31T17:16:47.961Z"
   },
   {
    "duration": 213,
    "start_time": "2022-08-31T17:16:47.971Z"
   },
   {
    "duration": 267,
    "start_time": "2022-08-31T17:16:48.185Z"
   },
   {
    "duration": 26,
    "start_time": "2022-08-31T17:16:48.453Z"
   },
   {
    "duration": 22,
    "start_time": "2022-08-31T17:16:48.480Z"
   },
   {
    "duration": 8,
    "start_time": "2022-08-31T17:16:48.504Z"
   },
   {
    "duration": 7,
    "start_time": "2022-08-31T17:16:48.513Z"
   },
   {
    "duration": 22,
    "start_time": "2022-08-31T17:16:48.521Z"
   },
   {
    "duration": 12,
    "start_time": "2022-08-31T17:16:48.544Z"
   },
   {
    "duration": 13,
    "start_time": "2022-08-31T17:18:07.107Z"
   },
   {
    "duration": 12,
    "start_time": "2022-08-31T17:18:32.834Z"
   },
   {
    "duration": 14,
    "start_time": "2022-08-31T17:18:39.029Z"
   },
   {
    "duration": 37,
    "start_time": "2022-08-31T17:35:26.641Z"
   },
   {
    "duration": 8,
    "start_time": "2022-08-31T17:35:26.680Z"
   },
   {
    "duration": 14,
    "start_time": "2022-08-31T17:35:26.689Z"
   },
   {
    "duration": 87,
    "start_time": "2022-08-31T17:35:26.705Z"
   },
   {
    "duration": 259,
    "start_time": "2022-08-31T17:35:26.794Z"
   },
   {
    "duration": 176,
    "start_time": "2022-08-31T17:35:27.055Z"
   },
   {
    "duration": 158,
    "start_time": "2022-08-31T17:35:27.232Z"
   },
   {
    "duration": 258,
    "start_time": "2022-08-31T17:35:27.397Z"
   },
   {
    "duration": 156,
    "start_time": "2022-08-31T17:35:27.657Z"
   },
   {
    "duration": 272,
    "start_time": "2022-08-31T17:35:27.814Z"
   },
   {
    "duration": 114,
    "start_time": "2022-08-31T17:35:28.088Z"
   },
   {
    "duration": 4,
    "start_time": "2022-08-31T17:35:28.203Z"
   },
   {
    "duration": 126,
    "start_time": "2022-08-31T17:35:28.208Z"
   },
   {
    "duration": 3,
    "start_time": "2022-08-31T17:35:28.336Z"
   },
   {
    "duration": 208,
    "start_time": "2022-08-31T17:35:28.341Z"
   },
   {
    "duration": 253,
    "start_time": "2022-08-31T17:35:28.551Z"
   },
   {
    "duration": 20,
    "start_time": "2022-08-31T17:35:28.806Z"
   },
   {
    "duration": 8,
    "start_time": "2022-08-31T17:35:28.828Z"
   },
   {
    "duration": 9,
    "start_time": "2022-08-31T17:35:28.838Z"
   },
   {
    "duration": 7,
    "start_time": "2022-08-31T17:35:28.848Z"
   },
   {
    "duration": 51,
    "start_time": "2022-08-31T17:35:28.856Z"
   },
   {
    "duration": 12,
    "start_time": "2022-08-31T17:35:28.909Z"
   },
   {
    "duration": 453,
    "start_time": "2022-08-31T21:11:44.422Z"
   },
   {
    "duration": 12,
    "start_time": "2022-08-31T21:11:44.877Z"
   },
   {
    "duration": 14,
    "start_time": "2022-08-31T21:11:44.890Z"
   },
   {
    "duration": 759,
    "start_time": "2022-08-31T21:11:44.906Z"
   },
   {
    "duration": 267,
    "start_time": "2022-08-31T21:11:45.667Z"
   },
   {
    "duration": 257,
    "start_time": "2022-08-31T21:11:45.936Z"
   },
   {
    "duration": 159,
    "start_time": "2022-08-31T21:11:46.195Z"
   },
   {
    "duration": 291,
    "start_time": "2022-08-31T21:11:46.355Z"
   },
   {
    "duration": 158,
    "start_time": "2022-08-31T21:11:46.647Z"
   },
   {
    "duration": 286,
    "start_time": "2022-08-31T21:11:46.807Z"
   },
   {
    "duration": 114,
    "start_time": "2022-08-31T21:11:47.098Z"
   },
   {
    "duration": 5,
    "start_time": "2022-08-31T21:11:47.214Z"
   },
   {
    "duration": 124,
    "start_time": "2022-08-31T21:11:47.221Z"
   },
   {
    "duration": 4,
    "start_time": "2022-08-31T21:11:47.347Z"
   },
   {
    "duration": 215,
    "start_time": "2022-08-31T21:11:47.352Z"
   },
   {
    "duration": 259,
    "start_time": "2022-08-31T21:11:47.568Z"
   },
   {
    "duration": 21,
    "start_time": "2022-08-31T21:11:47.828Z"
   },
   {
    "duration": 9,
    "start_time": "2022-08-31T21:11:47.850Z"
   },
   {
    "duration": 9,
    "start_time": "2022-08-31T21:11:47.860Z"
   },
   {
    "duration": 33,
    "start_time": "2022-08-31T21:11:47.871Z"
   },
   {
    "duration": 20,
    "start_time": "2022-08-31T21:11:47.905Z"
   },
   {
    "duration": 14,
    "start_time": "2022-08-31T21:11:47.927Z"
   },
   {
    "duration": 51,
    "start_time": "2022-09-01T09:47:17.778Z"
   },
   {
    "duration": 511,
    "start_time": "2022-09-01T09:47:20.772Z"
   },
   {
    "duration": 20,
    "start_time": "2022-09-01T09:47:21.285Z"
   },
   {
    "duration": 10,
    "start_time": "2022-09-01T09:47:21.306Z"
   },
   {
    "duration": 1089,
    "start_time": "2022-09-01T09:47:21.318Z"
   },
   {
    "duration": 269,
    "start_time": "2022-09-01T09:47:22.410Z"
   },
   {
    "duration": 246,
    "start_time": "2022-09-01T09:47:22.681Z"
   },
   {
    "duration": 182,
    "start_time": "2022-09-01T09:47:22.928Z"
   },
   {
    "duration": 299,
    "start_time": "2022-09-01T09:47:23.112Z"
   },
   {
    "duration": 181,
    "start_time": "2022-09-01T09:47:23.412Z"
   },
   {
    "duration": 297,
    "start_time": "2022-09-01T09:47:23.600Z"
   },
   {
    "duration": 123,
    "start_time": "2022-09-01T09:47:23.902Z"
   },
   {
    "duration": 5,
    "start_time": "2022-09-01T09:47:24.026Z"
   },
   {
    "duration": 143,
    "start_time": "2022-09-01T09:47:24.033Z"
   },
   {
    "duration": 6,
    "start_time": "2022-09-01T09:47:24.197Z"
   },
   {
    "duration": 218,
    "start_time": "2022-09-01T09:47:24.204Z"
   },
   {
    "duration": 272,
    "start_time": "2022-09-01T09:47:24.424Z"
   },
   {
    "duration": 24,
    "start_time": "2022-09-01T09:47:24.697Z"
   },
   {
    "duration": 10,
    "start_time": "2022-09-01T09:47:24.722Z"
   },
   {
    "duration": 9,
    "start_time": "2022-09-01T09:47:24.733Z"
   },
   {
    "duration": 9,
    "start_time": "2022-09-01T09:47:24.743Z"
   },
   {
    "duration": 55,
    "start_time": "2022-09-01T09:47:24.753Z"
   },
   {
    "duration": 13,
    "start_time": "2022-09-01T09:47:24.809Z"
   },
   {
    "duration": 12,
    "start_time": "2022-09-01T09:48:10.740Z"
   },
   {
    "duration": 14,
    "start_time": "2022-09-01T09:50:17.316Z"
   },
   {
    "duration": 14,
    "start_time": "2022-09-01T09:52:16.934Z"
   },
   {
    "duration": 12,
    "start_time": "2022-09-01T09:54:19.580Z"
   },
   {
    "duration": 11,
    "start_time": "2022-09-01T09:54:40.872Z"
   },
   {
    "duration": 278,
    "start_time": "2022-09-01T10:41:44.740Z"
   },
   {
    "duration": 184,
    "start_time": "2022-09-01T10:42:34.778Z"
   },
   {
    "duration": 225,
    "start_time": "2022-09-01T10:44:17.394Z"
   },
   {
    "duration": 201,
    "start_time": "2022-09-01T10:44:34.574Z"
   },
   {
    "duration": 174,
    "start_time": "2022-09-01T10:44:44.396Z"
   },
   {
    "duration": 186,
    "start_time": "2022-09-01T10:44:50.524Z"
   },
   {
    "duration": 191,
    "start_time": "2022-09-01T10:45:10.420Z"
   },
   {
    "duration": 191,
    "start_time": "2022-09-01T10:45:20.736Z"
   },
   {
    "duration": 187,
    "start_time": "2022-09-01T10:45:28.940Z"
   },
   {
    "duration": 180,
    "start_time": "2022-09-01T10:45:40.788Z"
   },
   {
    "duration": 173,
    "start_time": "2022-09-01T10:46:55.540Z"
   },
   {
    "duration": 310,
    "start_time": "2022-09-01T10:48:07.158Z"
   },
   {
    "duration": 388,
    "start_time": "2022-09-01T10:48:50.398Z"
   },
   {
    "duration": 189,
    "start_time": "2022-09-01T10:50:30.728Z"
   },
   {
    "duration": 193,
    "start_time": "2022-09-01T10:50:36.526Z"
   },
   {
    "duration": 327,
    "start_time": "2022-09-01T10:51:54.980Z"
   },
   {
    "duration": 294,
    "start_time": "2022-09-01T10:52:14.702Z"
   },
   {
    "duration": 316,
    "start_time": "2022-09-01T10:52:26.307Z"
   },
   {
    "duration": 131,
    "start_time": "2022-09-01T10:54:24.842Z"
   },
   {
    "duration": 125,
    "start_time": "2022-09-01T10:55:29.276Z"
   },
   {
    "duration": 146,
    "start_time": "2022-09-01T11:00:38.041Z"
   },
   {
    "duration": 130,
    "start_time": "2022-09-01T11:01:04.997Z"
   },
   {
    "duration": 127,
    "start_time": "2022-09-01T11:01:23.328Z"
   },
   {
    "duration": 143,
    "start_time": "2022-09-01T11:01:28.509Z"
   },
   {
    "duration": 126,
    "start_time": "2022-09-01T11:01:33.826Z"
   },
   {
    "duration": 219,
    "start_time": "2022-09-01T11:01:40.577Z"
   },
   {
    "duration": 129,
    "start_time": "2022-09-01T11:02:28.838Z"
   },
   {
    "duration": 164,
    "start_time": "2022-09-01T11:03:47.593Z"
   },
   {
    "duration": 140,
    "start_time": "2022-09-01T11:03:55.795Z"
   },
   {
    "duration": 129,
    "start_time": "2022-09-01T11:04:05.814Z"
   },
   {
    "duration": 134,
    "start_time": "2022-09-01T11:04:11.354Z"
   },
   {
    "duration": 135,
    "start_time": "2022-09-01T11:04:59.289Z"
   },
   {
    "duration": 42,
    "start_time": "2022-09-01T11:07:33.277Z"
   },
   {
    "duration": 11,
    "start_time": "2022-09-01T11:07:33.321Z"
   },
   {
    "duration": 12,
    "start_time": "2022-09-01T11:07:33.437Z"
   },
   {
    "duration": 12,
    "start_time": "2022-09-01T11:07:33.451Z"
   },
   {
    "duration": 91,
    "start_time": "2022-09-01T11:07:33.465Z"
   },
   {
    "duration": 280,
    "start_time": "2022-09-01T11:07:33.559Z"
   },
   {
    "duration": 194,
    "start_time": "2022-09-01T11:07:33.841Z"
   },
   {
    "duration": 207,
    "start_time": "2022-09-01T11:07:34.037Z"
   },
   {
    "duration": 360,
    "start_time": "2022-09-01T11:07:34.246Z"
   },
   {
    "duration": 197,
    "start_time": "2022-09-01T11:07:34.607Z"
   },
   {
    "duration": 324,
    "start_time": "2022-09-01T11:07:34.806Z"
   },
   {
    "duration": 137,
    "start_time": "2022-09-01T11:07:35.131Z"
   },
   {
    "duration": 4,
    "start_time": "2022-09-01T11:07:35.271Z"
   },
   {
    "duration": 242,
    "start_time": "2022-09-01T11:07:35.276Z"
   },
   {
    "duration": 145,
    "start_time": "2022-09-01T11:07:35.520Z"
   },
   {
    "duration": 4,
    "start_time": "2022-09-01T11:07:35.666Z"
   },
   {
    "duration": 268,
    "start_time": "2022-09-01T11:07:35.672Z"
   },
   {
    "duration": 23,
    "start_time": "2022-09-01T11:07:35.942Z"
   },
   {
    "duration": 27,
    "start_time": "2022-09-01T11:07:35.966Z"
   },
   {
    "duration": 16,
    "start_time": "2022-09-01T11:07:35.995Z"
   },
   {
    "duration": 15,
    "start_time": "2022-09-01T11:07:36.013Z"
   },
   {
    "duration": 26,
    "start_time": "2022-09-01T11:07:36.030Z"
   },
   {
    "duration": 36,
    "start_time": "2022-09-01T11:07:36.058Z"
   },
   {
    "duration": 142,
    "start_time": "2022-09-01T11:09:18.383Z"
   },
   {
    "duration": 76,
    "start_time": "2022-09-01T11:13:06.675Z"
   },
   {
    "duration": 127,
    "start_time": "2022-09-01T11:30:30.160Z"
   },
   {
    "duration": 123,
    "start_time": "2022-09-01T11:30:41.449Z"
   },
   {
    "duration": 127,
    "start_time": "2022-09-01T11:30:47.655Z"
   },
   {
    "duration": 134,
    "start_time": "2022-09-01T11:30:54.299Z"
   },
   {
    "duration": 261,
    "start_time": "2022-09-01T11:33:31.302Z"
   },
   {
    "duration": 185,
    "start_time": "2022-09-01T11:33:45.365Z"
   },
   {
    "duration": 240,
    "start_time": "2022-09-01T11:33:53.427Z"
   },
   {
    "duration": 345,
    "start_time": "2022-09-01T11:34:02.634Z"
   },
   {
    "duration": 149,
    "start_time": "2022-09-01T11:35:54.640Z"
   },
   {
    "duration": 322,
    "start_time": "2022-09-01T11:36:04.301Z"
   },
   {
    "duration": 186,
    "start_time": "2022-09-01T11:36:27.385Z"
   },
   {
    "duration": 161,
    "start_time": "2022-09-01T11:36:30.521Z"
   },
   {
    "duration": 203,
    "start_time": "2022-09-01T11:39:04.701Z"
   },
   {
    "duration": 190,
    "start_time": "2022-09-01T11:39:17.728Z"
   },
   {
    "duration": 392,
    "start_time": "2022-09-01T11:39:39.492Z"
   },
   {
    "duration": 193,
    "start_time": "2022-09-01T11:39:58.448Z"
   },
   {
    "duration": 190,
    "start_time": "2022-09-01T11:41:18.524Z"
   },
   {
    "duration": 373,
    "start_time": "2022-09-01T11:41:33.813Z"
   },
   {
    "duration": 250,
    "start_time": "2022-09-01T11:41:46.715Z"
   },
   {
    "duration": 282,
    "start_time": "2022-09-01T11:41:56.560Z"
   },
   {
    "duration": 216,
    "start_time": "2022-09-01T11:42:07.122Z"
   },
   {
    "duration": 194,
    "start_time": "2022-09-01T11:42:31.499Z"
   },
   {
    "duration": 179,
    "start_time": "2022-09-01T11:42:48.800Z"
   },
   {
    "duration": 336,
    "start_time": "2022-09-01T11:43:06.580Z"
   },
   {
    "duration": 193,
    "start_time": "2022-09-01T11:43:21.990Z"
   },
   {
    "duration": 369,
    "start_time": "2022-09-01T11:43:39.376Z"
   },
   {
    "duration": 240,
    "start_time": "2022-09-01T11:44:00.310Z"
   },
   {
    "duration": 142,
    "start_time": "2022-09-01T11:44:12.029Z"
   },
   {
    "duration": 140,
    "start_time": "2022-09-01T11:44:20.211Z"
   },
   {
    "duration": 4,
    "start_time": "2022-09-01T11:47:36.108Z"
   },
   {
    "duration": 5,
    "start_time": "2022-09-01T11:48:08.351Z"
   },
   {
    "duration": 5,
    "start_time": "2022-09-01T11:48:29.888Z"
   },
   {
    "duration": 5,
    "start_time": "2022-09-01T11:48:43.942Z"
   },
   {
    "duration": 8,
    "start_time": "2022-09-01T11:49:29.924Z"
   },
   {
    "duration": 6,
    "start_time": "2022-09-01T11:49:36.612Z"
   },
   {
    "duration": 6,
    "start_time": "2022-09-01T11:49:47.313Z"
   },
   {
    "duration": 10,
    "start_time": "2022-09-01T11:52:14.200Z"
   },
   {
    "duration": 12,
    "start_time": "2022-09-01T11:52:39.524Z"
   },
   {
    "duration": 11,
    "start_time": "2022-09-01T11:52:40.459Z"
   },
   {
    "duration": 11,
    "start_time": "2022-09-01T11:55:14.512Z"
   },
   {
    "duration": 17,
    "start_time": "2022-09-01T11:55:32.098Z"
   },
   {
    "duration": 17,
    "start_time": "2022-09-01T11:56:05.204Z"
   },
   {
    "duration": 15,
    "start_time": "2022-09-01T11:56:53.642Z"
   },
   {
    "duration": 12,
    "start_time": "2022-09-01T12:04:07.907Z"
   },
   {
    "duration": 12,
    "start_time": "2022-09-01T12:04:16.987Z"
   },
   {
    "duration": 14,
    "start_time": "2022-09-01T12:10:58.176Z"
   },
   {
    "duration": 26,
    "start_time": "2022-09-01T12:11:21.853Z"
   },
   {
    "duration": 9,
    "start_time": "2022-09-01T12:15:16.093Z"
   },
   {
    "duration": 10,
    "start_time": "2022-09-01T12:15:33.001Z"
   },
   {
    "duration": 13,
    "start_time": "2022-09-01T12:16:00.458Z"
   },
   {
    "duration": 9,
    "start_time": "2022-09-01T12:17:28.635Z"
   },
   {
    "duration": 6,
    "start_time": "2022-09-01T12:18:33.449Z"
   },
   {
    "duration": 9,
    "start_time": "2022-09-01T12:19:23.106Z"
   },
   {
    "duration": 9,
    "start_time": "2022-09-01T12:19:26.797Z"
   },
   {
    "duration": 56,
    "start_time": "2022-09-01T12:19:42.561Z"
   },
   {
    "duration": 9,
    "start_time": "2022-09-01T12:19:49.432Z"
   },
   {
    "duration": 7,
    "start_time": "2022-09-01T12:20:10.078Z"
   },
   {
    "duration": 8,
    "start_time": "2022-09-01T12:21:42.684Z"
   },
   {
    "duration": 5,
    "start_time": "2022-09-01T12:21:57.291Z"
   },
   {
    "duration": 9,
    "start_time": "2022-09-01T12:22:23.071Z"
   },
   {
    "duration": 11,
    "start_time": "2022-09-01T12:24:22.119Z"
   },
   {
    "duration": 10,
    "start_time": "2022-09-01T12:24:45.429Z"
   },
   {
    "duration": 10,
    "start_time": "2022-09-01T12:25:13.527Z"
   },
   {
    "duration": 14,
    "start_time": "2022-09-01T12:25:48.946Z"
   },
   {
    "duration": 11,
    "start_time": "2022-09-01T12:27:09.029Z"
   },
   {
    "duration": 50,
    "start_time": "2022-09-01T12:27:47.181Z"
   },
   {
    "duration": 15,
    "start_time": "2022-09-01T12:28:06.422Z"
   },
   {
    "duration": 16,
    "start_time": "2022-09-01T12:28:35.960Z"
   },
   {
    "duration": 9,
    "start_time": "2022-09-01T12:29:57.883Z"
   },
   {
    "duration": 48,
    "start_time": "2022-09-01T12:30:49.529Z"
   },
   {
    "duration": 161,
    "start_time": "2022-09-01T12:31:01.533Z"
   },
   {
    "duration": 11,
    "start_time": "2022-09-01T12:31:09.799Z"
   },
   {
    "duration": 45,
    "start_time": "2022-09-01T12:31:47.640Z"
   },
   {
    "duration": 14,
    "start_time": "2022-09-01T12:31:54.084Z"
   },
   {
    "duration": 10,
    "start_time": "2022-09-01T12:32:30.200Z"
   },
   {
    "duration": 9,
    "start_time": "2022-09-01T12:32:38.040Z"
   },
   {
    "duration": 5,
    "start_time": "2022-09-01T12:34:24.375Z"
   },
   {
    "duration": 8,
    "start_time": "2022-09-01T12:34:41.338Z"
   },
   {
    "duration": 39,
    "start_time": "2022-09-01T12:35:05.712Z"
   },
   {
    "duration": 12,
    "start_time": "2022-09-01T12:35:05.752Z"
   },
   {
    "duration": 22,
    "start_time": "2022-09-01T12:35:05.766Z"
   },
   {
    "duration": 30,
    "start_time": "2022-09-01T12:35:05.789Z"
   },
   {
    "duration": 95,
    "start_time": "2022-09-01T12:35:05.820Z"
   },
   {
    "duration": 12,
    "start_time": "2022-09-01T12:35:05.916Z"
   },
   {
    "duration": 20,
    "start_time": "2022-09-01T12:35:05.929Z"
   },
   {
    "duration": 40,
    "start_time": "2022-09-01T12:35:21.101Z"
   },
   {
    "duration": 11,
    "start_time": "2022-09-01T12:35:21.142Z"
   },
   {
    "duration": 11,
    "start_time": "2022-09-01T12:35:21.155Z"
   },
   {
    "duration": 18,
    "start_time": "2022-09-01T12:35:21.168Z"
   },
   {
    "duration": 94,
    "start_time": "2022-09-01T12:35:21.187Z"
   },
   {
    "duration": 12,
    "start_time": "2022-09-01T12:35:21.282Z"
   },
   {
    "duration": 11,
    "start_time": "2022-09-01T12:35:21.297Z"
   },
   {
    "duration": 9,
    "start_time": "2022-09-01T12:35:30.180Z"
   },
   {
    "duration": 8,
    "start_time": "2022-09-01T12:38:09.142Z"
   },
   {
    "duration": 8,
    "start_time": "2022-09-01T12:38:13.454Z"
   },
   {
    "duration": 40,
    "start_time": "2022-09-01T12:42:07.612Z"
   },
   {
    "duration": 31,
    "start_time": "2022-09-01T12:42:16.676Z"
   },
   {
    "duration": 11,
    "start_time": "2022-09-01T12:42:55.492Z"
   },
   {
    "duration": 39,
    "start_time": "2022-09-01T12:43:14.947Z"
   },
   {
    "duration": 10,
    "start_time": "2022-09-01T12:43:14.989Z"
   },
   {
    "duration": 42,
    "start_time": "2022-09-01T12:43:15.001Z"
   },
   {
    "duration": 22,
    "start_time": "2022-09-01T12:43:15.045Z"
   },
   {
    "duration": 105,
    "start_time": "2022-09-01T12:43:15.069Z"
   },
   {
    "duration": 12,
    "start_time": "2022-09-01T12:43:15.175Z"
   },
   {
    "duration": 9,
    "start_time": "2022-09-01T12:43:15.189Z"
   },
   {
    "duration": 12,
    "start_time": "2022-09-01T12:43:15.199Z"
   },
   {
    "duration": 290,
    "start_time": "2022-09-01T12:43:15.213Z"
   },
   {
    "duration": 207,
    "start_time": "2022-09-01T12:43:15.506Z"
   },
   {
    "duration": 211,
    "start_time": "2022-09-01T12:43:15.714Z"
   },
   {
    "duration": 292,
    "start_time": "2022-09-01T12:43:15.927Z"
   },
   {
    "duration": 255,
    "start_time": "2022-09-01T12:43:16.222Z"
   },
   {
    "duration": 336,
    "start_time": "2022-09-01T12:43:16.479Z"
   },
   {
    "duration": 162,
    "start_time": "2022-09-01T12:43:16.817Z"
   },
   {
    "duration": 8,
    "start_time": "2022-09-01T12:43:16.981Z"
   },
   {
    "duration": 149,
    "start_time": "2022-09-01T12:43:16.991Z"
   },
   {
    "duration": 160,
    "start_time": "2022-09-01T12:43:17.142Z"
   },
   {
    "duration": 4,
    "start_time": "2022-09-01T12:43:17.303Z"
   },
   {
    "duration": 252,
    "start_time": "2022-09-01T12:43:17.309Z"
   },
   {
    "duration": 39,
    "start_time": "2022-09-01T12:43:17.562Z"
   },
   {
    "duration": 11,
    "start_time": "2022-09-01T12:43:17.603Z"
   },
   {
    "duration": 19,
    "start_time": "2022-09-01T12:43:17.615Z"
   },
   {
    "duration": 13,
    "start_time": "2022-09-01T12:43:17.637Z"
   },
   {
    "duration": 37,
    "start_time": "2022-09-01T12:43:17.652Z"
   },
   {
    "duration": 14,
    "start_time": "2022-09-01T12:43:17.691Z"
   },
   {
    "duration": 43,
    "start_time": "2022-09-01T12:44:11.331Z"
   },
   {
    "duration": 23,
    "start_time": "2022-09-01T12:47:24.977Z"
   },
   {
    "duration": 14,
    "start_time": "2022-09-01T12:48:01.528Z"
   },
   {
    "duration": 46,
    "start_time": "2022-09-01T12:49:36.498Z"
   },
   {
    "duration": 40,
    "start_time": "2022-09-01T12:53:04.043Z"
   },
   {
    "duration": 30,
    "start_time": "2022-09-01T12:53:04.085Z"
   },
   {
    "duration": 46,
    "start_time": "2022-09-01T12:53:04.116Z"
   },
   {
    "duration": 33,
    "start_time": "2022-09-01T12:53:04.165Z"
   },
   {
    "duration": 119,
    "start_time": "2022-09-01T12:53:04.200Z"
   },
   {
    "duration": 12,
    "start_time": "2022-09-01T12:53:04.320Z"
   },
   {
    "duration": 13,
    "start_time": "2022-09-01T12:53:06.782Z"
   },
   {
    "duration": 41,
    "start_time": "2022-09-01T12:54:00.257Z"
   },
   {
    "duration": 12,
    "start_time": "2022-09-01T12:54:00.300Z"
   },
   {
    "duration": 23,
    "start_time": "2022-09-01T12:54:00.314Z"
   },
   {
    "duration": 20,
    "start_time": "2022-09-01T12:54:00.340Z"
   },
   {
    "duration": 93,
    "start_time": "2022-09-01T12:54:00.362Z"
   },
   {
    "duration": 11,
    "start_time": "2022-09-01T12:54:00.456Z"
   },
   {
    "duration": 15,
    "start_time": "2022-09-01T12:54:02.301Z"
   },
   {
    "duration": 21,
    "start_time": "2022-09-01T12:56:34.315Z"
   },
   {
    "duration": 22,
    "start_time": "2022-09-01T12:56:42.186Z"
   },
   {
    "duration": 48,
    "start_time": "2022-09-01T12:56:58.116Z"
   },
   {
    "duration": 15,
    "start_time": "2022-09-01T12:56:58.167Z"
   },
   {
    "duration": 20,
    "start_time": "2022-09-01T12:56:58.184Z"
   },
   {
    "duration": 18,
    "start_time": "2022-09-01T12:56:58.207Z"
   },
   {
    "duration": 101,
    "start_time": "2022-09-01T12:56:58.226Z"
   },
   {
    "duration": 18,
    "start_time": "2022-09-01T12:56:58.329Z"
   },
   {
    "duration": 40,
    "start_time": "2022-09-01T13:00:58.361Z"
   },
   {
    "duration": 12,
    "start_time": "2022-09-01T13:00:58.403Z"
   },
   {
    "duration": 11,
    "start_time": "2022-09-01T13:00:58.561Z"
   },
   {
    "duration": 12,
    "start_time": "2022-09-01T13:00:58.574Z"
   },
   {
    "duration": 89,
    "start_time": "2022-09-01T13:00:58.588Z"
   },
   {
    "duration": 16,
    "start_time": "2022-09-01T13:00:58.681Z"
   },
   {
    "duration": 278,
    "start_time": "2022-09-01T13:00:58.698Z"
   },
   {
    "duration": 205,
    "start_time": "2022-09-01T13:00:58.987Z"
   },
   {
    "duration": 206,
    "start_time": "2022-09-01T13:00:59.194Z"
   },
   {
    "duration": 400,
    "start_time": "2022-09-01T13:00:59.402Z"
   },
   {
    "duration": 206,
    "start_time": "2022-09-01T13:00:59.804Z"
   },
   {
    "duration": 322,
    "start_time": "2022-09-01T13:01:00.012Z"
   },
   {
    "duration": 152,
    "start_time": "2022-09-01T13:01:00.335Z"
   },
   {
    "duration": 4,
    "start_time": "2022-09-01T13:01:00.488Z"
   },
   {
    "duration": 154,
    "start_time": "2022-09-01T13:01:00.494Z"
   },
   {
    "duration": 156,
    "start_time": "2022-09-01T13:01:00.650Z"
   },
   {
    "duration": 3,
    "start_time": "2022-09-01T13:01:00.808Z"
   },
   {
    "duration": 267,
    "start_time": "2022-09-01T13:01:00.813Z"
   },
   {
    "duration": 23,
    "start_time": "2022-09-01T13:01:01.087Z"
   },
   {
    "duration": 83,
    "start_time": "2022-09-01T13:01:01.111Z"
   },
   {
    "duration": 61,
    "start_time": "2022-09-01T13:01:01.195Z"
   },
   {
    "duration": 45,
    "start_time": "2022-09-01T13:01:01.258Z"
   },
   {
    "duration": 65,
    "start_time": "2022-09-01T13:01:01.305Z"
   },
   {
    "duration": 52,
    "start_time": "2022-09-01T13:01:01.372Z"
   },
   {
    "duration": 43,
    "start_time": "2022-09-02T08:49:03.331Z"
   },
   {
    "duration": 468,
    "start_time": "2022-09-02T08:52:00.265Z"
   },
   {
    "duration": 14,
    "start_time": "2022-09-02T08:52:00.735Z"
   },
   {
    "duration": 14,
    "start_time": "2022-09-02T08:52:00.751Z"
   },
   {
    "duration": 24,
    "start_time": "2022-09-02T08:52:00.768Z"
   },
   {
    "duration": 831,
    "start_time": "2022-09-02T08:52:00.794Z"
   },
   {
    "duration": 20,
    "start_time": "2022-09-02T08:52:01.627Z"
   },
   {
    "duration": 337,
    "start_time": "2022-09-02T08:52:01.649Z"
   },
   {
    "duration": 270,
    "start_time": "2022-09-02T08:52:03.502Z"
   },
   {
    "duration": 190,
    "start_time": "2022-09-02T08:52:03.774Z"
   },
   {
    "duration": 293,
    "start_time": "2022-09-02T08:52:03.966Z"
   },
   {
    "duration": 192,
    "start_time": "2022-09-02T08:52:04.261Z"
   },
   {
    "duration": 321,
    "start_time": "2022-09-02T08:52:05.705Z"
   },
   {
    "duration": 185,
    "start_time": "2022-09-02T08:52:06.029Z"
   },
   {
    "duration": 5,
    "start_time": "2022-09-02T08:52:06.216Z"
   },
   {
    "duration": 227,
    "start_time": "2022-09-02T08:52:06.223Z"
   },
   {
    "duration": 164,
    "start_time": "2022-09-02T08:52:06.453Z"
   },
   {
    "duration": 5,
    "start_time": "2022-09-02T08:52:06.618Z"
   },
   {
    "duration": 254,
    "start_time": "2022-09-02T08:52:10.072Z"
   },
   {
    "duration": 0,
    "start_time": "2022-09-02T08:52:10.327Z"
   },
   {
    "duration": 0,
    "start_time": "2022-09-02T08:52:10.328Z"
   },
   {
    "duration": 0,
    "start_time": "2022-09-02T08:52:10.330Z"
   },
   {
    "duration": 0,
    "start_time": "2022-09-02T08:52:10.331Z"
   },
   {
    "duration": 0,
    "start_time": "2022-09-02T08:52:10.332Z"
   },
   {
    "duration": 13,
    "start_time": "2022-09-02T08:52:11.250Z"
   }
  ],
  "kernelspec": {
   "display_name": "Python 3 (ipykernel)",
   "language": "python",
   "name": "python3"
  },
  "language_info": {
   "codemirror_mode": {
    "name": "ipython",
    "version": 3
   },
   "file_extension": ".py",
   "mimetype": "text/x-python",
   "name": "python",
   "nbconvert_exporter": "python",
   "pygments_lexer": "ipython3",
   "version": "3.9.13"
  },
  "toc": {
   "base_numbering": 1,
   "nav_menu": {},
   "number_sections": true,
   "sideBar": true,
   "skip_h1_title": true,
   "title_cell": "Table of Contents",
   "title_sidebar": "Contents",
   "toc_cell": false,
   "toc_position": {},
   "toc_section_display": true,
   "toc_window_display": false
  }
 },
 "nbformat": 4,
 "nbformat_minor": 2
}
